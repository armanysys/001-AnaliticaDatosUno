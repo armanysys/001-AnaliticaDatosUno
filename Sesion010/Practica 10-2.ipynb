{
 "cells": [
  {
   "cell_type": "markdown",
   "id": "4f5990ae-1344-4193-9d12-993a15b6fc4a",
   "metadata": {},
   "source": [
    "## Práctica en clase (k medias)"
   ]
  },
  {
   "cell_type": "markdown",
   "id": "5005fb05-d2bb-4384-977f-cf76964d707f",
   "metadata": {},
   "source": [
    "Una cadena de tiendas de accesorios masculinos entrevistaron a 180 clientes y se les pidió que, en una escala de 5 niveles ((1: nada importante, 5: muy importante), evaluaran la importancia de los siguientes aspectos al momento de comprar productos:\n",
    "- Tiempo: ahorro de tiempo.\n",
    "- Ofertas: conseguir ofertas.\n",
    "- Exclusivo: obtener productos que no están en otras tiendas.\n",
    "- Novedad: probar cosas nuevas.\n",
    "- Conocimiento: conocer lo que la tienda tiene para ofrecer.\n",
    "\n",
    "Realiza los siguientes pasos\n",
    "1. Carga las librerías y los datos\n",
    "2. Obtén la estadística descriptica de cada variable\n",
    "3. Elimina variables altamente correlacionadas (r > 0.90).\n",
    "4. Estandariza las variables\n",
    "5. Realiza un análisis de conglomerados mediante el método de k medias\n",
    "6. Describe cada segmento con base en los valores de los centroides"
   ]
  },
  {
   "cell_type": "code",
   "execution_count": 1,
   "id": "3b097bda-da4e-48ee-acf3-39f140eec96f",
   "metadata": {},
   "outputs": [],
   "source": [
    "# Con Windows para limitar el uso de núcleos del procesador\n",
    "import os\n",
    "os.environ[\"OMP_NUM_THREADS\"] = \"1\"\n",
    "\n",
    "# Importar librerías\n",
    "import pandas as pd\n",
    "import numpy as np\n",
    "import matplotlib.pyplot as plt\n",
    "from sklearn.preprocessing import StandardScaler\n",
    "from scipy.cluster.hierarchy import dendrogram, linkage\n",
    "import seaborn as sns"
   ]
  },
  {
   "cell_type": "code",
   "execution_count": 2,
   "id": "3335d57f-5bfd-4a85-85a5-89e6f5bf4473",
   "metadata": {},
   "outputs": [],
   "source": [
    "df = pd.read_excel('data/b13_actitudes-compra.xlsx')"
   ]
  },
  {
   "cell_type": "code",
   "execution_count": 3,
   "id": "558ca1fa-b305-4eef-9395-d27211f223c7",
   "metadata": {},
   "outputs": [
    {
     "data": {
      "text/html": [
       "<div>\n",
       "<style scoped>\n",
       "    .dataframe tbody tr th:only-of-type {\n",
       "        vertical-align: middle;\n",
       "    }\n",
       "\n",
       "    .dataframe tbody tr th {\n",
       "        vertical-align: top;\n",
       "    }\n",
       "\n",
       "    .dataframe thead th {\n",
       "        text-align: right;\n",
       "    }\n",
       "</style>\n",
       "<table border=\"1\" class=\"dataframe\">\n",
       "  <thead>\n",
       "    <tr style=\"text-align: right;\">\n",
       "      <th></th>\n",
       "      <th>count</th>\n",
       "      <th>mean</th>\n",
       "      <th>std</th>\n",
       "      <th>min</th>\n",
       "      <th>25%</th>\n",
       "      <th>50%</th>\n",
       "      <th>75%</th>\n",
       "      <th>max</th>\n",
       "    </tr>\n",
       "  </thead>\n",
       "  <tbody>\n",
       "    <tr>\n",
       "      <th>tiempo</th>\n",
       "      <td>116.0</td>\n",
       "      <td>2.818966</td>\n",
       "      <td>0.829868</td>\n",
       "      <td>1.0</td>\n",
       "      <td>2.0</td>\n",
       "      <td>3.0</td>\n",
       "      <td>3.00</td>\n",
       "      <td>5.0</td>\n",
       "    </tr>\n",
       "    <tr>\n",
       "      <th>ofertas</th>\n",
       "      <td>116.0</td>\n",
       "      <td>3.715517</td>\n",
       "      <td>1.069791</td>\n",
       "      <td>1.0</td>\n",
       "      <td>3.0</td>\n",
       "      <td>4.0</td>\n",
       "      <td>5.00</td>\n",
       "      <td>5.0</td>\n",
       "    </tr>\n",
       "    <tr>\n",
       "      <th>exclusivo</th>\n",
       "      <td>116.0</td>\n",
       "      <td>3.318966</td>\n",
       "      <td>1.051700</td>\n",
       "      <td>1.0</td>\n",
       "      <td>3.0</td>\n",
       "      <td>3.0</td>\n",
       "      <td>4.00</td>\n",
       "      <td>5.0</td>\n",
       "    </tr>\n",
       "    <tr>\n",
       "      <th>novedad</th>\n",
       "      <td>116.0</td>\n",
       "      <td>4.008621</td>\n",
       "      <td>0.818224</td>\n",
       "      <td>1.0</td>\n",
       "      <td>4.0</td>\n",
       "      <td>4.0</td>\n",
       "      <td>5.00</td>\n",
       "      <td>5.0</td>\n",
       "    </tr>\n",
       "    <tr>\n",
       "      <th>conocimiento</th>\n",
       "      <td>116.0</td>\n",
       "      <td>4.137931</td>\n",
       "      <td>0.756382</td>\n",
       "      <td>2.0</td>\n",
       "      <td>4.0</td>\n",
       "      <td>4.0</td>\n",
       "      <td>5.00</td>\n",
       "      <td>5.0</td>\n",
       "    </tr>\n",
       "    <tr>\n",
       "      <th>ingreso</th>\n",
       "      <td>116.0</td>\n",
       "      <td>1610.784483</td>\n",
       "      <td>758.847293</td>\n",
       "      <td>380.0</td>\n",
       "      <td>1037.5</td>\n",
       "      <td>1475.0</td>\n",
       "      <td>2054.75</td>\n",
       "      <td>3668.0</td>\n",
       "    </tr>\n",
       "  </tbody>\n",
       "</table>\n",
       "</div>"
      ],
      "text/plain": [
       "              count         mean         std    min     25%     50%      75%  \\\n",
       "tiempo        116.0     2.818966    0.829868    1.0     2.0     3.0     3.00   \n",
       "ofertas       116.0     3.715517    1.069791    1.0     3.0     4.0     5.00   \n",
       "exclusivo     116.0     3.318966    1.051700    1.0     3.0     3.0     4.00   \n",
       "novedad       116.0     4.008621    0.818224    1.0     4.0     4.0     5.00   \n",
       "conocimiento  116.0     4.137931    0.756382    2.0     4.0     4.0     5.00   \n",
       "ingreso       116.0  1610.784483  758.847293  380.0  1037.5  1475.0  2054.75   \n",
       "\n",
       "                 max  \n",
       "tiempo           5.0  \n",
       "ofertas          5.0  \n",
       "exclusivo        5.0  \n",
       "novedad          5.0  \n",
       "conocimiento     5.0  \n",
       "ingreso       3668.0  "
      ]
     },
     "execution_count": 3,
     "metadata": {},
     "output_type": "execute_result"
    }
   ],
   "source": [
    "df.describe().T"
   ]
  },
  {
   "cell_type": "code",
   "execution_count": 4,
   "id": "39c6661b-d575-4275-9a2d-de163823d3d6",
   "metadata": {},
   "outputs": [],
   "source": [
    "from scipy.stats import pearsonr"
   ]
  },
  {
   "cell_type": "code",
   "execution_count": 5,
   "id": "b5f7cae0-b525-48f6-86d7-7f20f9ae319a",
   "metadata": {},
   "outputs": [],
   "source": [
    "# Obtén la matriz de correlaciones\n",
    "matriz_corr = df.corr(numeric_only = True)"
   ]
  },
  {
   "cell_type": "code",
   "execution_count": 6,
   "id": "fcb52223-f52d-402c-ad46-947df12cdcc2",
   "metadata": {},
   "outputs": [
    {
     "data": {
      "text/plain": [
       "<Axes: >"
      ]
     },
     "execution_count": 6,
     "metadata": {},
     "output_type": "execute_result"
    },
    {
     "data": {
      "image/png": "[encoded data removed]",
      "text/plain": [
       "<Figure size 640x480 with 2 Axes>"
      ]
     },
     "metadata": {},
     "output_type": "display_data"
    }
   ],
   "source": [
    "sns.heatmap(matriz_corr, annot = True)"
   ]
  },
  {
   "cell_type": "code",
   "execution_count": 15,
   "id": "f3bad2e1-eeec-4ddf-81e4-f6836bebc11a",
   "metadata": {},
   "outputs": [
    {
     "data": {
      "text/html": [
       "<div>\n",
       "<style scoped>\n",
       "    .dataframe tbody tr th:only-of-type {\n",
       "        vertical-align: middle;\n",
       "    }\n",
       "\n",
       "    .dataframe tbody tr th {\n",
       "        vertical-align: top;\n",
       "    }\n",
       "\n",
       "    .dataframe thead th {\n",
       "        text-align: right;\n",
       "    }\n",
       "</style>\n",
       "<table border=\"1\" class=\"dataframe\">\n",
       "  <thead>\n",
       "    <tr style=\"text-align: right;\">\n",
       "      <th></th>\n",
       "      <th>tiempo</th>\n",
       "      <th>ofertas</th>\n",
       "      <th>exclusivo</th>\n",
       "      <th>novedad</th>\n",
       "      <th>conocimiento</th>\n",
       "      <th>ingreso</th>\n",
       "    </tr>\n",
       "  </thead>\n",
       "  <tbody>\n",
       "    <tr>\n",
       "      <th>tiempo</th>\n",
       "      <td>1.000000</td>\n",
       "      <td>0.029638</td>\n",
       "      <td>-0.132529</td>\n",
       "      <td>-0.061713</td>\n",
       "      <td>0.026273</td>\n",
       "      <td>-0.190727</td>\n",
       "    </tr>\n",
       "    <tr>\n",
       "      <th>ofertas</th>\n",
       "      <td>0.029638</td>\n",
       "      <td>1.000000</td>\n",
       "      <td>-0.529222</td>\n",
       "      <td>-0.235594</td>\n",
       "      <td>0.091900</td>\n",
       "      <td>-0.550388</td>\n",
       "    </tr>\n",
       "    <tr>\n",
       "      <th>exclusivo</th>\n",
       "      <td>-0.132529</td>\n",
       "      <td>-0.529222</td>\n",
       "      <td>1.000000</td>\n",
       "      <td>0.249403</td>\n",
       "      <td>-0.001131</td>\n",
       "      <td>0.415040</td>\n",
       "    </tr>\n",
       "    <tr>\n",
       "      <th>novedad</th>\n",
       "      <td>-0.061713</td>\n",
       "      <td>-0.235594</td>\n",
       "      <td>0.249403</td>\n",
       "      <td>1.000000</td>\n",
       "      <td>-0.142442</td>\n",
       "      <td>0.275056</td>\n",
       "    </tr>\n",
       "    <tr>\n",
       "      <th>conocimiento</th>\n",
       "      <td>0.026273</td>\n",
       "      <td>0.091900</td>\n",
       "      <td>-0.001131</td>\n",
       "      <td>-0.142442</td>\n",
       "      <td>1.000000</td>\n",
       "      <td>-0.190441</td>\n",
       "    </tr>\n",
       "    <tr>\n",
       "      <th>ingreso</th>\n",
       "      <td>-0.190727</td>\n",
       "      <td>-0.550388</td>\n",
       "      <td>0.415040</td>\n",
       "      <td>0.275056</td>\n",
       "      <td>-0.190441</td>\n",
       "      <td>1.000000</td>\n",
       "    </tr>\n",
       "  </tbody>\n",
       "</table>\n",
       "</div>"
      ],
      "text/plain": [
       "                tiempo   ofertas  exclusivo   novedad  conocimiento   ingreso\n",
       "tiempo        1.000000  0.029638  -0.132529 -0.061713      0.026273 -0.190727\n",
       "ofertas       0.029638  1.000000  -0.529222 -0.235594      0.091900 -0.550388\n",
       "exclusivo    -0.132529 -0.529222   1.000000  0.249403     -0.001131  0.415040\n",
       "novedad      -0.061713 -0.235594   0.249403  1.000000     -0.142442  0.275056\n",
       "conocimiento  0.026273  0.091900  -0.001131 -0.142442      1.000000 -0.190441\n",
       "ingreso      -0.190727 -0.550388   0.415040  0.275056     -0.190441  1.000000"
      ]
     },
     "execution_count": 15,
     "metadata": {},
     "output_type": "execute_result"
    }
   ],
   "source": [
    "matriz_corr"
   ]
  },
  {
   "cell_type": "code",
   "execution_count": 16,
   "id": "58dd2dc7-8111-46a8-85bc-2a7e87bd9a01",
   "metadata": {},
   "outputs": [],
   "source": [
    "X = df[['tiempo','exclusivo', 'novedad', 'conocimiento','ingreso']]"
   ]
  },
  {
   "cell_type": "code",
   "execution_count": 17,
   "id": "a9819e64-15a3-4c53-b50d-70ccc658d01d",
   "metadata": {},
   "outputs": [],
   "source": [
    "scaler = StandardScaler()\n",
    "X_std = scaler.fit_transform(X)"
   ]
  },
  {
   "cell_type": "code",
   "execution_count": 21,
   "id": "64cffde7-3fb5-47fb-8ed9-f08f2a1534df",
   "metadata": {},
   "outputs": [],
   "source": [
    "from sklearn.cluster import KMeans"
   ]
  },
  {
   "cell_type": "code",
   "execution_count": 22,
   "id": "3d3027a8-0adf-46e9-929d-eb5da9fd8108",
   "metadata": {},
   "outputs": [],
   "source": [
    "# Crear instancia\n",
    "kmeans = KMeans(n_clusters=4, n_init=10, random_state=42)\n",
    "# Ajustar modelo\n",
    "model = kmeans.fit(X_std)"
   ]
  },
  {
   "cell_type": "code",
   "execution_count": 23,
   "id": "fb4d436b-8719-4e19-85bf-a6f58ca4c9f4",
   "metadata": {},
   "outputs": [],
   "source": [
    "cluster = model.labels_\n",
    "centroids = model.cluster_centers_"
   ]
  },
  {
   "cell_type": "code",
   "execution_count": 24,
   "id": "cbcaf988-0875-4d29-9b82-f9b0e2663a50",
   "metadata": {},
   "outputs": [
    {
     "data": {
      "image/png": "[encoded data removed]",
      "text/plain": [
       "<Figure size 640x480 with 1 Axes>"
      ]
     },
     "metadata": {},
     "output_type": "display_data"
    }
   ],
   "source": [
    "k = 4\n",
    "for i in range (k):\n",
    "    cluster_i = np.where(cluster==i)\n",
    "    plt.scatter(X_std[cluster_i,0], X_std[cluster_i,1])\n",
    "    plt.scatter(centroids[:,0],centroids[:,-1], marker='*', s=200)\n",
    "plt.show()"
   ]
  },
  {
   "cell_type": "code",
   "execution_count": 25,
   "id": "dad0d442-ff5f-415a-aefe-38f7a49d2fc4",
   "metadata": {},
   "outputs": [
    {
     "name": "stdout",
     "output_type": "stream",
     "text": [
      "\n",
      " Medida de silueta: 0.1846944132253971\n"
     ]
    }
   ],
   "source": [
    "from sklearn.metrics import silhouette_score\n",
    "\n",
    "score = silhouette_score(X_std, cluster) #X_std son los datos y 'cluster' la asignación\n",
    "print('\\n Medida de silueta:', score)"
   ]
  },
  {
   "cell_type": "code",
   "execution_count": 26,
   "id": "2ddea868-7275-40bd-b164-5d490d531f7b",
   "metadata": {},
   "outputs": [
    {
     "data": {
      "image/png": "[encoded data removed]",
      "text/plain": [
       "<Figure size 640x480 with 1 Axes>"
      ]
     },
     "metadata": {},
     "output_type": "display_data"
    }
   ],
   "source": [
    "wss = [] #wss, del inglés Within-Cluster Sum of Squares\n",
    "for k in range(1, 11):\n",
    "    kmeans = KMeans(n_clusters=k, n_init=10, random_state=42)\n",
    "    kmeans.fit(X)\n",
    "    wss.append(kmeans.inertia_)\n",
    "\n",
    "# Crear gráfico\n",
    "plt.plot(range(1, 11), wss)\n",
    "plt.xlabel('Número de clusters')\n",
    "plt.show()"
   ]
  },
  {
   "cell_type": "code",
   "execution_count": 27,
   "id": "75428b78-148e-4ecd-8281-89bcae0bbc95",
   "metadata": {},
   "outputs": [
    {
     "data": {
      "text/html": [
       "<div>\n",
       "<style scoped>\n",
       "    .dataframe tbody tr th:only-of-type {\n",
       "        vertical-align: middle;\n",
       "    }\n",
       "\n",
       "    .dataframe tbody tr th {\n",
       "        vertical-align: top;\n",
       "    }\n",
       "\n",
       "    .dataframe thead th {\n",
       "        text-align: right;\n",
       "    }\n",
       "</style>\n",
       "<table border=\"1\" class=\"dataframe\">\n",
       "  <thead>\n",
       "    <tr style=\"text-align: right;\">\n",
       "      <th></th>\n",
       "      <th>tiempo</th>\n",
       "      <th>ofertas</th>\n",
       "      <th>exclusivo</th>\n",
       "      <th>novedad</th>\n",
       "      <th>conocimiento</th>\n",
       "      <th>ingreso</th>\n",
       "      <th>Segmento</th>\n",
       "    </tr>\n",
       "  </thead>\n",
       "  <tbody>\n",
       "    <tr>\n",
       "      <th>0</th>\n",
       "      <td>3</td>\n",
       "      <td>3</td>\n",
       "      <td>4</td>\n",
       "      <td>3</td>\n",
       "      <td>4</td>\n",
       "      <td>2884</td>\n",
       "      <td>1</td>\n",
       "    </tr>\n",
       "    <tr>\n",
       "      <th>1</th>\n",
       "      <td>3</td>\n",
       "      <td>3</td>\n",
       "      <td>5</td>\n",
       "      <td>4</td>\n",
       "      <td>3</td>\n",
       "      <td>2893</td>\n",
       "      <td>1</td>\n",
       "    </tr>\n",
       "    <tr>\n",
       "      <th>2</th>\n",
       "      <td>2</td>\n",
       "      <td>2</td>\n",
       "      <td>3</td>\n",
       "      <td>4</td>\n",
       "      <td>5</td>\n",
       "      <td>3668</td>\n",
       "      <td>1</td>\n",
       "    </tr>\n",
       "    <tr>\n",
       "      <th>3</th>\n",
       "      <td>4</td>\n",
       "      <td>3</td>\n",
       "      <td>4</td>\n",
       "      <td>5</td>\n",
       "      <td>4</td>\n",
       "      <td>796</td>\n",
       "      <td>0</td>\n",
       "    </tr>\n",
       "    <tr>\n",
       "      <th>4</th>\n",
       "      <td>3</td>\n",
       "      <td>1</td>\n",
       "      <td>4</td>\n",
       "      <td>5</td>\n",
       "      <td>4</td>\n",
       "      <td>2980</td>\n",
       "      <td>1</td>\n",
       "    </tr>\n",
       "    <tr>\n",
       "      <th>...</th>\n",
       "      <td>...</td>\n",
       "      <td>...</td>\n",
       "      <td>...</td>\n",
       "      <td>...</td>\n",
       "      <td>...</td>\n",
       "      <td>...</td>\n",
       "      <td>...</td>\n",
       "    </tr>\n",
       "    <tr>\n",
       "      <th>111</th>\n",
       "      <td>4</td>\n",
       "      <td>5</td>\n",
       "      <td>2</td>\n",
       "      <td>5</td>\n",
       "      <td>3</td>\n",
       "      <td>1519</td>\n",
       "      <td>0</td>\n",
       "    </tr>\n",
       "    <tr>\n",
       "      <th>112</th>\n",
       "      <td>2</td>\n",
       "      <td>3</td>\n",
       "      <td>3</td>\n",
       "      <td>3</td>\n",
       "      <td>5</td>\n",
       "      <td>880</td>\n",
       "      <td>3</td>\n",
       "    </tr>\n",
       "    <tr>\n",
       "      <th>113</th>\n",
       "      <td>2</td>\n",
       "      <td>5</td>\n",
       "      <td>4</td>\n",
       "      <td>4</td>\n",
       "      <td>3</td>\n",
       "      <td>1292</td>\n",
       "      <td>1</td>\n",
       "    </tr>\n",
       "    <tr>\n",
       "      <th>114</th>\n",
       "      <td>2</td>\n",
       "      <td>5</td>\n",
       "      <td>2</td>\n",
       "      <td>4</td>\n",
       "      <td>4</td>\n",
       "      <td>1877</td>\n",
       "      <td>0</td>\n",
       "    </tr>\n",
       "    <tr>\n",
       "      <th>115</th>\n",
       "      <td>3</td>\n",
       "      <td>5</td>\n",
       "      <td>3</td>\n",
       "      <td>4</td>\n",
       "      <td>4</td>\n",
       "      <td>893</td>\n",
       "      <td>0</td>\n",
       "    </tr>\n",
       "  </tbody>\n",
       "</table>\n",
       "<p>116 rows × 7 columns</p>\n",
       "</div>"
      ],
      "text/plain": [
       "     tiempo  ofertas  exclusivo  novedad  conocimiento  ingreso  Segmento\n",
       "0         3        3          4        3             4     2884         1\n",
       "1         3        3          5        4             3     2893         1\n",
       "2         2        2          3        4             5     3668         1\n",
       "3         4        3          4        5             4      796         0\n",
       "4         3        1          4        5             4     2980         1\n",
       "..      ...      ...        ...      ...           ...      ...       ...\n",
       "111       4        5          2        5             3     1519         0\n",
       "112       2        3          3        3             5      880         3\n",
       "113       2        5          4        4             3     1292         1\n",
       "114       2        5          2        4             4     1877         0\n",
       "115       3        5          3        4             4      893         0\n",
       "\n",
       "[116 rows x 7 columns]"
      ]
     },
     "execution_count": 27,
     "metadata": {},
     "output_type": "execute_result"
    }
   ],
   "source": [
    "df['Segmento'] = cluster\n",
    "df"
   ]
  },
  {
   "cell_type": "code",
   "execution_count": null,
   "id": "2d125b45-6363-4a9a-9cc5-070ab1799d88",
   "metadata": {},
   "outputs": [],
   "source": []
  }
 ],
 "metadata": {
  "kernelspec": {
   "display_name": "Python 3 (ipykernel)",
   "language": "python",
   "name": "python3"
  },
  "language_info": {
   "codemirror_mode": {
    "name": "ipython",
    "version": 3
   },
   "file_extension": ".py",
   "mimetype": "text/x-python",
   "name": "python",
   "nbconvert_exporter": "python",
   "pygments_lexer": "ipython3",
   "version": "3.11.7"
  }
 },
 "nbformat": 4,
 "nbformat_minor": 5
}
