{
 "cells": [
  {
   "cell_type": "markdown",
   "id": "2566d1b5-b523-478e-9416-dd67b2a6da34",
   "metadata": {},
   "source": [
    "Data de RH\n",
    "Info de empleados\n",
    "Renuncian a su trabajo, buscar ha que se relacionan\n",
    "puede ser satisfaccion 1 al 5\n",
    "desempeño del 0 al 1\n"
   ]
  },
  {
   "cell_type": "code",
   "execution_count": 1,
   "id": "88bd8ace-ecb8-4489-80ca-48eb31da7f2b",
   "metadata": {
    "tags": []
   },
   "outputs": [],
   "source": [
    "import pandas as pd\n",
    "import numpy as np\n",
    "import matplotlib.pyplot as plt"
   ]
  },
  {
   "cell_type": "code",
   "execution_count": 2,
   "id": "14ee283b-ce5d-4f97-8a16-df7e8c337496",
   "metadata": {
    "tags": []
   },
   "outputs": [],
   "source": [
    "df = pd.read_excel('data/b04_hr.xlsx')"
   ]
  },
  {
   "cell_type": "code",
   "execution_count": 3,
   "id": "c9527e5c-3607-4e6d-87a3-ff27b7231d00",
   "metadata": {
    "tags": []
   },
   "outputs": [
    {
     "data": {
      "text/plain": [
       "(14999, 10)"
      ]
     },
     "execution_count": 3,
     "metadata": {},
     "output_type": "execute_result"
    }
   ],
   "source": [
    "df.shape"
   ]
  },
  {
   "cell_type": "code",
   "execution_count": 6,
   "id": "be05e6cd-0689-490c-b3a3-5b32bacf1e34",
   "metadata": {
    "tags": []
   },
   "outputs": [
    {
     "name": "stdout",
     "output_type": "stream",
     "text": [
      "<class 'pandas.core.frame.DataFrame'>\n",
      "RangeIndex: 14999 entries, 0 to 14998\n",
      "Data columns (total 10 columns):\n",
      " #   Column                 Non-Null Count  Dtype  \n",
      "---  ------                 --------------  -----  \n",
      " 0   satisfaction_level     14999 non-null  float64\n",
      " 1   last_evaluation        14999 non-null  float64\n",
      " 2   number_project         14999 non-null  int64  \n",
      " 3   average_montly_hours   14999 non-null  int64  \n",
      " 4   time_spend_company     14999 non-null  int64  \n",
      " 5   Work_accident          14999 non-null  int64  \n",
      " 6   left                   14999 non-null  int64  \n",
      " 7   promotion_last_5years  14999 non-null  int64  \n",
      " 8   area                   14999 non-null  object \n",
      " 9   salary                 14999 non-null  object \n",
      "dtypes: float64(2), int64(6), object(2)\n",
      "memory usage: 1.1+ MB\n"
     ]
    }
   ],
   "source": [
    "df.info()"
   ]
  },
  {
   "cell_type": "code",
   "execution_count": 20,
   "id": "4c9e01b8-fc13-480f-afdd-c7040af07510",
   "metadata": {
    "tags": []
   },
   "outputs": [
    {
     "data": {
      "text/html": [
       "<div>\n",
       "<style scoped>\n",
       "    .dataframe tbody tr th:only-of-type {\n",
       "        vertical-align: middle;\n",
       "    }\n",
       "\n",
       "    .dataframe tbody tr th {\n",
       "        vertical-align: top;\n",
       "    }\n",
       "\n",
       "    .dataframe thead th {\n",
       "        text-align: right;\n",
       "    }\n",
       "</style>\n",
       "<table border=\"1\" class=\"dataframe\">\n",
       "  <thead>\n",
       "    <tr style=\"text-align: right;\">\n",
       "      <th>promotion_last_5years</th>\n",
       "      <th>0</th>\n",
       "      <th>1</th>\n",
       "    </tr>\n",
       "    <tr>\n",
       "      <th>left</th>\n",
       "      <th></th>\n",
       "      <th></th>\n",
       "    </tr>\n",
       "  </thead>\n",
       "  <tbody>\n",
       "    <tr>\n",
       "      <th>0</th>\n",
       "      <td>11128</td>\n",
       "      <td>300</td>\n",
       "    </tr>\n",
       "    <tr>\n",
       "      <th>1</th>\n",
       "      <td>3552</td>\n",
       "      <td>19</td>\n",
       "    </tr>\n",
       "  </tbody>\n",
       "</table>\n",
       "</div>"
      ],
      "text/plain": [
       "promotion_last_5years      0    1\n",
       "left                             \n",
       "0                      11128  300\n",
       "1                       3552   19"
      ]
     },
     "execution_count": 20,
     "metadata": {},
     "output_type": "execute_result"
    }
   ],
   "source": [
    "tabla = pd.crosstab(df['left'], df['promotion_last_5years'])\n",
    "tabla"
   ]
  },
  {
   "cell_type": "code",
   "execution_count": 21,
   "id": "3a106a77-d54d-4700-8863-9de019273c40",
   "metadata": {
    "tags": []
   },
   "outputs": [
    {
     "data": {
      "text/html": [
       "<div>\n",
       "<style scoped>\n",
       "    .dataframe tbody tr th:only-of-type {\n",
       "        vertical-align: middle;\n",
       "    }\n",
       "\n",
       "    .dataframe tbody tr th {\n",
       "        vertical-align: top;\n",
       "    }\n",
       "\n",
       "    .dataframe thead th {\n",
       "        text-align: right;\n",
       "    }\n",
       "</style>\n",
       "<table border=\"1\" class=\"dataframe\">\n",
       "  <thead>\n",
       "    <tr style=\"text-align: right;\">\n",
       "      <th>promotion_last_5years</th>\n",
       "      <th>0</th>\n",
       "      <th>1</th>\n",
       "    </tr>\n",
       "    <tr>\n",
       "      <th>left</th>\n",
       "      <th></th>\n",
       "      <th></th>\n",
       "    </tr>\n",
       "  </thead>\n",
       "  <tbody>\n",
       "    <tr>\n",
       "      <th>0</th>\n",
       "      <td>0.973749</td>\n",
       "      <td>0.026251</td>\n",
       "    </tr>\n",
       "    <tr>\n",
       "      <th>1</th>\n",
       "      <td>0.994679</td>\n",
       "      <td>0.005321</td>\n",
       "    </tr>\n",
       "  </tbody>\n",
       "</table>\n",
       "</div>"
      ],
      "text/plain": [
       "promotion_last_5years         0         1\n",
       "left                                     \n",
       "0                      0.973749  0.026251\n",
       "1                      0.994679  0.005321"
      ]
     },
     "execution_count": 21,
     "metadata": {},
     "output_type": "execute_result"
    }
   ],
   "source": [
    "# Modifica la tabla anterior para mostrar las cantidades *normalizadas* entre el total\n",
    "tabla = pd.crosstab(df['left'], df['promotion_last_5years'], normalize='index')\n",
    "tabla"
   ]
  },
  {
   "cell_type": "code",
   "execution_count": 22,
   "id": "f7d912f4-d571-4e9f-afe3-f9333487a0d8",
   "metadata": {
    "tags": []
   },
   "outputs": [],
   "source": [
    "import numpy as np\n",
    "from scipy.stats import chi2_contingency"
   ]
  },
  {
   "cell_type": "code",
   "execution_count": 25,
   "id": "87522e57-85d4-4160-88a4-8ce4ffdee56e",
   "metadata": {
    "tags": []
   },
   "outputs": [],
   "source": [
    "# Realiza una prueba chi cuadrada a la tabla obtenida\n",
    "chi2, p, dof, expected = chi2_contingency(tabla)"
   ]
  },
  {
   "cell_type": "code",
   "execution_count": 26,
   "id": "cf127eea-1087-44dd-8367-1bdf375a3461",
   "metadata": {
    "tags": []
   },
   "outputs": [
    {
     "name": "stdout",
     "output_type": "stream",
     "text": [
      "Estadístico de prueba \t 0.0\n",
      "Valor p \t \t 1.0\n",
      "Grados de libertad \t 1\n",
      "\n",
      " Tabla de frecuencias esperadas:\n",
      "[[0.98421402 0.01578598]\n",
      " [0.98421402 0.01578598]]\n"
     ]
    }
   ],
   "source": [
    "print('Estadístico de prueba \\t', chi2) \n",
    "print('Valor p \\t \\t', p)  \n",
    "print('Grados de libertad \\t', dof)  \n",
    "print('\\n Tabla de frecuencias esperadas:')   \n",
    "print(expected)"
   ]
  },
  {
   "cell_type": "code",
   "execution_count": 27,
   "id": "0f13ace6-9d60-44c8-bf05-b0272f32946d",
   "metadata": {
    "tags": []
   },
   "outputs": [
    {
     "name": "stdout",
     "output_type": "stream",
     "text": [
      "Las variables son independientes (No se rechaza la hipótesis nula)\n"
     ]
    }
   ],
   "source": [
    "alfa = 0.05\n",
    "if p <=alfa:\n",
    "    print('Las variables son dependientes (Se rechaza la hipótesis nula)')\n",
    "else:\n",
    "    print('Las variables son independientes (No se rechaza la hipótesis nula)')"
   ]
  },
  {
   "cell_type": "code",
   "execution_count": 28,
   "id": "90e96dd6-17ef-4c49-956d-e7316d1ed5bb",
   "metadata": {
    "tags": []
   },
   "outputs": [],
   "source": [
    "import seaborn as sns"
   ]
  },
  {
   "cell_type": "code",
   "execution_count": 29,
   "id": "977f6035-a21e-488a-a3e2-6be7ee128943",
   "metadata": {
    "tags": []
   },
   "outputs": [
    {
     "data": {
      "image/png": "[encoded data removed]",
      "text/plain": [
       "<Figure size 640x480 with 2 Axes>"
      ]
     },
     "metadata": {},
     "output_type": "display_data"
    }
   ],
   "source": [
    "ax = sns.heatmap(tabla, annot=True, cmap='Greens')"
   ]
  },
  {
   "cell_type": "code",
   "execution_count": 36,
   "id": "801f9d01-7cae-4df2-a86a-7d9c81a99d28",
   "metadata": {
    "tags": []
   },
   "outputs": [
    {
     "name": "stdout",
     "output_type": "stream",
     "text": [
      "<class 'pandas.core.frame.DataFrame'>\n",
      "RangeIndex: 14999 entries, 0 to 14998\n",
      "Data columns (total 10 columns):\n",
      " #   Column                 Non-Null Count  Dtype  \n",
      "---  ------                 --------------  -----  \n",
      " 0   satisfaction_level     14999 non-null  float64\n",
      " 1   last_evaluation        14999 non-null  float64\n",
      " 2   number_project         14999 non-null  int64  \n",
      " 3   average_montly_hours   14999 non-null  int64  \n",
      " 4   time_spend_company     14999 non-null  int64  \n",
      " 5   Work_accident          14999 non-null  int64  \n",
      " 6   left                   14999 non-null  int64  \n",
      " 7   promotion_last_5years  14999 non-null  int64  \n",
      " 8   area                   14999 non-null  object \n",
      " 9   salary                 14999 non-null  object \n",
      "dtypes: float64(2), int64(6), object(2)\n",
      "memory usage: 1.1+ MB\n"
     ]
    }
   ],
   "source": [
    "df.info()"
   ]
  },
  {
   "cell_type": "code",
   "execution_count": 30,
   "id": "4082ffd0-5c72-4bf1-8a60-4950140c7d3e",
   "metadata": {
    "tags": []
   },
   "outputs": [],
   "source": [
    "import prince"
   ]
  },
  {
   "cell_type": "code",
   "execution_count": 37,
   "id": "e06e9539-5911-4f8d-a3ac-a6958fc61390",
   "metadata": {
    "tags": []
   },
   "outputs": [],
   "source": [
    "var_cat = ['left', 'area', 'promotion_last_5years']"
   ]
  },
  {
   "cell_type": "code",
   "execution_count": 38,
   "id": "616a7f50-bbd9-48b8-9acc-33656d9a7a1b",
   "metadata": {
    "tags": []
   },
   "outputs": [
    {
     "data": {
      "text/html": [
       "\n",
       "<style>\n",
       "  #altair-viz-7c37613017cf43ef8e69fa8ce1ba7cb1.vega-embed {\n",
       "    width: 100%;\n",
       "    display: flex;\n",
       "  }\n",
       "\n",
       "  #altair-viz-7c37613017cf43ef8e69fa8ce1ba7cb1.vega-embed details,\n",
       "  #altair-viz-7c37613017cf43ef8e69fa8ce1ba7cb1.vega-embed details summary {\n",
       "    position: relative;\n",
       "  }\n",
       "</style>\n",
       "<div id=\"altair-viz-7c37613017cf43ef8e69fa8ce1ba7cb1\"></div>\n",
       "<script type=\"text/javascript\">\n",
       "  var VEGA_DEBUG = (typeof VEGA_DEBUG == \"undefined\") ? {} : VEGA_DEBUG;\n",
       "  (function(spec, embedOpt){\n",
       "    let outputDiv = document.currentScript.previousElementSibling;\n",
       "    if (outputDiv.id !== \"altair-viz-7c37613017cf43ef8e69fa8ce1ba7cb1\") {\n",
       "      outputDiv = document.getElementById(\"altair-viz-7c37613017cf43ef8e69fa8ce1ba7cb1\");\n",
       "    }\n",
       "    const paths = {\n",
       "      \"vega\": \"https://cdn.jsdelivr.net/npm/vega@5?noext\",\n",
       "      \"vega-lib\": \"https://cdn.jsdelivr.net/npm/vega-lib?noext\",\n",
       "      \"vega-lite\": \"https://cdn.jsdelivr.net/npm/vega-lite@5.16.3?noext\",\n",
       "      \"vega-embed\": \"https://cdn.jsdelivr.net/npm/vega-embed@6?noext\",\n",
       "    };\n",
       "\n",
       "    function maybeLoadScript(lib, version) {\n",
       "      var key = `${lib.replace(\"-\", \"\")}_version`;\n",
       "      return (VEGA_DEBUG[key] == version) ?\n",
       "        Promise.resolve(paths[lib]) :\n",
       "        new Promise(function(resolve, reject) {\n",
       "          var s = document.createElement('script');\n",
       "          document.getElementsByTagName(\"head\")[0].appendChild(s);\n",
       "          s.async = true;\n",
       "          s.onload = () => {\n",
       "            VEGA_DEBUG[key] = version;\n",
       "            return resolve(paths[lib]);\n",
       "          };\n",
       "          s.onerror = () => reject(`Error loading script: ${paths[lib]}`);\n",
       "          s.src = paths[lib];\n",
       "        });\n",
       "    }\n",
       "\n",
       "    function showError(err) {\n",
       "      outputDiv.innerHTML = `<div class=\"error\" style=\"color:red;\">${err}</div>`;\n",
       "      throw err;\n",
       "    }\n",
       "\n",
       "    function displayChart(vegaEmbed) {\n",
       "      vegaEmbed(outputDiv, spec, embedOpt)\n",
       "        .catch(err => showError(`Javascript Error: ${err.message}<br>This usually means there's a typo in your chart specification. See the javascript console for the full traceback.`));\n",
       "    }\n",
       "\n",
       "    if(typeof define === \"function\" && define.amd) {\n",
       "      requirejs.config({paths});\n",
       "      require([\"vega-embed\"], displayChart, err => showError(`Error loading script: ${err.message}`));\n",
       "    } else {\n",
       "      maybeLoadScript(\"vega\", \"5\")\n",
       "        .then(() => maybeLoadScript(\"vega-lite\", \"5.16.3\"))\n",
       "        .then(() => maybeLoadScript(\"vega-embed\", \"6\"))\n",
       "        .catch(showError)\n",
       "        .then(() => displayChart(vegaEmbed));\n",
       "    }\n",
       "  })({\"config\": {\"view\": {\"continuousWidth\": 300, \"continuousHeight\": 300}}, \"layer\": [{\"mark\": {\"type\": \"circle\", \"size\": 50}, \"encoding\": {\"color\": {\"field\": \"variable\", \"type\": \"nominal\"}, \"tooltip\": [{\"field\": \"variable\", \"type\": \"nominal\"}, {\"field\": \"value\", \"type\": \"nominal\"}, {\"field\": \"component 0\", \"type\": \"quantitative\"}, {\"field\": \"component 1\", \"type\": \"quantitative\"}], \"x\": {\"axis\": {\"title\": \"component 0 \\u2014 10.79%\"}, \"field\": \"component 0\", \"scale\": {\"zero\": false}, \"type\": \"quantitative\"}, \"y\": {\"axis\": {\"title\": \"component 1 \\u2014 9.47%\"}, \"field\": \"component 1\", \"scale\": {\"zero\": false}, \"type\": \"quantitative\"}}, \"name\": \"view_8\"}, {\"mark\": {\"type\": \"text\"}, \"encoding\": {\"text\": {\"field\": \"label\", \"type\": \"nominal\"}, \"x\": {\"axis\": {\"title\": \"component 0 \\u2014 10.79%\"}, \"field\": \"component 0\", \"scale\": {\"zero\": false}, \"type\": \"quantitative\"}, \"y\": {\"axis\": {\"title\": \"component 1 \\u2014 9.47%\"}, \"field\": \"component 1\", \"scale\": {\"zero\": false}, \"type\": \"quantitative\"}}}], \"data\": {\"name\": \"data-3d2ba0e1f273f910dc6c4e9f1598a91c\"}, \"params\": [{\"name\": \"param_8\", \"select\": {\"type\": \"interval\", \"encodings\": [\"x\", \"y\"]}, \"bind\": \"scales\", \"views\": [\"view_8\"]}], \"$schema\": \"https://vega.github.io/schema/vega-lite/v5.16.3.json\", \"datasets\": {\"data-3d2ba0e1f273f910dc6c4e9f1598a91c\": [{\"component 0\": 0.24858168654510143, \"component 1\": -0.29843997475026623, \"variable\": \"column\", \"value\": \"left_0\", \"label\": \"left_0\"}, {\"component 0\": -0.7955170859247893, \"component 1\": 0.955074777778223, \"variable\": \"column\", \"value\": \"left_1\", \"label\": \"left_1\"}, {\"component 0\": -0.4063303673432535, \"component 1\": -1.190346705808118, \"variable\": \"column\", \"value\": \"area_IT\", \"label\": \"area_IT\"}, {\"component 0\": 0.8129445537355606, \"component 1\": -2.0339896311665107, \"variable\": \"column\", \"value\": \"area_RandD\", \"label\": \"area_RandD\"}, {\"component 0\": -0.23483955557539485, \"component 1\": 0.7223687957947584, \"variable\": \"column\", \"value\": \"area_accounting\", \"label\": \"area_accounting\"}, {\"component 0\": -0.3206930131904198, \"component 1\": 1.5508703533188781, \"variable\": \"column\", \"value\": \"area_hr\", \"label\": \"area_hr\"}, {\"component 0\": 2.8365964732115767, \"component 1\": 0.5712601468475063, \"variable\": \"column\", \"value\": \"area_management\", \"label\": \"area_management\"}, {\"component 0\": 0.7645166912667599, \"component 1\": 1.061797400781683, \"variable\": \"column\", \"value\": \"area_marketing\", \"label\": \"area_marketing\"}, {\"component 0\": -0.4537644023238197, \"component 1\": -1.373715683077568, \"variable\": \"column\", \"value\": \"area_product_mng\", \"label\": \"area_product_mng\"}, {\"component 0\": 0.037425126195267625, \"component 1\": 0.31638856033506635, \"variable\": \"column\", \"value\": \"area_sales\", \"label\": \"area_sales\"}, {\"component 0\": -0.38324386872813043, \"component 1\": -0.1438069166028796, \"variable\": \"column\", \"value\": \"area_support\", \"label\": \"area_support\"}, {\"component 0\": -0.3891584465342499, \"component 1\": 0.12501016593726783, \"variable\": \"column\", \"value\": \"area_technical\", \"label\": \"area_technical\"}, {\"component 0\": -0.10419552371115728, \"component 1\": -0.034028604472176274, \"variable\": \"column\", \"value\": \"promotion_last_5years_0\", \"label\": \"promotion_last_5years_0\"}, {\"component 0\": 4.794953881127853, \"component 1\": 1.5659558421678585, \"variable\": \"column\", \"value\": \"promotion_last_5years_1\", \"label\": \"promotion_last_5years_1\"}]}}, {\"mode\": \"vega-lite\"});\n",
       "</script>"
      ],
      "text/plain": [
       "alt.LayerChart(...)"
      ]
     },
     "execution_count": 38,
     "metadata": {},
     "output_type": "execute_result"
    }
   ],
   "source": [
    "# Creación de instancia del modelo\n",
    "mca = prince.MCA(n_components = 2)\n",
    "# Ajuste del modelo a los datos\n",
    "mca = mca.fit(df[var_cat])\n",
    "# Crea gráfico\n",
    "ax = mca.plot(df[var_cat], show_column_labels=True, show_row_markers=False)\n",
    "ax"
   ]
  },
  {
   "cell_type": "code",
   "execution_count": null,
   "id": "5bf51103-a873-4bd6-9cd9-c846b0255cc2",
   "metadata": {},
   "outputs": [],
   "source": []
  },
  {
   "cell_type": "code",
   "execution_count": null,
   "id": "02e9d822-10c7-4297-8f71-48c065aa16db",
   "metadata": {},
   "outputs": [],
   "source": []
  }
 ],
 "metadata": {
  "kernelspec": {
   "display_name": "Python 3 (ipykernel)",
   "language": "python",
   "name": "python3"
  },
  "language_info": {
   "codemirror_mode": {
    "name": "ipython",
    "version": 3
   },
   "file_extension": ".py",
   "mimetype": "text/x-python",
   "name": "python",
   "nbconvert_exporter": "python",
   "pygments_lexer": "ipython3",
   "version": "3.11.5"
  }
 },
 "nbformat": 4,
 "nbformat_minor": 5
}
