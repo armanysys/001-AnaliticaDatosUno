{
 "cells": [
  {
   "cell_type": "markdown",
   "id": "ecc7a6a8-7b95-42a3-ae4d-1acce323a449",
   "metadata": {},
   "source": [
    "# Sesión 05: Relaciones entre variables\n",
    "Dificultad 😀😀😀 (regular)  \n",
    "Uso de código: 🐍🐍 (poco)"
   ]
  },
  {
   "cell_type": "markdown",
   "id": "7218eb4b-0951-493a-bb40-4349e0324eca",
   "metadata": {},
   "source": [
    "## 5.1 Introducción\n",
    "¿Cómo evaluar si dos variables cualitativas están relacionadas? Una forma inicial de explorar la relación entre dos variables cualitativas es mediante una tabla cruzada.  \n",
    "Para la siguiente práctica utilizaremos el archivo \"b03_enigh2020\""
   ]
  },
  {
   "cell_type": "code",
   "execution_count": 1,
   "id": "147a8a4a-ad36-479a-968b-ef3a6b8dcff9",
   "metadata": {
    "tags": []
   },
   "outputs": [],
   "source": [
    "# Importa la biblioteca de pandas, numpy y matplotlib.pyplot\n",
    "import pandas as pd\n",
    "import numpy as np\n",
    "import matplotlib.pyplot as plt"
   ]
  },
  {
   "cell_type": "code",
   "execution_count": 2,
   "id": "b3f7a456-c4b7-4434-aa19-60d343097043",
   "metadata": {
    "tags": []
   },
   "outputs": [],
   "source": [
    "# Carga el archivo con la base de datos\n",
    "df = pd.read_excel('data/b03_enigh2020.xlsx')"
   ]
  },
  {
   "cell_type": "code",
   "execution_count": 3,
   "id": "d97a8dd2-9853-480b-be31-b5318b6e4a53",
   "metadata": {
    "tags": []
   },
   "outputs": [
    {
     "data": {
      "text/plain": [
       "(2332, 24)"
      ]
     },
     "execution_count": 3,
     "metadata": {},
     "output_type": "execute_result"
    }
   ],
   "source": [
    "# Obtén las dimensiones de la base de datos\n",
    "df.shape"
   ]
  },
  {
   "cell_type": "code",
   "execution_count": 4,
   "id": "a84b81f2-ddb1-43f6-974d-947f6e5badc6",
   "metadata": {
    "tags": []
   },
   "outputs": [
    {
     "name": "stdout",
     "output_type": "stream",
     "text": [
      "<class 'pandas.core.frame.DataFrame'>\n",
      "RangeIndex: 2332 entries, 0 to 2331\n",
      "Data columns (total 24 columns):\n",
      " #   Column      Non-Null Count  Dtype  \n",
      "---  ------      --------------  -----  \n",
      " 0   folioviv    2332 non-null   int64  \n",
      " 1   ubica_geo   2332 non-null   object \n",
      " 2   clave_mun   2332 non-null   int64  \n",
      " 3   tam_loc     2332 non-null   int64  \n",
      " 4   est_socio   2332 non-null   object \n",
      " 5   clase_hog   2332 non-null   object \n",
      " 6   sexo_jefe   2332 non-null   object \n",
      " 7   edad_jefe   2332 non-null   int64  \n",
      " 8   educa_jefe  2332 non-null   int64  \n",
      " 9   tot_integ   2332 non-null   int64  \n",
      " 10  hombres     2332 non-null   int64  \n",
      " 11  mujeres     2332 non-null   int64  \n",
      " 12  p65mas      2332 non-null   int64  \n",
      " 13  ing_cor     2332 non-null   float64\n",
      " 14  gasto_mon   2332 non-null   float64\n",
      " 15  alimentos   2332 non-null   float64\n",
      " 16  cereales    2332 non-null   float64\n",
      " 17  carnes      2332 non-null   float64\n",
      " 18  leche       2332 non-null   float64\n",
      " 19  huevo       2332 non-null   float64\n",
      " 20  bebidas     2332 non-null   float64\n",
      " 21  agua        2332 non-null   float64\n",
      " 22  energia     2332 non-null   float64\n",
      " 23  cuida_pers  2332 non-null   float64\n",
      "dtypes: float64(11), int64(9), object(4)\n",
      "memory usage: 437.4+ KB\n"
     ]
    }
   ],
   "source": [
    "# Explora la información básica de las variables\n",
    "df.info()"
   ]
  },
  {
   "cell_type": "markdown",
   "id": "ec04784b-90cc-40f6-90d8-3c884fbeffe6",
   "metadata": {
    "tags": []
   },
   "source": [
    "# Obtén la estadística descriptiva\n",
    "df.describe().T"
   ]
  },
  {
   "cell_type": "markdown",
   "id": "bbe81ee8-4949-4111-9b41-a3c1e5753112",
   "metadata": {},
   "source": [
    "## 5.2 Tabla cruzada"
   ]
  },
  {
   "cell_type": "markdown",
   "id": "74da6dd7-6b5d-47ab-bf5c-e3f94f57dc37",
   "metadata": {},
   "source": [
    "Una forma básica de realizar una tabla cruzada es mediante el método *crosstab* de Pandas, especificando las variables en las filas y columnas respectivamente. Por ejemplo, para las variables \"A\" y \"B\", utilizaremos:  \n",
    "`pd.crosstab(df['A'], df['B'], margins=True)`\n",
    "El argumento *margins* se puede agregar para mostrar la suma por fila o columna. Cada celda dentro de la tabla mostrará la frecuencia observada en esa intersección.  \n",
    "\n",
    "\n",
    "Tabla cruzada / tabla de contingecia\n"
   ]
  },
  {
   "cell_type": "code",
   "execution_count": 49,
   "id": "96205f5a-daea-476a-8670-5b6809d47dac",
   "metadata": {
    "tags": []
   },
   "outputs": [
    {
     "data": {
      "text/html": [
       "<div>\n",
       "<style scoped>\n",
       "    .dataframe tbody tr th:only-of-type {\n",
       "        vertical-align: middle;\n",
       "    }\n",
       "\n",
       "    .dataframe tbody tr th {\n",
       "        vertical-align: top;\n",
       "    }\n",
       "\n",
       "    .dataframe thead th {\n",
       "        text-align: right;\n",
       "    }\n",
       "</style>\n",
       "<table border=\"1\" class=\"dataframe\">\n",
       "  <thead>\n",
       "    <tr style=\"text-align: right;\">\n",
       "      <th>est_socio</th>\n",
       "      <th>alto</th>\n",
       "      <th>bajo</th>\n",
       "      <th>medio_alto</th>\n",
       "      <th>medio_bajo</th>\n",
       "    </tr>\n",
       "    <tr>\n",
       "      <th>sexo_jefe</th>\n",
       "      <th></th>\n",
       "      <th></th>\n",
       "      <th></th>\n",
       "      <th></th>\n",
       "    </tr>\n",
       "  </thead>\n",
       "  <tbody>\n",
       "    <tr>\n",
       "      <th>hombre</th>\n",
       "      <td>263</td>\n",
       "      <td>188</td>\n",
       "      <td>511</td>\n",
       "      <td>818</td>\n",
       "    </tr>\n",
       "    <tr>\n",
       "      <th>mujer</th>\n",
       "      <td>102</td>\n",
       "      <td>39</td>\n",
       "      <td>179</td>\n",
       "      <td>232</td>\n",
       "    </tr>\n",
       "  </tbody>\n",
       "</table>\n",
       "</div>"
      ],
      "text/plain": [
       "est_socio  alto  bajo  medio_alto  medio_bajo\n",
       "sexo_jefe                                    \n",
       "hombre      263   188         511         818\n",
       "mujer       102    39         179         232"
      ]
     },
     "execution_count": 49,
     "metadata": {},
     "output_type": "execute_result"
    }
   ],
   "source": [
    "tabla = pd.crosstab(df['sexo_jefe'], df['est_socio'])\n",
    "tabla"
   ]
  },
  {
   "cell_type": "code",
   "execution_count": 24,
   "id": "024e7762-adc3-4645-8588-5bc03057c4e0",
   "metadata": {
    "tags": []
   },
   "outputs": [
    {
     "data": {
      "text/html": [
       "<div>\n",
       "<style scoped>\n",
       "    .dataframe tbody tr th:only-of-type {\n",
       "        vertical-align: middle;\n",
       "    }\n",
       "\n",
       "    .dataframe tbody tr th {\n",
       "        vertical-align: top;\n",
       "    }\n",
       "\n",
       "    .dataframe thead th {\n",
       "        text-align: right;\n",
       "    }\n",
       "</style>\n",
       "<table border=\"1\" class=\"dataframe\">\n",
       "  <thead>\n",
       "    <tr style=\"text-align: right;\">\n",
       "      <th>est_socio</th>\n",
       "      <th>alto</th>\n",
       "      <th>bajo</th>\n",
       "      <th>medio_alto</th>\n",
       "      <th>medio_bajo</th>\n",
       "      <th>All</th>\n",
       "    </tr>\n",
       "    <tr>\n",
       "      <th>sexo_jefe</th>\n",
       "      <th></th>\n",
       "      <th></th>\n",
       "      <th></th>\n",
       "      <th></th>\n",
       "      <th></th>\n",
       "    </tr>\n",
       "  </thead>\n",
       "  <tbody>\n",
       "    <tr>\n",
       "      <th>hombre</th>\n",
       "      <td>263</td>\n",
       "      <td>188</td>\n",
       "      <td>511</td>\n",
       "      <td>818</td>\n",
       "      <td>1780</td>\n",
       "    </tr>\n",
       "    <tr>\n",
       "      <th>mujer</th>\n",
       "      <td>102</td>\n",
       "      <td>39</td>\n",
       "      <td>179</td>\n",
       "      <td>232</td>\n",
       "      <td>552</td>\n",
       "    </tr>\n",
       "    <tr>\n",
       "      <th>All</th>\n",
       "      <td>365</td>\n",
       "      <td>227</td>\n",
       "      <td>690</td>\n",
       "      <td>1050</td>\n",
       "      <td>2332</td>\n",
       "    </tr>\n",
       "  </tbody>\n",
       "</table>\n",
       "</div>"
      ],
      "text/plain": [
       "est_socio  alto  bajo  medio_alto  medio_bajo   All\n",
       "sexo_jefe                                          \n",
       "hombre      263   188         511         818  1780\n",
       "mujer       102    39         179         232   552\n",
       "All         365   227         690        1050  2332"
      ]
     },
     "execution_count": 24,
     "metadata": {},
     "output_type": "execute_result"
    }
   ],
   "source": [
    "# Crea una tabla cruzada para relacionar \"sexo_jefe\" con \"est_socio\"\n",
    "tabla_margins = pd.crosstab(df['sexo_jefe'], df['est_socio'],margins=True)\n",
    "tabla_margins"
   ]
  },
  {
   "cell_type": "code",
   "execution_count": 28,
   "id": "4d086779-bf4f-4f7a-8781-973754121df9",
   "metadata": {
    "tags": []
   },
   "outputs": [
    {
     "data": {
      "text/html": [
       "<div>\n",
       "<style scoped>\n",
       "    .dataframe tbody tr th:only-of-type {\n",
       "        vertical-align: middle;\n",
       "    }\n",
       "\n",
       "    .dataframe tbody tr th {\n",
       "        vertical-align: top;\n",
       "    }\n",
       "\n",
       "    .dataframe thead th {\n",
       "        text-align: right;\n",
       "    }\n",
       "</style>\n",
       "<table border=\"1\" class=\"dataframe\">\n",
       "  <thead>\n",
       "    <tr style=\"text-align: right;\">\n",
       "      <th>est_socio</th>\n",
       "      <th>bajo</th>\n",
       "      <th>medio_bajo</th>\n",
       "      <th>medio_alto</th>\n",
       "      <th>alto</th>\n",
       "    </tr>\n",
       "    <tr>\n",
       "      <th>sexo_jefe</th>\n",
       "      <th></th>\n",
       "      <th></th>\n",
       "      <th></th>\n",
       "      <th></th>\n",
       "    </tr>\n",
       "  </thead>\n",
       "  <tbody>\n",
       "    <tr>\n",
       "      <th>mujer</th>\n",
       "      <td>39</td>\n",
       "      <td>232</td>\n",
       "      <td>179</td>\n",
       "      <td>102</td>\n",
       "    </tr>\n",
       "    <tr>\n",
       "      <th>hombre</th>\n",
       "      <td>188</td>\n",
       "      <td>818</td>\n",
       "      <td>511</td>\n",
       "      <td>263</td>\n",
       "    </tr>\n",
       "  </tbody>\n",
       "</table>\n",
       "</div>"
      ],
      "text/plain": [
       "est_socio  bajo  medio_bajo  medio_alto  alto\n",
       "sexo_jefe                                    \n",
       "mujer        39         232         179   102\n",
       "hombre      188         818         511   263"
      ]
     },
     "execution_count": 28,
     "metadata": {},
     "output_type": "execute_result"
    }
   ],
   "source": [
    "# Crea una tabla cruzada para relacionar \"sexo_jefe\" con \"est_socio\"\n",
    "tabla = pd.crosstab(df['sexo_jefe'], df['est_socio'])\n",
    "tabla"
   ]
  },
  {
   "cell_type": "markdown",
   "id": "d3e4290d-3146-4626-a2c2-370ed4e25f08",
   "metadata": {},
   "source": [
    "En muchas ocasiones se requiere representar esta tabla cruzada mediante proporciones. Para ello se puede utilizar el argumento *normalize* con los siguientes valores:\n",
    "- *'all'*: para divididr cada cantidad entre el total.\n",
    "- *'index'*: para dividir las celdas en cada fila entre el total de la fila.\n",
    "- *'columns'*: para dividir las celdas en cada columna entre el total de la columna."
   ]
  },
  {
   "cell_type": "code",
   "execution_count": 21,
   "id": "68fa4848-e4c4-4c7d-8faf-2eb56d7d6e04",
   "metadata": {
    "tags": []
   },
   "outputs": [
    {
     "data": {
      "text/html": [
       "<div>\n",
       "<style scoped>\n",
       "    .dataframe tbody tr th:only-of-type {\n",
       "        vertical-align: middle;\n",
       "    }\n",
       "\n",
       "    .dataframe tbody tr th {\n",
       "        vertical-align: top;\n",
       "    }\n",
       "\n",
       "    .dataframe thead th {\n",
       "        text-align: right;\n",
       "    }\n",
       "</style>\n",
       "<table border=\"1\" class=\"dataframe\">\n",
       "  <thead>\n",
       "    <tr style=\"text-align: right;\">\n",
       "      <th>est_socio</th>\n",
       "      <th>alto</th>\n",
       "      <th>bajo</th>\n",
       "      <th>medio_alto</th>\n",
       "      <th>medio_bajo</th>\n",
       "    </tr>\n",
       "    <tr>\n",
       "      <th>sexo_jefe</th>\n",
       "      <th></th>\n",
       "      <th></th>\n",
       "      <th></th>\n",
       "      <th></th>\n",
       "    </tr>\n",
       "  </thead>\n",
       "  <tbody>\n",
       "    <tr>\n",
       "      <th>hombre</th>\n",
       "      <td>0.112779</td>\n",
       "      <td>0.080617</td>\n",
       "      <td>0.219125</td>\n",
       "      <td>0.350772</td>\n",
       "    </tr>\n",
       "    <tr>\n",
       "      <th>mujer</th>\n",
       "      <td>0.043739</td>\n",
       "      <td>0.016724</td>\n",
       "      <td>0.076758</td>\n",
       "      <td>0.099485</td>\n",
       "    </tr>\n",
       "  </tbody>\n",
       "</table>\n",
       "</div>"
      ],
      "text/plain": [
       "est_socio      alto      bajo  medio_alto  medio_bajo\n",
       "sexo_jefe                                            \n",
       "hombre     0.112779  0.080617    0.219125    0.350772\n",
       "mujer      0.043739  0.016724    0.076758    0.099485"
      ]
     },
     "execution_count": 21,
     "metadata": {},
     "output_type": "execute_result"
    }
   ],
   "source": [
    "# Modifica la tabla anterior para mostrar las cantidades *normalizadas* entre el total\n",
    "tabla_all = pd.crosstab(df['sexo_jefe'], df['est_socio'], normalize='all')\n",
    "tabla_all"
   ]
  },
  {
   "cell_type": "code",
   "execution_count": 22,
   "id": "e9d463d3-21bf-4947-b099-f64829d3c475",
   "metadata": {
    "tags": []
   },
   "outputs": [
    {
     "data": {
      "text/html": [
       "<div>\n",
       "<style scoped>\n",
       "    .dataframe tbody tr th:only-of-type {\n",
       "        vertical-align: middle;\n",
       "    }\n",
       "\n",
       "    .dataframe tbody tr th {\n",
       "        vertical-align: top;\n",
       "    }\n",
       "\n",
       "    .dataframe thead th {\n",
       "        text-align: right;\n",
       "    }\n",
       "</style>\n",
       "<table border=\"1\" class=\"dataframe\">\n",
       "  <thead>\n",
       "    <tr style=\"text-align: right;\">\n",
       "      <th>est_socio</th>\n",
       "      <th>alto</th>\n",
       "      <th>bajo</th>\n",
       "      <th>medio_alto</th>\n",
       "      <th>medio_bajo</th>\n",
       "    </tr>\n",
       "    <tr>\n",
       "      <th>sexo_jefe</th>\n",
       "      <th></th>\n",
       "      <th></th>\n",
       "      <th></th>\n",
       "      <th></th>\n",
       "    </tr>\n",
       "  </thead>\n",
       "  <tbody>\n",
       "    <tr>\n",
       "      <th>hombre</th>\n",
       "      <td>0.147753</td>\n",
       "      <td>0.105618</td>\n",
       "      <td>0.287079</td>\n",
       "      <td>0.459551</td>\n",
       "    </tr>\n",
       "    <tr>\n",
       "      <th>mujer</th>\n",
       "      <td>0.184783</td>\n",
       "      <td>0.070652</td>\n",
       "      <td>0.324275</td>\n",
       "      <td>0.420290</td>\n",
       "    </tr>\n",
       "  </tbody>\n",
       "</table>\n",
       "</div>"
      ],
      "text/plain": [
       "est_socio      alto      bajo  medio_alto  medio_bajo\n",
       "sexo_jefe                                            \n",
       "hombre     0.147753  0.105618    0.287079    0.459551\n",
       "mujer      0.184783  0.070652    0.324275    0.420290"
      ]
     },
     "execution_count": 22,
     "metadata": {},
     "output_type": "execute_result"
    }
   ],
   "source": [
    "# Modifica la tabla anterior para mostrar las cantidades *normalizadas* entre el total\n",
    "tabla_index = pd.crosstab(df['sexo_jefe'], df['est_socio'], normalize='index')\n",
    "tabla_index"
   ]
  },
  {
   "cell_type": "code",
   "execution_count": 23,
   "id": "24f9d02a-9826-4519-9cb8-b076f853474f",
   "metadata": {
    "tags": []
   },
   "outputs": [
    {
     "data": {
      "text/html": [
       "<div>\n",
       "<style scoped>\n",
       "    .dataframe tbody tr th:only-of-type {\n",
       "        vertical-align: middle;\n",
       "    }\n",
       "\n",
       "    .dataframe tbody tr th {\n",
       "        vertical-align: top;\n",
       "    }\n",
       "\n",
       "    .dataframe thead th {\n",
       "        text-align: right;\n",
       "    }\n",
       "</style>\n",
       "<table border=\"1\" class=\"dataframe\">\n",
       "  <thead>\n",
       "    <tr style=\"text-align: right;\">\n",
       "      <th>est_socio</th>\n",
       "      <th>alto</th>\n",
       "      <th>bajo</th>\n",
       "      <th>medio_alto</th>\n",
       "      <th>medio_bajo</th>\n",
       "    </tr>\n",
       "    <tr>\n",
       "      <th>sexo_jefe</th>\n",
       "      <th></th>\n",
       "      <th></th>\n",
       "      <th></th>\n",
       "      <th></th>\n",
       "    </tr>\n",
       "  </thead>\n",
       "  <tbody>\n",
       "    <tr>\n",
       "      <th>hombre</th>\n",
       "      <td>0.720548</td>\n",
       "      <td>0.828194</td>\n",
       "      <td>0.74058</td>\n",
       "      <td>0.779048</td>\n",
       "    </tr>\n",
       "    <tr>\n",
       "      <th>mujer</th>\n",
       "      <td>0.279452</td>\n",
       "      <td>0.171806</td>\n",
       "      <td>0.25942</td>\n",
       "      <td>0.220952</td>\n",
       "    </tr>\n",
       "  </tbody>\n",
       "</table>\n",
       "</div>"
      ],
      "text/plain": [
       "est_socio      alto      bajo  medio_alto  medio_bajo\n",
       "sexo_jefe                                            \n",
       "hombre     0.720548  0.828194     0.74058    0.779048\n",
       "mujer      0.279452  0.171806     0.25942    0.220952"
      ]
     },
     "execution_count": 23,
     "metadata": {},
     "output_type": "execute_result"
    }
   ],
   "source": [
    "# Modifica la tabla anterior para mostrar las cantidades *normalizadas* entre el total\n",
    "tabla_columns = pd.crosstab(df['sexo_jefe'], df['est_socio'], normalize='columns')\n",
    "tabla_columns"
   ]
  },
  {
   "cell_type": "markdown",
   "id": "4302a7b3-c36e-482d-9a7b-16ffd2742a13",
   "metadata": {
    "tags": []
   },
   "source": [
    "Opcionalmente, si quieres modificar el orden de las filas o columnas puedes usar el módulo *Categorical* de Pandas, que convierte una columna de un dataframe en datos de tipo categórico, a los cuales se les puede dar un orden específico."
   ]
  },
  {
   "cell_type": "code",
   "execution_count": 26,
   "id": "9d81e005-5985-4043-be22-82a16d1d7167",
   "metadata": {
    "tags": []
   },
   "outputs": [],
   "source": [
    "orden_sexo = ['mujer', 'hombre']\n",
    "orden_estrato = ['bajo', 'medio_bajo', 'medio_alto', 'alto']\n",
    "df['sexo_jefe']=pd.Categorical(df['sexo_jefe'], categories=orden_sexo, ordered=True)\n",
    "df['est_socio']=pd.Categorical(df['est_socio'], categories=orden_estrato, ordered=True)"
   ]
  },
  {
   "cell_type": "markdown",
   "id": "da201619-3960-4714-b7c7-c3d2267a15a7",
   "metadata": {},
   "source": [
    "## 5.3 Prueba Chi cuadrada\n",
    "Para evaluar la dependencia o independencia entre dos variables cualitativas se puede utilizar la prueba Chi cuadrada. Las hipótesis son:\n",
    "- Hipótesis nula (H0): No existe dependencia entre ambas variables (son independientes).\n",
    "- Hipótesis alternativa (H1): Existe dependencia entre ambas variables.\n"
   ]
  },
  {
   "cell_type": "markdown",
   "id": "e559d04c-2ebb-43a0-b595-cac2b5e59d60",
   "metadata": {
    "tags": []
   },
   "source": [
    "Para realizar la prueba Chi cuadrada necesitamos importar la biblioteca *scipy.stats*\n",
    "\n",
    "\n",
    "- A y b son independientes"
   ]
  },
  {
   "cell_type": "code",
   "execution_count": 29,
   "id": "a78f6f25-f68d-49ed-ad74-65c9d436311a",
   "metadata": {
    "tags": []
   },
   "outputs": [],
   "source": [
    "import numpy as np\n",
    "from scipy.stats import chi2_contingency"
   ]
  },
  {
   "cell_type": "markdown",
   "id": "540e3b67-400c-49b0-a119-fba191730adb",
   "metadata": {},
   "source": [
    "Un ejemplo de la aplicación a una tabla de contingencia es:  \n",
    "`chi2, p, dof, expected = chi2_contingency(tabla)`  \n",
    "Esta instrucción arrojará  los siguientes resultados:\n",
    "- El estadístico de prueba\n",
    "- El p-valor\n",
    "- Los grados de libertad\n",
    "- La tabla de frecuencias esperadas\n",
    "Para imprimir estos resultados:  \n",
    "```\n",
    "print('Estadístico de prueba:', chi2) \n",
    "print('Valor p:', p)  \n",
    "print('Grados de libertad:', dof)  \n",
    "print('Tabla de frecuencias esperadas')   \n",
    "print(expected)\n",
    "```\n"
   ]
  },
  {
   "cell_type": "code",
   "execution_count": 30,
   "id": "227b4850-3ce0-4ff1-9ee2-a23a6736eecc",
   "metadata": {
    "tags": []
   },
   "outputs": [],
   "source": [
    "# Realiza una prueba chi cuadrada a la tabla obtenida\n",
    "chi2, p, dof, expected = chi2_contingency(tabla)"
   ]
  },
  {
   "cell_type": "code",
   "execution_count": 40,
   "id": "57b48706-4545-4cad-95ce-e6290f9a7ac0",
   "metadata": {
    "tags": []
   },
   "outputs": [
    {
     "name": "stdout",
     "output_type": "stream",
     "text": [
      "Estadístico de prueba \t 12.395857313087394\n",
      "Valor p \t \t 0.006143128316573984\n",
      "Grados de libertad \t 3\n",
      "\n",
      " Tabla de frecuencias esperadas:\n",
      "[[ 53.73241852 248.54202401 163.32761578  86.39794168]\n",
      " [173.26758148 801.45797599 526.67238422 278.60205832]]\n"
     ]
    }
   ],
   "source": [
    "print('Estadístico de prueba \\t', chi2) \n",
    "print('Valor p \\t \\t', p)  \n",
    "print('Grados de libertad \\t', dof)  \n",
    "print('\\n Tabla de frecuencias esperadas:')   \n",
    "print(expected)"
   ]
  },
  {
   "cell_type": "code",
   "execution_count": 41,
   "id": "ff628912-b3db-4544-b9ac-f93dc39f6c8f",
   "metadata": {
    "tags": []
   },
   "outputs": [
    {
     "name": "stdout",
     "output_type": "stream",
     "text": [
      "Las variables son dependientes (Se rechaza la hipótesis nula)\n"
     ]
    }
   ],
   "source": [
    "alfa = 0.05\n",
    "if p <=alfa:\n",
    "    print('Las variables son dependientes (Se rechaza la hipótesis nula)')\n",
    "else:\n",
    "    print('Las variables son independientes (No se rechaza la hipótesis nula)')"
   ]
  },
  {
   "cell_type": "markdown",
   "id": "3418b710-5aba-474f-8b28-335f60905bcf",
   "metadata": {},
   "source": [
    "Para visualizar la relación entre ambas variables se puede utilizar un \"mapa de calor\". Es recomendable utilizar la librería *seaborn* como en el siguiente ejemplo:\n",
    "`ax = sns.heatmap(tabla, annot=True, cmap='YlGnBu', fmt='d')`\n",
    "*annot=True* sirve para indicar la cantidad en cada celda, *fmt=d* se utiliza para que se despliegue como números enteros, y *cmap* se utiliza para seleccionar una paleta de colores (ver https://matplotlib.org/stable/gallery/color/colormap_reference.html)"
   ]
  },
  {
   "cell_type": "code",
   "execution_count": 42,
   "id": "24398926-cd41-48b2-b396-1c2743f54f20",
   "metadata": {
    "tags": []
   },
   "outputs": [],
   "source": [
    "import seaborn as sns"
   ]
  },
  {
   "cell_type": "code",
   "execution_count": 50,
   "id": "03ef36ee-bbbf-4c43-8fa9-4f36ea67c4b2",
   "metadata": {
    "tags": []
   },
   "outputs": [
    {
     "data": {
      "image/png": "[encoded data removed]",
      "text/plain": [
       "<Figure size 640x480 with 2 Axes>"
      ]
     },
     "metadata": {},
     "output_type": "display_data"
    }
   ],
   "source": [
    "ax = sns.heatmap(tabla_index, annot=True, cmap='Greens')"
   ]
  },
  {
   "cell_type": "code",
   "execution_count": 52,
   "id": "3975c95c-e3a1-4191-a712-d5d290266c0e",
   "metadata": {
    "tags": []
   },
   "outputs": [
    {
     "data": {
      "image/png": "[encoded data removed]",
      "text/plain": [
       "<Figure size 640x480 with 2 Axes>"
      ]
     },
     "metadata": {},
     "output_type": "display_data"
    }
   ],
   "source": [
    "ax = sns.heatmap(tabla, annot=True, cmap='Reds', fmt='d')"
   ]
  },
  {
   "cell_type": "markdown",
   "id": "564d35fd-6f46-44f6-8df9-46d2c4e0219a",
   "metadata": {
    "tags": []
   },
   "source": [
    "## 5.4 Análisis de correspondencia múltiple"
   ]
  },
  {
   "cell_type": "markdown",
   "id": "c5f5651f-44ca-4146-8a2a-47c6d82dd7a4",
   "metadata": {},
   "source": [
    "El análisis de correspondencia múltiple permite observar la relación entre las categorías de diferentes variables cualitativas. Para realizar el análisis de correspondencia se recomienda instalar la biblioteca *Prince* (solo es necesario hacerlo la primera vez) \n",
    "`pip install prince`  \n",
    "La documentación se puede consultar en: documentación https://libraries.io/pypi/prince"
   ]
  },
  {
   "cell_type": "code",
   "execution_count": 59,
   "id": "b858bcfc-8b82-4383-9859-06aa2a3dac61",
   "metadata": {
    "tags": []
   },
   "outputs": [
    {
     "name": "stdout",
     "output_type": "stream",
     "text": [
      "Collecting prince\n",
      "  Obtaining dependency information for prince from https://files.pythonhosted.org/packages/ea/47/05a78e27a6c7f85b5e006169e4ddf27637867124ef841176f5e4f5ce7f88/prince-0.13.0-py3-none-any.whl.metadata\n",
      "  Downloading prince-0.13.0-py3-none-any.whl.metadata (638 bytes)\n",
      "Collecting altair<6.0.0,>=4.2.2 (from prince)\n",
      "  Obtaining dependency information for altair<6.0.0,>=4.2.2 from https://files.pythonhosted.org/packages/c5/e4/7fcceef127badbb0d644d730d992410e4f3799b295c9964a172f92a469c7/altair-5.2.0-py3-none-any.whl.metadata\n",
      "  Downloading altair-5.2.0-py3-none-any.whl.metadata (8.7 kB)\n",
      "Requirement already satisfied: pandas<3.0.0,>=1.4.1 in c:\\programdata\\anaconda3\\lib\\site-packages (from prince) (2.0.3)\n",
      "Requirement already satisfied: scikit-learn<2.0.0,>=1.0.2 in c:\\programdata\\anaconda3\\lib\\site-packages (from prince) (1.3.0)\n",
      "Requirement already satisfied: jinja2 in c:\\programdata\\anaconda3\\lib\\site-packages (from altair<6.0.0,>=4.2.2->prince) (3.1.2)\n",
      "Requirement already satisfied: jsonschema>=3.0 in c:\\programdata\\anaconda3\\lib\\site-packages (from altair<6.0.0,>=4.2.2->prince) (4.17.3)\n",
      "Requirement already satisfied: numpy in c:\\programdata\\anaconda3\\lib\\site-packages (from altair<6.0.0,>=4.2.2->prince) (1.24.3)\n",
      "Requirement already satisfied: packaging in c:\\programdata\\anaconda3\\lib\\site-packages (from altair<6.0.0,>=4.2.2->prince) (23.1)\n",
      "Requirement already satisfied: toolz in c:\\programdata\\anaconda3\\lib\\site-packages (from altair<6.0.0,>=4.2.2->prince) (0.12.0)\n",
      "Requirement already satisfied: python-dateutil>=2.8.2 in c:\\programdata\\anaconda3\\lib\\site-packages (from pandas<3.0.0,>=1.4.1->prince) (2.8.2)\n",
      "Requirement already satisfied: pytz>=2020.1 in c:\\programdata\\anaconda3\\lib\\site-packages (from pandas<3.0.0,>=1.4.1->prince) (2023.3.post1)\n",
      "Requirement already satisfied: tzdata>=2022.1 in c:\\programdata\\anaconda3\\lib\\site-packages (from pandas<3.0.0,>=1.4.1->prince) (2023.3)\n",
      "Requirement already satisfied: scipy>=1.5.0 in c:\\programdata\\anaconda3\\lib\\site-packages (from scikit-learn<2.0.0,>=1.0.2->prince) (1.11.1)\n",
      "Requirement already satisfied: joblib>=1.1.1 in c:\\programdata\\anaconda3\\lib\\site-packages (from scikit-learn<2.0.0,>=1.0.2->prince) (1.2.0)\n",
      "Requirement already satisfied: threadpoolctl>=2.0.0 in c:\\programdata\\anaconda3\\lib\\site-packages (from scikit-learn<2.0.0,>=1.0.2->prince) (2.2.0)\n",
      "Requirement already satisfied: attrs>=17.4.0 in c:\\programdata\\anaconda3\\lib\\site-packages (from jsonschema>=3.0->altair<6.0.0,>=4.2.2->prince) (22.1.0)\n",
      "Requirement already satisfied: pyrsistent!=0.17.0,!=0.17.1,!=0.17.2,>=0.14.0 in c:\\programdata\\anaconda3\\lib\\site-packages (from jsonschema>=3.0->altair<6.0.0,>=4.2.2->prince) (0.18.0)\n",
      "Requirement already satisfied: six>=1.5 in c:\\programdata\\anaconda3\\lib\\site-packages (from python-dateutil>=2.8.2->pandas<3.0.0,>=1.4.1->prince) (1.16.0)\n",
      "Requirement already satisfied: MarkupSafe>=2.0 in c:\\programdata\\anaconda3\\lib\\site-packages (from jinja2->altair<6.0.0,>=4.2.2->prince) (2.1.1)\n",
      "Downloading prince-0.13.0-py3-none-any.whl (415 kB)\n",
      "   ---------------------------------------- 0.0/415.6 kB ? eta -:--:--\n",
      "    --------------------------------------- 10.2/415.6 kB ? eta -:--:--\n",
      "   -- ------------------------------------ 30.7/415.6 kB 660.6 kB/s eta 0:00:01\n",
      "   ----------------------------- ---------- 307.2/415.6 kB 3.8 MB/s eta 0:00:01\n",
      "   ---------------------------------------- 415.6/415.6 kB 4.3 MB/s eta 0:00:00\n",
      "Downloading altair-5.2.0-py3-none-any.whl (996 kB)\n",
      "   ---------------------------------------- 0.0/996.9 kB ? eta -:--:--\n",
      "   ----------------------------------- --- 901.1/996.9 kB 28.7 MB/s eta 0:00:01\n",
      "   --------------------------------------- 996.9/996.9 kB 15.9 MB/s eta 0:00:00\n",
      "Installing collected packages: altair, prince\n",
      "Successfully installed altair-5.2.0 prince-0.13.0\n"
     ]
    }
   ],
   "source": [
    "# Instalar la biblioteca Prince\n",
    "!pip install prince"
   ]
  },
  {
   "cell_type": "code",
   "execution_count": 62,
   "id": "fc4536e3-9e07-4b7e-a1e6-7fca34bf75c7",
   "metadata": {
    "tags": []
   },
   "outputs": [],
   "source": [
    "import prince"
   ]
  },
  {
   "cell_type": "markdown",
   "id": "7dea90bf-8576-47d3-8152-e5e76e4e574b",
   "metadata": {},
   "source": [
    "Seleccionamos un conjunto de variables cualitativas"
   ]
  },
  {
   "cell_type": "code",
   "execution_count": 63,
   "id": "69f0771d-aba2-4b6c-8663-4ffff784858d",
   "metadata": {
    "tags": []
   },
   "outputs": [],
   "source": [
    "var_cat = ['est_socio', 'sexo_jefe', 'ubica_geo']"
   ]
  },
  {
   "cell_type": "code",
   "execution_count": 65,
   "id": "91457397-eb67-4b97-b5a5-0349db22c5da",
   "metadata": {
    "tags": []
   },
   "outputs": [
    {
     "data": {
      "text/html": [
       "\n",
       "<style>\n",
       "  #altair-viz-ba39bff60a814f8796eff8ba4936ee64.vega-embed {\n",
       "    width: 100%;\n",
       "    display: flex;\n",
       "  }\n",
       "\n",
       "  #altair-viz-ba39bff60a814f8796eff8ba4936ee64.vega-embed details,\n",
       "  #altair-viz-ba39bff60a814f8796eff8ba4936ee64.vega-embed details summary {\n",
       "    position: relative;\n",
       "  }\n",
       "</style>\n",
       "<div id=\"altair-viz-ba39bff60a814f8796eff8ba4936ee64\"></div>\n",
       "<script type=\"text/javascript\">\n",
       "  var VEGA_DEBUG = (typeof VEGA_DEBUG == \"undefined\") ? {} : VEGA_DEBUG;\n",
       "  (function(spec, embedOpt){\n",
       "    let outputDiv = document.currentScript.previousElementSibling;\n",
       "    if (outputDiv.id !== \"altair-viz-ba39bff60a814f8796eff8ba4936ee64\") {\n",
       "      outputDiv = document.getElementById(\"altair-viz-ba39bff60a814f8796eff8ba4936ee64\");\n",
       "    }\n",
       "    const paths = {\n",
       "      \"vega\": \"https://cdn.jsdelivr.net/npm/vega@5?noext\",\n",
       "      \"vega-lib\": \"https://cdn.jsdelivr.net/npm/vega-lib?noext\",\n",
       "      \"vega-lite\": \"https://cdn.jsdelivr.net/npm/vega-lite@5.16.3?noext\",\n",
       "      \"vega-embed\": \"https://cdn.jsdelivr.net/npm/vega-embed@6?noext\",\n",
       "    };\n",
       "\n",
       "    function maybeLoadScript(lib, version) {\n",
       "      var key = `${lib.replace(\"-\", \"\")}_version`;\n",
       "      return (VEGA_DEBUG[key] == version) ?\n",
       "        Promise.resolve(paths[lib]) :\n",
       "        new Promise(function(resolve, reject) {\n",
       "          var s = document.createElement('script');\n",
       "          document.getElementsByTagName(\"head\")[0].appendChild(s);\n",
       "          s.async = true;\n",
       "          s.onload = () => {\n",
       "            VEGA_DEBUG[key] = version;\n",
       "            return resolve(paths[lib]);\n",
       "          };\n",
       "          s.onerror = () => reject(`Error loading script: ${paths[lib]}`);\n",
       "          s.src = paths[lib];\n",
       "        });\n",
       "    }\n",
       "\n",
       "    function showError(err) {\n",
       "      outputDiv.innerHTML = `<div class=\"error\" style=\"color:red;\">${err}</div>`;\n",
       "      throw err;\n",
       "    }\n",
       "\n",
       "    function displayChart(vegaEmbed) {\n",
       "      vegaEmbed(outputDiv, spec, embedOpt)\n",
       "        .catch(err => showError(`Javascript Error: ${err.message}<br>This usually means there's a typo in your chart specification. See the javascript console for the full traceback.`));\n",
       "    }\n",
       "\n",
       "    if(typeof define === \"function\" && define.amd) {\n",
       "      requirejs.config({paths});\n",
       "      require([\"vega-embed\"], displayChart, err => showError(`Error loading script: ${err.message}`));\n",
       "    } else {\n",
       "      maybeLoadScript(\"vega\", \"5\")\n",
       "        .then(() => maybeLoadScript(\"vega-lite\", \"5.16.3\"))\n",
       "        .then(() => maybeLoadScript(\"vega-embed\", \"6\"))\n",
       "        .catch(showError)\n",
       "        .then(() => displayChart(vegaEmbed));\n",
       "    }\n",
       "  })({\"config\": {\"view\": {\"continuousWidth\": 300, \"continuousHeight\": 300}}, \"layer\": [{\"mark\": {\"type\": \"circle\", \"size\": 50}, \"encoding\": {\"color\": {\"field\": \"variable\", \"type\": \"nominal\"}, \"tooltip\": [{\"field\": \"variable\", \"type\": \"nominal\"}, {\"field\": \"value\", \"type\": \"nominal\"}, {\"field\": \"component 0\", \"type\": \"quantitative\"}, {\"field\": \"component 1\", \"type\": \"quantitative\"}], \"x\": {\"axis\": {\"title\": \"component 0 \\u2014 11.53%\"}, \"field\": \"component 0\", \"scale\": {\"zero\": false}, \"type\": \"quantitative\"}, \"y\": {\"axis\": {\"title\": \"component 1 \\u2014 9.73%\"}, \"field\": \"component 1\", \"scale\": {\"zero\": false}, \"type\": \"quantitative\"}}, \"name\": \"view_2\"}, {\"mark\": {\"type\": \"text\"}, \"encoding\": {\"text\": {\"field\": \"label\", \"type\": \"nominal\"}, \"x\": {\"axis\": {\"title\": \"component 0 \\u2014 11.53%\"}, \"field\": \"component 0\", \"scale\": {\"zero\": false}, \"type\": \"quantitative\"}, \"y\": {\"axis\": {\"title\": \"component 1 \\u2014 9.73%\"}, \"field\": \"component 1\", \"scale\": {\"zero\": false}, \"type\": \"quantitative\"}}}], \"data\": {\"name\": \"data-b11c96c453779ac14b2a9f0ed47c81d9\"}, \"params\": [{\"name\": \"param_2\", \"select\": {\"type\": \"interval\", \"encodings\": [\"x\", \"y\"]}, \"bind\": \"scales\", \"views\": [\"view_2\"]}], \"$schema\": \"https://vega.github.io/schema/vega-lite/v5.16.3.json\", \"datasets\": {\"data-b11c96c453779ac14b2a9f0ed47c81d9\": [{\"component 0\": -1.0176761830634646, \"component 1\": 0.3573312272454294, \"variable\": \"column\", \"value\": \"est_socio_alto\", \"label\": \"est_socio_alto\"}, {\"component 0\": 1.5044597368819854, \"component 1\": 2.059337605756099, \"variable\": \"column\", \"value\": \"est_socio_bajo\", \"label\": \"est_socio_bajo\"}, {\"component 0\": -0.8779164188398537, \"component 1\": 0.22514380608366094, \"variable\": \"column\", \"value\": \"est_socio_medio_alto\", \"label\": \"est_socio_medio_alto\"}, {\"component 0\": 0.6054302624242403, \"component 1\": -0.7173759625228011, \"variable\": \"column\", \"value\": \"est_socio_medio_bajo\", \"label\": \"est_socio_medio_bajo\"}, {\"component 0\": 0.13152326245786786, \"component 1\": 0.03761626501110188, \"variable\": \"column\", \"value\": \"sexo_jefe_hombre\", \"label\": \"sexo_jefe_hombre\"}, {\"component 0\": -0.4241148680706596, \"component 1\": -0.12129882557927671, \"variable\": \"column\", \"value\": \"sexo_jefe_mujer\", \"label\": \"sexo_jefe_mujer\"}, {\"component 0\": -0.579757722692408, \"component 1\": -0.17039082035642175, \"variable\": \"column\", \"value\": \"ubica_geo_Apodaca\", \"label\": \"ubica_geo_Apodaca\"}, {\"component 0\": 1.232241106382967, \"component 1\": -0.8356982929234784, \"variable\": \"column\", \"value\": \"ubica_geo_Cadereyta\", \"label\": \"ubica_geo_Cadereyta\"}, {\"component 0\": 0.6784189577103888, \"component 1\": 0.8813502300187667, \"variable\": \"column\", \"value\": \"ubica_geo_Escobedo\", \"label\": \"ubica_geo_Escobedo\"}, {\"component 0\": 1.716633940079337, \"component 1\": 2.0967246613905117, \"variable\": \"column\", \"value\": \"ubica_geo_Garcia\", \"label\": \"ubica_geo_Garcia\"}, {\"component 0\": -0.6536493445732646, \"component 1\": 0.5213327546937263, \"variable\": \"column\", \"value\": \"ubica_geo_Guadalupe\", \"label\": \"ubica_geo_Guadalupe\"}, {\"component 0\": 0.8291411219192464, \"component 1\": -0.3145149594503285, \"variable\": \"column\", \"value\": \"ubica_geo_Juarez\", \"label\": \"ubica_geo_Juarez\"}, {\"component 0\": -0.5464195383972104, \"component 1\": -0.3646201228675453, \"variable\": \"column\", \"value\": \"ubica_geo_Monterrey\", \"label\": \"ubica_geo_Monterrey\"}, {\"component 0\": 1.0233440310173938, \"component 1\": -1.9588582654225095, \"variable\": \"column\", \"value\": \"ubica_geo_Pesqueria\", \"label\": \"ubica_geo_Pesqueria\"}, {\"component 0\": -1.071979927446886, \"component 1\": 0.20345325932288624, \"variable\": \"column\", \"value\": \"ubica_geo_San_Nicolas\", \"label\": \"ubica_geo_San_Nicolas\"}, {\"component 0\": -1.1811848003155594, \"component 1\": 0.34711461911449515, \"variable\": \"column\", \"value\": \"ubica_geo_San_Pedro\", \"label\": \"ubica_geo_San_Pedro\"}, {\"component 0\": -0.49399853655471937, \"component 1\": -0.3926880873278872, \"variable\": \"column\", \"value\": \"ubica_geo_Santa_Catarina\", \"label\": \"ubica_geo_Santa_Catarina\"}]}}, {\"mode\": \"vega-lite\"});\n",
       "</script>"
      ],
      "text/plain": [
       "alt.LayerChart(...)"
      ]
     },
     "execution_count": 65,
     "metadata": {},
     "output_type": "execute_result"
    }
   ],
   "source": [
    "# Creación de instancia del modelo\n",
    "mca = prince.MCA(n_components = 2)\n",
    "# Ajuste del modelo a los datos\n",
    "mca = mca.fit(df[var_cat])\n",
    "# Crea gráfico\n",
    "ax = mca.plot(df[var_cat], show_column_labels=True, show_row_markers=False)\n",
    "ax"
   ]
  },
  {
   "cell_type": "markdown",
   "id": "5210cf9b-2180-416c-ab3a-14986da27a66",
   "metadata": {},
   "source": [
    "Cada punto corresponde a una observación o una categoría. La interpretación de las dimensiones depende del contexto. En general, la distancia entre los puntos de cada categoría indican la relación entre ellas. Entre más corta sea la distancia, mayor será la asociación de las categorías. Observaciones y categorías en el mismo cuadrante tienden a tener relaciones más fuertes, mientras que observaciones y categorías en cuatrantes opuestos pueden representar relaciones negativas. Una categoría cerca del centro generalmente indica que esa categoría no está fuertemente asociada con ninguna de las dimensiones, por ejemplo, por ser independiente, tener baja variabilidad o baja frecuencia.\n"
   ]
  },
  {
   "cell_type": "markdown",
   "id": "e9882e44-4b44-4acc-ad06-547d5f2a520c",
   "metadata": {},
   "source": [
    "## 5.4 Análisis de correlación"
   ]
  },
  {
   "cell_type": "markdown",
   "id": "57fe4e67-66ea-4efc-b1e5-be725048b4a9",
   "metadata": {},
   "source": [
    "Para calcular un coeficiente de correlación de Pearson entre dos columnas se puede utilizar el método *corr()* de Pandas. Por ejemplo:\n",
    "`correlacion = df['X'].corr(df['Y'])`  \n",
    "Para calcular el coeficiente de correlación de Spearman (*¿cuándo se recomienda utilizarlo?*) se puede agregar como argumento:  \n",
    "`correlacion = df['X'].corr(df['Y'], method='spearman')`  "
   ]
  },
  {
   "cell_type": "code",
   "execution_count": 67,
   "id": "6c7105e6-9fb5-46b1-afc2-6b0525a4a6c5",
   "metadata": {
    "tags": []
   },
   "outputs": [
    {
     "data": {
      "text/plain": [
       "0.6183850511096656"
      ]
     },
     "execution_count": 67,
     "metadata": {},
     "output_type": "execute_result"
    }
   ],
   "source": [
    "# Calcula la correlación entre \"ing_cor\" y \"gasto_mon\"\n",
    "correlacion = df['ing_cor'].corr(df['gasto_mon'])\n",
    "correlacion"
   ]
  },
  {
   "cell_type": "markdown",
   "id": "4e658173-5359-46de-8b22-703d5e6da44f",
   "metadata": {},
   "source": [
    "Otra opción para calcular el coeficiente de correlación es mediante la biblioteca *scipy.stats* con la ventaja de que se puede obtener el valor p. Para ello se puede usar:  \n",
    "`corr_coef, p_valor = pearsonr(df['X'], df['Y'])`"
   ]
  },
  {
   "cell_type": "code",
   "execution_count": 68,
   "id": "8665396d-f17c-4aac-bdb1-7bc769bc8cad",
   "metadata": {
    "tags": []
   },
   "outputs": [],
   "source": [
    "from scipy.stats import pearsonr"
   ]
  },
  {
   "cell_type": "code",
   "execution_count": 71,
   "id": "ad5d3785-8f98-44ca-8d5b-93950828d131",
   "metadata": {
    "tags": []
   },
   "outputs": [
    {
     "name": "stdout",
     "output_type": "stream",
     "text": [
      "Correlacion \t 0.6183850511096658\n",
      "P-valor \t 3.9864606022504336e-246\n"
     ]
    }
   ],
   "source": [
    "corr_coef, p_valor = pearsonr(df['ing_cor'], df['gasto_mon'])\n",
    "print('Correlacion \\t', corr_coef)\n",
    "print('P-valor \\t', p_valor)"
   ]
  },
  {
   "cell_type": "code",
   "execution_count": 74,
   "id": "ac4a2d34-e764-469c-bf1d-e80c5b4d5cde",
   "metadata": {
    "tags": []
   },
   "outputs": [],
   "source": [
    "var_cont = [\"ing_cor\", \"gasto_mon\", \"edad_jefe\", \"tot_integ\"]"
   ]
  },
  {
   "cell_type": "markdown",
   "id": "c484e996-9621-4531-ac48-1661c9041343",
   "metadata": {},
   "source": [
    "Para obtener una matriz de correlaciones a partir de una lista de columnas:  \n",
    "`matriz_corr = df[columnas].corr()`"
   ]
  },
  {
   "cell_type": "code",
   "execution_count": 75,
   "id": "22a06c4c-6b09-423c-aaa3-00578fc1e8be",
   "metadata": {
    "tags": []
   },
   "outputs": [
    {
     "data": {
      "text/html": [
       "<div>\n",
       "<style scoped>\n",
       "    .dataframe tbody tr th:only-of-type {\n",
       "        vertical-align: middle;\n",
       "    }\n",
       "\n",
       "    .dataframe tbody tr th {\n",
       "        vertical-align: top;\n",
       "    }\n",
       "\n",
       "    .dataframe thead th {\n",
       "        text-align: right;\n",
       "    }\n",
       "</style>\n",
       "<table border=\"1\" class=\"dataframe\">\n",
       "  <thead>\n",
       "    <tr style=\"text-align: right;\">\n",
       "      <th></th>\n",
       "      <th>ing_cor</th>\n",
       "      <th>gasto_mon</th>\n",
       "      <th>edad_jefe</th>\n",
       "      <th>tot_integ</th>\n",
       "    </tr>\n",
       "  </thead>\n",
       "  <tbody>\n",
       "    <tr>\n",
       "      <th>ing_cor</th>\n",
       "      <td>1.000000</td>\n",
       "      <td>0.618385</td>\n",
       "      <td>0.031953</td>\n",
       "      <td>0.135281</td>\n",
       "    </tr>\n",
       "    <tr>\n",
       "      <th>gasto_mon</th>\n",
       "      <td>0.618385</td>\n",
       "      <td>1.000000</td>\n",
       "      <td>-0.054339</td>\n",
       "      <td>0.168204</td>\n",
       "    </tr>\n",
       "    <tr>\n",
       "      <th>edad_jefe</th>\n",
       "      <td>0.031953</td>\n",
       "      <td>-0.054339</td>\n",
       "      <td>1.000000</td>\n",
       "      <td>-0.158874</td>\n",
       "    </tr>\n",
       "    <tr>\n",
       "      <th>tot_integ</th>\n",
       "      <td>0.135281</td>\n",
       "      <td>0.168204</td>\n",
       "      <td>-0.158874</td>\n",
       "      <td>1.000000</td>\n",
       "    </tr>\n",
       "  </tbody>\n",
       "</table>\n",
       "</div>"
      ],
      "text/plain": [
       "            ing_cor  gasto_mon  edad_jefe  tot_integ\n",
       "ing_cor    1.000000   0.618385   0.031953   0.135281\n",
       "gasto_mon  0.618385   1.000000  -0.054339   0.168204\n",
       "edad_jefe  0.031953  -0.054339   1.000000  -0.158874\n",
       "tot_integ  0.135281   0.168204  -0.158874   1.000000"
      ]
     },
     "execution_count": 75,
     "metadata": {},
     "output_type": "execute_result"
    }
   ],
   "source": [
    "# Obtén la matriz de correlaciones\n",
    "matriz_corr = df[var_cont].corr()\n",
    "matriz_corr"
   ]
  },
  {
   "cell_type": "code",
   "execution_count": 76,
   "id": "00c3f7cb-33b2-4e98-9f2f-a502987a360c",
   "metadata": {
    "tags": []
   },
   "outputs": [
    {
     "data": {
      "image/png": "[encoded data removed]",
      "text/plain": [
       "<Figure size 640x480 with 2 Axes>"
      ]
     },
     "metadata": {},
     "output_type": "display_data"
    }
   ],
   "source": [
    "ax = sns.heatmap(matriz_corr, annot=True, cmap='Greens')\n",
    "ax.set_title('Mapa de calor de las correlaciones');"
   ]
  },
  {
   "cell_type": "code",
   "execution_count": null,
   "id": "21ab66d7-483a-415e-ace0-d3921773df6f",
   "metadata": {},
   "outputs": [],
   "source": []
  },
  {
   "cell_type": "markdown",
   "id": "d4dc69d8-bb22-44cb-846b-39db454662d3",
   "metadata": {
    "tags": []
   },
   "source": [
    "## 5.5 Escalamiento multidimensional"
   ]
  },
  {
   "cell_type": "code",
   "execution_count": 77,
   "id": "9bb80d2e-df9a-4da6-b344-b990a4a8b604",
   "metadata": {
    "tags": []
   },
   "outputs": [],
   "source": [
    "from sklearn.manifold import MDS"
   ]
  },
  {
   "cell_type": "code",
   "execution_count": 78,
   "id": "80147f0d-355a-46ef-9a54-a9bd3bb8fe62",
   "metadata": {
    "tags": []
   },
   "outputs": [
    {
     "data": {
      "image/png": "[encoded data removed]",
      "text/plain": [
       "<Figure size 640x480 with 1 Axes>"
      ]
     },
     "metadata": {},
     "output_type": "display_data"
    }
   ],
   "source": [
    "# Calcular distancias\n",
    "distancias = 1-np.abs(matriz_corr)\n",
    "# Aplicar modelo\n",
    "mds = MDS(n_components=2, dissimilarity='precomputed', normalized_stress='auto')\n",
    "mds_resultados = mds.fit_transform(distancias)\n",
    "# Convertir resultados a dataframe\n",
    "mds_df = pd.DataFrame(mds_resultados, columns=['Dimension 1', 'Dimension 2'])\n",
    "mds_df['Etiqueta']=var_cont\n",
    "#Visualización\n",
    "sns.scatterplot(data=mds_df, hue='Etiqueta', x='Dimension 1', y='Dimension 2')\n",
    "# Agregar etiquetas a cada punto\n",
    "for i in range(len(mds_df)):\n",
    "    plt.text(mds_df['Dimension 1'][i], mds_df['Dimension 2'][i], mds_df['Etiqueta'][i])\n",
    "plt.show()"
   ]
  },
  {
   "cell_type": "code",
   "execution_count": null,
   "id": "67bc6612-8a43-4aa6-a4ba-9a952fa7a5be",
   "metadata": {},
   "outputs": [],
   "source": []
  }
 ],
 "metadata": {
  "kernelspec": {
   "display_name": "Python 3 (ipykernel)",
   "language": "python",
   "name": "python3"
  },
  "language_info": {
   "codemirror_mode": {
    "name": "ipython",
    "version": 3
   },
   "file_extension": ".py",
   "mimetype": "text/x-python",
   "name": "python",
   "nbconvert_exporter": "python",
   "pygments_lexer": "ipython3",
   "version": "3.11.7"
  }
 },
 "nbformat": 4,
 "nbformat_minor": 5
}
