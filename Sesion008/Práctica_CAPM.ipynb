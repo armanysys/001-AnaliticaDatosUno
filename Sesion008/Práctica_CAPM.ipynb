{
 "cells": [
  {
   "cell_type": "markdown",
   "id": "efab8d53-9b97-49a6-837d-ae2c7a323367",
   "metadata": {},
   "source": [
    "## Implementación del CAPM"
   ]
  },
  {
   "cell_type": "markdown",
   "id": "94f6de50-69f6-479d-b205-d49ebd3678b3",
   "metadata": {},
   "source": [
    "En esta práctica utilizaremos un modelo de regresión para implementar una versión simplificada del CAPM (Capital Asset Pricing Model) y estimar la *beta financiera* de una acción. Este modelo implica que los rendimientos esperados de un acción está determinado por los rendimientos del mercado menos la tasa libre de riesgo."
   ]
  },
  {
   "cell_type": "code",
   "execution_count": 1,
   "id": "b2deea43-3d6f-443e-a74c-1493ae21994f",
   "metadata": {
    "tags": []
   },
   "outputs": [],
   "source": [
    "import pandas as pd\n",
    "import yfinance as yf\n",
    "import numpy as np\n",
    "import statsmodels.api as sm"
   ]
  },
  {
   "cell_type": "markdown",
   "id": "bd1fff22-ff7e-4d56-926c-9479c32f9c79",
   "metadata": {},
   "source": [
    "Especificamos el periodo que nos interesa, el código de la emisora de la acción (*ticker*) y el índice del mercado"
   ]
  },
  {
   "cell_type": "code",
   "execution_count": 13,
   "id": "741c165e-4e95-496c-83d2-9eaa72f24440",
   "metadata": {
    "tags": []
   },
   "outputs": [],
   "source": [
    "# Definir periodo de interés\n",
    "inicio = '2023-01-01'\n",
    "fin = '2024-01-01'\n",
    "\n",
    "# Define accion\n",
    "ticker = 'ACN'\n",
    "\n",
    "# Define mercado\n",
    "market = '^DJI'"
   ]
  },
  {
   "cell_type": "markdown",
   "id": "f0c2646a-0776-4d4e-b741-1a426f78cbae",
   "metadata": {},
   "source": [
    "Descargamos la información de *yahoo finance*"
   ]
  },
  {
   "cell_type": "code",
   "execution_count": 14,
   "id": "1e11b0c5-6410-4c5b-9d12-e7f6f9cdcf83",
   "metadata": {
    "tags": []
   },
   "outputs": [],
   "source": [
    "# Descargamos las series de la acción\n",
    "data = yf.download([ticker, market], start=inicio, end=fin, progress=False)"
   ]
  },
  {
   "cell_type": "code",
   "execution_count": 15,
   "id": "4a40f2c5-0679-41cc-a34e-ea269dfb5707",
   "metadata": {
    "tags": []
   },
   "outputs": [
    {
     "data": {
      "text/html": [
       "<div>\n",
       "<style scoped>\n",
       "    .dataframe tbody tr th:only-of-type {\n",
       "        vertical-align: middle;\n",
       "    }\n",
       "\n",
       "    .dataframe tbody tr th {\n",
       "        vertical-align: top;\n",
       "    }\n",
       "\n",
       "    .dataframe thead th {\n",
       "        text-align: right;\n",
       "    }\n",
       "</style>\n",
       "<table border=\"1\" class=\"dataframe\">\n",
       "  <thead>\n",
       "    <tr style=\"text-align: right;\">\n",
       "      <th>Ticker</th>\n",
       "      <th>accion</th>\n",
       "      <th>mercado</th>\n",
       "    </tr>\n",
       "    <tr>\n",
       "      <th>Date</th>\n",
       "      <th></th>\n",
       "      <th></th>\n",
       "    </tr>\n",
       "  </thead>\n",
       "  <tbody>\n",
       "    <tr>\n",
       "      <th>2023-01-03</th>\n",
       "      <td>265.065430</td>\n",
       "      <td>33136.371094</td>\n",
       "    </tr>\n",
       "    <tr>\n",
       "      <th>2023-01-04</th>\n",
       "      <td>264.163086</td>\n",
       "      <td>33269.769531</td>\n",
       "    </tr>\n",
       "    <tr>\n",
       "      <th>2023-01-05</th>\n",
       "      <td>257.925354</td>\n",
       "      <td>32930.078125</td>\n",
       "    </tr>\n",
       "    <tr>\n",
       "      <th>2023-01-06</th>\n",
       "      <td>264.035553</td>\n",
       "      <td>33630.609375</td>\n",
       "    </tr>\n",
       "    <tr>\n",
       "      <th>2023-01-09</th>\n",
       "      <td>268.488312</td>\n",
       "      <td>33517.648438</td>\n",
       "    </tr>\n",
       "  </tbody>\n",
       "</table>\n",
       "</div>"
      ],
      "text/plain": [
       "Ticker          accion       mercado\n",
       "Date                                \n",
       "2023-01-03  265.065430  33136.371094\n",
       "2023-01-04  264.163086  33269.769531\n",
       "2023-01-05  257.925354  32930.078125\n",
       "2023-01-06  264.035553  33630.609375\n",
       "2023-01-09  268.488312  33517.648438"
      ]
     },
     "execution_count": 15,
     "metadata": {},
     "output_type": "execute_result"
    }
   ],
   "source": [
    "df = data['Adj Close'].rename(columns={ticker:'accion', market:'mercado'})\n",
    "df.head(5)"
   ]
  },
  {
   "cell_type": "markdown",
   "id": "25247a8c-3f08-44e8-b68f-0db4c738e227",
   "metadata": {},
   "source": [
    "Tomamos los datos mensuales, conservamos solo el último dato de cada mes, calculamos el rendimiento (como porcentaje de cambio) y borrados filas con datos perdidos (la primera fila tendrá datos perdidos)"
   ]
  },
  {
   "cell_type": "code",
   "execution_count": 16,
   "id": "344c61a4-218d-4320-89c0-4466fdb73a0e",
   "metadata": {
    "tags": []
   },
   "outputs": [],
   "source": [
    "df = df.resample('M').last().pct_change().dropna()"
   ]
  },
  {
   "cell_type": "markdown",
   "id": "edc5068d-2926-461e-8510-07d9920d9d2f",
   "metadata": {},
   "source": [
    "Calcula un modelo de regresión con el rendimiento de la acción como variable dependiente y el rendimiento del mercado como variable independiente. Identifica e interpreta la beta financiera."
   ]
  },
  {
   "cell_type": "code",
   "execution_count": 17,
   "id": "79dbfb7b-7b40-4bfd-9d43-ad74be4eb809",
   "metadata": {
    "tags": []
   },
   "outputs": [
    {
     "data": {
      "text/html": [
       "<div>\n",
       "<style scoped>\n",
       "    .dataframe tbody tr th:only-of-type {\n",
       "        vertical-align: middle;\n",
       "    }\n",
       "\n",
       "    .dataframe tbody tr th {\n",
       "        vertical-align: top;\n",
       "    }\n",
       "\n",
       "    .dataframe thead th {\n",
       "        text-align: right;\n",
       "    }\n",
       "</style>\n",
       "<table border=\"1\" class=\"dataframe\">\n",
       "  <thead>\n",
       "    <tr style=\"text-align: right;\">\n",
       "      <th>Ticker</th>\n",
       "      <th>accion</th>\n",
       "      <th>mercado</th>\n",
       "    </tr>\n",
       "    <tr>\n",
       "      <th>Date</th>\n",
       "      <th></th>\n",
       "      <th></th>\n",
       "    </tr>\n",
       "  </thead>\n",
       "  <tbody>\n",
       "    <tr>\n",
       "      <th>2023-02-28</th>\n",
       "      <td>-0.048379</td>\n",
       "      <td>-0.041933</td>\n",
       "    </tr>\n",
       "    <tr>\n",
       "      <th>2023-03-31</th>\n",
       "      <td>0.076295</td>\n",
       "      <td>0.018907</td>\n",
       "    </tr>\n",
       "    <tr>\n",
       "      <th>2023-04-30</th>\n",
       "      <td>-0.015463</td>\n",
       "      <td>0.024764</td>\n",
       "    </tr>\n",
       "    <tr>\n",
       "      <th>2023-05-31</th>\n",
       "      <td>0.091441</td>\n",
       "      <td>-0.034896</td>\n",
       "    </tr>\n",
       "    <tr>\n",
       "      <th>2023-06-30</th>\n",
       "      <td>0.008695</td>\n",
       "      <td>0.045561</td>\n",
       "    </tr>\n",
       "    <tr>\n",
       "      <th>2023-07-31</th>\n",
       "      <td>0.028901</td>\n",
       "      <td>0.033479</td>\n",
       "    </tr>\n",
       "    <tr>\n",
       "      <th>2023-08-31</th>\n",
       "      <td>0.023455</td>\n",
       "      <td>-0.023555</td>\n",
       "    </tr>\n",
       "    <tr>\n",
       "      <th>2023-09-30</th>\n",
       "      <td>-0.051456</td>\n",
       "      <td>-0.034975</td>\n",
       "    </tr>\n",
       "    <tr>\n",
       "      <th>2023-10-31</th>\n",
       "      <td>-0.028615</td>\n",
       "      <td>-0.013568</td>\n",
       "    </tr>\n",
       "    <tr>\n",
       "      <th>2023-11-30</th>\n",
       "      <td>0.121344</td>\n",
       "      <td>0.087678</td>\n",
       "    </tr>\n",
       "    <tr>\n",
       "      <th>2023-12-31</th>\n",
       "      <td>0.053341</td>\n",
       "      <td>0.048362</td>\n",
       "    </tr>\n",
       "  </tbody>\n",
       "</table>\n",
       "</div>"
      ],
      "text/plain": [
       "Ticker        accion   mercado\n",
       "Date                          \n",
       "2023-02-28 -0.048379 -0.041933\n",
       "2023-03-31  0.076295  0.018907\n",
       "2023-04-30 -0.015463  0.024764\n",
       "2023-05-31  0.091441 -0.034896\n",
       "2023-06-30  0.008695  0.045561\n",
       "2023-07-31  0.028901  0.033479\n",
       "2023-08-31  0.023455 -0.023555\n",
       "2023-09-30 -0.051456 -0.034975\n",
       "2023-10-31 -0.028615 -0.013568\n",
       "2023-11-30  0.121344  0.087678\n",
       "2023-12-31  0.053341  0.048362"
      ]
     },
     "execution_count": 17,
     "metadata": {},
     "output_type": "execute_result"
    }
   ],
   "source": [
    "df"
   ]
  },
  {
   "cell_type": "markdown",
   "id": "b577966a-e9b9-403c-966d-f9f970c685e7",
   "metadata": {},
   "source": [
    "- Dependiente Accio\n",
    "- Independiente es Mercaod"
   ]
  },
  {
   "cell_type": "code",
   "execution_count": 18,
   "id": "b3c5e23f-2500-457e-b683-618ec46e7fce",
   "metadata": {
    "tags": []
   },
   "outputs": [],
   "source": [
    "# Importar la librería\n",
    "import statsmodels.api as sm"
   ]
  },
  {
   "cell_type": "code",
   "execution_count": 19,
   "id": "bf0fc27b-6af1-4440-b8b9-7fa9f3b678ab",
   "metadata": {
    "tags": []
   },
   "outputs": [],
   "source": [
    "# Creamos un DataFrame con las v. indep. y la v. dependiente\n",
    "X = df[['mercado']]\n",
    "X = sm.add_constant(X)\n",
    "y = df['accion']"
   ]
  },
  {
   "cell_type": "code",
   "execution_count": 20,
   "id": "fe01a229-47d8-4d36-8554-b50715f94b33",
   "metadata": {
    "tags": []
   },
   "outputs": [],
   "source": [
    "regresion = sm.OLS(y, X).fit()"
   ]
  },
  {
   "cell_type": "code",
   "execution_count": 21,
   "id": "8fecb7ac-cb27-498e-885d-5c2392b1c052",
   "metadata": {
    "tags": []
   },
   "outputs": [
    {
     "name": "stderr",
     "output_type": "stream",
     "text": [
      "C:\\ProgramData\\anaconda3\\Lib\\site-packages\\scipy\\stats\\_stats_py.py:1806: UserWarning: kurtosistest only valid for n>=20 ... continuing anyway, n=11\n",
      "  warnings.warn(\"kurtosistest only valid for n>=20 ... continuing \"\n"
     ]
    },
    {
     "data": {
      "text/html": [
       "<table class=\"simpletable\">\n",
       "<caption>OLS Regression Results</caption>\n",
       "<tr>\n",
       "  <th>Dep. Variable:</th>         <td>accion</td>      <th>  R-squared:         </th> <td>   0.306</td>\n",
       "</tr>\n",
       "<tr>\n",
       "  <th>Model:</th>                   <td>OLS</td>       <th>  Adj. R-squared:    </th> <td>   0.229</td>\n",
       "</tr>\n",
       "<tr>\n",
       "  <th>Method:</th>             <td>Least Squares</td>  <th>  F-statistic:       </th> <td>   3.969</td>\n",
       "</tr>\n",
       "<tr>\n",
       "  <th>Date:</th>             <td>Fri, 01 Mar 2024</td> <th>  Prob (F-statistic):</th>  <td>0.0775</td> \n",
       "</tr>\n",
       "<tr>\n",
       "  <th>Time:</th>                 <td>02:40:05</td>     <th>  Log-Likelihood:    </th> <td>  18.329</td>\n",
       "</tr>\n",
       "<tr>\n",
       "  <th>No. Observations:</th>      <td>    11</td>      <th>  AIC:               </th> <td>  -32.66</td>\n",
       "</tr>\n",
       "<tr>\n",
       "  <th>Df Residuals:</th>          <td>     9</td>      <th>  BIC:               </th> <td>  -31.86</td>\n",
       "</tr>\n",
       "<tr>\n",
       "  <th>Df Model:</th>              <td>     1</td>      <th>                     </th>     <td> </td>   \n",
       "</tr>\n",
       "<tr>\n",
       "  <th>Covariance Type:</th>      <td>nonrobust</td>    <th>                     </th>     <td> </td>   \n",
       "</tr>\n",
       "</table>\n",
       "<table class=\"simpletable\">\n",
       "<tr>\n",
       "     <td></td>        <th>coef</th>     <th>std err</th>      <th>t</th>      <th>P>|t|</th>  <th>[0.025</th>    <th>0.975]</th>  \n",
       "</tr>\n",
       "<tr>\n",
       "  <th>const</th>   <td>    0.0161</td> <td>    0.016</td> <td>    1.026</td> <td> 0.332</td> <td>   -0.019</td> <td>    0.052</td>\n",
       "</tr>\n",
       "<tr>\n",
       "  <th>mercado</th> <td>    0.7498</td> <td>    0.376</td> <td>    1.992</td> <td> 0.078</td> <td>   -0.102</td> <td>    1.601</td>\n",
       "</tr>\n",
       "</table>\n",
       "<table class=\"simpletable\">\n",
       "<tr>\n",
       "  <th>Omnibus:</th>       <td> 2.383</td> <th>  Durbin-Watson:     </th> <td>   3.158</td>\n",
       "</tr>\n",
       "<tr>\n",
       "  <th>Prob(Omnibus):</th> <td> 0.304</td> <th>  Jarque-Bera (JB):  </th> <td>   1.313</td>\n",
       "</tr>\n",
       "<tr>\n",
       "  <th>Skew:</th>          <td> 0.830</td> <th>  Prob(JB):          </th> <td>   0.519</td>\n",
       "</tr>\n",
       "<tr>\n",
       "  <th>Kurtosis:</th>      <td> 2.669</td> <th>  Cond. No.          </th> <td>    24.7</td>\n",
       "</tr>\n",
       "</table><br/><br/>Notes:<br/>[1] Standard Errors assume that the covariance matrix of the errors is correctly specified."
      ],
      "text/latex": [
       "\\begin{center}\n",
       "\\begin{tabular}{lclc}\n",
       "\\toprule\n",
       "\\textbf{Dep. Variable:}    &      accion      & \\textbf{  R-squared:         } &     0.306   \\\\\n",
       "\\textbf{Model:}            &       OLS        & \\textbf{  Adj. R-squared:    } &     0.229   \\\\\n",
       "\\textbf{Method:}           &  Least Squares   & \\textbf{  F-statistic:       } &     3.969   \\\\\n",
       "\\textbf{Date:}             & Fri, 01 Mar 2024 & \\textbf{  Prob (F-statistic):} &   0.0775    \\\\\n",
       "\\textbf{Time:}             &     02:40:05     & \\textbf{  Log-Likelihood:    } &    18.329   \\\\\n",
       "\\textbf{No. Observations:} &          11      & \\textbf{  AIC:               } &    -32.66   \\\\\n",
       "\\textbf{Df Residuals:}     &           9      & \\textbf{  BIC:               } &    -31.86   \\\\\n",
       "\\textbf{Df Model:}         &           1      & \\textbf{                     } &             \\\\\n",
       "\\textbf{Covariance Type:}  &    nonrobust     & \\textbf{                     } &             \\\\\n",
       "\\bottomrule\n",
       "\\end{tabular}\n",
       "\\begin{tabular}{lcccccc}\n",
       "                 & \\textbf{coef} & \\textbf{std err} & \\textbf{t} & \\textbf{P$> |$t$|$} & \\textbf{[0.025} & \\textbf{0.975]}  \\\\\n",
       "\\midrule\n",
       "\\textbf{const}   &       0.0161  &        0.016     &     1.026  &         0.332        &       -0.019    &        0.052     \\\\\n",
       "\\textbf{mercado} &       0.7498  &        0.376     &     1.992  &         0.078        &       -0.102    &        1.601     \\\\\n",
       "\\bottomrule\n",
       "\\end{tabular}\n",
       "\\begin{tabular}{lclc}\n",
       "\\textbf{Omnibus:}       &  2.383 & \\textbf{  Durbin-Watson:     } &    3.158  \\\\\n",
       "\\textbf{Prob(Omnibus):} &  0.304 & \\textbf{  Jarque-Bera (JB):  } &    1.313  \\\\\n",
       "\\textbf{Skew:}          &  0.830 & \\textbf{  Prob(JB):          } &    0.519  \\\\\n",
       "\\textbf{Kurtosis:}      &  2.669 & \\textbf{  Cond. No.          } &     24.7  \\\\\n",
       "\\bottomrule\n",
       "\\end{tabular}\n",
       "%\\caption{OLS Regression Results}\n",
       "\\end{center}\n",
       "\n",
       "Notes: \\newline\n",
       " [1] Standard Errors assume that the covariance matrix of the errors is correctly specified."
      ],
      "text/plain": [
       "<class 'statsmodels.iolib.summary.Summary'>\n",
       "\"\"\"\n",
       "                            OLS Regression Results                            \n",
       "==============================================================================\n",
       "Dep. Variable:                 accion   R-squared:                       0.306\n",
       "Model:                            OLS   Adj. R-squared:                  0.229\n",
       "Method:                 Least Squares   F-statistic:                     3.969\n",
       "Date:                Fri, 01 Mar 2024   Prob (F-statistic):             0.0775\n",
       "Time:                        02:40:05   Log-Likelihood:                 18.329\n",
       "No. Observations:                  11   AIC:                            -32.66\n",
       "Df Residuals:                       9   BIC:                            -31.86\n",
       "Df Model:                           1                                         \n",
       "Covariance Type:            nonrobust                                         \n",
       "==============================================================================\n",
       "                 coef    std err          t      P>|t|      [0.025      0.975]\n",
       "------------------------------------------------------------------------------\n",
       "const          0.0161      0.016      1.026      0.332      -0.019       0.052\n",
       "mercado        0.7498      0.376      1.992      0.078      -0.102       1.601\n",
       "==============================================================================\n",
       "Omnibus:                        2.383   Durbin-Watson:                   3.158\n",
       "Prob(Omnibus):                  0.304   Jarque-Bera (JB):                1.313\n",
       "Skew:                           0.830   Prob(JB):                        0.519\n",
       "Kurtosis:                       2.669   Cond. No.                         24.7\n",
       "==============================================================================\n",
       "\n",
       "Notes:\n",
       "[1] Standard Errors assume that the covariance matrix of the errors is correctly specified.\n",
       "\"\"\""
      ]
     },
     "execution_count": 21,
     "metadata": {},
     "output_type": "execute_result"
    }
   ],
   "source": [
    "regresion.summary()"
   ]
  },
  {
   "cell_type": "markdown",
   "id": "813d6986-e46f-4293-80e2-34da1041dc7b",
   "metadata": {
    "tags": []
   },
   "source": [
    "- Beta el cambio estimado en Y por unidad de cambio en X"
   ]
  },
  {
   "cell_type": "code",
   "execution_count": null,
   "id": "e5f2d59a-387f-4bb3-90a5-32b2f7ce45a4",
   "metadata": {},
   "outputs": [],
   "source": []
  }
 ],
 "metadata": {
  "kernelspec": {
   "display_name": "Python 3 (ipykernel)",
   "language": "python",
   "name": "python3"
  },
  "language_info": {
   "codemirror_mode": {
    "name": "ipython",
    "version": 3
   },
   "file_extension": ".py",
   "mimetype": "text/x-python",
   "name": "python",
   "nbconvert_exporter": "python",
   "pygments_lexer": "ipython3",
   "version": "3.11.7"
  }
 },
 "nbformat": 4,
 "nbformat_minor": 5
}
