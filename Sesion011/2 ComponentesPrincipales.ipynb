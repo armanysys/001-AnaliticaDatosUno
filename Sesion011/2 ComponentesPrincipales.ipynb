{
 "cells": [
  {
   "cell_type": "markdown",
   "id": "e37892c3-73b7-40fe-8268-403df3b72fd7",
   "metadata": {},
   "source": [
    "# Análisis de componentes principales (PCA)"
   ]
  },
  {
   "cell_type": "markdown",
   "id": "a0af7bcb-a355-4c48-8224-4801ed296002",
   "metadata": {},
   "source": [
    "Diferencias entre análisis de componentes principales (PCA) y análisis factorial (FA)\n",
    "- Supuestos: PCA no asume ninguna estructura en los datos, FA supone que las variables observadas son indicativas de variables latentes.\n",
    "- Interpretación: PCA se utiliza para reducir la dimensionalidad de los datos. FA reduce la dimensionalidad y además permite comprender la estructura subyacente en los datos."
   ]
  },
  {
   "cell_type": "code",
   "execution_count": 2,
   "id": "f25ca5e7-bf74-4f65-8cb8-a1dd33951c30",
   "metadata": {},
   "outputs": [],
   "source": [
    "import numpy as np\n",
    "import pandas as pd\n",
    "import matplotlib.pyplot as plt\n",
    "import seaborn as sns\n",
    "from sklearn.decomposition import PCA"
   ]
  },
  {
   "cell_type": "code",
   "execution_count": 3,
   "id": "3b79608e-3479-499e-b35d-6b87c3e5c537",
   "metadata": {},
   "outputs": [
    {
     "data": {
      "text/plain": [
       "Index(['Slowsongsorfastsongs', 'Dance', 'Folk', 'Country', 'Classicalmusic',\n",
       "       'Musical', 'Pop', 'Rock', 'MetalorHardrock', 'Punk', 'HiphopRap',\n",
       "       'ReggaeSka', 'SwingJazz', 'Rocknroll', 'Alternative', 'Latino',\n",
       "       'TechnoTrance', 'Opera', 'Movies', 'Horror', 'Thriller', 'Comedy',\n",
       "       'Romantic', 'Scifi', 'War', 'FantasyFairytales', 'Animated',\n",
       "       'Documentary', 'Western', 'Action', 'Internetusage', 'Finances',\n",
       "       'Shoppingcentres', 'Brandedclothing', 'Entertainmentspending',\n",
       "       'Spendingonlooks', 'Spendingongadgets', 'Spendingonhealthyeating',\n",
       "       'Age', 'Height', 'Weight', 'Numberofsiblings', 'GenderD', 'Education',\n",
       "       'OnlyChildD', 'CityD', 'Houseblockofflats'],\n",
       "      dtype='object')"
      ]
     },
     "execution_count": 3,
     "metadata": {},
     "output_type": "execute_result"
    }
   ],
   "source": [
    "df = pd.read_excel('data/b15_jovenes.xlsx')\n",
    "df.columns"
   ]
  },
  {
   "cell_type": "code",
   "execution_count": 4,
   "id": "af5da6f7-be52-4b83-9b74-e2b3c4274999",
   "metadata": {},
   "outputs": [],
   "source": [
    "movies = ['Horror', 'Thriller', 'Comedy', 'Romantic', 'Scifi', 'War', \n",
    "         'FantasyFairytales', 'Animated', 'Documentary', 'Western']\n",
    "df = df[movies]"
   ]
  },
  {
   "cell_type": "code",
   "execution_count": 5,
   "id": "739e6de8-cdbb-433f-b558-6e544cd69088",
   "metadata": {},
   "outputs": [],
   "source": [
    "# Eliminar filas con valores faltantes\n",
    "df = df.dropna()"
   ]
  },
  {
   "cell_type": "markdown",
   "id": "61746507-3f78-4f00-b057-5c17b76110ed",
   "metadata": {},
   "source": [
    "## Procedimiento"
   ]
  },
  {
   "cell_type": "code",
   "execution_count": 8,
   "id": "8fe470b0-8813-4cba-8dec-25e975a6e0ca",
   "metadata": {},
   "outputs": [
    {
     "data": {
      "text/html": [
       "<div>\n",
       "<style scoped>\n",
       "    .dataframe tbody tr th:only-of-type {\n",
       "        vertical-align: middle;\n",
       "    }\n",
       "\n",
       "    .dataframe tbody tr th {\n",
       "        vertical-align: top;\n",
       "    }\n",
       "\n",
       "    .dataframe thead th {\n",
       "        text-align: right;\n",
       "    }\n",
       "</style>\n",
       "<table border=\"1\" class=\"dataframe\">\n",
       "  <thead>\n",
       "    <tr style=\"text-align: right;\">\n",
       "      <th></th>\n",
       "      <th>0</th>\n",
       "      <th>1</th>\n",
       "      <th>2</th>\n",
       "    </tr>\n",
       "  </thead>\n",
       "  <tbody>\n",
       "    <tr>\n",
       "      <th>Horror</th>\n",
       "      <td>0.448792</td>\n",
       "      <td>-0.070153</td>\n",
       "      <td>-0.666579</td>\n",
       "    </tr>\n",
       "    <tr>\n",
       "      <th>Thriller</th>\n",
       "      <td>0.402588</td>\n",
       "      <td>-0.067758</td>\n",
       "      <td>-0.354443</td>\n",
       "    </tr>\n",
       "    <tr>\n",
       "      <th>Comedy</th>\n",
       "      <td>-0.042608</td>\n",
       "      <td>-0.140444</td>\n",
       "      <td>-0.113432</td>\n",
       "    </tr>\n",
       "    <tr>\n",
       "      <th>Romantic</th>\n",
       "      <td>-0.305554</td>\n",
       "      <td>-0.287103</td>\n",
       "      <td>-0.150483</td>\n",
       "    </tr>\n",
       "    <tr>\n",
       "      <th>Scifi</th>\n",
       "      <td>0.387177</td>\n",
       "      <td>-0.247925</td>\n",
       "      <td>0.117590</td>\n",
       "    </tr>\n",
       "    <tr>\n",
       "      <th>War</th>\n",
       "      <td>0.464790</td>\n",
       "      <td>-0.161251</td>\n",
       "      <td>0.384667</td>\n",
       "    </tr>\n",
       "    <tr>\n",
       "      <th>FantasyFairytales</th>\n",
       "      <td>-0.212864</td>\n",
       "      <td>-0.581609</td>\n",
       "      <td>-0.057613</td>\n",
       "    </tr>\n",
       "    <tr>\n",
       "      <th>Animated</th>\n",
       "      <td>-0.144230</td>\n",
       "      <td>-0.617618</td>\n",
       "      <td>-0.095993</td>\n",
       "    </tr>\n",
       "    <tr>\n",
       "      <th>Documentary</th>\n",
       "      <td>0.128952</td>\n",
       "      <td>-0.242157</td>\n",
       "      <td>0.348419</td>\n",
       "    </tr>\n",
       "    <tr>\n",
       "      <th>Western</th>\n",
       "      <td>0.304388</td>\n",
       "      <td>-0.150018</td>\n",
       "      <td>0.314332</td>\n",
       "    </tr>\n",
       "  </tbody>\n",
       "</table>\n",
       "</div>"
      ],
      "text/plain": [
       "                          0         1         2\n",
       "Horror             0.448792 -0.070153 -0.666579\n",
       "Thriller           0.402588 -0.067758 -0.354443\n",
       "Comedy            -0.042608 -0.140444 -0.113432\n",
       "Romantic          -0.305554 -0.287103 -0.150483\n",
       "Scifi              0.387177 -0.247925  0.117590\n",
       "War                0.464790 -0.161251  0.384667\n",
       "FantasyFairytales -0.212864 -0.581609 -0.057613\n",
       "Animated          -0.144230 -0.617618 -0.095993\n",
       "Documentary        0.128952 -0.242157  0.348419\n",
       "Western            0.304388 -0.150018  0.314332"
      ]
     },
     "execution_count": 8,
     "metadata": {},
     "output_type": "execute_result"
    }
   ],
   "source": [
    "pca = PCA(n_components=3)\n",
    "pca.fit_transform(df)\n",
    "# Obtener componentes\n",
    "components_df = pd.DataFrame(pca.components_, columns=df.columns)\n",
    "components_df.T"
   ]
  },
  {
   "cell_type": "code",
   "execution_count": 9,
   "id": "c653c818-6da5-4317-a9f6-e70c295d1352",
   "metadata": {},
   "outputs": [
    {
     "name": "stdout",
     "output_type": "stream",
     "text": [
      "Varianza explicada por cada componente:\n",
      "[0.24581772 0.18794803 0.15002601]\n"
     ]
    }
   ],
   "source": [
    "print(\"Varianza explicada por cada componente:\")\n",
    "print(pca.explained_variance_ratio_)"
   ]
  },
  {
   "cell_type": "code",
   "execution_count": null,
   "id": "d0425bef-fc78-465a-9a70-5947c4fce539",
   "metadata": {},
   "outputs": [],
   "source": []
  }
 ],
 "metadata": {
  "kernelspec": {
   "display_name": "Python 3 (ipykernel)",
   "language": "python",
   "name": "python3"
  },
  "language_info": {
   "codemirror_mode": {
    "name": "ipython",
    "version": 3
   },
   "file_extension": ".py",
   "mimetype": "text/x-python",
   "name": "python",
   "nbconvert_exporter": "python",
   "pygments_lexer": "ipython3",
   "version": "3.11.7"
  }
 },
 "nbformat": 4,
 "nbformat_minor": 5
}
