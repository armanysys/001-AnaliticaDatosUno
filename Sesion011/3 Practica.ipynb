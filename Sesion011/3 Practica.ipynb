{
 "cells": [
  {
   "cell_type": "markdown",
   "id": "44ee7c19-dd9a-4ced-bcf4-d504cbdc609e",
   "metadata": {},
   "source": [
    "## Práctica\n",
    "El archivo `data/b14_enigh2020_gasto.xlsx` contiene registros de los gastos en una muestra de hogares en la zona metropolitana de Monterrey en 2020. Aplica un análisis factorial exploratorio cubriendo los siguientes puntos:\n",
    "1. Importas las librerías necesarias\n",
    "2. Carga el archivo con los datos\n",
    "3. Prepara los datos eliminando filas con valores faltantes y estandarizando las variables\n",
    "4. Evalúa la aplicabilidad del análisis factorial exploratorio, aplicando la prueba de esfericidad de Bartlett y obteniendo el indicador KMO. Interpreta los resultados.\n",
    "5. Determina el número óptimo de factores mediante el criterio Kaiser y el análisis del scree plot.\n",
    "6. Realiza un análisis factorial con rotación varimax mediante el método 'principal'.\n",
    "7. Identifica si alguna de las comunalidades es menor 0.30\n",
    "8. Obtén la matriz de cargas factoriales.\n",
    "9. Identifica con qué se relaciona cada factor, es decir, \"nombra\" cada factor."
   ]
  },
  {
   "cell_type": "code",
   "execution_count": 1,
   "id": "ac990a6a-c028-4812-954c-42d6e28c8dbb",
   "metadata": {},
   "outputs": [],
   "source": [
    "# Importar las librerías necesarias\n",
    "import numpy as np\n",
    "import pandas as pd\n",
    "import matplotlib.pyplot as plt\n",
    "from sklearn.preprocessing import StandardScaler"
   ]
  },
  {
   "cell_type": "code",
   "execution_count": 2,
   "id": "8b387fd6-e4ef-483c-9d12-79ed58a380e3",
   "metadata": {},
   "outputs": [
    {
     "data": {
      "text/plain": [
       "Index(['cereales', 'carnes', 'leche', 'huevo', 'verduras', 'agua', 'energia',\n",
       "       'limpieza', 'cuidados', 'transporte', 'comunica'],\n",
       "      dtype='object')"
      ]
     },
     "execution_count": 2,
     "metadata": {},
     "output_type": "execute_result"
    }
   ],
   "source": [
    "df = pd.read_excel('data/b14_enigh2020_gasto.xlsx')\n",
    "df.columns"
   ]
  },
  {
   "cell_type": "code",
   "execution_count": 3,
   "id": "77ad5306-6769-463f-82c1-6cc96bdcfbf7",
   "metadata": {},
   "outputs": [
    {
     "name": "stdout",
     "output_type": "stream",
     "text": [
      "<class 'pandas.core.frame.DataFrame'>\n",
      "RangeIndex: 2332 entries, 0 to 2331\n",
      "Data columns (total 11 columns):\n",
      " #   Column      Non-Null Count  Dtype  \n",
      "---  ------      --------------  -----  \n",
      " 0   cereales    2332 non-null   float64\n",
      " 1   carnes      2332 non-null   float64\n",
      " 2   leche       2332 non-null   float64\n",
      " 3   huevo       2332 non-null   float64\n",
      " 4   verduras    2332 non-null   float64\n",
      " 5   agua        2332 non-null   float64\n",
      " 6   energia     2332 non-null   float64\n",
      " 7   limpieza    2332 non-null   float64\n",
      " 8   cuidados    2332 non-null   float64\n",
      " 9   transporte  2332 non-null   float64\n",
      " 10  comunica    2332 non-null   float64\n",
      "dtypes: float64(11)\n",
      "memory usage: 200.5 KB\n"
     ]
    }
   ],
   "source": [
    "df.info()"
   ]
  },
  {
   "cell_type": "code",
   "execution_count": 4,
   "id": "275e9396-e682-472f-8a73-181d906df6ae",
   "metadata": {},
   "outputs": [],
   "source": [
    "# Eliminar filas con valores faltantes\n",
    "df = df.dropna()"
   ]
  },
  {
   "cell_type": "code",
   "execution_count": 6,
   "id": "d4181f67-05cb-4653-ab26-26a7d64ca311",
   "metadata": {},
   "outputs": [],
   "source": [
    "# Estandarizar las variables\n",
    "scaler = StandardScaler()\n",
    "df = pd.DataFrame(scaler.fit_transform(df), columns=df.columns)"
   ]
  },
  {
   "cell_type": "code",
   "execution_count": 7,
   "id": "078cb209-7c1c-4e54-b9f8-8a434f1f8cad",
   "metadata": {},
   "outputs": [
    {
     "name": "stdout",
     "output_type": "stream",
     "text": [
      "Chi cuadrado \t 8279.419500924894\n",
      "P valor \t 0.0\n"
     ]
    }
   ],
   "source": [
    "from factor_analyzer.factor_analyzer import calculate_bartlett_sphericity\n",
    "\n",
    "print('Chi cuadrado \\t', calculate_bartlett_sphericity(df)[0])\n",
    "print('P valor \\t', calculate_bartlett_sphericity(df)[1])"
   ]
  },
  {
   "cell_type": "code",
   "execution_count": 8,
   "id": "f0a72a6b-c9cd-47ce-a63b-c12f5af7a526",
   "metadata": {},
   "outputs": [
    {
     "name": "stdout",
     "output_type": "stream",
     "text": [
      "KMO score: 0.732986486776746\n"
     ]
    }
   ],
   "source": [
    "from factor_analyzer.factor_analyzer import calculate_kmo\n",
    "\n",
    "kmo_all, kmo_model = calculate_kmo(df[df.columns])\n",
    "print('KMO score:',kmo_model)"
   ]
  },
  {
   "cell_type": "markdown",
   "id": "5d2a8f82-55de-4d1b-8027-8a7872bcf9c1",
   "metadata": {},
   "source": [
    "### Extracción de factores"
   ]
  },
  {
   "cell_type": "code",
   "execution_count": 10,
   "id": "00442771-b01c-4ea2-862e-7bfc13422ea2",
   "metadata": {},
   "outputs": [
    {
     "data": {
      "text/html": [
       "<style>#sk-container-id-1 {color: black;background-color: white;}#sk-container-id-1 pre{padding: 0;}#sk-container-id-1 div.sk-toggleable {background-color: white;}#sk-container-id-1 label.sk-toggleable__label {cursor: pointer;display: block;width: 100%;margin-bottom: 0;padding: 0.3em;box-sizing: border-box;text-align: center;}#sk-container-id-1 label.sk-toggleable__label-arrow:before {content: \"▸\";float: left;margin-right: 0.25em;color: #696969;}#sk-container-id-1 label.sk-toggleable__label-arrow:hover:before {color: black;}#sk-container-id-1 div.sk-estimator:hover label.sk-toggleable__label-arrow:before {color: black;}#sk-container-id-1 div.sk-toggleable__content {max-height: 0;max-width: 0;overflow: hidden;text-align: left;background-color: #f0f8ff;}#sk-container-id-1 div.sk-toggleable__content pre {margin: 0.2em;color: black;border-radius: 0.25em;background-color: #f0f8ff;}#sk-container-id-1 input.sk-toggleable__control:checked~div.sk-toggleable__content {max-height: 200px;max-width: 100%;overflow: auto;}#sk-container-id-1 input.sk-toggleable__control:checked~label.sk-toggleable__label-arrow:before {content: \"▾\";}#sk-container-id-1 div.sk-estimator input.sk-toggleable__control:checked~label.sk-toggleable__label {background-color: #d4ebff;}#sk-container-id-1 div.sk-label input.sk-toggleable__control:checked~label.sk-toggleable__label {background-color: #d4ebff;}#sk-container-id-1 input.sk-hidden--visually {border: 0;clip: rect(1px 1px 1px 1px);clip: rect(1px, 1px, 1px, 1px);height: 1px;margin: -1px;overflow: hidden;padding: 0;position: absolute;width: 1px;}#sk-container-id-1 div.sk-estimator {font-family: monospace;background-color: #f0f8ff;border: 1px dotted black;border-radius: 0.25em;box-sizing: border-box;margin-bottom: 0.5em;}#sk-container-id-1 div.sk-estimator:hover {background-color: #d4ebff;}#sk-container-id-1 div.sk-parallel-item::after {content: \"\";width: 100%;border-bottom: 1px solid gray;flex-grow: 1;}#sk-container-id-1 div.sk-label:hover label.sk-toggleable__label {background-color: #d4ebff;}#sk-container-id-1 div.sk-serial::before {content: \"\";position: absolute;border-left: 1px solid gray;box-sizing: border-box;top: 0;bottom: 0;left: 50%;z-index: 0;}#sk-container-id-1 div.sk-serial {display: flex;flex-direction: column;align-items: center;background-color: white;padding-right: 0.2em;padding-left: 0.2em;position: relative;}#sk-container-id-1 div.sk-item {position: relative;z-index: 1;}#sk-container-id-1 div.sk-parallel {display: flex;align-items: stretch;justify-content: center;background-color: white;position: relative;}#sk-container-id-1 div.sk-item::before, #sk-container-id-1 div.sk-parallel-item::before {content: \"\";position: absolute;border-left: 1px solid gray;box-sizing: border-box;top: 0;bottom: 0;left: 50%;z-index: -1;}#sk-container-id-1 div.sk-parallel-item {display: flex;flex-direction: column;z-index: 1;position: relative;background-color: white;}#sk-container-id-1 div.sk-parallel-item:first-child::after {align-self: flex-end;width: 50%;}#sk-container-id-1 div.sk-parallel-item:last-child::after {align-self: flex-start;width: 50%;}#sk-container-id-1 div.sk-parallel-item:only-child::after {width: 0;}#sk-container-id-1 div.sk-dashed-wrapped {border: 1px dashed gray;margin: 0 0.4em 0.5em 0.4em;box-sizing: border-box;padding-bottom: 0.4em;background-color: white;}#sk-container-id-1 div.sk-label label {font-family: monospace;font-weight: bold;display: inline-block;line-height: 1.2em;}#sk-container-id-1 div.sk-label-container {text-align: center;}#sk-container-id-1 div.sk-container {/* jupyter's `normalize.less` sets `[hidden] { display: none; }` but bootstrap.min.css set `[hidden] { display: none !important; }` so we also need the `!important` here to be able to override the default hidden behavior on the sphinx rendered scikit-learn.org. See: https://github.com/scikit-learn/scikit-learn/issues/21755 */display: inline-block !important;position: relative;}#sk-container-id-1 div.sk-text-repr-fallback {display: none;}</style><div id=\"sk-container-id-1\" class=\"sk-top-container\"><div class=\"sk-text-repr-fallback\"><pre>FactorAnalyzer(method=&#x27;principal&#x27;, rotation=&#x27;varimax&#x27;, rotation_kwargs={})</pre><b>In a Jupyter environment, please rerun this cell to show the HTML representation or trust the notebook. <br />On GitHub, the HTML representation is unable to render, please try loading this page with nbviewer.org.</b></div><div class=\"sk-container\" hidden><div class=\"sk-item\"><div class=\"sk-estimator sk-toggleable\"><input class=\"sk-toggleable__control sk-hidden--visually\" id=\"sk-estimator-id-1\" type=\"checkbox\" checked><label for=\"sk-estimator-id-1\" class=\"sk-toggleable__label sk-toggleable__label-arrow\">FactorAnalyzer</label><div class=\"sk-toggleable__content\"><pre>FactorAnalyzer(method=&#x27;principal&#x27;, rotation=&#x27;varimax&#x27;, rotation_kwargs={})</pre></div></div></div></div></div>"
      ],
      "text/plain": [
       "FactorAnalyzer(method='principal', rotation='varimax', rotation_kwargs={})"
      ]
     },
     "execution_count": 10,
     "metadata": {},
     "output_type": "execute_result"
    }
   ],
   "source": [
    "from factor_analyzer import FactorAnalyzer\n",
    "\n",
    "fa = FactorAnalyzer(rotation='varimax', method='principal')\n",
    "fa.fit(df)"
   ]
  },
  {
   "cell_type": "markdown",
   "id": "3f811192-014d-4660-a5be-dcb4179d0779",
   "metadata": {},
   "source": [
    "### Determinación del número de factores"
   ]
  },
  {
   "cell_type": "code",
   "execution_count": 21,
   "id": "e325a30b-cfe0-471b-a2d4-8f5a8d39c457",
   "metadata": {},
   "outputs": [
    {
     "data": {
      "image/png": "[encoded data removed]",
      "text/plain": [
       "<Figure size 640x480 with 1 Axes>"
      ]
     },
     "metadata": {},
     "output_type": "display_data"
    }
   ],
   "source": [
    "# Cálculo de autovalores\n",
    "ev, v = fa.get_eigenvalues()\n",
    "\n",
    "# Scree plot\n",
    "plt.scatter(range(1, 10), ev[:9])\n",
    "plt.plot(range(1,10), ev[:9])\n",
    "plt.title('ScreePlot');"
   ]
  },
  {
   "cell_type": "code",
   "execution_count": 22,
   "id": "d7492824-6baf-46b5-afcb-a4beeaa3f379",
   "metadata": {},
   "outputs": [
    {
     "data": {
      "text/html": [
       "<style>#sk-container-id-4 {color: black;background-color: white;}#sk-container-id-4 pre{padding: 0;}#sk-container-id-4 div.sk-toggleable {background-color: white;}#sk-container-id-4 label.sk-toggleable__label {cursor: pointer;display: block;width: 100%;margin-bottom: 0;padding: 0.3em;box-sizing: border-box;text-align: center;}#sk-container-id-4 label.sk-toggleable__label-arrow:before {content: \"▸\";float: left;margin-right: 0.25em;color: #696969;}#sk-container-id-4 label.sk-toggleable__label-arrow:hover:before {color: black;}#sk-container-id-4 div.sk-estimator:hover label.sk-toggleable__label-arrow:before {color: black;}#sk-container-id-4 div.sk-toggleable__content {max-height: 0;max-width: 0;overflow: hidden;text-align: left;background-color: #f0f8ff;}#sk-container-id-4 div.sk-toggleable__content pre {margin: 0.2em;color: black;border-radius: 0.25em;background-color: #f0f8ff;}#sk-container-id-4 input.sk-toggleable__control:checked~div.sk-toggleable__content {max-height: 200px;max-width: 100%;overflow: auto;}#sk-container-id-4 input.sk-toggleable__control:checked~label.sk-toggleable__label-arrow:before {content: \"▾\";}#sk-container-id-4 div.sk-estimator input.sk-toggleable__control:checked~label.sk-toggleable__label {background-color: #d4ebff;}#sk-container-id-4 div.sk-label input.sk-toggleable__control:checked~label.sk-toggleable__label {background-color: #d4ebff;}#sk-container-id-4 input.sk-hidden--visually {border: 0;clip: rect(1px 1px 1px 1px);clip: rect(1px, 1px, 1px, 1px);height: 1px;margin: -1px;overflow: hidden;padding: 0;position: absolute;width: 1px;}#sk-container-id-4 div.sk-estimator {font-family: monospace;background-color: #f0f8ff;border: 1px dotted black;border-radius: 0.25em;box-sizing: border-box;margin-bottom: 0.5em;}#sk-container-id-4 div.sk-estimator:hover {background-color: #d4ebff;}#sk-container-id-4 div.sk-parallel-item::after {content: \"\";width: 100%;border-bottom: 1px solid gray;flex-grow: 1;}#sk-container-id-4 div.sk-label:hover label.sk-toggleable__label {background-color: #d4ebff;}#sk-container-id-4 div.sk-serial::before {content: \"\";position: absolute;border-left: 1px solid gray;box-sizing: border-box;top: 0;bottom: 0;left: 50%;z-index: 0;}#sk-container-id-4 div.sk-serial {display: flex;flex-direction: column;align-items: center;background-color: white;padding-right: 0.2em;padding-left: 0.2em;position: relative;}#sk-container-id-4 div.sk-item {position: relative;z-index: 1;}#sk-container-id-4 div.sk-parallel {display: flex;align-items: stretch;justify-content: center;background-color: white;position: relative;}#sk-container-id-4 div.sk-item::before, #sk-container-id-4 div.sk-parallel-item::before {content: \"\";position: absolute;border-left: 1px solid gray;box-sizing: border-box;top: 0;bottom: 0;left: 50%;z-index: -1;}#sk-container-id-4 div.sk-parallel-item {display: flex;flex-direction: column;z-index: 1;position: relative;background-color: white;}#sk-container-id-4 div.sk-parallel-item:first-child::after {align-self: flex-end;width: 50%;}#sk-container-id-4 div.sk-parallel-item:last-child::after {align-self: flex-start;width: 50%;}#sk-container-id-4 div.sk-parallel-item:only-child::after {width: 0;}#sk-container-id-4 div.sk-dashed-wrapped {border: 1px dashed gray;margin: 0 0.4em 0.5em 0.4em;box-sizing: border-box;padding-bottom: 0.4em;background-color: white;}#sk-container-id-4 div.sk-label label {font-family: monospace;font-weight: bold;display: inline-block;line-height: 1.2em;}#sk-container-id-4 div.sk-label-container {text-align: center;}#sk-container-id-4 div.sk-container {/* jupyter's `normalize.less` sets `[hidden] { display: none; }` but bootstrap.min.css set `[hidden] { display: none !important; }` so we also need the `!important` here to be able to override the default hidden behavior on the sphinx rendered scikit-learn.org. See: https://github.com/scikit-learn/scikit-learn/issues/21755 */display: inline-block !important;position: relative;}#sk-container-id-4 div.sk-text-repr-fallback {display: none;}</style><div id=\"sk-container-id-4\" class=\"sk-top-container\"><div class=\"sk-text-repr-fallback\"><pre>FactorAnalyzer(method=&#x27;principal&#x27;, rotation=&#x27;varimax&#x27;, rotation_kwargs={})</pre><b>In a Jupyter environment, please rerun this cell to show the HTML representation or trust the notebook. <br />On GitHub, the HTML representation is unable to render, please try loading this page with nbviewer.org.</b></div><div class=\"sk-container\" hidden><div class=\"sk-item\"><div class=\"sk-estimator sk-toggleable\"><input class=\"sk-toggleable__control sk-hidden--visually\" id=\"sk-estimator-id-4\" type=\"checkbox\" checked><label for=\"sk-estimator-id-4\" class=\"sk-toggleable__label sk-toggleable__label-arrow\">FactorAnalyzer</label><div class=\"sk-toggleable__content\"><pre>FactorAnalyzer(method=&#x27;principal&#x27;, rotation=&#x27;varimax&#x27;, rotation_kwargs={})</pre></div></div></div></div></div>"
      ],
      "text/plain": [
       "FactorAnalyzer(method='principal', rotation='varimax', rotation_kwargs={})"
      ]
     },
     "execution_count": 22,
     "metadata": {},
     "output_type": "execute_result"
    }
   ],
   "source": [
    "k = 3\n",
    "fa = FactorAnalyzer(rotation = 'varimax', n_factors=k, method='principal')\n",
    "fa.fit(df)"
   ]
  },
  {
   "cell_type": "code",
   "execution_count": 23,
   "id": "45ca076f-e37e-403b-9085-c96fc5006035",
   "metadata": {},
   "outputs": [
    {
     "data": {
      "text/html": [
       "<div>\n",
       "<style scoped>\n",
       "    .dataframe tbody tr th:only-of-type {\n",
       "        vertical-align: middle;\n",
       "    }\n",
       "\n",
       "    .dataframe tbody tr th {\n",
       "        vertical-align: top;\n",
       "    }\n",
       "\n",
       "    .dataframe thead th {\n",
       "        text-align: right;\n",
       "    }\n",
       "</style>\n",
       "<table border=\"1\" class=\"dataframe\">\n",
       "  <thead>\n",
       "    <tr style=\"text-align: right;\">\n",
       "      <th></th>\n",
       "      <th>Comunalidades</th>\n",
       "    </tr>\n",
       "  </thead>\n",
       "  <tbody>\n",
       "    <tr>\n",
       "      <th>cereales</th>\n",
       "      <td>0.562904</td>\n",
       "    </tr>\n",
       "    <tr>\n",
       "      <th>carnes</th>\n",
       "      <td>0.454677</td>\n",
       "    </tr>\n",
       "    <tr>\n",
       "      <th>leche</th>\n",
       "      <td>0.508525</td>\n",
       "    </tr>\n",
       "    <tr>\n",
       "      <th>huevo</th>\n",
       "      <td>0.350079</td>\n",
       "    </tr>\n",
       "    <tr>\n",
       "      <th>verduras</th>\n",
       "      <td>0.558218</td>\n",
       "    </tr>\n",
       "    <tr>\n",
       "      <th>agua</th>\n",
       "      <td>0.377348</td>\n",
       "    </tr>\n",
       "    <tr>\n",
       "      <th>energia</th>\n",
       "      <td>0.526833</td>\n",
       "    </tr>\n",
       "    <tr>\n",
       "      <th>limpieza</th>\n",
       "      <td>0.909787</td>\n",
       "    </tr>\n",
       "    <tr>\n",
       "      <th>cuidados</th>\n",
       "      <td>0.923434</td>\n",
       "    </tr>\n",
       "    <tr>\n",
       "      <th>transporte</th>\n",
       "      <td>0.518623</td>\n",
       "    </tr>\n",
       "    <tr>\n",
       "      <th>comunica</th>\n",
       "      <td>0.642990</td>\n",
       "    </tr>\n",
       "  </tbody>\n",
       "</table>\n",
       "</div>"
      ],
      "text/plain": [
       "            Comunalidades\n",
       "cereales         0.562904\n",
       "carnes           0.454677\n",
       "leche            0.508525\n",
       "huevo            0.350079\n",
       "verduras         0.558218\n",
       "agua             0.377348\n",
       "energia          0.526833\n",
       "limpieza         0.909787\n",
       "cuidados         0.923434\n",
       "transporte       0.518623\n",
       "comunica         0.642990"
      ]
     },
     "execution_count": 23,
     "metadata": {},
     "output_type": "execute_result"
    }
   ],
   "source": [
    "communalities = pd.DataFrame(fa.get_communalities(), index=list(df.columns))\n",
    "communalities.rename(columns={0: 'Comunalidades'}, inplace=True)\n",
    "communalities"
   ]
  },
  {
   "cell_type": "code",
   "execution_count": 26,
   "id": "14b72a20-9449-4124-970b-9c167510b6ff",
   "metadata": {},
   "outputs": [
    {
     "data": {
      "text/html": [
       "<div>\n",
       "<style scoped>\n",
       "    .dataframe tbody tr th:only-of-type {\n",
       "        vertical-align: middle;\n",
       "    }\n",
       "\n",
       "    .dataframe tbody tr th {\n",
       "        vertical-align: top;\n",
       "    }\n",
       "\n",
       "    .dataframe thead th {\n",
       "        text-align: right;\n",
       "    }\n",
       "</style>\n",
       "<table border=\"1\" class=\"dataframe\">\n",
       "  <thead>\n",
       "    <tr style=\"text-align: right;\">\n",
       "      <th></th>\n",
       "      <th>Factor1</th>\n",
       "      <th>Factor2</th>\n",
       "      <th>Factor3</th>\n",
       "      <th>Factor_asignado</th>\n",
       "    </tr>\n",
       "  </thead>\n",
       "  <tbody>\n",
       "    <tr>\n",
       "      <th>cereales</th>\n",
       "      <td>0.084838</td>\n",
       "      <td>0.744130</td>\n",
       "      <td>-0.044452</td>\n",
       "      <td>Factor2</td>\n",
       "    </tr>\n",
       "    <tr>\n",
       "      <th>carnes</th>\n",
       "      <td>0.344303</td>\n",
       "      <td>0.564730</td>\n",
       "      <td>0.131198</td>\n",
       "      <td>Factor2</td>\n",
       "    </tr>\n",
       "    <tr>\n",
       "      <th>leche</th>\n",
       "      <td>0.158796</td>\n",
       "      <td>0.684421</td>\n",
       "      <td>0.121971</td>\n",
       "      <td>Factor2</td>\n",
       "    </tr>\n",
       "    <tr>\n",
       "      <th>huevo</th>\n",
       "      <td>-0.085931</td>\n",
       "      <td>0.577236</td>\n",
       "      <td>-0.097432</td>\n",
       "      <td>Factor2</td>\n",
       "    </tr>\n",
       "    <tr>\n",
       "      <th>verduras</th>\n",
       "      <td>0.034223</td>\n",
       "      <td>0.704042</td>\n",
       "      <td>0.247734</td>\n",
       "      <td>Factor2</td>\n",
       "    </tr>\n",
       "    <tr>\n",
       "      <th>agua</th>\n",
       "      <td>0.558965</td>\n",
       "      <td>0.116389</td>\n",
       "      <td>0.226626</td>\n",
       "      <td>Factor1</td>\n",
       "    </tr>\n",
       "    <tr>\n",
       "      <th>energia</th>\n",
       "      <td>0.634915</td>\n",
       "      <td>0.086672</td>\n",
       "      <td>0.340886</td>\n",
       "      <td>Factor1</td>\n",
       "    </tr>\n",
       "    <tr>\n",
       "      <th>limpieza</th>\n",
       "      <td>0.225122</td>\n",
       "      <td>0.083925</td>\n",
       "      <td>0.923073</td>\n",
       "      <td>Factor3</td>\n",
       "    </tr>\n",
       "    <tr>\n",
       "      <th>cuidados</th>\n",
       "      <td>0.210597</td>\n",
       "      <td>0.064132</td>\n",
       "      <td>0.935398</td>\n",
       "      <td>Factor3</td>\n",
       "    </tr>\n",
       "    <tr>\n",
       "      <th>transporte</th>\n",
       "      <td>0.719103</td>\n",
       "      <td>0.038147</td>\n",
       "      <td>0.007691</td>\n",
       "      <td>Factor1</td>\n",
       "    </tr>\n",
       "    <tr>\n",
       "      <th>comunica</th>\n",
       "      <td>0.793881</td>\n",
       "      <td>0.057040</td>\n",
       "      <td>0.097414</td>\n",
       "      <td>Factor1</td>\n",
       "    </tr>\n",
       "  </tbody>\n",
       "</table>\n",
       "</div>"
      ],
      "text/plain": [
       "             Factor1   Factor2   Factor3 Factor_asignado\n",
       "cereales    0.084838  0.744130 -0.044452         Factor2\n",
       "carnes      0.344303  0.564730  0.131198         Factor2\n",
       "leche       0.158796  0.684421  0.121971         Factor2\n",
       "huevo      -0.085931  0.577236 -0.097432         Factor2\n",
       "verduras    0.034223  0.704042  0.247734         Factor2\n",
       "agua        0.558965  0.116389  0.226626         Factor1\n",
       "energia     0.634915  0.086672  0.340886         Factor1\n",
       "limpieza    0.225122  0.083925  0.923073         Factor3\n",
       "cuidados    0.210597  0.064132  0.935398         Factor3\n",
       "transporte  0.719103  0.038147  0.007691         Factor1\n",
       "comunica    0.793881  0.057040  0.097414         Factor1"
      ]
     },
     "execution_count": 26,
     "metadata": {},
     "output_type": "execute_result"
    }
   ],
   "source": [
    "fa_loadings = pd.DataFrame(fa.loadings_,\n",
    "                           columns=['Factor{}'.format(i) for i in range(1, k+1)],\n",
    "                           index=df.columns)\n",
    "fa_loadings['Factor_asignado'] = fa_loadings.idxmax(axis=1)\n",
    "fa_loadings"
   ]
  },
  {
   "cell_type": "code",
   "execution_count": 27,
   "id": "201ca542-db83-4735-af6b-702a704e9cd3",
   "metadata": {},
   "outputs": [
    {
     "data": {
      "text/html": [
       "<style type=\"text/css\">\n",
       "#T_1b13b_row0_col0, #T_1b13b_row1_col0, #T_1b13b_row2_col0, #T_1b13b_row3_col0, #T_1b13b_row4_col1, #T_1b13b_row5_col1, #T_1b13b_row6_col1, #T_1b13b_row7_col1, #T_1b13b_row8_col1, #T_1b13b_row9_col2, #T_1b13b_row10_col2 {\n",
       "  background-color: yellow;\n",
       "}\n",
       "</style>\n",
       "<table id=\"T_1b13b\">\n",
       "  <thead>\n",
       "    <tr>\n",
       "      <th class=\"blank level0\" >&nbsp;</th>\n",
       "      <th id=\"T_1b13b_level0_col0\" class=\"col_heading level0 col0\" >Factor1</th>\n",
       "      <th id=\"T_1b13b_level0_col1\" class=\"col_heading level0 col1\" >Factor2</th>\n",
       "      <th id=\"T_1b13b_level0_col2\" class=\"col_heading level0 col2\" >Factor3</th>\n",
       "      <th id=\"T_1b13b_level0_col3\" class=\"col_heading level0 col3\" >Factor_asignado</th>\n",
       "    </tr>\n",
       "  </thead>\n",
       "  <tbody>\n",
       "    <tr>\n",
       "      <th id=\"T_1b13b_level0_row0\" class=\"row_heading level0 row0\" >agua</th>\n",
       "      <td id=\"T_1b13b_row0_col0\" class=\"data row0 col0\" >0.558965</td>\n",
       "      <td id=\"T_1b13b_row0_col1\" class=\"data row0 col1\" >0.116389</td>\n",
       "      <td id=\"T_1b13b_row0_col2\" class=\"data row0 col2\" >0.226626</td>\n",
       "      <td id=\"T_1b13b_row0_col3\" class=\"data row0 col3\" >Factor1</td>\n",
       "    </tr>\n",
       "    <tr>\n",
       "      <th id=\"T_1b13b_level0_row1\" class=\"row_heading level0 row1\" >energia</th>\n",
       "      <td id=\"T_1b13b_row1_col0\" class=\"data row1 col0\" >0.634915</td>\n",
       "      <td id=\"T_1b13b_row1_col1\" class=\"data row1 col1\" >0.086672</td>\n",
       "      <td id=\"T_1b13b_row1_col2\" class=\"data row1 col2\" >0.340886</td>\n",
       "      <td id=\"T_1b13b_row1_col3\" class=\"data row1 col3\" >Factor1</td>\n",
       "    </tr>\n",
       "    <tr>\n",
       "      <th id=\"T_1b13b_level0_row2\" class=\"row_heading level0 row2\" >transporte</th>\n",
       "      <td id=\"T_1b13b_row2_col0\" class=\"data row2 col0\" >0.719103</td>\n",
       "      <td id=\"T_1b13b_row2_col1\" class=\"data row2 col1\" >0.038147</td>\n",
       "      <td id=\"T_1b13b_row2_col2\" class=\"data row2 col2\" >0.007691</td>\n",
       "      <td id=\"T_1b13b_row2_col3\" class=\"data row2 col3\" >Factor1</td>\n",
       "    </tr>\n",
       "    <tr>\n",
       "      <th id=\"T_1b13b_level0_row3\" class=\"row_heading level0 row3\" >comunica</th>\n",
       "      <td id=\"T_1b13b_row3_col0\" class=\"data row3 col0\" >0.793881</td>\n",
       "      <td id=\"T_1b13b_row3_col1\" class=\"data row3 col1\" >0.057040</td>\n",
       "      <td id=\"T_1b13b_row3_col2\" class=\"data row3 col2\" >0.097414</td>\n",
       "      <td id=\"T_1b13b_row3_col3\" class=\"data row3 col3\" >Factor1</td>\n",
       "    </tr>\n",
       "    <tr>\n",
       "      <th id=\"T_1b13b_level0_row4\" class=\"row_heading level0 row4\" >cereales</th>\n",
       "      <td id=\"T_1b13b_row4_col0\" class=\"data row4 col0\" >0.084838</td>\n",
       "      <td id=\"T_1b13b_row4_col1\" class=\"data row4 col1\" >0.744130</td>\n",
       "      <td id=\"T_1b13b_row4_col2\" class=\"data row4 col2\" >-0.044452</td>\n",
       "      <td id=\"T_1b13b_row4_col3\" class=\"data row4 col3\" >Factor2</td>\n",
       "    </tr>\n",
       "    <tr>\n",
       "      <th id=\"T_1b13b_level0_row5\" class=\"row_heading level0 row5\" >carnes</th>\n",
       "      <td id=\"T_1b13b_row5_col0\" class=\"data row5 col0\" >0.344303</td>\n",
       "      <td id=\"T_1b13b_row5_col1\" class=\"data row5 col1\" >0.564730</td>\n",
       "      <td id=\"T_1b13b_row5_col2\" class=\"data row5 col2\" >0.131198</td>\n",
       "      <td id=\"T_1b13b_row5_col3\" class=\"data row5 col3\" >Factor2</td>\n",
       "    </tr>\n",
       "    <tr>\n",
       "      <th id=\"T_1b13b_level0_row6\" class=\"row_heading level0 row6\" >leche</th>\n",
       "      <td id=\"T_1b13b_row6_col0\" class=\"data row6 col0\" >0.158796</td>\n",
       "      <td id=\"T_1b13b_row6_col1\" class=\"data row6 col1\" >0.684421</td>\n",
       "      <td id=\"T_1b13b_row6_col2\" class=\"data row6 col2\" >0.121971</td>\n",
       "      <td id=\"T_1b13b_row6_col3\" class=\"data row6 col3\" >Factor2</td>\n",
       "    </tr>\n",
       "    <tr>\n",
       "      <th id=\"T_1b13b_level0_row7\" class=\"row_heading level0 row7\" >huevo</th>\n",
       "      <td id=\"T_1b13b_row7_col0\" class=\"data row7 col0\" >-0.085931</td>\n",
       "      <td id=\"T_1b13b_row7_col1\" class=\"data row7 col1\" >0.577236</td>\n",
       "      <td id=\"T_1b13b_row7_col2\" class=\"data row7 col2\" >-0.097432</td>\n",
       "      <td id=\"T_1b13b_row7_col3\" class=\"data row7 col3\" >Factor2</td>\n",
       "    </tr>\n",
       "    <tr>\n",
       "      <th id=\"T_1b13b_level0_row8\" class=\"row_heading level0 row8\" >verduras</th>\n",
       "      <td id=\"T_1b13b_row8_col0\" class=\"data row8 col0\" >0.034223</td>\n",
       "      <td id=\"T_1b13b_row8_col1\" class=\"data row8 col1\" >0.704042</td>\n",
       "      <td id=\"T_1b13b_row8_col2\" class=\"data row8 col2\" >0.247734</td>\n",
       "      <td id=\"T_1b13b_row8_col3\" class=\"data row8 col3\" >Factor2</td>\n",
       "    </tr>\n",
       "    <tr>\n",
       "      <th id=\"T_1b13b_level0_row9\" class=\"row_heading level0 row9\" >limpieza</th>\n",
       "      <td id=\"T_1b13b_row9_col0\" class=\"data row9 col0\" >0.225122</td>\n",
       "      <td id=\"T_1b13b_row9_col1\" class=\"data row9 col1\" >0.083925</td>\n",
       "      <td id=\"T_1b13b_row9_col2\" class=\"data row9 col2\" >0.923073</td>\n",
       "      <td id=\"T_1b13b_row9_col3\" class=\"data row9 col3\" >Factor3</td>\n",
       "    </tr>\n",
       "    <tr>\n",
       "      <th id=\"T_1b13b_level0_row10\" class=\"row_heading level0 row10\" >cuidados</th>\n",
       "      <td id=\"T_1b13b_row10_col0\" class=\"data row10 col0\" >0.210597</td>\n",
       "      <td id=\"T_1b13b_row10_col1\" class=\"data row10 col1\" >0.064132</td>\n",
       "      <td id=\"T_1b13b_row10_col2\" class=\"data row10 col2\" >0.935398</td>\n",
       "      <td id=\"T_1b13b_row10_col3\" class=\"data row10 col3\" >Factor3</td>\n",
       "    </tr>\n",
       "  </tbody>\n",
       "</table>\n"
      ],
      "text/plain": [
       "<pandas.io.formats.style.Styler at 0x151eb7f10>"
      ]
     },
     "execution_count": 27,
     "metadata": {},
     "output_type": "execute_result"
    }
   ],
   "source": [
    "factors = list(fa_loadings.columns[:-1])\n",
    "table = fa_loadings.sort_values(by='Factor_asignado').style.map(lambda x: 'background-color: yellow' if abs(x) > 0.4 else '', subset=factors)\n",
    "table "
   ]
  },
  {
   "cell_type": "markdown",
   "id": "b9a34b3e-1b67-4377-9562-66425a1912e1",
   "metadata": {},
   "source": [
    "Factor 1 = Servicios Basicos\n",
    "Factor 2 = Despensas\n",
    "Factor 3 = Igiene"
   ]
  },
  {
   "cell_type": "code",
   "execution_count": null,
   "id": "2cb18cd9-d688-411d-9ca1-a97c2225d991",
   "metadata": {},
   "outputs": [],
   "source": []
  }
 ],
 "metadata": {
  "kernelspec": {
   "display_name": "Python 3 (ipykernel)",
   "language": "python",
   "name": "python3"
  },
  "language_info": {
   "codemirror_mode": {
    "name": "ipython",
    "version": 3
   },
   "file_extension": ".py",
   "mimetype": "text/x-python",
   "name": "python",
   "nbconvert_exporter": "python",
   "pygments_lexer": "ipython3",
   "version": "3.11.7"
  }
 },
 "nbformat": 4,
 "nbformat_minor": 5
}
