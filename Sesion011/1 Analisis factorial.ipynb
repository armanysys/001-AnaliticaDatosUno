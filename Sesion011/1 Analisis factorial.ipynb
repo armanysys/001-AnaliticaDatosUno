{
 "cells": [
  {
   "cell_type": "markdown",
   "id": "5c7fda51-92dc-4e8b-bd74-0fb0f3ecf4f4",
   "metadata": {},
   "source": [
    "# Análisis factorial exploratorio"
   ]
  },
  {
   "cell_type": "markdown",
   "id": "feeedaa5-0723-45df-8780-7ca9dc132a62",
   "metadata": {},
   "source": [
    "El análisis factorial es una técnica de reducción de dimensiones. Esto es, se busca “reducir” una gran cantidad de variables a un conjunto más pequeño de factores o componentes. Esta técnica se utiliza para comprender la estructura subyacente de un conjunto de variables, construir una escala que mida una variable no observable (variable latente), o reducir un conjunto de variables a un tamaño más manejable.\n",
    "\n",
    "\n",
    "El análisis factorial puede ser exploratorio o confirmatorio. El análisis factorial exploratorio se utiliza comúnmente en etapas iniciales de la investigación para analizar la interrelación entre las variables. El análisis factorial confirmatorio es una técnica en la que se busca confirmar hipótesis específicas acerca de la estructura subyacente en un conjunto de variables. "
   ]
  },
  {
   "cell_type": "code",
   "execution_count": 1,
   "id": "fedc3338-d270-475f-af33-bba2807c516f",
   "metadata": {},
   "outputs": [],
   "source": [
    "# Importar las librerías necesarias\n",
    "import numpy as np\n",
    "import pandas as pd\n",
    "import matplotlib.pyplot as plt\n",
    "from sklearn.preprocessing import StandardScaler"
   ]
  },
  {
   "cell_type": "code",
   "execution_count": 4,
   "id": "87762dbd-1d6e-4ab8-ad4b-5d8492257d29",
   "metadata": {},
   "outputs": [],
   "source": [
    "# Instalar solamente una vez:\n",
    "#!pip install factor_analyzer"
   ]
  },
  {
   "cell_type": "markdown",
   "id": "7636c5f7-7bd8-4d9d-8773-510b9d4b23dd",
   "metadata": {},
   "source": [
    "El archivo “Base 05 Jóvenes” contiene los resultados de una encuesta aplicada por estudiantes de una clase de estadística en la FSEV UK (Eslovaquia) en 2013. El archivo consta de las respuestas de 1010 jóvenes entre 15 y 30 años. Los temas de la encuesta son: preferencias musicales (19 ítems), preferencias por tipo de películas (12 ítems), uso de internet, hábitos de gasto (7 ítems), y datos demográficos (10 ítems). Se realizará un análisis factorial exploratorio con las variables de preferencias por películas."
   ]
  },
  {
   "cell_type": "code",
   "execution_count": 3,
   "id": "690db3fa-d5af-4ffa-8169-08eee9bde839",
   "metadata": {
    "scrolled": true
   },
   "outputs": [
    {
     "data": {
      "text/plain": [
       "Index(['Slowsongsorfastsongs', 'Dance', 'Folk', 'Country', 'Classicalmusic',\n",
       "       'Musical', 'Pop', 'Rock', 'MetalorHardrock', 'Punk', 'HiphopRap',\n",
       "       'ReggaeSka', 'SwingJazz', 'Rocknroll', 'Alternative', 'Latino',\n",
       "       'TechnoTrance', 'Opera', 'Movies', 'Horror', 'Thriller', 'Comedy',\n",
       "       'Romantic', 'Scifi', 'War', 'FantasyFairytales', 'Animated',\n",
       "       'Documentary', 'Western', 'Action', 'Internetusage', 'Finances',\n",
       "       'Shoppingcentres', 'Brandedclothing', 'Entertainmentspending',\n",
       "       'Spendingonlooks', 'Spendingongadgets', 'Spendingonhealthyeating',\n",
       "       'Age', 'Height', 'Weight', 'Numberofsiblings', 'GenderD', 'Education',\n",
       "       'OnlyChildD', 'CityD', 'Houseblockofflats'],\n",
       "      dtype='object')"
      ]
     },
     "execution_count": 3,
     "metadata": {},
     "output_type": "execute_result"
    }
   ],
   "source": [
    "df = pd.read_excel('data/b15_jovenes.xlsx')\n",
    "df.columns"
   ]
  },
  {
   "cell_type": "code",
   "execution_count": 5,
   "id": "38e15a03-d3b3-4bf6-9d98-fb028659d0a6",
   "metadata": {},
   "outputs": [],
   "source": [
    "movies = ['Horror', 'Thriller', 'Comedy', 'Romantic', 'Scifi', 'War', \n",
    "         'FantasyFairytales', 'Animated', 'Documentary', 'Western']\n",
    "df = df[movies]"
   ]
  },
  {
   "cell_type": "markdown",
   "id": "886ba41b-fd21-4057-b239-3c0f8c908290",
   "metadata": {},
   "source": [
    "## Preparación de datos"
   ]
  },
  {
   "cell_type": "code",
   "execution_count": 6,
   "id": "e0c78c89-cd69-4fcb-bf8b-2a788fbf8197",
   "metadata": {},
   "outputs": [],
   "source": [
    "# Eliminar filas con valores faltantes\n",
    "df = df.dropna()"
   ]
  },
  {
   "cell_type": "code",
   "execution_count": 8,
   "id": "f1f88360-beb3-4cd4-b715-b66ab6cf6471",
   "metadata": {},
   "outputs": [],
   "source": [
    "# Estandarizar las variables\n",
    "scaler = StandardScaler()\n",
    "df = pd.DataFrame(scaler.fit_transform(df), columns=df.columns)"
   ]
  },
  {
   "cell_type": "markdown",
   "id": "8a5703a5-aeb4-4b69-abd1-54db9c7b55aa",
   "metadata": {},
   "source": [
    "**Tamaño muestral**: Existen varias recomendaciones en cuanto al tamaño muestral. Tabachnick y Fidell (2001) recomiendan tener al menos 300 casos, pero aceptan que muestras más pequeñas son suficientes bajo ciertas condiciones. Nunnally (1978) recomienda tener al menos 10 observaciones por cada variable.\n",
    "\n",
    "**Tipo de variables**: Aunque es preferible que las variables sean cuantitativas (de escala), en la práctica se pueden utilizar variables con escala de medición ordinal de cinco o más niveles. Si es así, se requiere que la distancia entre cada categoría sea igual (es decir, que los intervalos sean regulares). Se asume que las escalas tipo Likert cumplen con esta condición."
   ]
  },
  {
   "cell_type": "markdown",
   "id": "78e80bb1-72bd-456e-957d-3a5a28d6a55d",
   "metadata": {},
   "source": [
    "**Condiciones de aplicabilidad**: El procedimiento más común para realizar el análisis de factores se basa en el análisis de componentes principales. En el análisis de componentes principales se utilizan las correlaciones entre conjuntos de ítems (variables) para calcular los factores que los representan. Por esta razón, como condición de aplicabilidad, es deseable obtener la matriz de correlaciones y asegurarse que varios coeficientes sean mayores que 0.3. \n",
    "\n",
    "Sin embargo, para evaluar la conveniencia del análisis factorial, es preferible revisar la prueba de esfericidad de Bartlett y el estadístico Kaiser-Meyer-Olkin (KMO). La prueba de esfericidad de Bartlett prueba la hipótesis nula de que matriz de correlación es una matriz diagonal (todos los elementos son cero excepto la diagonal principal). Debido a que se espera que existan varias correlaciones significativas, lo deseable es rechazar la hipótesis nula (p < 0.05). "
   ]
  },
  {
   "cell_type": "code",
   "execution_count": 11,
   "id": "5f77fd46-1bc3-42fa-a2c9-fa96eabc870d",
   "metadata": {},
   "outputs": [
    {
     "name": "stdout",
     "output_type": "stream",
     "text": [
      "Chi cuadrado \t 1745.1725805109593\n",
      "P valor \t 0.0\n"
     ]
    }
   ],
   "source": [
    "from factor_analyzer.factor_analyzer import calculate_bartlett_sphericity\n",
    "\n",
    "print('Chi cuadrado \\t', calculate_bartlett_sphericity(df)[0])\n",
    "print('P valor \\t', calculate_bartlett_sphericity(df)[1])"
   ]
  },
  {
   "cell_type": "markdown",
   "id": "9d6d5759-2a83-4009-b363-4fc1f87f1a03",
   "metadata": {},
   "source": [
    "El estadístico KMO indica si las correlaciones entre variables pueden ser explicadas por las otras variables. Es deseable obtener valores del KMO de al menos 0.50."
   ]
  },
  {
   "cell_type": "code",
   "execution_count": 12,
   "id": "773f5a18-2788-4f94-85c3-67eee4237196",
   "metadata": {},
   "outputs": [
    {
     "name": "stdout",
     "output_type": "stream",
     "text": [
      "KMO score: 0.6366726640440346\n"
     ]
    }
   ],
   "source": [
    "from factor_analyzer.factor_analyzer import calculate_kmo\n",
    "\n",
    "kmo_all, kmo_model = calculate_kmo(df[df.columns])\n",
    "print('KMO score:',kmo_model)"
   ]
  },
  {
   "cell_type": "markdown",
   "id": "de55fec4-b534-4582-94e7-604b563ad6b0",
   "metadata": {},
   "source": [
    "*Interpretación*: Se considera que el análisis factorial es adecuado dado que se obtuvo un valor mayor a 0.5 en el indicador KMO y la significancia de la prueba de esfericidad de Bartlett es menor que 0.05."
   ]
  },
  {
   "cell_type": "markdown",
   "id": "28d59f7d-5bb8-4fd6-8c08-17e30143a842",
   "metadata": {},
   "source": [
    "## Extracción de factores\n",
    "Existen varios métodos de extracción de factores. La técnica más utilizada es la de análisis de componentes principales. Otras opciones máxima verosimilitud ('ml') o bien el método predeterminado \"minres\" que es más robusto ante violaciones de normalidad.\n",
    "\n",
    "Se recomienda que si el objetivo es reducir las variables se utilice componentes principales, y si el objetivo es identificar dimensiones latentes se utilice la factorización de ejes principales. Sin embargo, aunque difieren en lo teórico, los resultados suelen ser similares por lo que generalmente se puede utilizar análisis de componentes principales."
   ]
  },
  {
   "cell_type": "code",
   "execution_count": 13,
   "id": "9840f645-aaf5-42e4-b05b-bdfcc1480e13",
   "metadata": {},
   "outputs": [
    {
     "data": {
      "text/html": [
       "<style>#sk-container-id-1 {color: black;background-color: white;}#sk-container-id-1 pre{padding: 0;}#sk-container-id-1 div.sk-toggleable {background-color: white;}#sk-container-id-1 label.sk-toggleable__label {cursor: pointer;display: block;width: 100%;margin-bottom: 0;padding: 0.3em;box-sizing: border-box;text-align: center;}#sk-container-id-1 label.sk-toggleable__label-arrow:before {content: \"▸\";float: left;margin-right: 0.25em;color: #696969;}#sk-container-id-1 label.sk-toggleable__label-arrow:hover:before {color: black;}#sk-container-id-1 div.sk-estimator:hover label.sk-toggleable__label-arrow:before {color: black;}#sk-container-id-1 div.sk-toggleable__content {max-height: 0;max-width: 0;overflow: hidden;text-align: left;background-color: #f0f8ff;}#sk-container-id-1 div.sk-toggleable__content pre {margin: 0.2em;color: black;border-radius: 0.25em;background-color: #f0f8ff;}#sk-container-id-1 input.sk-toggleable__control:checked~div.sk-toggleable__content {max-height: 200px;max-width: 100%;overflow: auto;}#sk-container-id-1 input.sk-toggleable__control:checked~label.sk-toggleable__label-arrow:before {content: \"▾\";}#sk-container-id-1 div.sk-estimator input.sk-toggleable__control:checked~label.sk-toggleable__label {background-color: #d4ebff;}#sk-container-id-1 div.sk-label input.sk-toggleable__control:checked~label.sk-toggleable__label {background-color: #d4ebff;}#sk-container-id-1 input.sk-hidden--visually {border: 0;clip: rect(1px 1px 1px 1px);clip: rect(1px, 1px, 1px, 1px);height: 1px;margin: -1px;overflow: hidden;padding: 0;position: absolute;width: 1px;}#sk-container-id-1 div.sk-estimator {font-family: monospace;background-color: #f0f8ff;border: 1px dotted black;border-radius: 0.25em;box-sizing: border-box;margin-bottom: 0.5em;}#sk-container-id-1 div.sk-estimator:hover {background-color: #d4ebff;}#sk-container-id-1 div.sk-parallel-item::after {content: \"\";width: 100%;border-bottom: 1px solid gray;flex-grow: 1;}#sk-container-id-1 div.sk-label:hover label.sk-toggleable__label {background-color: #d4ebff;}#sk-container-id-1 div.sk-serial::before {content: \"\";position: absolute;border-left: 1px solid gray;box-sizing: border-box;top: 0;bottom: 0;left: 50%;z-index: 0;}#sk-container-id-1 div.sk-serial {display: flex;flex-direction: column;align-items: center;background-color: white;padding-right: 0.2em;padding-left: 0.2em;position: relative;}#sk-container-id-1 div.sk-item {position: relative;z-index: 1;}#sk-container-id-1 div.sk-parallel {display: flex;align-items: stretch;justify-content: center;background-color: white;position: relative;}#sk-container-id-1 div.sk-item::before, #sk-container-id-1 div.sk-parallel-item::before {content: \"\";position: absolute;border-left: 1px solid gray;box-sizing: border-box;top: 0;bottom: 0;left: 50%;z-index: -1;}#sk-container-id-1 div.sk-parallel-item {display: flex;flex-direction: column;z-index: 1;position: relative;background-color: white;}#sk-container-id-1 div.sk-parallel-item:first-child::after {align-self: flex-end;width: 50%;}#sk-container-id-1 div.sk-parallel-item:last-child::after {align-self: flex-start;width: 50%;}#sk-container-id-1 div.sk-parallel-item:only-child::after {width: 0;}#sk-container-id-1 div.sk-dashed-wrapped {border: 1px dashed gray;margin: 0 0.4em 0.5em 0.4em;box-sizing: border-box;padding-bottom: 0.4em;background-color: white;}#sk-container-id-1 div.sk-label label {font-family: monospace;font-weight: bold;display: inline-block;line-height: 1.2em;}#sk-container-id-1 div.sk-label-container {text-align: center;}#sk-container-id-1 div.sk-container {/* jupyter's `normalize.less` sets `[hidden] { display: none; }` but bootstrap.min.css set `[hidden] { display: none !important; }` so we also need the `!important` here to be able to override the default hidden behavior on the sphinx rendered scikit-learn.org. See: https://github.com/scikit-learn/scikit-learn/issues/21755 */display: inline-block !important;position: relative;}#sk-container-id-1 div.sk-text-repr-fallback {display: none;}</style><div id=\"sk-container-id-1\" class=\"sk-top-container\"><div class=\"sk-text-repr-fallback\"><pre>FactorAnalyzer(method=&#x27;principal&#x27;, rotation=&#x27;varimax&#x27;, rotation_kwargs={})</pre><b>In a Jupyter environment, please rerun this cell to show the HTML representation or trust the notebook. <br />On GitHub, the HTML representation is unable to render, please try loading this page with nbviewer.org.</b></div><div class=\"sk-container\" hidden><div class=\"sk-item\"><div class=\"sk-estimator sk-toggleable\"><input class=\"sk-toggleable__control sk-hidden--visually\" id=\"sk-estimator-id-1\" type=\"checkbox\" checked><label for=\"sk-estimator-id-1\" class=\"sk-toggleable__label sk-toggleable__label-arrow\">FactorAnalyzer</label><div class=\"sk-toggleable__content\"><pre>FactorAnalyzer(method=&#x27;principal&#x27;, rotation=&#x27;varimax&#x27;, rotation_kwargs={})</pre></div></div></div></div></div>"
      ],
      "text/plain": [
       "FactorAnalyzer(method='principal', rotation='varimax', rotation_kwargs={})"
      ]
     },
     "execution_count": 13,
     "metadata": {},
     "output_type": "execute_result"
    }
   ],
   "source": [
    "from factor_analyzer import FactorAnalyzer\n",
    "\n",
    "fa = FactorAnalyzer(rotation='varimax', method='principal')\n",
    "fa.fit(df)"
   ]
  },
  {
   "cell_type": "markdown",
   "id": "685a7152-01c1-4809-aafd-e2a6a41ab987",
   "metadata": {},
   "source": [
    "**Rotación de factores**: Existen dos opciones para la rotación de factores, ortogonal u oblicua. La rotación ortogonal lleva a una solución que es más fácil de interpretar, sin embargo, requiere asumir que los constructos subyacentes son independientes. La rotación oblicua, en cambio, permite asumir que los factores están correlacionados.\n",
    "\n",
    "Dentro de las técnicas de rotación ortogonal, la más utilizada es el método varimax. La técnica más común en rotación oblicua es oblimin directo, y requiere establecer un valor delta que determina el nivel de correlación entre factores. El valor predeterminado de cero implica que los factores están moderadamente correlacionados\n",
    "\n",
    "Si los patrones de los factores son claros, ambos tipos de técnicas llevarán a resultados similares. Se puede partir de una rotación varimax. Si los resultados son difíciles de interpretar se recomienda una rotación oblicua. "
   ]
  },
  {
   "cell_type": "markdown",
   "id": "c2948855-39d3-4795-8b13-271716a6d8df",
   "metadata": {},
   "source": [
    "## Determinación del número de factores\n",
    "El investigador debe determinar el número de factores que se consideran deseables. Algunas técnicas que pueden ayudar en esta decisión son el criterio de Kaiser o el gráfico de sedimentación (scree plot). Bajo el criterio de Kaiser (que es el más empleado) solamente los factores con un autovalor de 1.0 o más deben ser considerados.  \n",
    "\n",
    "El gráfico de sedimentación (scree plot) implica graficar cada uno de los valores propio del factor y revisar la gráfica para ver el punto en el cual la curva cambia de dirección y se vuelve horizontal. Se recomienda retener todos los factores por encima de ese punto de quiebre (es decir, uno menos que el punto de quiebre). Si el gráfico de sedimentación no es claro, se puede tomar la decisión con base en el criterio de Kaiser."
   ]
  },
  {
   "cell_type": "code",
   "execution_count": 14,
   "id": "2ca881c6-6e71-404d-9e03-b063fe2d753e",
   "metadata": {},
   "outputs": [
    {
     "data": {
      "image/png": "[encoded data removed]",
      "text/plain": [
       "<Figure size 640x480 with 1 Axes>"
      ]
     },
     "metadata": {},
     "output_type": "display_data"
    }
   ],
   "source": [
    "# Cálculo de autovalores\n",
    "ev, v = fa.get_eigenvalues()\n",
    "\n",
    "# Scree plot\n",
    "plt.scatter(range(1, 10), ev[:9])\n",
    "plt.plot(range(1,10), ev[:9])\n",
    "plt.title('ScreePlot');"
   ]
  },
  {
   "cell_type": "code",
   "execution_count": 15,
   "id": "13eb8347-01f0-46d6-8ec0-38b0f64f3dc6",
   "metadata": {},
   "outputs": [
    {
     "data": {
      "text/html": [
       "<style>#sk-container-id-2 {color: black;background-color: white;}#sk-container-id-2 pre{padding: 0;}#sk-container-id-2 div.sk-toggleable {background-color: white;}#sk-container-id-2 label.sk-toggleable__label {cursor: pointer;display: block;width: 100%;margin-bottom: 0;padding: 0.3em;box-sizing: border-box;text-align: center;}#sk-container-id-2 label.sk-toggleable__label-arrow:before {content: \"▸\";float: left;margin-right: 0.25em;color: #696969;}#sk-container-id-2 label.sk-toggleable__label-arrow:hover:before {color: black;}#sk-container-id-2 div.sk-estimator:hover label.sk-toggleable__label-arrow:before {color: black;}#sk-container-id-2 div.sk-toggleable__content {max-height: 0;max-width: 0;overflow: hidden;text-align: left;background-color: #f0f8ff;}#sk-container-id-2 div.sk-toggleable__content pre {margin: 0.2em;color: black;border-radius: 0.25em;background-color: #f0f8ff;}#sk-container-id-2 input.sk-toggleable__control:checked~div.sk-toggleable__content {max-height: 200px;max-width: 100%;overflow: auto;}#sk-container-id-2 input.sk-toggleable__control:checked~label.sk-toggleable__label-arrow:before {content: \"▾\";}#sk-container-id-2 div.sk-estimator input.sk-toggleable__control:checked~label.sk-toggleable__label {background-color: #d4ebff;}#sk-container-id-2 div.sk-label input.sk-toggleable__control:checked~label.sk-toggleable__label {background-color: #d4ebff;}#sk-container-id-2 input.sk-hidden--visually {border: 0;clip: rect(1px 1px 1px 1px);clip: rect(1px, 1px, 1px, 1px);height: 1px;margin: -1px;overflow: hidden;padding: 0;position: absolute;width: 1px;}#sk-container-id-2 div.sk-estimator {font-family: monospace;background-color: #f0f8ff;border: 1px dotted black;border-radius: 0.25em;box-sizing: border-box;margin-bottom: 0.5em;}#sk-container-id-2 div.sk-estimator:hover {background-color: #d4ebff;}#sk-container-id-2 div.sk-parallel-item::after {content: \"\";width: 100%;border-bottom: 1px solid gray;flex-grow: 1;}#sk-container-id-2 div.sk-label:hover label.sk-toggleable__label {background-color: #d4ebff;}#sk-container-id-2 div.sk-serial::before {content: \"\";position: absolute;border-left: 1px solid gray;box-sizing: border-box;top: 0;bottom: 0;left: 50%;z-index: 0;}#sk-container-id-2 div.sk-serial {display: flex;flex-direction: column;align-items: center;background-color: white;padding-right: 0.2em;padding-left: 0.2em;position: relative;}#sk-container-id-2 div.sk-item {position: relative;z-index: 1;}#sk-container-id-2 div.sk-parallel {display: flex;align-items: stretch;justify-content: center;background-color: white;position: relative;}#sk-container-id-2 div.sk-item::before, #sk-container-id-2 div.sk-parallel-item::before {content: \"\";position: absolute;border-left: 1px solid gray;box-sizing: border-box;top: 0;bottom: 0;left: 50%;z-index: -1;}#sk-container-id-2 div.sk-parallel-item {display: flex;flex-direction: column;z-index: 1;position: relative;background-color: white;}#sk-container-id-2 div.sk-parallel-item:first-child::after {align-self: flex-end;width: 50%;}#sk-container-id-2 div.sk-parallel-item:last-child::after {align-self: flex-start;width: 50%;}#sk-container-id-2 div.sk-parallel-item:only-child::after {width: 0;}#sk-container-id-2 div.sk-dashed-wrapped {border: 1px dashed gray;margin: 0 0.4em 0.5em 0.4em;box-sizing: border-box;padding-bottom: 0.4em;background-color: white;}#sk-container-id-2 div.sk-label label {font-family: monospace;font-weight: bold;display: inline-block;line-height: 1.2em;}#sk-container-id-2 div.sk-label-container {text-align: center;}#sk-container-id-2 div.sk-container {/* jupyter's `normalize.less` sets `[hidden] { display: none; }` but bootstrap.min.css set `[hidden] { display: none !important; }` so we also need the `!important` here to be able to override the default hidden behavior on the sphinx rendered scikit-learn.org. See: https://github.com/scikit-learn/scikit-learn/issues/21755 */display: inline-block !important;position: relative;}#sk-container-id-2 div.sk-text-repr-fallback {display: none;}</style><div id=\"sk-container-id-2\" class=\"sk-top-container\"><div class=\"sk-text-repr-fallback\"><pre>FactorAnalyzer(method=&#x27;principal&#x27;, rotation=&#x27;varimax&#x27;, rotation_kwargs={})</pre><b>In a Jupyter environment, please rerun this cell to show the HTML representation or trust the notebook. <br />On GitHub, the HTML representation is unable to render, please try loading this page with nbviewer.org.</b></div><div class=\"sk-container\" hidden><div class=\"sk-item\"><div class=\"sk-estimator sk-toggleable\"><input class=\"sk-toggleable__control sk-hidden--visually\" id=\"sk-estimator-id-2\" type=\"checkbox\" checked><label for=\"sk-estimator-id-2\" class=\"sk-toggleable__label sk-toggleable__label-arrow\">FactorAnalyzer</label><div class=\"sk-toggleable__content\"><pre>FactorAnalyzer(method=&#x27;principal&#x27;, rotation=&#x27;varimax&#x27;, rotation_kwargs={})</pre></div></div></div></div></div>"
      ],
      "text/plain": [
       "FactorAnalyzer(method='principal', rotation='varimax', rotation_kwargs={})"
      ]
     },
     "execution_count": 15,
     "metadata": {},
     "output_type": "execute_result"
    }
   ],
   "source": [
    "k = 3\n",
    "fa = FactorAnalyzer(rotation = 'varimax', n_factors=k, method='principal')\n",
    "fa.fit(df)"
   ]
  },
  {
   "cell_type": "markdown",
   "id": "8216adff-5208-4888-b56e-8d2a4fc54791",
   "metadata": {},
   "source": [
    "La comunalidad indica qué proporción de la varianza de una variable es varianza común. Aunque no existe un mínimo, las variables con una comunalidad baja (menores a 0.30) son candidatas a ser descartadas en el análisis. "
   ]
  },
  {
   "cell_type": "code",
   "execution_count": 16,
   "id": "d7eba9ea-3b72-4baa-97a2-9b42ca557f0f",
   "metadata": {},
   "outputs": [
    {
     "data": {
      "text/html": [
       "<div>\n",
       "<style scoped>\n",
       "    .dataframe tbody tr th:only-of-type {\n",
       "        vertical-align: middle;\n",
       "    }\n",
       "\n",
       "    .dataframe tbody tr th {\n",
       "        vertical-align: top;\n",
       "    }\n",
       "\n",
       "    .dataframe thead th {\n",
       "        text-align: right;\n",
       "    }\n",
       "</style>\n",
       "<table border=\"1\" class=\"dataframe\">\n",
       "  <thead>\n",
       "    <tr style=\"text-align: right;\">\n",
       "      <th></th>\n",
       "      <th>Comunalidades</th>\n",
       "    </tr>\n",
       "  </thead>\n",
       "  <tbody>\n",
       "    <tr>\n",
       "      <th>Horror</th>\n",
       "      <td>0.722433</td>\n",
       "    </tr>\n",
       "    <tr>\n",
       "      <th>Thriller</th>\n",
       "      <td>0.656641</td>\n",
       "    </tr>\n",
       "    <tr>\n",
       "      <th>Comedy</th>\n",
       "      <td>0.354689</td>\n",
       "    </tr>\n",
       "    <tr>\n",
       "      <th>Romantic</th>\n",
       "      <td>0.451211</td>\n",
       "    </tr>\n",
       "    <tr>\n",
       "      <th>Scifi</th>\n",
       "      <td>0.381957</td>\n",
       "    </tr>\n",
       "    <tr>\n",
       "      <th>War</th>\n",
       "      <td>0.533511</td>\n",
       "    </tr>\n",
       "    <tr>\n",
       "      <th>FantasyFairytales</th>\n",
       "      <td>0.750558</td>\n",
       "    </tr>\n",
       "    <tr>\n",
       "      <th>Animated</th>\n",
       "      <td>0.685297</td>\n",
       "    </tr>\n",
       "    <tr>\n",
       "      <th>Documentary</th>\n",
       "      <td>0.503787</td>\n",
       "    </tr>\n",
       "    <tr>\n",
       "      <th>Western</th>\n",
       "      <td>0.524899</td>\n",
       "    </tr>\n",
       "  </tbody>\n",
       "</table>\n",
       "</div>"
      ],
      "text/plain": [
       "                   Comunalidades\n",
       "Horror                  0.722433\n",
       "Thriller                0.656641\n",
       "Comedy                  0.354689\n",
       "Romantic                0.451211\n",
       "Scifi                   0.381957\n",
       "War                     0.533511\n",
       "FantasyFairytales       0.750558\n",
       "Animated                0.685297\n",
       "Documentary             0.503787\n",
       "Western                 0.524899"
      ]
     },
     "execution_count": 16,
     "metadata": {},
     "output_type": "execute_result"
    }
   ],
   "source": [
    "communalities = pd.DataFrame(fa.get_communalities(), index=list(df.columns))\n",
    "communalities.rename(columns={0: 'Comunalidades'}, inplace=True)\n",
    "communalities"
   ]
  },
  {
   "cell_type": "markdown",
   "id": "5a8ff319-7901-4ec8-85b4-0e630fe597b8",
   "metadata": {},
   "source": [
    "**Cargas factoriales**:  Una vez extraídos los factores, la correlación entre una variable y el factor se llama carga factorial. Si son pocos factores, las cargas factoriales deberán ser de al menos 0.50, pero si son muchos factores se pueden considerar arriba de 0.30"
   ]
  },
  {
   "cell_type": "code",
   "execution_count": 17,
   "id": "69bedaf7-3eea-476c-964a-ef4f769555a4",
   "metadata": {},
   "outputs": [
    {
     "data": {
      "text/html": [
       "<div>\n",
       "<style scoped>\n",
       "    .dataframe tbody tr th:only-of-type {\n",
       "        vertical-align: middle;\n",
       "    }\n",
       "\n",
       "    .dataframe tbody tr th {\n",
       "        vertical-align: top;\n",
       "    }\n",
       "\n",
       "    .dataframe thead th {\n",
       "        text-align: right;\n",
       "    }\n",
       "</style>\n",
       "<table border=\"1\" class=\"dataframe\">\n",
       "  <thead>\n",
       "    <tr style=\"text-align: right;\">\n",
       "      <th></th>\n",
       "      <th>Factor1</th>\n",
       "      <th>Factor2</th>\n",
       "      <th>Factor3</th>\n",
       "      <th>Factor_asignado</th>\n",
       "    </tr>\n",
       "  </thead>\n",
       "  <tbody>\n",
       "    <tr>\n",
       "      <th>Horror</th>\n",
       "      <td>0.000799</td>\n",
       "      <td>-0.002794</td>\n",
       "      <td>0.849956</td>\n",
       "      <td>Factor3</td>\n",
       "    </tr>\n",
       "    <tr>\n",
       "      <th>Thriller</th>\n",
       "      <td>0.169281</td>\n",
       "      <td>-0.065567</td>\n",
       "      <td>0.789738</td>\n",
       "      <td>Factor3</td>\n",
       "    </tr>\n",
       "    <tr>\n",
       "      <th>Comedy</th>\n",
       "      <td>-0.153854</td>\n",
       "      <td>0.517767</td>\n",
       "      <td>0.250870</td>\n",
       "      <td>Factor2</td>\n",
       "    </tr>\n",
       "    <tr>\n",
       "      <th>Romantic</th>\n",
       "      <td>-0.286011</td>\n",
       "      <td>0.595466</td>\n",
       "      <td>-0.121776</td>\n",
       "      <td>Factor2</td>\n",
       "    </tr>\n",
       "    <tr>\n",
       "      <th>Scifi</th>\n",
       "      <td>0.496997</td>\n",
       "      <td>0.041558</td>\n",
       "      <td>0.364998</td>\n",
       "      <td>Factor1</td>\n",
       "    </tr>\n",
       "    <tr>\n",
       "      <th>War</th>\n",
       "      <td>0.689322</td>\n",
       "      <td>-0.146336</td>\n",
       "      <td>0.192176</td>\n",
       "      <td>Factor1</td>\n",
       "    </tr>\n",
       "    <tr>\n",
       "      <th>FantasyFairytales</th>\n",
       "      <td>0.113458</td>\n",
       "      <td>0.848633</td>\n",
       "      <td>-0.132316</td>\n",
       "      <td>Factor2</td>\n",
       "    </tr>\n",
       "    <tr>\n",
       "      <th>Animated</th>\n",
       "      <td>0.171219</td>\n",
       "      <td>0.809457</td>\n",
       "      <td>-0.027577</td>\n",
       "      <td>Factor2</td>\n",
       "    </tr>\n",
       "    <tr>\n",
       "      <th>Documentary</th>\n",
       "      <td>0.668431</td>\n",
       "      <td>0.130171</td>\n",
       "      <td>-0.200108</td>\n",
       "      <td>Factor1</td>\n",
       "    </tr>\n",
       "    <tr>\n",
       "      <th>Western</th>\n",
       "      <td>0.715541</td>\n",
       "      <td>-0.079425</td>\n",
       "      <td>0.081197</td>\n",
       "      <td>Factor1</td>\n",
       "    </tr>\n",
       "  </tbody>\n",
       "</table>\n",
       "</div>"
      ],
      "text/plain": [
       "                    Factor1   Factor2   Factor3 Factor_asignado\n",
       "Horror             0.000799 -0.002794  0.849956         Factor3\n",
       "Thriller           0.169281 -0.065567  0.789738         Factor3\n",
       "Comedy            -0.153854  0.517767  0.250870         Factor2\n",
       "Romantic          -0.286011  0.595466 -0.121776         Factor2\n",
       "Scifi              0.496997  0.041558  0.364998         Factor1\n",
       "War                0.689322 -0.146336  0.192176         Factor1\n",
       "FantasyFairytales  0.113458  0.848633 -0.132316         Factor2\n",
       "Animated           0.171219  0.809457 -0.027577         Factor2\n",
       "Documentary        0.668431  0.130171 -0.200108         Factor1\n",
       "Western            0.715541 -0.079425  0.081197         Factor1"
      ]
     },
     "execution_count": 17,
     "metadata": {},
     "output_type": "execute_result"
    }
   ],
   "source": [
    "fa_loadings = pd.DataFrame(fa.loadings_,\n",
    "                           columns=['Factor{}'.format(i) for i in range(1, k+1)],\n",
    "                           index=df.columns)\n",
    "fa_loadings['Factor_asignado'] = fa_loadings.idxmax(axis=1)\n",
    "fa_loadings"
   ]
  },
  {
   "cell_type": "markdown",
   "id": "1326b619-acff-44f3-91f9-86a288bab621",
   "metadata": {},
   "source": [
    "Las cargas más altas suelen ayudar a identificar la variable latente en cada componente. En la presencia de cargas cruzadas (variables con cargas importantes en más de un componente) se recomienda volver a realizar el análisis cambiando el número de componentes, utilizando otra técnica de rotación, o en el caso extremo, eliminar esa variable. \n",
    "\n",
    "Una vez identificados los factores, se debe crear una etiqueta que describa cada factor. Considere que el análisis factorial exploratorio es una técnica de exploración de datos, por tanto, la interpretación queda al juicio del investigador. "
   ]
  },
  {
   "cell_type": "code",
   "execution_count": 18,
   "id": "462512ae-5dcd-4d59-a582-14bc75153c3c",
   "metadata": {},
   "outputs": [
    {
     "data": {
      "text/html": [
       "<style type=\"text/css\">\n",
       "#T_4e728_row0_col0, #T_4e728_row1_col0, #T_4e728_row2_col0, #T_4e728_row3_col0, #T_4e728_row4_col1, #T_4e728_row5_col1, #T_4e728_row6_col1, #T_4e728_row7_col1, #T_4e728_row8_col2, #T_4e728_row9_col2 {\n",
       "  background-color: yellow;\n",
       "}\n",
       "</style>\n",
       "<table id=\"T_4e728\">\n",
       "  <thead>\n",
       "    <tr>\n",
       "      <th class=\"blank level0\" >&nbsp;</th>\n",
       "      <th id=\"T_4e728_level0_col0\" class=\"col_heading level0 col0\" >Factor1</th>\n",
       "      <th id=\"T_4e728_level0_col1\" class=\"col_heading level0 col1\" >Factor2</th>\n",
       "      <th id=\"T_4e728_level0_col2\" class=\"col_heading level0 col2\" >Factor3</th>\n",
       "      <th id=\"T_4e728_level0_col3\" class=\"col_heading level0 col3\" >Factor_asignado</th>\n",
       "    </tr>\n",
       "  </thead>\n",
       "  <tbody>\n",
       "    <tr>\n",
       "      <th id=\"T_4e728_level0_row0\" class=\"row_heading level0 row0\" >Scifi</th>\n",
       "      <td id=\"T_4e728_row0_col0\" class=\"data row0 col0\" >0.496997</td>\n",
       "      <td id=\"T_4e728_row0_col1\" class=\"data row0 col1\" >0.041558</td>\n",
       "      <td id=\"T_4e728_row0_col2\" class=\"data row0 col2\" >0.364998</td>\n",
       "      <td id=\"T_4e728_row0_col3\" class=\"data row0 col3\" >Factor1</td>\n",
       "    </tr>\n",
       "    <tr>\n",
       "      <th id=\"T_4e728_level0_row1\" class=\"row_heading level0 row1\" >War</th>\n",
       "      <td id=\"T_4e728_row1_col0\" class=\"data row1 col0\" >0.689322</td>\n",
       "      <td id=\"T_4e728_row1_col1\" class=\"data row1 col1\" >-0.146336</td>\n",
       "      <td id=\"T_4e728_row1_col2\" class=\"data row1 col2\" >0.192176</td>\n",
       "      <td id=\"T_4e728_row1_col3\" class=\"data row1 col3\" >Factor1</td>\n",
       "    </tr>\n",
       "    <tr>\n",
       "      <th id=\"T_4e728_level0_row2\" class=\"row_heading level0 row2\" >Documentary</th>\n",
       "      <td id=\"T_4e728_row2_col0\" class=\"data row2 col0\" >0.668431</td>\n",
       "      <td id=\"T_4e728_row2_col1\" class=\"data row2 col1\" >0.130171</td>\n",
       "      <td id=\"T_4e728_row2_col2\" class=\"data row2 col2\" >-0.200108</td>\n",
       "      <td id=\"T_4e728_row2_col3\" class=\"data row2 col3\" >Factor1</td>\n",
       "    </tr>\n",
       "    <tr>\n",
       "      <th id=\"T_4e728_level0_row3\" class=\"row_heading level0 row3\" >Western</th>\n",
       "      <td id=\"T_4e728_row3_col0\" class=\"data row3 col0\" >0.715541</td>\n",
       "      <td id=\"T_4e728_row3_col1\" class=\"data row3 col1\" >-0.079425</td>\n",
       "      <td id=\"T_4e728_row3_col2\" class=\"data row3 col2\" >0.081197</td>\n",
       "      <td id=\"T_4e728_row3_col3\" class=\"data row3 col3\" >Factor1</td>\n",
       "    </tr>\n",
       "    <tr>\n",
       "      <th id=\"T_4e728_level0_row4\" class=\"row_heading level0 row4\" >Comedy</th>\n",
       "      <td id=\"T_4e728_row4_col0\" class=\"data row4 col0\" >-0.153854</td>\n",
       "      <td id=\"T_4e728_row4_col1\" class=\"data row4 col1\" >0.517767</td>\n",
       "      <td id=\"T_4e728_row4_col2\" class=\"data row4 col2\" >0.250870</td>\n",
       "      <td id=\"T_4e728_row4_col3\" class=\"data row4 col3\" >Factor2</td>\n",
       "    </tr>\n",
       "    <tr>\n",
       "      <th id=\"T_4e728_level0_row5\" class=\"row_heading level0 row5\" >Romantic</th>\n",
       "      <td id=\"T_4e728_row5_col0\" class=\"data row5 col0\" >-0.286011</td>\n",
       "      <td id=\"T_4e728_row5_col1\" class=\"data row5 col1\" >0.595466</td>\n",
       "      <td id=\"T_4e728_row5_col2\" class=\"data row5 col2\" >-0.121776</td>\n",
       "      <td id=\"T_4e728_row5_col3\" class=\"data row5 col3\" >Factor2</td>\n",
       "    </tr>\n",
       "    <tr>\n",
       "      <th id=\"T_4e728_level0_row6\" class=\"row_heading level0 row6\" >FantasyFairytales</th>\n",
       "      <td id=\"T_4e728_row6_col0\" class=\"data row6 col0\" >0.113458</td>\n",
       "      <td id=\"T_4e728_row6_col1\" class=\"data row6 col1\" >0.848633</td>\n",
       "      <td id=\"T_4e728_row6_col2\" class=\"data row6 col2\" >-0.132316</td>\n",
       "      <td id=\"T_4e728_row6_col3\" class=\"data row6 col3\" >Factor2</td>\n",
       "    </tr>\n",
       "    <tr>\n",
       "      <th id=\"T_4e728_level0_row7\" class=\"row_heading level0 row7\" >Animated</th>\n",
       "      <td id=\"T_4e728_row7_col0\" class=\"data row7 col0\" >0.171219</td>\n",
       "      <td id=\"T_4e728_row7_col1\" class=\"data row7 col1\" >0.809457</td>\n",
       "      <td id=\"T_4e728_row7_col2\" class=\"data row7 col2\" >-0.027577</td>\n",
       "      <td id=\"T_4e728_row7_col3\" class=\"data row7 col3\" >Factor2</td>\n",
       "    </tr>\n",
       "    <tr>\n",
       "      <th id=\"T_4e728_level0_row8\" class=\"row_heading level0 row8\" >Horror</th>\n",
       "      <td id=\"T_4e728_row8_col0\" class=\"data row8 col0\" >0.000799</td>\n",
       "      <td id=\"T_4e728_row8_col1\" class=\"data row8 col1\" >-0.002794</td>\n",
       "      <td id=\"T_4e728_row8_col2\" class=\"data row8 col2\" >0.849956</td>\n",
       "      <td id=\"T_4e728_row8_col3\" class=\"data row8 col3\" >Factor3</td>\n",
       "    </tr>\n",
       "    <tr>\n",
       "      <th id=\"T_4e728_level0_row9\" class=\"row_heading level0 row9\" >Thriller</th>\n",
       "      <td id=\"T_4e728_row9_col0\" class=\"data row9 col0\" >0.169281</td>\n",
       "      <td id=\"T_4e728_row9_col1\" class=\"data row9 col1\" >-0.065567</td>\n",
       "      <td id=\"T_4e728_row9_col2\" class=\"data row9 col2\" >0.789738</td>\n",
       "      <td id=\"T_4e728_row9_col3\" class=\"data row9 col3\" >Factor3</td>\n",
       "    </tr>\n",
       "  </tbody>\n",
       "</table>\n"
      ],
      "text/plain": [
       "<pandas.io.formats.style.Styler at 0x14713ae90>"
      ]
     },
     "execution_count": 18,
     "metadata": {},
     "output_type": "execute_result"
    }
   ],
   "source": [
    "factors = list(fa_loadings.columns[:-1])\n",
    "table = fa_loadings.sort_values(by='Factor_asignado').style.map(lambda x: 'background-color: yellow' if abs(x) > 0.4 else '', subset=factors)\n",
    "table "
   ]
  },
  {
   "cell_type": "markdown",
   "id": "5177d754-7b5c-4f4c-9b94-9bff38405f7d",
   "metadata": {},
   "source": [
    "**Presentación de resultados**:  \n",
    "\"Se realizó un análisis factorial exploratorio con los 11 ítems de preferencias por películas mediante el método de análisis de componentes principales con rotación varimax. La medida Kaiser-Meyer-Olkin de adecuación de muestreo, KMO = 0.637, es superior al límite aceptable de 0.50. El resultado de la prueba de esfericidad de Bartlett, χ= 1745.17, p < 0.001, respalda también el empleo del análisis factorial. En el análisis inicial se obtuvieron tres componentes con autovalores mayores a 1. El primer componente se relaciona con películas \"de aventura\", el segundo componente son películas \"encantadoras\", y el tercer componente son películas \"inquietantes\". La tabla muestra las cargas factoriales después de la rotación.\""
   ]
  },
  {
   "cell_type": "markdown",
   "id": "8e2cb8ab-0db8-4f38-8b9d-957eeec3acc9",
   "metadata": {},
   "source": [
    "**Documentación**\n",
    "https://factor-analyzer.readthedocs.io/en/latest/factor_analyzer.html"
   ]
  },
  {
   "cell_type": "code",
   "execution_count": null,
   "id": "f8cc76f0-503a-43ce-bea7-cd0f8afacb9c",
   "metadata": {},
   "outputs": [],
   "source": []
  }
 ],
 "metadata": {
  "kernelspec": {
   "display_name": "Python 3 (ipykernel)",
   "language": "python",
   "name": "python3"
  },
  "language_info": {
   "codemirror_mode": {
    "name": "ipython",
    "version": 3
   },
   "file_extension": ".py",
   "mimetype": "text/x-python",
   "name": "python",
   "nbconvert_exporter": "python",
   "pygments_lexer": "ipython3",
   "version": "3.11.7"
  }
 },
 "nbformat": 4,
 "nbformat_minor": 5
}
