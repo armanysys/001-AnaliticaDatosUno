{
 "cells": [
  {
   "cell_type": "markdown",
   "id": "ecc7a6a8-7b95-42a3-ae4d-1acce323a449",
   "metadata": {},
   "source": [
    "# Sesión 03: Preparación de datos\n",
    "Dificultad 😀😀😀😀 (fácil)  \n",
    "Uso de código: 🐍🐍 (poco)"
   ]
  },
  {
   "cell_type": "markdown",
   "id": "7218eb4b-0951-493a-bb40-4349e0324eca",
   "metadata": {},
   "source": [
    "## 3.1 Selección de filas y columnas\n",
    "El archivo \"hoteles-vienna.xlsx\" contiene información de hoteles con habitaciones disponibles para cierto fin de semana. Aunque tenemos varias variables, solamente utilizaremos las siguientes:\n",
    "- hotel_id: es un identificador que reemplaza el nombre del hotel por razones de confidencialidad. [Culitativas Nominales]\n",
    "- accommodationtype: tipo de hospedaje [nominal]\n",
    "- price: precio. [Cuantitativa de Razon]\n",
    "- center1distance: distancia al centro [Cuantitativa de Razon]\n",
    "- starrating: calificación de 1 a 5 estrellas (más es mejor).  [cualitativa Ordinal]\n",
    "- guestreviewsrating: calificación promedio otorgada por los clientes. [Cunatitativa de intervalo]\n",
    "\n",
    "- Discrtos:Entre dos valores cualquiera hay una cantidad finita de datos\n",
    "- Continuos: Entre dos valores cualquiera hay una cantidad infinita de datos\n",
    "- Longitudinales:Series de datos\n",
    "- Corte de transversal: en un punto en el tiempo\n"
   ]
  },
  {
   "cell_type": "code",
   "execution_count": 1,
   "id": "147a8a4a-ad36-479a-968b-ef3a6b8dcff9",
   "metadata": {
    "tags": []
   },
   "outputs": [],
   "source": [
    "# Importa la biblioteca de pandas\n",
    "import pandas as pd"
   ]
  },
  {
   "cell_type": "code",
   "execution_count": 2,
   "id": "b9109c73-2b62-4e45-b2b9-5ccc4e131a7b",
   "metadata": {
    "tags": []
   },
   "outputs": [],
   "source": [
    "# Carga el archivo 'data/hotelbookingdata-vienna.xlsx'\n",
    "df = pd.read_excel('data/hoteles-viena.xlsx')"
   ]
  },
  {
   "cell_type": "code",
   "execution_count": 3,
   "id": "ba324f76-51e0-4e03-87c2-4d52cd6a1ec7",
   "metadata": {
    "tags": []
   },
   "outputs": [],
   "source": [
    "variables = [\"hotel_id\", \"accommodationtype\", \"price\", \"center1distance\",\n",
    "             \"starrating\", \"guestreviewsrating\"]\n",
    "# Selecciona las variables del listado en el dataframe\n",
    "df = df[variables]"
   ]
  },
  {
   "cell_type": "markdown",
   "id": "c68520d1-521e-43e4-b5cc-bdc790addfb6",
   "metadata": {},
   "source": [
    "La base de datos abarca diferentes tipos de hospedajes. En un dataframe llamad 'df' podemos consultar qué categorías tiene una variable \"A\" y con qué frecuencia aparece mediante `df['A'].value_counts()`"
   ]
  },
  {
   "cell_type": "code",
   "execution_count": 4,
   "id": "bebf334d-208b-47a4-8282-bb522aceff08",
   "metadata": {
    "tags": []
   },
   "outputs": [
    {
     "name": "stdout",
     "output_type": "stream",
     "text": [
      "<class 'pandas.core.frame.DataFrame'>\n",
      "RangeIndex: 430 entries, 0 to 429\n",
      "Data columns (total 6 columns):\n",
      " #   Column              Non-Null Count  Dtype  \n",
      "---  ------              --------------  -----  \n",
      " 0   hotel_id            430 non-null    int64  \n",
      " 1   accommodationtype   430 non-null    object \n",
      " 2   price               430 non-null    int64  \n",
      " 3   center1distance     430 non-null    float64\n",
      " 4   starrating          430 non-null    float64\n",
      " 5   guestreviewsrating  395 non-null    float64\n",
      "dtypes: float64(3), int64(2), object(1)\n",
      "memory usage: 20.3+ KB\n"
     ]
    }
   ],
   "source": [
    "# Obtén la frecuencia por tipo de hospedaje\n",
    "df.info()"
   ]
  },
  {
   "cell_type": "code",
   "execution_count": 5,
   "id": "53ea9974-aa62-4168-8997-128341178740",
   "metadata": {
    "tags": []
   },
   "outputs": [],
   "source": [
    "# Selecciona las filas correspondientes a hoteles\n",
    "df = df[df['accommodationtype'] == 'Hotel']"
   ]
  },
  {
   "cell_type": "code",
   "execution_count": 6,
   "id": "c0354dda-933d-474d-8ef9-537615d1ad6b",
   "metadata": {
    "tags": []
   },
   "outputs": [
    {
     "name": "stdout",
     "output_type": "stream",
     "text": [
      "<class 'pandas.core.frame.DataFrame'>\n",
      "Index: 266 entries, 1 to 428\n",
      "Data columns (total 6 columns):\n",
      " #   Column              Non-Null Count  Dtype  \n",
      "---  ------              --------------  -----  \n",
      " 0   hotel_id            266 non-null    int64  \n",
      " 1   accommodationtype   266 non-null    object \n",
      " 2   price               266 non-null    int64  \n",
      " 3   center1distance     266 non-null    float64\n",
      " 4   starrating          266 non-null    float64\n",
      " 5   guestreviewsrating  265 non-null    float64\n",
      "dtypes: float64(3), int64(2), object(1)\n",
      "memory usage: 14.5+ KB\n"
     ]
    }
   ],
   "source": [
    "# Consulta la información de las variables\n",
    "df.info()"
   ]
  },
  {
   "cell_type": "code",
   "execution_count": 7,
   "id": "4d78d3fe-f1af-4033-b2c2-5d734b46c909",
   "metadata": {
    "tags": []
   },
   "outputs": [
    {
     "data": {
      "text/html": [
       "<div>\n",
       "<style scoped>\n",
       "    .dataframe tbody tr th:only-of-type {\n",
       "        vertical-align: middle;\n",
       "    }\n",
       "\n",
       "    .dataframe tbody tr th {\n",
       "        vertical-align: top;\n",
       "    }\n",
       "\n",
       "    .dataframe thead th {\n",
       "        text-align: right;\n",
       "    }\n",
       "</style>\n",
       "<table border=\"1\" class=\"dataframe\">\n",
       "  <thead>\n",
       "    <tr style=\"text-align: right;\">\n",
       "      <th></th>\n",
       "      <th>hotel_id</th>\n",
       "      <th>accommodationtype</th>\n",
       "      <th>price</th>\n",
       "      <th>center1distance</th>\n",
       "      <th>starrating</th>\n",
       "      <th>guestreviewsrating</th>\n",
       "    </tr>\n",
       "  </thead>\n",
       "  <tbody>\n",
       "    <tr>\n",
       "      <th>1</th>\n",
       "      <td>21897</td>\n",
       "      <td>Hotel</td>\n",
       "      <td>81</td>\n",
       "      <td>1.7</td>\n",
       "      <td>4.0</td>\n",
       "      <td>3.95</td>\n",
       "    </tr>\n",
       "    <tr>\n",
       "      <th>2</th>\n",
       "      <td>21901</td>\n",
       "      <td>Hotel</td>\n",
       "      <td>85</td>\n",
       "      <td>1.4</td>\n",
       "      <td>4.0</td>\n",
       "      <td>3.75</td>\n",
       "    </tr>\n",
       "    <tr>\n",
       "      <th>3</th>\n",
       "      <td>21902</td>\n",
       "      <td>Hotel</td>\n",
       "      <td>83</td>\n",
       "      <td>1.7</td>\n",
       "      <td>3.0</td>\n",
       "      <td>45.00</td>\n",
       "    </tr>\n",
       "    <tr>\n",
       "      <th>4</th>\n",
       "      <td>21903</td>\n",
       "      <td>Hotel</td>\n",
       "      <td>82</td>\n",
       "      <td>1.2</td>\n",
       "      <td>4.0</td>\n",
       "      <td>3.95</td>\n",
       "    </tr>\n",
       "    <tr>\n",
       "      <th>6</th>\n",
       "      <td>21906</td>\n",
       "      <td>Hotel</td>\n",
       "      <td>103</td>\n",
       "      <td>0.9</td>\n",
       "      <td>4.0</td>\n",
       "      <td>3.95</td>\n",
       "    </tr>\n",
       "  </tbody>\n",
       "</table>\n",
       "</div>"
      ],
      "text/plain": [
       "   hotel_id accommodationtype  price  center1distance  starrating  \\\n",
       "1     21897             Hotel     81              1.7         4.0   \n",
       "2     21901             Hotel     85              1.4         4.0   \n",
       "3     21902             Hotel     83              1.7         3.0   \n",
       "4     21903             Hotel     82              1.2         4.0   \n",
       "6     21906             Hotel    103              0.9         4.0   \n",
       "\n",
       "   guestreviewsrating  \n",
       "1                3.95  \n",
       "2                3.75  \n",
       "3               45.00  \n",
       "4                3.95  \n",
       "6                3.95  "
      ]
     },
     "execution_count": 7,
     "metadata": {},
     "output_type": "execute_result"
    }
   ],
   "source": [
    "# Revisa las primeras cinco filas\n",
    "df.head(5)"
   ]
  },
  {
   "cell_type": "code",
   "execution_count": 8,
   "id": "ba0e99d9-440d-43d9-8eb2-8a9ae28fe731",
   "metadata": {
    "tags": []
   },
   "outputs": [
    {
     "data": {
      "text/html": [
       "<div>\n",
       "<style scoped>\n",
       "    .dataframe tbody tr th:only-of-type {\n",
       "        vertical-align: middle;\n",
       "    }\n",
       "\n",
       "    .dataframe tbody tr th {\n",
       "        vertical-align: top;\n",
       "    }\n",
       "\n",
       "    .dataframe thead th {\n",
       "        text-align: right;\n",
       "    }\n",
       "</style>\n",
       "<table border=\"1\" class=\"dataframe\">\n",
       "  <thead>\n",
       "    <tr style=\"text-align: right;\">\n",
       "      <th></th>\n",
       "      <th>hotel_id</th>\n",
       "      <th>accommodationtype</th>\n",
       "      <th>price</th>\n",
       "      <th>center1distance</th>\n",
       "      <th>starrating</th>\n",
       "      <th>guestreviewsrating</th>\n",
       "    </tr>\n",
       "  </thead>\n",
       "  <tbody>\n",
       "    <tr>\n",
       "      <th>423</th>\n",
       "      <td>22402</td>\n",
       "      <td>Hotel</td>\n",
       "      <td>95</td>\n",
       "      <td>1.5</td>\n",
       "      <td>4.0</td>\n",
       "      <td>4.15</td>\n",
       "    </tr>\n",
       "    <tr>\n",
       "      <th>424</th>\n",
       "      <td>22403</td>\n",
       "      <td>Hotel</td>\n",
       "      <td>73</td>\n",
       "      <td>1.5</td>\n",
       "      <td>3.0</td>\n",
       "      <td>3.45</td>\n",
       "    </tr>\n",
       "    <tr>\n",
       "      <th>426</th>\n",
       "      <td>22406</td>\n",
       "      <td>Hotel</td>\n",
       "      <td>185</td>\n",
       "      <td>0.8</td>\n",
       "      <td>5.0</td>\n",
       "      <td>4.35</td>\n",
       "    </tr>\n",
       "    <tr>\n",
       "      <th>427</th>\n",
       "      <td>22407</td>\n",
       "      <td>Hotel</td>\n",
       "      <td>100</td>\n",
       "      <td>1.0</td>\n",
       "      <td>4.0</td>\n",
       "      <td>4.45</td>\n",
       "    </tr>\n",
       "    <tr>\n",
       "      <th>428</th>\n",
       "      <td>22408</td>\n",
       "      <td>Hotel</td>\n",
       "      <td>58</td>\n",
       "      <td>1.4</td>\n",
       "      <td>3.0</td>\n",
       "      <td>3.25</td>\n",
       "    </tr>\n",
       "  </tbody>\n",
       "</table>\n",
       "</div>"
      ],
      "text/plain": [
       "     hotel_id accommodationtype  price  center1distance  starrating  \\\n",
       "423     22402             Hotel     95              1.5         4.0   \n",
       "424     22403             Hotel     73              1.5         3.0   \n",
       "426     22406             Hotel    185              0.8         5.0   \n",
       "427     22407             Hotel    100              1.0         4.0   \n",
       "428     22408             Hotel     58              1.4         3.0   \n",
       "\n",
       "     guestreviewsrating  \n",
       "423                4.15  \n",
       "424                3.45  \n",
       "426                4.35  \n",
       "427                4.45  \n",
       "428                3.25  "
      ]
     },
     "execution_count": 8,
     "metadata": {},
     "output_type": "execute_result"
    }
   ],
   "source": [
    "# Revisa las primeras cinco filas\n",
    "df.tail(5)"
   ]
  },
  {
   "cell_type": "code",
   "execution_count": 9,
   "id": "90806454-ac56-4bf5-b2b8-8070c06a6693",
   "metadata": {
    "tags": []
   },
   "outputs": [
    {
     "data": {
      "text/html": [
       "<div>\n",
       "<style scoped>\n",
       "    .dataframe tbody tr th:only-of-type {\n",
       "        vertical-align: middle;\n",
       "    }\n",
       "\n",
       "    .dataframe tbody tr th {\n",
       "        vertical-align: top;\n",
       "    }\n",
       "\n",
       "    .dataframe thead th {\n",
       "        text-align: right;\n",
       "    }\n",
       "</style>\n",
       "<table border=\"1\" class=\"dataframe\">\n",
       "  <thead>\n",
       "    <tr style=\"text-align: right;\">\n",
       "      <th></th>\n",
       "      <th>hotel_id</th>\n",
       "      <th>accommodationtype</th>\n",
       "      <th>price</th>\n",
       "      <th>center1distance</th>\n",
       "      <th>starrating</th>\n",
       "      <th>guestreviewsrating</th>\n",
       "    </tr>\n",
       "  </thead>\n",
       "  <tbody>\n",
       "    <tr>\n",
       "      <th>355</th>\n",
       "      <td>22321</td>\n",
       "      <td>Hotel</td>\n",
       "      <td>140</td>\n",
       "      <td>7.8</td>\n",
       "      <td>4.0</td>\n",
       "      <td>3.55</td>\n",
       "    </tr>\n",
       "    <tr>\n",
       "      <th>105</th>\n",
       "      <td>22026</td>\n",
       "      <td>Hotel</td>\n",
       "      <td>127</td>\n",
       "      <td>0.8</td>\n",
       "      <td>4.0</td>\n",
       "      <td>45.00</td>\n",
       "    </tr>\n",
       "    <tr>\n",
       "      <th>203</th>\n",
       "      <td>22140</td>\n",
       "      <td>Hotel</td>\n",
       "      <td>79</td>\n",
       "      <td>1.3</td>\n",
       "      <td>4.0</td>\n",
       "      <td>3.75</td>\n",
       "    </tr>\n",
       "    <tr>\n",
       "      <th>354</th>\n",
       "      <td>22320</td>\n",
       "      <td>Hotel</td>\n",
       "      <td>99</td>\n",
       "      <td>7.7</td>\n",
       "      <td>3.0</td>\n",
       "      <td>3.75</td>\n",
       "    </tr>\n",
       "    <tr>\n",
       "      <th>118</th>\n",
       "      <td>22039</td>\n",
       "      <td>Hotel</td>\n",
       "      <td>371</td>\n",
       "      <td>0.5</td>\n",
       "      <td>5.0</td>\n",
       "      <td>4.65</td>\n",
       "    </tr>\n",
       "  </tbody>\n",
       "</table>\n",
       "</div>"
      ],
      "text/plain": [
       "     hotel_id accommodationtype  price  center1distance  starrating  \\\n",
       "355     22321             Hotel    140              7.8         4.0   \n",
       "105     22026             Hotel    127              0.8         4.0   \n",
       "203     22140             Hotel     79              1.3         4.0   \n",
       "354     22320             Hotel     99              7.7         3.0   \n",
       "118     22039             Hotel    371              0.5         5.0   \n",
       "\n",
       "     guestreviewsrating  \n",
       "355                3.55  \n",
       "105               45.00  \n",
       "203                3.75  \n",
       "354                3.75  \n",
       "118                4.65  "
      ]
     },
     "execution_count": 9,
     "metadata": {},
     "output_type": "execute_result"
    }
   ],
   "source": [
    "df.sample(5)"
   ]
  },
  {
   "cell_type": "code",
   "execution_count": 10,
   "id": "93245587-7dcf-4b9c-95d7-983bf42022d8",
   "metadata": {
    "tags": []
   },
   "outputs": [
    {
     "data": {
      "text/plain": [
       "<bound method Series.count of 1      Hotel\n",
       "2      Hotel\n",
       "3      Hotel\n",
       "4      Hotel\n",
       "6      Hotel\n",
       "       ...  \n",
       "423    Hotel\n",
       "424    Hotel\n",
       "426    Hotel\n",
       "427    Hotel\n",
       "428    Hotel\n",
       "Name: accommodationtype, Length: 266, dtype: object>"
      ]
     },
     "execution_count": 10,
     "metadata": {},
     "output_type": "execute_result"
    }
   ],
   "source": [
    "df['accommodationtype'].count"
   ]
  },
  {
   "cell_type": "markdown",
   "id": "e121b10a-7c83-4249-bfe7-8b87bd3bb70c",
   "metadata": {
    "tags": []
   },
   "source": [
    "## 3.2 Datos duplicados\n",
    "En algunas ocasiones puede haber datos duplicados en nuestra base de datos. Para visualizar los datos duplicados podemos usar *duplicated()* de la siguiente manera:\n",
    "`df[df.duplicated()]`. Si nos interesa en la variable \"A\" en particular encontonces es `df[df['A'].duplicated()]`"
   ]
  },
  {
   "cell_type": "code",
   "execution_count": 11,
   "id": "5228a140-5d4b-4a63-8b23-2a37b446f208",
   "metadata": {
    "tags": []
   },
   "outputs": [
    {
     "data": {
      "text/html": [
       "<div>\n",
       "<style scoped>\n",
       "    .dataframe tbody tr th:only-of-type {\n",
       "        vertical-align: middle;\n",
       "    }\n",
       "\n",
       "    .dataframe tbody tr th {\n",
       "        vertical-align: top;\n",
       "    }\n",
       "\n",
       "    .dataframe thead th {\n",
       "        text-align: right;\n",
       "    }\n",
       "</style>\n",
       "<table border=\"1\" class=\"dataframe\">\n",
       "  <thead>\n",
       "    <tr style=\"text-align: right;\">\n",
       "      <th></th>\n",
       "      <th>hotel_id</th>\n",
       "      <th>accommodationtype</th>\n",
       "      <th>price</th>\n",
       "      <th>center1distance</th>\n",
       "      <th>starrating</th>\n",
       "      <th>guestreviewsrating</th>\n",
       "    </tr>\n",
       "  </thead>\n",
       "  <tbody>\n",
       "    <tr>\n",
       "      <th>129</th>\n",
       "      <td>22050</td>\n",
       "      <td>Hotel</td>\n",
       "      <td>242</td>\n",
       "      <td>0.0</td>\n",
       "      <td>4.0</td>\n",
       "      <td>4.85</td>\n",
       "    </tr>\n",
       "    <tr>\n",
       "      <th>242</th>\n",
       "      <td>22185</td>\n",
       "      <td>Hotel</td>\n",
       "      <td>84</td>\n",
       "      <td>0.8</td>\n",
       "      <td>3.0</td>\n",
       "      <td>2.25</td>\n",
       "    </tr>\n",
       "  </tbody>\n",
       "</table>\n",
       "</div>"
      ],
      "text/plain": [
       "     hotel_id accommodationtype  price  center1distance  starrating  \\\n",
       "129     22050             Hotel    242              0.0         4.0   \n",
       "242     22185             Hotel     84              0.8         3.0   \n",
       "\n",
       "     guestreviewsrating  \n",
       "129                4.85  \n",
       "242                2.25  "
      ]
     },
     "execution_count": 11,
     "metadata": {},
     "output_type": "execute_result"
    }
   ],
   "source": [
    "# Identifica los datos duplicados en todas las variables \n",
    "df[df.duplicated()]"
   ]
  },
  {
   "cell_type": "markdown",
   "id": "332e92d6-d878-41e0-b8dd-4920f6c1be90",
   "metadata": {},
   "source": [
    "Una opción para eliminar datos duplicados es usar *drop_duplicates()*. En nuestro ejemplo sería: `df.drop_duplicates()`. Esto sólo elimina observaciones filas duplicadas en todas las variables.De manera predeterminada, solamente conserva la primera fila de ellas.  \n",
    "En algunas ocasiones necesitaremos eliminar observaciones duplicadas en solamente algunas variables. En ese caso se puede agregar un listado con el argumento *subset*. En nuestro ejemplo: `df.drop_duplicates(subset=['hotel_id'])`"
   ]
  },
  {
   "cell_type": "code",
   "execution_count": 12,
   "id": "a3fa32e0-3055-4ea9-bc91-aca0cbfe437b",
   "metadata": {
    "tags": []
   },
   "outputs": [],
   "source": [
    "# Elimina las observaciones duplicadas\n",
    "df = df.drop_duplicates()"
   ]
  },
  {
   "cell_type": "code",
   "execution_count": 13,
   "id": "5a4014fa-21bc-4260-88c0-0a710bca79d2",
   "metadata": {
    "tags": []
   },
   "outputs": [
    {
     "name": "stdout",
     "output_type": "stream",
     "text": [
      "<class 'pandas.core.frame.DataFrame'>\n",
      "Index: 264 entries, 1 to 428\n",
      "Data columns (total 6 columns):\n",
      " #   Column              Non-Null Count  Dtype  \n",
      "---  ------              --------------  -----  \n",
      " 0   hotel_id            264 non-null    int64  \n",
      " 1   accommodationtype   264 non-null    object \n",
      " 2   price               264 non-null    int64  \n",
      " 3   center1distance     264 non-null    float64\n",
      " 4   starrating          264 non-null    float64\n",
      " 5   guestreviewsrating  263 non-null    float64\n",
      "dtypes: float64(3), int64(2), object(1)\n",
      "memory usage: 14.4+ KB\n"
     ]
    }
   ],
   "source": [
    "df.info()"
   ]
  },
  {
   "cell_type": "markdown",
   "id": "dc23ad92-68c6-452a-a868-418cf8fbb0e2",
   "metadata": {},
   "source": [
    "## 3.3 Datos perdidos\n",
    "Cuando se presentan datos perdidos, es necesario evaluar si los datos perdidos se puede considerar aleatorios o no aleatorios.\n",
    "\n",
    "# se considera datos perdidos es de 5% razonable a 10% grabe\n",
    "# problema metodologico"
   ]
  },
  {
   "cell_type": "markdown",
   "id": "0eb9d4a8-4a6a-485c-ba2d-93b925b327b9",
   "metadata": {},
   "source": []
  },
  {
   "cell_type": "code",
   "execution_count": 14,
   "id": "5c4c7073-a004-496d-8f5a-be7d878acb2b",
   "metadata": {
    "tags": []
   },
   "outputs": [
    {
     "name": "stdout",
     "output_type": "stream",
     "text": [
      "<class 'pandas.core.frame.DataFrame'>\n",
      "Index: 264 entries, 1 to 428\n",
      "Data columns (total 6 columns):\n",
      " #   Column              Non-Null Count  Dtype  \n",
      "---  ------              --------------  -----  \n",
      " 0   hotel_id            264 non-null    int64  \n",
      " 1   accommodationtype   264 non-null    object \n",
      " 2   price               264 non-null    int64  \n",
      " 3   center1distance     264 non-null    float64\n",
      " 4   starrating          264 non-null    float64\n",
      " 5   guestreviewsrating  263 non-null    float64\n",
      "dtypes: float64(3), int64(2), object(1)\n",
      "memory usage: 14.4+ KB\n"
     ]
    }
   ],
   "source": [
    "# Identifica qué variables tienen valores perdidos con 'info()'\n",
    "df.info()"
   ]
  },
  {
   "cell_type": "markdown",
   "id": "227aa539-568d-49ab-bade-3a540aad237d",
   "metadata": {},
   "source": [
    "Para identificar las filas con datos perdidos podemos usar `df[df.isna().any(axis=1)]`. El método *isna()* sirve para indicar qué valores son perdidos y el método *any* sirve para indicar qué filas tienen al menos un valor perdido."
   ]
  },
  {
   "cell_type": "code",
   "execution_count": 15,
   "id": "2ebbe088-d503-4be4-9b86-d2cc6657d89c",
   "metadata": {
    "tags": []
   },
   "outputs": [
    {
     "data": {
      "text/html": [
       "<div>\n",
       "<style scoped>\n",
       "    .dataframe tbody tr th:only-of-type {\n",
       "        vertical-align: middle;\n",
       "    }\n",
       "\n",
       "    .dataframe tbody tr th {\n",
       "        vertical-align: top;\n",
       "    }\n",
       "\n",
       "    .dataframe thead th {\n",
       "        text-align: right;\n",
       "    }\n",
       "</style>\n",
       "<table border=\"1\" class=\"dataframe\">\n",
       "  <thead>\n",
       "    <tr style=\"text-align: right;\">\n",
       "      <th></th>\n",
       "      <th>hotel_id</th>\n",
       "      <th>accommodationtype</th>\n",
       "      <th>price</th>\n",
       "      <th>center1distance</th>\n",
       "      <th>starrating</th>\n",
       "      <th>guestreviewsrating</th>\n",
       "    </tr>\n",
       "  </thead>\n",
       "  <tbody>\n",
       "    <tr>\n",
       "      <th>14</th>\n",
       "      <td>21916</td>\n",
       "      <td>Hotel</td>\n",
       "      <td>106</td>\n",
       "      <td>0.7</td>\n",
       "      <td>2.5</td>\n",
       "      <td>NaN</td>\n",
       "    </tr>\n",
       "  </tbody>\n",
       "</table>\n",
       "</div>"
      ],
      "text/plain": [
       "    hotel_id accommodationtype  price  center1distance  starrating  \\\n",
       "14     21916             Hotel    106              0.7         2.5   \n",
       "\n",
       "    guestreviewsrating  \n",
       "14                 NaN  "
      ]
     },
     "execution_count": 15,
     "metadata": {},
     "output_type": "execute_result"
    }
   ],
   "source": [
    "# Identifica qué observaciones tienen datos perdidos \n",
    "# ¿Qué característica tienen en común la mayoría?\n",
    "df[df.isna().any(axis=1)]"
   ]
  },
  {
   "cell_type": "markdown",
   "id": "7085062f-edda-4284-8de7-1e80293166ce",
   "metadata": {},
   "source": [
    "Los métodos más comunes para tratar con datos perdidos son:\n",
    "- Borrar filas o columnas con datos perdidos.\n",
    "- Agregar una variable que distinga los datos perdidos.\n",
    "- Imputación simple: Reemplazar los datos perdidos con un valor calculado a partir de la misma variable.\n",
    "- Imputación multivariada: Reemplazar los datos perdidos con un valor calculado a partir de otras variables.  \n",
    "\n",
    "**Imputación univariada**  \n",
    "La práctica más común es reemplazar los valores con la media, mediana o moda. Una opción es utilizar la biblioteca de pandas. La imputación con la media para una columna 'A' es:  \n",
    "`df['A'] = df['A'].fillna(df['A'].mean())`  \n",
    "La imputación con la mediana es  \n",
    "`df['A'] = df['A'].fillna(df['A'].median())` \n",
    "La imputación con la moda es:  \n",
    "`df['A'] = df['A'].fillna(df['A'].mode().iloc[0])` \n",
    "\n",
    "Utiliza la media para reemplazar valores perdidos"
   ]
  },
  {
   "cell_type": "code",
   "execution_count": 16,
   "id": "a784c00e-cd78-4d3e-979b-c1569edeb08d",
   "metadata": {
    "tags": []
   },
   "outputs": [],
   "source": [
    "# Consulta las variables que tienen datos perdidos con 'info()'\n"
   ]
  },
  {
   "cell_type": "code",
   "execution_count": 17,
   "id": "5ebe4b69-0127-4e4c-acc8-75c51bfb29a1",
   "metadata": {
    "tags": []
   },
   "outputs": [],
   "source": [
    "# Reemplaza los valores perdidos con la media\n",
    "df['guestreviewsrating'] = df['guestreviewsrating'].fillna(df['guestreviewsrating'].mean())"
   ]
  },
  {
   "cell_type": "code",
   "execution_count": 18,
   "id": "00ee4686-ef6f-4847-9559-b2f6a641b9dd",
   "metadata": {
    "tags": []
   },
   "outputs": [
    {
     "data": {
      "text/html": [
       "<div>\n",
       "<style scoped>\n",
       "    .dataframe tbody tr th:only-of-type {\n",
       "        vertical-align: middle;\n",
       "    }\n",
       "\n",
       "    .dataframe tbody tr th {\n",
       "        vertical-align: top;\n",
       "    }\n",
       "\n",
       "    .dataframe thead th {\n",
       "        text-align: right;\n",
       "    }\n",
       "</style>\n",
       "<table border=\"1\" class=\"dataframe\">\n",
       "  <thead>\n",
       "    <tr style=\"text-align: right;\">\n",
       "      <th></th>\n",
       "      <th>hotel_id</th>\n",
       "      <th>accommodationtype</th>\n",
       "      <th>price</th>\n",
       "      <th>center1distance</th>\n",
       "      <th>starrating</th>\n",
       "      <th>guestreviewsrating</th>\n",
       "    </tr>\n",
       "  </thead>\n",
       "  <tbody>\n",
       "  </tbody>\n",
       "</table>\n",
       "</div>"
      ],
      "text/plain": [
       "Empty DataFrame\n",
       "Columns: [hotel_id, accommodationtype, price, center1distance, starrating, guestreviewsrating]\n",
       "Index: []"
      ]
     },
     "execution_count": 18,
     "metadata": {},
     "output_type": "execute_result"
    }
   ],
   "source": [
    "df[df.isna().any(axis=1)]"
   ]
  },
  {
   "cell_type": "code",
   "execution_count": 19,
   "id": "f3088f0f-2793-4da3-90a0-4a48080bd1cf",
   "metadata": {
    "tags": []
   },
   "outputs": [
    {
     "name": "stdout",
     "output_type": "stream",
     "text": [
      "<class 'pandas.core.frame.DataFrame'>\n",
      "Index: 264 entries, 1 to 428\n",
      "Data columns (total 6 columns):\n",
      " #   Column              Non-Null Count  Dtype  \n",
      "---  ------              --------------  -----  \n",
      " 0   hotel_id            264 non-null    int64  \n",
      " 1   accommodationtype   264 non-null    object \n",
      " 2   price               264 non-null    int64  \n",
      " 3   center1distance     264 non-null    float64\n",
      " 4   starrating          264 non-null    float64\n",
      " 5   guestreviewsrating  264 non-null    float64\n",
      "dtypes: float64(3), int64(2), object(1)\n",
      "memory usage: 14.4+ KB\n"
     ]
    }
   ],
   "source": [
    "df.info()"
   ]
  },
  {
   "cell_type": "code",
   "execution_count": 20,
   "id": "e700afed-7aa4-439e-8537-0253b6d94df5",
   "metadata": {
    "tags": []
   },
   "outputs": [
    {
     "data": {
      "text/html": [
       "<div>\n",
       "<style scoped>\n",
       "    .dataframe tbody tr th:only-of-type {\n",
       "        vertical-align: middle;\n",
       "    }\n",
       "\n",
       "    .dataframe tbody tr th {\n",
       "        vertical-align: top;\n",
       "    }\n",
       "\n",
       "    .dataframe thead th {\n",
       "        text-align: right;\n",
       "    }\n",
       "</style>\n",
       "<table border=\"1\" class=\"dataframe\">\n",
       "  <thead>\n",
       "    <tr style=\"text-align: right;\">\n",
       "      <th></th>\n",
       "      <th>hotel_id</th>\n",
       "      <th>price</th>\n",
       "      <th>center1distance</th>\n",
       "      <th>starrating</th>\n",
       "      <th>guestreviewsrating</th>\n",
       "    </tr>\n",
       "  </thead>\n",
       "  <tbody>\n",
       "    <tr>\n",
       "      <th>count</th>\n",
       "      <td>264.000000</td>\n",
       "      <td>264.000000</td>\n",
       "      <td>264.000000</td>\n",
       "      <td>264.000000</td>\n",
       "      <td>264.000000</td>\n",
       "    </tr>\n",
       "    <tr>\n",
       "      <th>mean</th>\n",
       "      <td>22161.590909</td>\n",
       "      <td>129.931818</td>\n",
       "      <td>1.687500</td>\n",
       "      <td>3.609848</td>\n",
       "      <td>11.330989</td>\n",
       "    </tr>\n",
       "    <tr>\n",
       "      <th>std</th>\n",
       "      <td>147.742786</td>\n",
       "      <td>103.565794</td>\n",
       "      <td>1.794869</td>\n",
       "      <td>0.743321</td>\n",
       "      <td>15.398060</td>\n",
       "    </tr>\n",
       "    <tr>\n",
       "      <th>min</th>\n",
       "      <td>21897.000000</td>\n",
       "      <td>33.000000</td>\n",
       "      <td>0.000000</td>\n",
       "      <td>1.000000</td>\n",
       "      <td>2.250000</td>\n",
       "    </tr>\n",
       "    <tr>\n",
       "      <th>25%</th>\n",
       "      <td>22030.750000</td>\n",
       "      <td>81.750000</td>\n",
       "      <td>0.700000</td>\n",
       "      <td>3.000000</td>\n",
       "      <td>3.950000</td>\n",
       "    </tr>\n",
       "    <tr>\n",
       "      <th>50%</th>\n",
       "      <td>22169.500000</td>\n",
       "      <td>102.000000</td>\n",
       "      <td>1.100000</td>\n",
       "      <td>4.000000</td>\n",
       "      <td>4.350000</td>\n",
       "    </tr>\n",
       "    <tr>\n",
       "      <th>75%</th>\n",
       "      <td>22290.000000</td>\n",
       "      <td>138.250000</td>\n",
       "      <td>1.925000</td>\n",
       "      <td>4.000000</td>\n",
       "      <td>4.550000</td>\n",
       "    </tr>\n",
       "    <tr>\n",
       "      <th>max</th>\n",
       "      <td>22408.000000</td>\n",
       "      <td>1012.000000</td>\n",
       "      <td>13.000000</td>\n",
       "      <td>5.000000</td>\n",
       "      <td>45.000000</td>\n",
       "    </tr>\n",
       "  </tbody>\n",
       "</table>\n",
       "</div>"
      ],
      "text/plain": [
       "           hotel_id        price  center1distance  starrating  \\\n",
       "count    264.000000   264.000000       264.000000  264.000000   \n",
       "mean   22161.590909   129.931818         1.687500    3.609848   \n",
       "std      147.742786   103.565794         1.794869    0.743321   \n",
       "min    21897.000000    33.000000         0.000000    1.000000   \n",
       "25%    22030.750000    81.750000         0.700000    3.000000   \n",
       "50%    22169.500000   102.000000         1.100000    4.000000   \n",
       "75%    22290.000000   138.250000         1.925000    4.000000   \n",
       "max    22408.000000  1012.000000        13.000000    5.000000   \n",
       "\n",
       "       guestreviewsrating  \n",
       "count          264.000000  \n",
       "mean            11.330989  \n",
       "std             15.398060  \n",
       "min              2.250000  \n",
       "25%              3.950000  \n",
       "50%              4.350000  \n",
       "75%              4.550000  \n",
       "max             45.000000  "
      ]
     },
     "execution_count": 20,
     "metadata": {},
     "output_type": "execute_result"
    }
   ],
   "source": [
    "# Utilizando 'describe()' obtén las principales medidas numéricas de resumen\n",
    "df.describe()"
   ]
  },
  {
   "cell_type": "markdown",
   "id": "31ff54bb-1ce6-46dc-9b3f-a8f8f959c05c",
   "metadata": {
    "tags": []
   },
   "source": [
    "Un dataframe lo podemos guardar con `df.to_excel('carpeta/archivo.xlsx', index=False)`"
   ]
  },
  {
   "cell_type": "code",
   "execution_count": 21,
   "id": "105dc65f-650c-4c21-af8d-388e4f1c96fd",
   "metadata": {
    "tags": []
   },
   "outputs": [],
   "source": [
    "# Exporta el dataframe depurado a la carpeta 'output'\n",
    "df.to_excel('output/hoteles-viena.xlsx', index=False)"
   ]
  },
  {
   "cell_type": "markdown",
   "id": "2febcc66-3fb4-404d-afa3-ac0826c58a31",
   "metadata": {},
   "source": [
    "## 3.4 Valores atípicos\n",
    "Los valores atípicos son valores muy alejados de la tendencia central de los datos. No es recomendable su eliminación automática, sino su revisión para evaluar si son parte o no de la muestra. Un método sencillo que podemos utilizar es el método del valor z."
   ]
  },
  {
   "cell_type": "code",
   "execution_count": 22,
   "id": "f08d1042-ecea-49a2-a98c-21de5b1ab0e4",
   "metadata": {
    "tags": []
   },
   "outputs": [
    {
     "data": {
      "text/html": [
       "<div>\n",
       "<style scoped>\n",
       "    .dataframe tbody tr th:only-of-type {\n",
       "        vertical-align: middle;\n",
       "    }\n",
       "\n",
       "    .dataframe tbody tr th {\n",
       "        vertical-align: top;\n",
       "    }\n",
       "\n",
       "    .dataframe thead th {\n",
       "        text-align: right;\n",
       "    }\n",
       "</style>\n",
       "<table border=\"1\" class=\"dataframe\">\n",
       "  <thead>\n",
       "    <tr style=\"text-align: right;\">\n",
       "      <th></th>\n",
       "      <th>hotel_id</th>\n",
       "      <th>accommodationtype</th>\n",
       "      <th>price</th>\n",
       "      <th>center1distance</th>\n",
       "      <th>starrating</th>\n",
       "      <th>guestreviewsrating</th>\n",
       "    </tr>\n",
       "  </thead>\n",
       "  <tbody>\n",
       "    <tr>\n",
       "      <th>55</th>\n",
       "      <td>21969</td>\n",
       "      <td>Hotel</td>\n",
       "      <td>513</td>\n",
       "      <td>0.3</td>\n",
       "      <td>5.0</td>\n",
       "      <td>4.85</td>\n",
       "    </tr>\n",
       "    <tr>\n",
       "      <th>61</th>\n",
       "      <td>21976</td>\n",
       "      <td>Hotel</td>\n",
       "      <td>806</td>\n",
       "      <td>0.3</td>\n",
       "      <td>5.0</td>\n",
       "      <td>4.55</td>\n",
       "    </tr>\n",
       "    <tr>\n",
       "      <th>87</th>\n",
       "      <td>22006</td>\n",
       "      <td>Hotel</td>\n",
       "      <td>544</td>\n",
       "      <td>0.5</td>\n",
       "      <td>5.0</td>\n",
       "      <td>4.85</td>\n",
       "    </tr>\n",
       "    <tr>\n",
       "      <th>172</th>\n",
       "      <td>22100</td>\n",
       "      <td>Hotel</td>\n",
       "      <td>527</td>\n",
       "      <td>0.4</td>\n",
       "      <td>5.0</td>\n",
       "      <td>4.85</td>\n",
       "    </tr>\n",
       "    <tr>\n",
       "      <th>223</th>\n",
       "      <td>22164</td>\n",
       "      <td>Hotel</td>\n",
       "      <td>587</td>\n",
       "      <td>0.7</td>\n",
       "      <td>5.0</td>\n",
       "      <td>15.00</td>\n",
       "    </tr>\n",
       "    <tr>\n",
       "      <th>302</th>\n",
       "      <td>22252</td>\n",
       "      <td>Hotel</td>\n",
       "      <td>1012</td>\n",
       "      <td>1.0</td>\n",
       "      <td>3.0</td>\n",
       "      <td>4.35</td>\n",
       "    </tr>\n",
       "  </tbody>\n",
       "</table>\n",
       "</div>"
      ],
      "text/plain": [
       "     hotel_id accommodationtype  price  center1distance  starrating  \\\n",
       "55      21969             Hotel    513              0.3         5.0   \n",
       "61      21976             Hotel    806              0.3         5.0   \n",
       "87      22006             Hotel    544              0.5         5.0   \n",
       "172     22100             Hotel    527              0.4         5.0   \n",
       "223     22164             Hotel    587              0.7         5.0   \n",
       "302     22252             Hotel   1012              1.0         3.0   \n",
       "\n",
       "     guestreviewsrating  \n",
       "55                 4.85  \n",
       "61                 4.55  \n",
       "87                 4.85  \n",
       "172                4.85  \n",
       "223               15.00  \n",
       "302                4.35  "
      ]
     },
     "execution_count": 22,
     "metadata": {},
     "output_type": "execute_result"
    }
   ],
   "source": [
    "from scipy.stats import zscore\n",
    "\n",
    "datos = df['price']\n",
    "z_scores = zscore(datos)\n",
    "valores_atipicos_z = df[abs(z_scores)>3]\n",
    "valores_atipicos_z"
   ]
  },
  {
   "cell_type": "code",
   "execution_count": 23,
   "id": "bde6704f-a6e5-4373-a4e0-3f00a750887f",
   "metadata": {
    "tags": []
   },
   "outputs": [
    {
     "data": {
      "text/html": [
       "<div>\n",
       "<style scoped>\n",
       "    .dataframe tbody tr th:only-of-type {\n",
       "        vertical-align: middle;\n",
       "    }\n",
       "\n",
       "    .dataframe tbody tr th {\n",
       "        vertical-align: top;\n",
       "    }\n",
       "\n",
       "    .dataframe thead th {\n",
       "        text-align: right;\n",
       "    }\n",
       "</style>\n",
       "<table border=\"1\" class=\"dataframe\">\n",
       "  <thead>\n",
       "    <tr style=\"text-align: right;\">\n",
       "      <th></th>\n",
       "      <th>hotel_id</th>\n",
       "      <th>accommodationtype</th>\n",
       "      <th>price</th>\n",
       "      <th>center1distance</th>\n",
       "      <th>starrating</th>\n",
       "      <th>guestreviewsrating</th>\n",
       "    </tr>\n",
       "  </thead>\n",
       "  <tbody>\n",
       "    <tr>\n",
       "      <th>53</th>\n",
       "      <td>21967</td>\n",
       "      <td>Hotel</td>\n",
       "      <td>299</td>\n",
       "      <td>0.1</td>\n",
       "      <td>5.0</td>\n",
       "      <td>4.55</td>\n",
       "    </tr>\n",
       "    <tr>\n",
       "      <th>55</th>\n",
       "      <td>21969</td>\n",
       "      <td>Hotel</td>\n",
       "      <td>513</td>\n",
       "      <td>0.3</td>\n",
       "      <td>5.0</td>\n",
       "      <td>4.85</td>\n",
       "    </tr>\n",
       "    <tr>\n",
       "      <th>61</th>\n",
       "      <td>21976</td>\n",
       "      <td>Hotel</td>\n",
       "      <td>806</td>\n",
       "      <td>0.3</td>\n",
       "      <td>5.0</td>\n",
       "      <td>4.55</td>\n",
       "    </tr>\n",
       "    <tr>\n",
       "      <th>72</th>\n",
       "      <td>21989</td>\n",
       "      <td>Hotel</td>\n",
       "      <td>261</td>\n",
       "      <td>0.3</td>\n",
       "      <td>5.0</td>\n",
       "      <td>4.85</td>\n",
       "    </tr>\n",
       "    <tr>\n",
       "      <th>87</th>\n",
       "      <td>22006</td>\n",
       "      <td>Hotel</td>\n",
       "      <td>544</td>\n",
       "      <td>0.5</td>\n",
       "      <td>5.0</td>\n",
       "      <td>4.85</td>\n",
       "    </tr>\n",
       "    <tr>\n",
       "      <th>88</th>\n",
       "      <td>22007</td>\n",
       "      <td>Hotel</td>\n",
       "      <td>252</td>\n",
       "      <td>0.5</td>\n",
       "      <td>5.0</td>\n",
       "      <td>4.65</td>\n",
       "    </tr>\n",
       "    <tr>\n",
       "      <th>89</th>\n",
       "      <td>22008</td>\n",
       "      <td>Hotel</td>\n",
       "      <td>323</td>\n",
       "      <td>0.5</td>\n",
       "      <td>5.0</td>\n",
       "      <td>4.55</td>\n",
       "    </tr>\n",
       "    <tr>\n",
       "      <th>109</th>\n",
       "      <td>22030</td>\n",
       "      <td>Hotel</td>\n",
       "      <td>226</td>\n",
       "      <td>0.5</td>\n",
       "      <td>5.0</td>\n",
       "      <td>4.35</td>\n",
       "    </tr>\n",
       "    <tr>\n",
       "      <th>110</th>\n",
       "      <td>22031</td>\n",
       "      <td>Hotel</td>\n",
       "      <td>231</td>\n",
       "      <td>0.1</td>\n",
       "      <td>4.0</td>\n",
       "      <td>4.45</td>\n",
       "    </tr>\n",
       "    <tr>\n",
       "      <th>115</th>\n",
       "      <td>22036</td>\n",
       "      <td>Hotel</td>\n",
       "      <td>384</td>\n",
       "      <td>0.6</td>\n",
       "      <td>5.0</td>\n",
       "      <td>4.85</td>\n",
       "    </tr>\n",
       "    <tr>\n",
       "      <th>118</th>\n",
       "      <td>22039</td>\n",
       "      <td>Hotel</td>\n",
       "      <td>371</td>\n",
       "      <td>0.5</td>\n",
       "      <td>5.0</td>\n",
       "      <td>4.65</td>\n",
       "    </tr>\n",
       "    <tr>\n",
       "      <th>128</th>\n",
       "      <td>22050</td>\n",
       "      <td>Hotel</td>\n",
       "      <td>242</td>\n",
       "      <td>0.0</td>\n",
       "      <td>4.0</td>\n",
       "      <td>4.85</td>\n",
       "    </tr>\n",
       "    <tr>\n",
       "      <th>165</th>\n",
       "      <td>22092</td>\n",
       "      <td>Hotel</td>\n",
       "      <td>354</td>\n",
       "      <td>0.4</td>\n",
       "      <td>5.0</td>\n",
       "      <td>4.55</td>\n",
       "    </tr>\n",
       "    <tr>\n",
       "      <th>172</th>\n",
       "      <td>22100</td>\n",
       "      <td>Hotel</td>\n",
       "      <td>527</td>\n",
       "      <td>0.4</td>\n",
       "      <td>5.0</td>\n",
       "      <td>4.85</td>\n",
       "    </tr>\n",
       "    <tr>\n",
       "      <th>223</th>\n",
       "      <td>22164</td>\n",
       "      <td>Hotel</td>\n",
       "      <td>587</td>\n",
       "      <td>0.7</td>\n",
       "      <td>5.0</td>\n",
       "      <td>15.00</td>\n",
       "    </tr>\n",
       "    <tr>\n",
       "      <th>232</th>\n",
       "      <td>22175</td>\n",
       "      <td>Hotel</td>\n",
       "      <td>240</td>\n",
       "      <td>0.4</td>\n",
       "      <td>5.0</td>\n",
       "      <td>4.55</td>\n",
       "    </tr>\n",
       "    <tr>\n",
       "      <th>249</th>\n",
       "      <td>22193</td>\n",
       "      <td>Hotel</td>\n",
       "      <td>383</td>\n",
       "      <td>1.9</td>\n",
       "      <td>3.0</td>\n",
       "      <td>45.00</td>\n",
       "    </tr>\n",
       "    <tr>\n",
       "      <th>291</th>\n",
       "      <td>22240</td>\n",
       "      <td>Hotel</td>\n",
       "      <td>333</td>\n",
       "      <td>0.7</td>\n",
       "      <td>5.0</td>\n",
       "      <td>4.95</td>\n",
       "    </tr>\n",
       "    <tr>\n",
       "      <th>302</th>\n",
       "      <td>22252</td>\n",
       "      <td>Hotel</td>\n",
       "      <td>1012</td>\n",
       "      <td>1.0</td>\n",
       "      <td>3.0</td>\n",
       "      <td>4.35</td>\n",
       "    </tr>\n",
       "  </tbody>\n",
       "</table>\n",
       "</div>"
      ],
      "text/plain": [
       "     hotel_id accommodationtype  price  center1distance  starrating  \\\n",
       "53      21967             Hotel    299              0.1         5.0   \n",
       "55      21969             Hotel    513              0.3         5.0   \n",
       "61      21976             Hotel    806              0.3         5.0   \n",
       "72      21989             Hotel    261              0.3         5.0   \n",
       "87      22006             Hotel    544              0.5         5.0   \n",
       "88      22007             Hotel    252              0.5         5.0   \n",
       "89      22008             Hotel    323              0.5         5.0   \n",
       "109     22030             Hotel    226              0.5         5.0   \n",
       "110     22031             Hotel    231              0.1         4.0   \n",
       "115     22036             Hotel    384              0.6         5.0   \n",
       "118     22039             Hotel    371              0.5         5.0   \n",
       "128     22050             Hotel    242              0.0         4.0   \n",
       "165     22092             Hotel    354              0.4         5.0   \n",
       "172     22100             Hotel    527              0.4         5.0   \n",
       "223     22164             Hotel    587              0.7         5.0   \n",
       "232     22175             Hotel    240              0.4         5.0   \n",
       "249     22193             Hotel    383              1.9         3.0   \n",
       "291     22240             Hotel    333              0.7         5.0   \n",
       "302     22252             Hotel   1012              1.0         3.0   \n",
       "\n",
       "     guestreviewsrating  \n",
       "53                 4.55  \n",
       "55                 4.85  \n",
       "61                 4.55  \n",
       "72                 4.85  \n",
       "87                 4.85  \n",
       "88                 4.65  \n",
       "89                 4.55  \n",
       "109                4.35  \n",
       "110                4.45  \n",
       "115                4.85  \n",
       "118                4.65  \n",
       "128                4.85  \n",
       "165                4.55  \n",
       "172                4.85  \n",
       "223               15.00  \n",
       "232                4.55  \n",
       "249               45.00  \n",
       "291                4.95  \n",
       "302                4.35  "
      ]
     },
     "execution_count": 23,
     "metadata": {},
     "output_type": "execute_result"
    }
   ],
   "source": [
    "import numpy as np\n",
    "\n",
    "datos = df['price']\n",
    "q1 = np.percentile(datos, 25)\n",
    "q3 = np.percentile(datos, 75)\n",
    "iqr =q3-q1\n",
    "limite_inf= q1-1.5*iqr\n",
    "limite_sup= q3+1.5*iqr\n",
    "valores_atipicos_iqr = df[(datos<limite_inf) | (datos>limite_sup)]\n",
    "valores_atipicos_iqr"
   ]
  },
  {
   "cell_type": "markdown",
   "id": "c22fd0d2-a22c-44b2-b710-d654fda67813",
   "metadata": {},
   "source": [
    "## 3.5 Práctica 01"
   ]
  },
  {
   "cell_type": "markdown",
   "id": "8a961402-4fcc-4bd1-b395-17a950499fdb",
   "metadata": {
    "tags": []
   },
   "source": [
    "En el notebook 'Practica_S0301', carga la base de datos de hoteles de una ciudad diferente (Londres, Milán, Roma). Selecciona las variables utilizadas en el ejemplo y las filas correspondientes a los hoteles. Luego elimina duplicados y consulta y reemplaza datos perdidos en las variables numéricas. Compara los resultados de esa ciudad con Viena."
   ]
  },
  {
   "cell_type": "code",
   "execution_count": 33,
   "id": "b3f7a456-c4b7-4434-aa19-60d343097043",
   "metadata": {
    "tags": []
   },
   "outputs": [
    {
     "data": {
      "text/html": [
       "<div>\n",
       "<style scoped>\n",
       "    .dataframe tbody tr th:only-of-type {\n",
       "        vertical-align: middle;\n",
       "    }\n",
       "\n",
       "    .dataframe tbody tr th {\n",
       "        vertical-align: top;\n",
       "    }\n",
       "\n",
       "    .dataframe thead th {\n",
       "        text-align: right;\n",
       "    }\n",
       "</style>\n",
       "<table border=\"1\" class=\"dataframe\">\n",
       "  <thead>\n",
       "    <tr style=\"text-align: right;\">\n",
       "      <th></th>\n",
       "      <th>hotel_id</th>\n",
       "      <th>price</th>\n",
       "      <th>center1distance</th>\n",
       "      <th>starrating</th>\n",
       "      <th>guestreviewsrating</th>\n",
       "    </tr>\n",
       "  </thead>\n",
       "  <tbody>\n",
       "    <tr>\n",
       "      <th>count</th>\n",
       "      <td>264.000000</td>\n",
       "      <td>264.000000</td>\n",
       "      <td>264.000000</td>\n",
       "      <td>264.000000</td>\n",
       "      <td>264.000000</td>\n",
       "    </tr>\n",
       "    <tr>\n",
       "      <th>mean</th>\n",
       "      <td>22161.590909</td>\n",
       "      <td>129.931818</td>\n",
       "      <td>1.687500</td>\n",
       "      <td>3.609848</td>\n",
       "      <td>11.330989</td>\n",
       "    </tr>\n",
       "    <tr>\n",
       "      <th>std</th>\n",
       "      <td>147.742786</td>\n",
       "      <td>103.565794</td>\n",
       "      <td>1.794869</td>\n",
       "      <td>0.743321</td>\n",
       "      <td>15.398060</td>\n",
       "    </tr>\n",
       "    <tr>\n",
       "      <th>min</th>\n",
       "      <td>21897.000000</td>\n",
       "      <td>33.000000</td>\n",
       "      <td>0.000000</td>\n",
       "      <td>1.000000</td>\n",
       "      <td>2.250000</td>\n",
       "    </tr>\n",
       "    <tr>\n",
       "      <th>25%</th>\n",
       "      <td>22030.750000</td>\n",
       "      <td>81.750000</td>\n",
       "      <td>0.700000</td>\n",
       "      <td>3.000000</td>\n",
       "      <td>3.950000</td>\n",
       "    </tr>\n",
       "    <tr>\n",
       "      <th>50%</th>\n",
       "      <td>22169.500000</td>\n",
       "      <td>102.000000</td>\n",
       "      <td>1.100000</td>\n",
       "      <td>4.000000</td>\n",
       "      <td>4.350000</td>\n",
       "    </tr>\n",
       "    <tr>\n",
       "      <th>75%</th>\n",
       "      <td>22290.000000</td>\n",
       "      <td>138.250000</td>\n",
       "      <td>1.925000</td>\n",
       "      <td>4.000000</td>\n",
       "      <td>4.550000</td>\n",
       "    </tr>\n",
       "    <tr>\n",
       "      <th>max</th>\n",
       "      <td>22408.000000</td>\n",
       "      <td>1012.000000</td>\n",
       "      <td>13.000000</td>\n",
       "      <td>5.000000</td>\n",
       "      <td>45.000000</td>\n",
       "    </tr>\n",
       "  </tbody>\n",
       "</table>\n",
       "</div>"
      ],
      "text/plain": [
       "           hotel_id        price  center1distance  starrating  \\\n",
       "count    264.000000   264.000000       264.000000  264.000000   \n",
       "mean   22161.590909   129.931818         1.687500    3.609848   \n",
       "std      147.742786   103.565794         1.794869    0.743321   \n",
       "min    21897.000000    33.000000         0.000000    1.000000   \n",
       "25%    22030.750000    81.750000         0.700000    3.000000   \n",
       "50%    22169.500000   102.000000         1.100000    4.000000   \n",
       "75%    22290.000000   138.250000         1.925000    4.000000   \n",
       "max    22408.000000  1012.000000        13.000000    5.000000   \n",
       "\n",
       "       guestreviewsrating  \n",
       "count          264.000000  \n",
       "mean            11.330989  \n",
       "std             15.398060  \n",
       "min              2.250000  \n",
       "25%              3.950000  \n",
       "50%              4.350000  \n",
       "75%              4.550000  \n",
       "max             45.000000  "
      ]
     },
     "execution_count": 33,
     "metadata": {},
     "output_type": "execute_result"
    }
   ],
   "source": [
    "df.describe()"
   ]
  },
  {
   "cell_type": "code",
   "execution_count": null,
   "id": "e778c47a-ce16-4cac-8c3d-ece248072411",
   "metadata": {},
   "outputs": [],
   "source": []
  }
 ],
 "metadata": {
  "kernelspec": {
   "display_name": "Python 3 (ipykernel)",
   "language": "python",
   "name": "python3"
  },
  "language_info": {
   "codemirror_mode": {
    "name": "ipython",
    "version": 3
   },
   "file_extension": ".py",
   "mimetype": "text/x-python",
   "name": "python",
   "nbconvert_exporter": "python",
   "pygments_lexer": "ipython3",
   "version": "3.11.7"
  }
 },
 "nbformat": 4,
 "nbformat_minor": 5
}
