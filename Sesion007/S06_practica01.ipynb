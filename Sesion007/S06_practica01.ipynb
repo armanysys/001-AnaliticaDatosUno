{
 "cells": [
  {
   "cell_type": "markdown",
   "id": "654ce25b-dd8f-4688-9063-09e6a8ed74ac",
   "metadata": {
    "tags": []
   },
   "source": [
    "# A2: Comparación de Campañas Cotrol/Test"
   ]
  },
  {
   "cell_type": "markdown",
   "id": "cd90789d-d0d1-4ce2-8ba6-fcf264ea4c7b",
   "metadata": {},
   "source": [
    "El archivo \"b08_practica\" contiene las siguientes variables de un experimento en el cual se compararon dos campañas ('control' y 'test') para ventas en línea:  \n",
    "- Campaña: Nombre de la campaña.\n",
    "- Fecha: Día del registro.\n",
    "- Gasto: Cantidad gastada en la campaña en dólares.\n",
    "- Impresiones: Número de impresiones del anuncio a través de la campaña\n",
    "- Alcance: Número de impresiones únicas recibidas por el anuncio\n",
    "- Búsquedas: Número de usuarios que realizaron búsquedas en el sitio web.\n",
    "- Vistas: Número de usuarios que vieron contenido y productos en el sitio web.\n",
    "- NumCarritos: Número de usuarios que agregaron productos al 'carrito'.\n",
    "- Compras: Número de compras\n",
    "\n",
    "Compara las diferentes métricas y aconseja cuál campaña de publicidad es mejor"
   ]
  },
  {
   "cell_type": "code",
   "execution_count": 1,
   "id": "32fef09c-be2e-44d3-952d-1ca88b721248",
   "metadata": {},
   "outputs": [],
   "source": [
    "# Importacion de librerias\n",
    "import pandas as pd\n",
    "from scipy.stats import ttest_ind as ti\n",
    "from scipy.stats import mannwhitneyu as mw"
   ]
  },
  {
   "cell_type": "code",
   "execution_count": 2,
   "id": "bf52dd66-855d-4118-adf2-4f2759778753",
   "metadata": {},
   "outputs": [
    {
     "name": "stdout",
     "output_type": "stream",
     "text": [
      "<class 'pandas.core.frame.DataFrame'>\n",
      "RangeIndex: 59 entries, 0 to 58\n",
      "Data columns (total 10 columns):\n",
      " #   Column       Non-Null Count  Dtype         \n",
      "---  ------       --------------  -----         \n",
      " 0   Campaña      59 non-null     object        \n",
      " 1   Fecha        59 non-null     datetime64[ns]\n",
      " 2   Gasto        59 non-null     int64         \n",
      " 3   Impresiones  59 non-null     int64         \n",
      " 4   Alcance      59 non-null     int64         \n",
      " 5   Clicks       59 non-null     int64         \n",
      " 6   Busquedas    59 non-null     int64         \n",
      " 7   Vistas       59 non-null     int64         \n",
      " 8   NumCarritos  59 non-null     int64         \n",
      " 9   Compras      59 non-null     int64         \n",
      "dtypes: datetime64[ns](1), int64(8), object(1)\n",
      "memory usage: 4.7+ KB\n"
     ]
    }
   ],
   "source": [
    "# Varaibles del dataset son:\n",
    "df = pd.read_excel('data/b08_practica.xlsx')\n",
    "df.info()"
   ]
  },
  {
   "cell_type": "code",
   "execution_count": 3,
   "id": "0f0f787c-2a37-44b0-b070-83245b3f8ed3",
   "metadata": {},
   "outputs": [
    {
     "data": {
      "text/html": [
       "<div>\n",
       "<style scoped>\n",
       "    .dataframe tbody tr th:only-of-type {\n",
       "        vertical-align: middle;\n",
       "    }\n",
       "\n",
       "    .dataframe tbody tr th {\n",
       "        vertical-align: top;\n",
       "    }\n",
       "\n",
       "    .dataframe thead th {\n",
       "        text-align: right;\n",
       "    }\n",
       "</style>\n",
       "<table border=\"1\" class=\"dataframe\">\n",
       "  <thead>\n",
       "    <tr style=\"text-align: right;\">\n",
       "      <th></th>\n",
       "      <th>Fecha</th>\n",
       "      <th>Gasto</th>\n",
       "      <th>Impresiones</th>\n",
       "      <th>Alcance</th>\n",
       "      <th>Clicks</th>\n",
       "      <th>Busquedas</th>\n",
       "      <th>Vistas</th>\n",
       "      <th>NumCarritos</th>\n",
       "      <th>Compras</th>\n",
       "    </tr>\n",
       "  </thead>\n",
       "  <tbody>\n",
       "    <tr>\n",
       "      <th>count</th>\n",
       "      <td>59</td>\n",
       "      <td>59.000000</td>\n",
       "      <td>59.000000</td>\n",
       "      <td>59.000000</td>\n",
       "      <td>59.000000</td>\n",
       "      <td>59.000000</td>\n",
       "      <td>59.000000</td>\n",
       "      <td>59.000000</td>\n",
       "      <td>59.000000</td>\n",
       "    </tr>\n",
       "    <tr>\n",
       "      <th>mean</th>\n",
       "      <td>2019-08-15 16:16:16.271186432</td>\n",
       "      <td>2435.762712</td>\n",
       "      <td>91775.881356</td>\n",
       "      <td>70868.644068</td>\n",
       "      <td>5682.593220</td>\n",
       "      <td>2321.813559</td>\n",
       "      <td>1900.169492</td>\n",
       "      <td>1087.220339</td>\n",
       "      <td>522.000000</td>\n",
       "    </tr>\n",
       "    <tr>\n",
       "      <th>min</th>\n",
       "      <td>2019-08-01 00:00:00</td>\n",
       "      <td>1757.000000</td>\n",
       "      <td>22521.000000</td>\n",
       "      <td>10598.000000</td>\n",
       "      <td>2277.000000</td>\n",
       "      <td>1001.000000</td>\n",
       "      <td>848.000000</td>\n",
       "      <td>278.000000</td>\n",
       "      <td>222.000000</td>\n",
       "    </tr>\n",
       "    <tr>\n",
       "      <th>25%</th>\n",
       "      <td>2019-08-08 12:00:00</td>\n",
       "      <td>2113.500000</td>\n",
       "      <td>68853.500000</td>\n",
       "      <td>43230.000000</td>\n",
       "      <td>4227.500000</td>\n",
       "      <td>1962.500000</td>\n",
       "      <td>1249.000000</td>\n",
       "      <td>848.500000</td>\n",
       "      <td>340.000000</td>\n",
       "    </tr>\n",
       "    <tr>\n",
       "      <th>50%</th>\n",
       "      <td>2019-08-16 00:00:00</td>\n",
       "      <td>2421.000000</td>\n",
       "      <td>95843.000000</td>\n",
       "      <td>76219.000000</td>\n",
       "      <td>5691.000000</td>\n",
       "      <td>2390.000000</td>\n",
       "      <td>1975.000000</td>\n",
       "      <td>1075.000000</td>\n",
       "      <td>501.000000</td>\n",
       "    </tr>\n",
       "    <tr>\n",
       "      <th>75%</th>\n",
       "      <td>2019-08-23 00:00:00</td>\n",
       "      <td>2743.000000</td>\n",
       "      <td>117315.000000</td>\n",
       "      <td>95490.500000</td>\n",
       "      <td>7218.500000</td>\n",
       "      <td>2778.500000</td>\n",
       "      <td>2424.000000</td>\n",
       "      <td>1386.500000</td>\n",
       "      <td>693.000000</td>\n",
       "    </tr>\n",
       "    <tr>\n",
       "      <th>max</th>\n",
       "      <td>2019-08-30 00:00:00</td>\n",
       "      <td>3112.000000</td>\n",
       "      <td>145248.000000</td>\n",
       "      <td>127852.000000</td>\n",
       "      <td>8264.000000</td>\n",
       "      <td>4891.000000</td>\n",
       "      <td>4219.000000</td>\n",
       "      <td>1913.000000</td>\n",
       "      <td>890.000000</td>\n",
       "    </tr>\n",
       "    <tr>\n",
       "      <th>std</th>\n",
       "      <td>NaN</td>\n",
       "      <td>376.358795</td>\n",
       "      <td>32465.070636</td>\n",
       "      <td>31023.653515</td>\n",
       "      <td>1754.777559</td>\n",
       "      <td>669.040576</td>\n",
       "      <td>687.263844</td>\n",
       "      <td>430.205246</td>\n",
       "      <td>196.973917</td>\n",
       "    </tr>\n",
       "  </tbody>\n",
       "</table>\n",
       "</div>"
      ],
      "text/plain": [
       "                               Fecha        Gasto    Impresiones  \\\n",
       "count                             59    59.000000      59.000000   \n",
       "mean   2019-08-15 16:16:16.271186432  2435.762712   91775.881356   \n",
       "min              2019-08-01 00:00:00  1757.000000   22521.000000   \n",
       "25%              2019-08-08 12:00:00  2113.500000   68853.500000   \n",
       "50%              2019-08-16 00:00:00  2421.000000   95843.000000   \n",
       "75%              2019-08-23 00:00:00  2743.000000  117315.000000   \n",
       "max              2019-08-30 00:00:00  3112.000000  145248.000000   \n",
       "std                              NaN   376.358795   32465.070636   \n",
       "\n",
       "             Alcance       Clicks    Busquedas       Vistas  NumCarritos  \\\n",
       "count      59.000000    59.000000    59.000000    59.000000    59.000000   \n",
       "mean    70868.644068  5682.593220  2321.813559  1900.169492  1087.220339   \n",
       "min     10598.000000  2277.000000  1001.000000   848.000000   278.000000   \n",
       "25%     43230.000000  4227.500000  1962.500000  1249.000000   848.500000   \n",
       "50%     76219.000000  5691.000000  2390.000000  1975.000000  1075.000000   \n",
       "75%     95490.500000  7218.500000  2778.500000  2424.000000  1386.500000   \n",
       "max    127852.000000  8264.000000  4891.000000  4219.000000  1913.000000   \n",
       "std     31023.653515  1754.777559   669.040576   687.263844   430.205246   \n",
       "\n",
       "          Compras  \n",
       "count   59.000000  \n",
       "mean   522.000000  \n",
       "min    222.000000  \n",
       "25%    340.000000  \n",
       "50%    501.000000  \n",
       "75%    693.000000  \n",
       "max    890.000000  \n",
       "std    196.973917  "
      ]
     },
     "execution_count": 3,
     "metadata": {},
     "output_type": "execute_result"
    }
   ],
   "source": [
    "# Estadística descriptiva de las variables\n",
    "df.describe()"
   ]
  },
  {
   "cell_type": "markdown",
   "id": "5dd84c47-6be8-4eb0-a36b-f1b7f07ac4ae",
   "metadata": {
    "tags": []
   },
   "source": [
    "## Gastos\n",
    "- Cantidad gastada en la campaña en dólares."
   ]
  },
  {
   "cell_type": "code",
   "execution_count": 37,
   "id": "f2e34959-c469-4c13-a26c-8b787d9bc387",
   "metadata": {
    "tags": []
   },
   "outputs": [
    {
     "data": {
      "text/html": [
       "<div>\n",
       "<style scoped>\n",
       "    .dataframe tbody tr th:only-of-type {\n",
       "        vertical-align: middle;\n",
       "    }\n",
       "\n",
       "    .dataframe tbody tr th {\n",
       "        vertical-align: top;\n",
       "    }\n",
       "\n",
       "    .dataframe thead th {\n",
       "        text-align: right;\n",
       "    }\n",
       "</style>\n",
       "<table border=\"1\" class=\"dataframe\">\n",
       "  <thead>\n",
       "    <tr style=\"text-align: right;\">\n",
       "      <th></th>\n",
       "      <th>Gasto</th>\n",
       "    </tr>\n",
       "    <tr>\n",
       "      <th>Campaña</th>\n",
       "      <th></th>\n",
       "    </tr>\n",
       "  </thead>\n",
       "  <tbody>\n",
       "    <tr>\n",
       "      <th>Control</th>\n",
       "      <td>2304.068966</td>\n",
       "    </tr>\n",
       "    <tr>\n",
       "      <th>Test</th>\n",
       "      <td>2563.066667</td>\n",
       "    </tr>\n",
       "  </tbody>\n",
       "</table>\n",
       "</div>"
      ],
      "text/plain": [
       "               Gasto\n",
       "Campaña             \n",
       "Control  2304.068966\n",
       "Test     2563.066667"
      ]
     },
     "execution_count": 37,
     "metadata": {},
     "output_type": "execute_result"
    }
   ],
   "source": [
    " df.groupby('Campaña').agg({'Gasto':'mean'})"
   ]
  },
  {
   "cell_type": "code",
   "execution_count": 38,
   "id": "21f75bc5-cb69-4cdf-983e-2b65985cfcd1",
   "metadata": {
    "tags": []
   },
   "outputs": [
    {
     "name": "stdout",
     "output_type": "stream",
     "text": [
      "Estadístico t: -2.793240375594836\n",
      "Valor p: 0.007093062303374369\n",
      "Se rechaza la hipótesis nula: hay evidencia de diferencias significativas en las medias.\n"
     ]
    }
   ],
   "source": [
    "# Realizar la prueba t de dos muestras independientes\n",
    "t_statistic, p_value = ti(df.loc[df['Campaña'] == 'Control', 'Gasto'], \n",
    "                                 df.loc[df['Campaña'] == 'Test', 'Gasto'])\n",
    "# Imprimir los resultados\n",
    "print(\"Estadístico t:\", t_statistic)\n",
    "print(\"Valor p:\", p_value)\n",
    "\n",
    "# Interpretar los resultados\n",
    "alpha = 0.05\n",
    "if p_value < alpha:\n",
    "    print(\"Se rechaza la hipótesis nula: hay evidencia de diferencias significativas en las medias.\")\n",
    "else:\n",
    "    print(\"No se puede rechazar la hipótesis nula: no hay suficiente evidencia para afirmar diferencias significativas en las medias.\")"
   ]
  },
  {
   "cell_type": "markdown",
   "id": "962420b0-3bf5-4be5-8eae-3d0c82233246",
   "metadata": {},
   "source": [
    "## Impresiones\n",
    "- Número de impresiones del anuncio a través de la campaña."
   ]
  },
  {
   "cell_type": "code",
   "execution_count": 10,
   "id": "047cf3d3-99d3-4d97-87ca-26ced7301aa9",
   "metadata": {
    "tags": []
   },
   "outputs": [
    {
     "data": {
      "text/html": [
       "<div>\n",
       "<style scoped>\n",
       "    .dataframe tbody tr th:only-of-type {\n",
       "        vertical-align: middle;\n",
       "    }\n",
       "\n",
       "    .dataframe tbody tr th {\n",
       "        vertical-align: top;\n",
       "    }\n",
       "\n",
       "    .dataframe thead th {\n",
       "        text-align: right;\n",
       "    }\n",
       "</style>\n",
       "<table border=\"1\" class=\"dataframe\">\n",
       "  <thead>\n",
       "    <tr style=\"text-align: right;\">\n",
       "      <th></th>\n",
       "      <th>Impresiones</th>\n",
       "    </tr>\n",
       "    <tr>\n",
       "      <th>Campaña</th>\n",
       "      <th></th>\n",
       "    </tr>\n",
       "  </thead>\n",
       "  <tbody>\n",
       "    <tr>\n",
       "      <th>Control</th>\n",
       "      <td>109559.758621</td>\n",
       "    </tr>\n",
       "    <tr>\n",
       "      <th>Test</th>\n",
       "      <td>74584.800000</td>\n",
       "    </tr>\n",
       "  </tbody>\n",
       "</table>\n",
       "</div>"
      ],
      "text/plain": [
       "           Impresiones\n",
       "Campaña               \n",
       "Control  109559.758621\n",
       "Test      74584.800000"
      ]
     },
     "execution_count": 10,
     "metadata": {},
     "output_type": "execute_result"
    }
   ],
   "source": [
    " df.groupby('Campaña').agg({'Impresiones':'mean'})"
   ]
  },
  {
   "cell_type": "code",
   "execution_count": 28,
   "id": "35de60f1-aab2-42e6-8c36-4ed4d9eba8bc",
   "metadata": {
    "tags": []
   },
   "outputs": [
    {
     "name": "stdout",
     "output_type": "stream",
     "text": [
      "Estadístico t: 4.884544325740239\n",
      "Valor p: 8.774394114329258e-06\n",
      "Se rechaza la hipótesis nula: hay evidencia de diferencias significativas en las medias.\n"
     ]
    }
   ],
   "source": [
    "# Realizar la prueba t de dos muestras independientes\n",
    "t_statistic, p_value = ti(df.loc[df['Campaña'] == 'Control', 'Impresiones'], \n",
    "                                 df.loc[df['Campaña'] == 'Test', 'Impresiones'])\n",
    "# Imprimir los resultados\n",
    "print(\"Estadístico t:\", t_statistic)\n",
    "print(\"Valor p:\", p_value)\n",
    "\n",
    "# Interpretar los resultados\n",
    "alpha = 0.05\n",
    "if p_value < alpha:\n",
    "    print(\"Se rechaza la hipótesis nula: hay evidencia de diferencias significativas en las medias.\")\n",
    "else:\n",
    "    print(\"No se puede rechazar la hipótesis nula: no hay suficiente evidencia para afirmar diferencias significativas en las medias.\")"
   ]
  },
  {
   "cell_type": "markdown",
   "id": "2f2d65ed-d7b8-42ad-831d-0e50f652c5c4",
   "metadata": {},
   "source": [
    "## Alcance\n",
    "- Número de impresiones del anuncio a través de la campaña."
   ]
  },
  {
   "cell_type": "code",
   "execution_count": 11,
   "id": "8b50557d-5ec8-473c-80e4-d1af6e637e09",
   "metadata": {
    "tags": []
   },
   "outputs": [
    {
     "data": {
      "text/html": [
       "<div>\n",
       "<style scoped>\n",
       "    .dataframe tbody tr th:only-of-type {\n",
       "        vertical-align: middle;\n",
       "    }\n",
       "\n",
       "    .dataframe tbody tr th {\n",
       "        vertical-align: top;\n",
       "    }\n",
       "\n",
       "    .dataframe thead th {\n",
       "        text-align: right;\n",
       "    }\n",
       "</style>\n",
       "<table border=\"1\" class=\"dataframe\">\n",
       "  <thead>\n",
       "    <tr style=\"text-align: right;\">\n",
       "      <th></th>\n",
       "      <th>Alcance</th>\n",
       "    </tr>\n",
       "    <tr>\n",
       "      <th>Campaña</th>\n",
       "      <th></th>\n",
       "    </tr>\n",
       "  </thead>\n",
       "  <tbody>\n",
       "    <tr>\n",
       "      <th>Control</th>\n",
       "      <td>88844.931034</td>\n",
       "    </tr>\n",
       "    <tr>\n",
       "      <th>Test</th>\n",
       "      <td>53491.566667</td>\n",
       "    </tr>\n",
       "  </tbody>\n",
       "</table>\n",
       "</div>"
      ],
      "text/plain": [
       "              Alcance\n",
       "Campaña              \n",
       "Control  88844.931034\n",
       "Test     53491.566667"
      ]
     },
     "execution_count": 11,
     "metadata": {},
     "output_type": "execute_result"
    }
   ],
   "source": [
    "df.groupby('Campaña').agg({'Alcance':'mean'})"
   ]
  },
  {
   "cell_type": "code",
   "execution_count": 27,
   "id": "286812d0-5678-4393-9c44-92aab20b30ce",
   "metadata": {
    "tags": []
   },
   "outputs": [
    {
     "name": "stdout",
     "output_type": "stream",
     "text": [
      "Estadístico t: 5.300379386681559\n",
      "Valor p: 1.9462081815900474e-06\n",
      "Se rechaza la hipótesis nula: hay evidencia de diferencias significativas en las medias.\n"
     ]
    }
   ],
   "source": [
    "# Realizar la prueba t de dos muestras independientes\n",
    "t_statistic, p_value = ti(df.loc[df['Campaña'] == 'Control', 'Alcance'], \n",
    "                                 df.loc[df['Campaña'] == 'Test', 'Alcance'])\n",
    "# Imprimir los resultados\n",
    "print(\"Estadístico t:\", t_statistic)\n",
    "print(\"Valor p:\", p_value)\n",
    "\n",
    "# Interpretar los resultados\n",
    "alpha = 0.05\n",
    "if p_value < alpha:\n",
    "    print(\"Se rechaza la hipótesis nula: hay evidencia de diferencias significativas en las medias.\")\n",
    "else:\n",
    "    print(\"No se puede rechazar la hipótesis nula: no hay suficiente evidencia para afirmar diferencias significativas en las medias.\")"
   ]
  },
  {
   "cell_type": "markdown",
   "id": "2c65d2ff-88fa-43cb-a63b-d1abbb7d8f7b",
   "metadata": {
    "tags": []
   },
   "source": [
    "## c\n",
    "-  Número de usuarios que realizaron búsquedas en el sitio web."
   ]
  },
  {
   "cell_type": "code",
   "execution_count": 13,
   "id": "8146648e-21fd-4e2a-8209-763a212c4b68",
   "metadata": {
    "tags": []
   },
   "outputs": [
    {
     "data": {
      "text/html": [
       "<div>\n",
       "<style scoped>\n",
       "    .dataframe tbody tr th:only-of-type {\n",
       "        vertical-align: middle;\n",
       "    }\n",
       "\n",
       "    .dataframe tbody tr th {\n",
       "        vertical-align: top;\n",
       "    }\n",
       "\n",
       "    .dataframe thead th {\n",
       "        text-align: right;\n",
       "    }\n",
       "</style>\n",
       "<table border=\"1\" class=\"dataframe\">\n",
       "  <thead>\n",
       "    <tr style=\"text-align: right;\">\n",
       "      <th></th>\n",
       "      <th>Busquedas</th>\n",
       "    </tr>\n",
       "    <tr>\n",
       "      <th>Campaña</th>\n",
       "      <th></th>\n",
       "    </tr>\n",
       "  </thead>\n",
       "  <tbody>\n",
       "    <tr>\n",
       "      <th>Control</th>\n",
       "      <td>2221.310345</td>\n",
       "    </tr>\n",
       "    <tr>\n",
       "      <th>Test</th>\n",
       "      <td>2418.966667</td>\n",
       "    </tr>\n",
       "  </tbody>\n",
       "</table>\n",
       "</div>"
      ],
      "text/plain": [
       "           Busquedas\n",
       "Campaña             \n",
       "Control  2221.310345\n",
       "Test     2418.966667"
      ]
     },
     "execution_count": 13,
     "metadata": {},
     "output_type": "execute_result"
    }
   ],
   "source": [
    "df.groupby('Campaña').agg({'Busquedas':'mean'})"
   ]
  },
  {
   "cell_type": "code",
   "execution_count": 29,
   "id": "989b847f-910c-4431-ab40-7f740406ca09",
   "metadata": {
    "tags": []
   },
   "outputs": [
    {
     "name": "stdout",
     "output_type": "stream",
     "text": [
      "Estadístico de prueba U: 346.0\n",
      "Valor p: 0.17964361698819864\n",
      "No se puede rechazar la hipótesis nula: no hay suficiente evidencia para afirmar diferencias significativas en las medias.\n"
     ]
    }
   ],
   "source": [
    "# Realizar la prueba de Mann-Whitney U\n",
    "t_statistic, p_value = mw(df.loc[df['Campaña'] == 'Control', 'Busquedas'],\n",
    "                                  df.loc[df['Campaña'] == 'Test', 'Busquedas'])\n",
    "\n",
    "# Imprimir los resultados\n",
    "print(\"Estadístico de prueba U:\", t_statistic)\n",
    "print(\"Valor p:\", p_value)\n",
    "\n",
    "# Interpretar los resultados\n",
    "alpha = 0.05\n",
    "if p_value < alpha:\n",
    "    print(\"Se rechaza la hipótesis nula: hay evidencia de diferencias significativas en las medias.\")\n",
    "else:\n",
    "    print(\"No se puede rechazar la hipótesis nula: no hay suficiente evidencia para afirmar diferencias significativas en las medias.\")"
   ]
  },
  {
   "cell_type": "markdown",
   "id": "50515655-4fdd-4b26-84af-2f300cb5bd45",
   "metadata": {},
   "source": [
    "## c\n",
    "- Número de usuarios que vieron contenido y productos en el sitio web."
   ]
  },
  {
   "cell_type": "code",
   "execution_count": 16,
   "id": "fce07995-3bf6-4f0c-834e-e1f815e374c4",
   "metadata": {
    "tags": []
   },
   "outputs": [
    {
     "data": {
      "text/html": [
       "<div>\n",
       "<style scoped>\n",
       "    .dataframe tbody tr th:only-of-type {\n",
       "        vertical-align: middle;\n",
       "    }\n",
       "\n",
       "    .dataframe tbody tr th {\n",
       "        vertical-align: top;\n",
       "    }\n",
       "\n",
       "    .dataframe thead th {\n",
       "        text-align: right;\n",
       "    }\n",
       "</style>\n",
       "<table border=\"1\" class=\"dataframe\">\n",
       "  <thead>\n",
       "    <tr style=\"text-align: right;\">\n",
       "      <th></th>\n",
       "      <th>Vistas</th>\n",
       "    </tr>\n",
       "    <tr>\n",
       "      <th>Campaña</th>\n",
       "      <th></th>\n",
       "    </tr>\n",
       "  </thead>\n",
       "  <tbody>\n",
       "    <tr>\n",
       "      <th>Control</th>\n",
       "      <td>1943.793103</td>\n",
       "    </tr>\n",
       "    <tr>\n",
       "      <th>Test</th>\n",
       "      <td>1858.000000</td>\n",
       "    </tr>\n",
       "  </tbody>\n",
       "</table>\n",
       "</div>"
      ],
      "text/plain": [
       "              Vistas\n",
       "Campaña             \n",
       "Control  1943.793103\n",
       "Test     1858.000000"
      ]
     },
     "execution_count": 16,
     "metadata": {},
     "output_type": "execute_result"
    }
   ],
   "source": [
    "df.groupby('Campaña').agg({'Vistas':'mean'})"
   ]
  },
  {
   "cell_type": "code",
   "execution_count": 30,
   "id": "1289b06e-5cbe-47e7-9113-bffa65571319",
   "metadata": {
    "tags": []
   },
   "outputs": [
    {
     "name": "stdout",
     "output_type": "stream",
     "text": [
      "Estadístico t: 0.47615455602474466\n",
      "Valor p: 0.6357843704297139\n",
      "No se puede rechazar la hipótesis nula: no hay suficiente evidencia para afirmar diferencias significativas en las medias.\n"
     ]
    }
   ],
   "source": [
    "# Realizar la prueba t de dos muestras independientes\n",
    "t_statistic, p_value = ti(df.loc[df['Campaña'] == 'Control', 'Vistas'], \n",
    "                                 df.loc[df['Campaña'] == 'Test', 'Vistas'])\n",
    "# Imprimir los resultados\n",
    "print(\"Estadístico t:\", t_statistic)\n",
    "print(\"Valor p:\", p_value)\n",
    "\n",
    "# Interpretar los resultados\n",
    "alpha = 0.05\n",
    "if p_value < alpha:\n",
    "    print(\"Se rechaza la hipótesis nula: hay evidencia de diferencias significativas en las medias.\")\n",
    "else:\n",
    "    print(\"No se puede rechazar la hipótesis nula: no hay suficiente evidencia para afirmar diferencias significativas en las medias.\")"
   ]
  },
  {
   "cell_type": "markdown",
   "id": "ad81ea8c-f330-42bd-b108-49c46e1b469d",
   "metadata": {},
   "source": [
    "## Numero de Carritos [c]\n",
    "- Número de usuarios que agregaron productos al 'carrito'."
   ]
  },
  {
   "cell_type": "code",
   "execution_count": 17,
   "id": "d04626d9-9ecd-4e43-82da-75d20cbb80d8",
   "metadata": {
    "tags": []
   },
   "outputs": [
    {
     "data": {
      "text/html": [
       "<div>\n",
       "<style scoped>\n",
       "    .dataframe tbody tr th:only-of-type {\n",
       "        vertical-align: middle;\n",
       "    }\n",
       "\n",
       "    .dataframe tbody tr th {\n",
       "        vertical-align: top;\n",
       "    }\n",
       "\n",
       "    .dataframe thead th {\n",
       "        text-align: right;\n",
       "    }\n",
       "</style>\n",
       "<table border=\"1\" class=\"dataframe\">\n",
       "  <thead>\n",
       "    <tr style=\"text-align: right;\">\n",
       "      <th></th>\n",
       "      <th>NumCarritos</th>\n",
       "    </tr>\n",
       "    <tr>\n",
       "      <th>Campaña</th>\n",
       "      <th></th>\n",
       "    </tr>\n",
       "  </thead>\n",
       "  <tbody>\n",
       "    <tr>\n",
       "      <th>Control</th>\n",
       "      <td>1300.000000</td>\n",
       "    </tr>\n",
       "    <tr>\n",
       "      <th>Test</th>\n",
       "      <td>881.533333</td>\n",
       "    </tr>\n",
       "  </tbody>\n",
       "</table>\n",
       "</div>"
      ],
      "text/plain": [
       "         NumCarritos\n",
       "Campaña             \n",
       "Control  1300.000000\n",
       "Test      881.533333"
      ]
     },
     "execution_count": 17,
     "metadata": {},
     "output_type": "execute_result"
    }
   ],
   "source": [
    "df.groupby('Campaña').agg({'NumCarritos':'mean'})"
   ]
  },
  {
   "cell_type": "code",
   "execution_count": 31,
   "id": "da96033d-bda2-4d4f-970d-39d1b5618178",
   "metadata": {
    "tags": []
   },
   "outputs": [
    {
     "name": "stdout",
     "output_type": "stream",
     "text": [
      "Estadístico de prueba U: 664.0\n",
      "Valor p: 0.0005312022228449564\n",
      "Se rechaza la hipótesis nula: hay evidencia de diferencias significativas en las medias.\n"
     ]
    }
   ],
   "source": [
    "# Realizar la prueba de Mann-Whitney U\n",
    "t_statistic, p_value = mw(df.loc[df['Campaña'] == 'Control', 'NumCarritos'],\n",
    "                                  df.loc[df['Campaña'] == 'Test', 'NumCarritos'])\n",
    "\n",
    "# Imprimir los resultados\n",
    "print(\"Estadístico de prueba U:\", t_statistic)\n",
    "print(\"Valor p:\", p_value)\n",
    "\n",
    "# Interpretar los resultados\n",
    "alpha = 0.05\n",
    "if p_value < alpha:\n",
    "    print(\"Se rechaza la hipótesis nula: hay evidencia de diferencias significativas en las medias.\")\n",
    "else:\n",
    "    print(\"No se puede rechazar la hipótesis nula: no hay suficiente evidencia para afirmar diferencias significativas en las medias.\")"
   ]
  },
  {
   "cell_type": "markdown",
   "id": "88d62e8b-2165-4c2d-8acb-b331a18d34cf",
   "metadata": {},
   "source": [
    "## Compras\n",
    "- Número de compras."
   ]
  },
  {
   "cell_type": "code",
   "execution_count": 18,
   "id": "3c8020fb-a285-4f22-8952-77de30f57f51",
   "metadata": {
    "tags": []
   },
   "outputs": [
    {
     "data": {
      "text/html": [
       "<div>\n",
       "<style scoped>\n",
       "    .dataframe tbody tr th:only-of-type {\n",
       "        vertical-align: middle;\n",
       "    }\n",
       "\n",
       "    .dataframe tbody tr th {\n",
       "        vertical-align: top;\n",
       "    }\n",
       "\n",
       "    .dataframe thead th {\n",
       "        text-align: right;\n",
       "    }\n",
       "</style>\n",
       "<table border=\"1\" class=\"dataframe\">\n",
       "  <thead>\n",
       "    <tr style=\"text-align: right;\">\n",
       "      <th></th>\n",
       "      <th>Compras</th>\n",
       "    </tr>\n",
       "    <tr>\n",
       "      <th>Campaña</th>\n",
       "      <th></th>\n",
       "    </tr>\n",
       "  </thead>\n",
       "  <tbody>\n",
       "    <tr>\n",
       "      <th>Control</th>\n",
       "      <td>522.793103</td>\n",
       "    </tr>\n",
       "    <tr>\n",
       "      <th>Test</th>\n",
       "      <td>521.233333</td>\n",
       "    </tr>\n",
       "  </tbody>\n",
       "</table>\n",
       "</div>"
      ],
      "text/plain": [
       "            Compras\n",
       "Campaña            \n",
       "Control  522.793103\n",
       "Test     521.233333"
      ]
     },
     "execution_count": 18,
     "metadata": {},
     "output_type": "execute_result"
    }
   ],
   "source": [
    "df.groupby('Campaña').agg({'Compras':'mean'})"
   ]
  },
  {
   "cell_type": "code",
   "execution_count": 32,
   "id": "db2d9e9f-7201-43bd-b37e-3fef19ca59a5",
   "metadata": {
    "tags": []
   },
   "outputs": [
    {
     "name": "stdout",
     "output_type": "stream",
     "text": [
      "Estadístico de prueba U: 439.0\n",
      "Valor p: 0.957674926453464\n",
      "No se puede rechazar la hipótesis nula: no hay suficiente evidencia para afirmar diferencias significativas en las medias.\n"
     ]
    }
   ],
   "source": [
    "# Realizar la prueba de Mann-Whitney U\n",
    "t_statistic, p_value = mw(df.loc[df['Campaña'] == 'Control', 'Compras'],\n",
    "                                  df.loc[df['Campaña'] == 'Test', 'Compras'])\n",
    "\n",
    "# Imprimir los resultados\n",
    "print(\"Estadístico de prueba U:\", t_statistic)\n",
    "print(\"Valor p:\", p_value)\n",
    "\n",
    "# Interpretar los resultados\n",
    "alpha = 0.05\n",
    "if p_value < alpha:\n",
    "    print(\"Se rechaza la hipótesis nula: hay evidencia de diferencias significativas en las medias.\")\n",
    "else:\n",
    "    print(\"No se puede rechazar la hipótesis nula: no hay suficiente evidencia para afirmar diferencias significativas en las medias.\")"
   ]
  }
 ],
 "metadata": {
  "kernelspec": {
   "display_name": "Python 3 (ipykernel)",
   "language": "python",
   "name": "python3"
  },
  "language_info": {
   "codemirror_mode": {
    "name": "ipython",
    "version": 3
   },
   "file_extension": ".py",
   "mimetype": "text/x-python",
   "name": "python",
   "nbconvert_exporter": "python",
   "pygments_lexer": "ipython3",
   "version": "3.11.7"
  }
 },
 "nbformat": 4,
 "nbformat_minor": 5
}
