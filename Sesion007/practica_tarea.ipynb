{
 "cells": [
  {
   "cell_type": "markdown",
   "id": "654ce25b-dd8f-4688-9063-09e6a8ed74ac",
   "metadata": {
    "tags": []
   },
   "source": [
    "# Análisis de campañas A/B"
   ]
  },
  {
   "cell_type": "markdown",
   "id": "cd90789d-d0d1-4ce2-8ba6-fcf264ea4c7b",
   "metadata": {},
   "source": [
    "El archivo \"b08_practica\" contiene las siguientes variables de un experimento en el cual se compararon dos campañas ('control' y 'test') para ventas en línea:  \n",
    "- Campaña: Nombre de la campaña.\n",
    "- Fecha: Día del registro.\n",
    "- Gasto: Cantidad gastada en la campaña en dólares.\n",
    "- Impresiones: Número de impresiones del anuncio a través de la campaña\n",
    "- Alcance: Número de impresiones únicas recibidas por el anuncio\n",
    "- Búsquedas: Número de usuarios que realizaron búsquedas en el sitio web.\n",
    "- Vistas: Número de usuarios que vieron contenido y productos en el sitio web.\n",
    "- NumCarritos: Número de usuarios que agregaron productos al 'carrito'.\n",
    "- Compras: Número de compras\n",
    "\n",
    "Compara las diferentes métricas y aconseja cuál campaña de publicidad es mejor"
   ]
  },
  {
   "cell_type": "markdown",
   "id": "1fab252b-12a8-4882-8ffe-98d08ed10637",
   "metadata": {
    "tags": []
   },
   "source": [
    "## Análisis de medias por columna por grupo\n",
    "Se realiza el análisis de los dos grupos en cada columna. Para cada columna se realizan:\n",
    "- Tabla pivote con el valor promedio por grupo\n",
    "- Prueba de normalidad Shapiro-Wilk para cada grupo\n",
    "- Prueba de homogeneidad de varianza Levene\n",
    "- Prueba t de diferencia de medias\n",
    "- Prueba Mann-Whitney de diferencia de medias"
   ]
  },
  {
   "cell_type": "code",
   "execution_count": 3,
   "id": "32fef09c-be2e-44d3-952d-1ca88b721248",
   "metadata": {
    "tags": []
   },
   "outputs": [],
   "source": [
    "# Importación de funciones para las pruebas por realizar\n",
    "import pandas as pd\n",
    "from scipy.stats import shapiro\n",
    "from scipy.stats import levene\n",
    "from scipy.stats import ttest_ind\n",
    "from scipy.stats import mannwhitneyu\n",
    "from statsmodels.stats.proportion import proportions_ztest"
   ]
  },
  {
   "cell_type": "code",
   "execution_count": 4,
   "id": "bf52dd66-855d-4118-adf2-4f2759778753",
   "metadata": {
    "tags": []
   },
   "outputs": [],
   "source": [
    "# Lectura de datos\n",
    "df = pd.read_excel('data/b08_practica.xlsx')"
   ]
  },
  {
   "cell_type": "code",
   "execution_count": 5,
   "id": "0f0f787c-2a37-44b0-b070-83245b3f8ed3",
   "metadata": {
    "tags": []
   },
   "outputs": [
    {
     "name": "stdout",
     "output_type": "stream",
     "text": [
      "<class 'pandas.core.frame.DataFrame'>\n",
      "RangeIndex: 59 entries, 0 to 58\n",
      "Data columns (total 10 columns):\n",
      " #   Column       Non-Null Count  Dtype         \n",
      "---  ------       --------------  -----         \n",
      " 0   Campaña      59 non-null     object        \n",
      " 1   Fecha        59 non-null     datetime64[ns]\n",
      " 2   Gasto        59 non-null     int64         \n",
      " 3   Impresiones  59 non-null     int64         \n",
      " 4   Alcance      59 non-null     int64         \n",
      " 5   Clicks       59 non-null     int64         \n",
      " 6   Busquedas    59 non-null     int64         \n",
      " 7   Vistas       59 non-null     int64         \n",
      " 8   NumCarritos  59 non-null     int64         \n",
      " 9   Compras      59 non-null     int64         \n",
      "dtypes: datetime64[ns](1), int64(8), object(1)\n",
      "memory usage: 4.7+ KB\n"
     ]
    }
   ],
   "source": [
    "# Resumen técnico del set de datos\n",
    "df.info()"
   ]
  },
  {
   "cell_type": "code",
   "execution_count": 228,
   "id": "781ae05a-c4f6-4df0-8ba3-18dedaf26f9c",
   "metadata": {
    "tags": []
   },
   "outputs": [
    {
     "data": {
      "text/html": [
       "<div>\n",
       "<style scoped>\n",
       "    .dataframe tbody tr th:only-of-type {\n",
       "        vertical-align: middle;\n",
       "    }\n",
       "\n",
       "    .dataframe tbody tr th {\n",
       "        vertical-align: top;\n",
       "    }\n",
       "\n",
       "    .dataframe thead th {\n",
       "        text-align: right;\n",
       "    }\n",
       "</style>\n",
       "<table border=\"1\" class=\"dataframe\">\n",
       "  <thead>\n",
       "    <tr style=\"text-align: right;\">\n",
       "      <th></th>\n",
       "      <th>Campaña</th>\n",
       "      <th>Fecha</th>\n",
       "      <th>Gasto</th>\n",
       "      <th>Impresiones</th>\n",
       "      <th>Alcance</th>\n",
       "      <th>Clicks</th>\n",
       "      <th>Busquedas</th>\n",
       "      <th>Vistas</th>\n",
       "      <th>NumCarritos</th>\n",
       "      <th>Compras</th>\n",
       "    </tr>\n",
       "  </thead>\n",
       "  <tbody>\n",
       "    <tr>\n",
       "      <th>0</th>\n",
       "      <td>Control</td>\n",
       "      <td>2019-08-01</td>\n",
       "      <td>2280</td>\n",
       "      <td>82702</td>\n",
       "      <td>56930</td>\n",
       "      <td>7016</td>\n",
       "      <td>2290</td>\n",
       "      <td>2159</td>\n",
       "      <td>1819</td>\n",
       "      <td>618</td>\n",
       "    </tr>\n",
       "    <tr>\n",
       "      <th>1</th>\n",
       "      <td>Control</td>\n",
       "      <td>2019-08-02</td>\n",
       "      <td>1757</td>\n",
       "      <td>121040</td>\n",
       "      <td>102513</td>\n",
       "      <td>8110</td>\n",
       "      <td>2033</td>\n",
       "      <td>1841</td>\n",
       "      <td>1219</td>\n",
       "      <td>511</td>\n",
       "    </tr>\n",
       "    <tr>\n",
       "      <th>2</th>\n",
       "      <td>Control</td>\n",
       "      <td>2019-08-03</td>\n",
       "      <td>2343</td>\n",
       "      <td>131711</td>\n",
       "      <td>110862</td>\n",
       "      <td>6508</td>\n",
       "      <td>1737</td>\n",
       "      <td>1549</td>\n",
       "      <td>1134</td>\n",
       "      <td>372</td>\n",
       "    </tr>\n",
       "    <tr>\n",
       "      <th>3</th>\n",
       "      <td>Control</td>\n",
       "      <td>2019-08-04</td>\n",
       "      <td>1940</td>\n",
       "      <td>72878</td>\n",
       "      <td>61235</td>\n",
       "      <td>3065</td>\n",
       "      <td>1042</td>\n",
       "      <td>982</td>\n",
       "      <td>1183</td>\n",
       "      <td>340</td>\n",
       "    </tr>\n",
       "    <tr>\n",
       "      <th>4</th>\n",
       "      <td>Control</td>\n",
       "      <td>2019-08-06</td>\n",
       "      <td>3083</td>\n",
       "      <td>109076</td>\n",
       "      <td>87998</td>\n",
       "      <td>4028</td>\n",
       "      <td>1709</td>\n",
       "      <td>1249</td>\n",
       "      <td>784</td>\n",
       "      <td>764</td>\n",
       "    </tr>\n",
       "  </tbody>\n",
       "</table>\n",
       "</div>"
      ],
      "text/plain": [
       "   Campaña      Fecha  Gasto  Impresiones  Alcance  Clicks  Busquedas  Vistas  \\\n",
       "0  Control 2019-08-01   2280        82702    56930    7016       2290    2159   \n",
       "1  Control 2019-08-02   1757       121040   102513    8110       2033    1841   \n",
       "2  Control 2019-08-03   2343       131711   110862    6508       1737    1549   \n",
       "3  Control 2019-08-04   1940        72878    61235    3065       1042     982   \n",
       "4  Control 2019-08-06   3083       109076    87998    4028       1709    1249   \n",
       "\n",
       "   NumCarritos  Compras  \n",
       "0         1819      618  \n",
       "1         1219      511  \n",
       "2         1134      372  \n",
       "3         1183      340  \n",
       "4          784      764  "
      ]
     },
     "execution_count": 228,
     "metadata": {},
     "output_type": "execute_result"
    }
   ],
   "source": [
    "# Primeras columnas para familiarización con el contenido de las columnas\n",
    "df.head()"
   ]
  },
  {
   "cell_type": "markdown",
   "id": "fffd0610-4f23-4efc-b5a1-3fcdea2011fc",
   "metadata": {
    "tags": []
   },
   "source": [
    "### Gasto\n",
    "\n",
    "- Hipótesis de normalidad (No rechazada)\n",
    "- Igualdad de varianzas (No rechazada)\n",
    "- Prueba de medias (Rechazada: Diferencia significativa entre las medias)\n",
    "\n",
    "Se detecta un gasto promedio mayor en la campaña de prueba"
   ]
  },
  {
   "cell_type": "code",
   "execution_count": 6,
   "id": "770b879a-6bcc-4cea-a4c2-b747904e95b5",
   "metadata": {
    "tags": []
   },
   "outputs": [
    {
     "data": {
      "text/html": [
       "<div>\n",
       "<style scoped>\n",
       "    .dataframe tbody tr th:only-of-type {\n",
       "        vertical-align: middle;\n",
       "    }\n",
       "\n",
       "    .dataframe tbody tr th {\n",
       "        vertical-align: top;\n",
       "    }\n",
       "\n",
       "    .dataframe thead th {\n",
       "        text-align: right;\n",
       "    }\n",
       "</style>\n",
       "<table border=\"1\" class=\"dataframe\">\n",
       "  <thead>\n",
       "    <tr style=\"text-align: right;\">\n",
       "      <th></th>\n",
       "      <th>Gasto</th>\n",
       "    </tr>\n",
       "    <tr>\n",
       "      <th>Campaña</th>\n",
       "      <th></th>\n",
       "    </tr>\n",
       "  </thead>\n",
       "  <tbody>\n",
       "    <tr>\n",
       "      <th>Control</th>\n",
       "      <td>2304.068966</td>\n",
       "    </tr>\n",
       "    <tr>\n",
       "      <th>Test</th>\n",
       "      <td>2563.066667</td>\n",
       "    </tr>\n",
       "  </tbody>\n",
       "</table>\n",
       "</div>"
      ],
      "text/plain": [
       "               Gasto\n",
       "Campaña             \n",
       "Control  2304.068966\n",
       "Test     2563.066667"
      ]
     },
     "execution_count": 6,
     "metadata": {},
     "output_type": "execute_result"
    }
   ],
   "source": [
    "# Tabla pivote con las medias por grupo\n",
    "df.groupby('Campaña').agg({'Gasto': 'mean'})"
   ]
  },
  {
   "cell_type": "code",
   "execution_count": 230,
   "id": "2b3c4f8f-52dc-4fda-9389-549e29c9f7c4",
   "metadata": {
    "tags": []
   },
   "outputs": [
    {
     "name": "stdout",
     "output_type": "stream",
     "text": [
      "Estadístico de prueba: 0.9620704650878906\n",
      "Valor p: 0.3692897856235504\n"
     ]
    }
   ],
   "source": [
    "# Prueba de normalidad de los datos de Gasto en campaña: Control\n",
    "stat, p_value = shapiro(df.loc[df['Campaña'] == 'Control', 'Gasto'])\n",
    "print(\"Estadístico de prueba:\", stat)\n",
    "print(\"Valor p:\", p_value)"
   ]
  },
  {
   "cell_type": "code",
   "execution_count": 231,
   "id": "8d4059fa-4ff5-4070-93cd-28ddfdeeb115",
   "metadata": {
    "tags": []
   },
   "outputs": [
    {
     "name": "stdout",
     "output_type": "stream",
     "text": [
      "No se puede rechazar la hipótesis nula de normalidad en los datos\n"
     ]
    }
   ],
   "source": [
    "# Interpretar los resultados\n",
    "alpha = 0.05\n",
    "if p_value < alpha:\n",
    "    print(\"Se rechaza la hipótesis nula de normalidad en los datos\")\n",
    "else:\n",
    "    print(\"No se puede rechazar la hipótesis nula de normalidad en los datos\")"
   ]
  },
  {
   "cell_type": "code",
   "execution_count": 232,
   "id": "bd07759c-9732-49df-9cab-1610fb804914",
   "metadata": {
    "tags": []
   },
   "outputs": [
    {
     "name": "stdout",
     "output_type": "stream",
     "text": [
      "Estadístico de prueba: 0.9440772533416748\n",
      "Valor p: 0.11714861541986465\n"
     ]
    }
   ],
   "source": [
    "# Prueba de normalidad de los datos de Gasto en campaña: Test\n",
    "stat, p_value = shapiro(df.loc[df['Campaña'] == 'Test', 'Gasto'])\n",
    "print(\"Estadístico de prueba:\", stat)\n",
    "print(\"Valor p:\", p_value)"
   ]
  },
  {
   "cell_type": "code",
   "execution_count": 233,
   "id": "7cc505e1-0777-4f7b-b252-211be6d1b0b0",
   "metadata": {
    "tags": []
   },
   "outputs": [
    {
     "name": "stdout",
     "output_type": "stream",
     "text": [
      "No se puede rechazar la hipótesis nula de normalidad en los datos\n"
     ]
    }
   ],
   "source": [
    "# Interpretar los resultados\n",
    "alpha = 0.05\n",
    "if p_value < alpha:\n",
    "    print(\"Se rechaza la hipótesis nula de normalidad en los datos\")\n",
    "else:\n",
    "    print(\"No se puede rechazar la hipótesis nula de normalidad en los datos\")"
   ]
  },
  {
   "cell_type": "code",
   "execution_count": 234,
   "id": "687ed953-a507-4794-bb73-e8a312fb8583",
   "metadata": {
    "tags": []
   },
   "outputs": [
    {
     "name": "stdout",
     "output_type": "stream",
     "text": [
      "Estadístico de prueba: 0.016724040958384652\n",
      "Valor p: 0.8975585514162038\n"
     ]
    }
   ],
   "source": [
    "# Prueba de homogeneidad de varianza de Gasto entre Campañas\n",
    "stat, p_value = levene(df.loc[df['Campaña'] == 'Control', 'Gasto'],\n",
    "                       df.loc[df['Campaña'] == 'Test', 'Gasto'])\n",
    "print(\"Estadístico de prueba:\", stat)\n",
    "print(\"Valor p:\", p_value)"
   ]
  },
  {
   "cell_type": "code",
   "execution_count": 235,
   "id": "3cccb748-6b07-4e7c-8ba2-ff954142495f",
   "metadata": {
    "tags": []
   },
   "outputs": [
    {
     "name": "stdout",
     "output_type": "stream",
     "text": [
      "No se puede rechazar la hipótesis nula: no se rechaza el supuesto de igualdad de varianzas.\n"
     ]
    }
   ],
   "source": [
    "# Interpretar los resultados\n",
    "alpha = 0.05\n",
    "if p_value < alpha:\n",
    "    print(\"Se rechaza la hipótesis nula: hay evidencia de diferencias significativas en las varianzas.\")\n",
    "else:\n",
    "    print(\"No se puede rechazar la hipótesis nula: no se rechaza el supuesto de igualdad de varianzas.\")"
   ]
  },
  {
   "cell_type": "code",
   "execution_count": 236,
   "id": "48f8a7c9-4040-4c21-be97-b6d4d8b471de",
   "metadata": {
    "tags": []
   },
   "outputs": [
    {
     "name": "stdout",
     "output_type": "stream",
     "text": [
      "Estadístico t: -2.793240375594836\n",
      "Valor p: 0.007093062303374369\n"
     ]
    }
   ],
   "source": [
    "# Prueba t de Gasto entre Campañas\n",
    "t_statistic, p_value = ttest_ind(df.loc[df['Campaña'] == 'Control', 'Gasto'], \n",
    "                                 df.loc[df['Campaña'] == 'Test', 'Gasto'])\n",
    "\n",
    "# Imprimir los resultados\n",
    "print(\"Estadístico t:\", t_statistic)\n",
    "print(\"Valor p:\", p_value)"
   ]
  },
  {
   "cell_type": "code",
   "execution_count": 237,
   "id": "283d5224-6a35-4e5a-ba5d-15ccd567dbb7",
   "metadata": {
    "tags": []
   },
   "outputs": [
    {
     "name": "stdout",
     "output_type": "stream",
     "text": [
      "Se rechaza la hipótesis nula: hay evidencia de diferencias significativas en las medias.\n"
     ]
    }
   ],
   "source": [
    "# Interpretar los resultados\n",
    "alpha = 0.05\n",
    "if p_value < alpha:\n",
    "    print(\"Se rechaza la hipótesis nula: hay evidencia de diferencias significativas en las medias.\")\n",
    "else:\n",
    "    print(\"No se puede rechazar la hipótesis nula: no hay suficiente evidencia para afirmar diferencias significativas en las medias.\")"
   ]
  },
  {
   "cell_type": "code",
   "execution_count": 238,
   "id": "362fddb8-9c5d-4f6e-aebe-540b5450a363",
   "metadata": {
    "tags": []
   },
   "outputs": [
    {
     "name": "stdout",
     "output_type": "stream",
     "text": [
      "Estadístico de prueba U: 257.0\n",
      "Valor p: 0.00711852437564885\n"
     ]
    }
   ],
   "source": [
    "# Realizar la prueba de Mann-Whitney U\n",
    "statistic, p_value = mannwhitneyu(df.loc[df['Campaña'] == 'Control', 'Gasto'],\n",
    "                                  df.loc[df['Campaña'] == 'Test', 'Gasto'])\n",
    "\n",
    "# Imprimir los resultados\n",
    "print(\"Estadístico de prueba U:\", statistic)\n",
    "print(\"Valor p:\", p_value)"
   ]
  },
  {
   "cell_type": "code",
   "execution_count": 239,
   "id": "810e91c2-4ab0-4331-b360-a45acc1a226e",
   "metadata": {
    "tags": []
   },
   "outputs": [
    {
     "name": "stdout",
     "output_type": "stream",
     "text": [
      "Se rechaza la hipótesis nula: hay evidencia de diferencias significativas en la distribución.\n"
     ]
    }
   ],
   "source": [
    "# Interpretar los resultados\n",
    "alpha = 0.05\n",
    "if p_value < alpha:\n",
    "    print(\"Se rechaza la hipótesis nula: hay evidencia de diferencias significativas en la distribución.\")\n",
    "else:\n",
    "    print(\"No se puede rechazar la hipótesis nula: no hay suficiente evidencia para afirmar diferencias significativas en la distribución\")"
   ]
  },
  {
   "cell_type": "markdown",
   "id": "0965b54d-bb91-4099-a1a7-6fa8c27af59f",
   "metadata": {
    "tags": []
   },
   "source": [
    "### Impresiones\n",
    "\n",
    "- Hipótesis de normalidad (No rechazada)\n",
    "- Igualdad de varianzas (Rechazada: Diferencia significativa entre las varianzas)\n",
    "- Prueba de medias (Rechazada: Diferencia significativa entre las medias)\n",
    "\n",
    "Se detecta un número de impresiones promedio mayor en la campaña de control"
   ]
  },
  {
   "cell_type": "code",
   "execution_count": 240,
   "id": "4d65b6ca-78db-46d3-963e-390848d85b10",
   "metadata": {
    "tags": []
   },
   "outputs": [
    {
     "data": {
      "text/html": [
       "<div>\n",
       "<style scoped>\n",
       "    .dataframe tbody tr th:only-of-type {\n",
       "        vertical-align: middle;\n",
       "    }\n",
       "\n",
       "    .dataframe tbody tr th {\n",
       "        vertical-align: top;\n",
       "    }\n",
       "\n",
       "    .dataframe thead th {\n",
       "        text-align: right;\n",
       "    }\n",
       "</style>\n",
       "<table border=\"1\" class=\"dataframe\">\n",
       "  <thead>\n",
       "    <tr style=\"text-align: right;\">\n",
       "      <th></th>\n",
       "      <th>Impresiones</th>\n",
       "    </tr>\n",
       "    <tr>\n",
       "      <th>Campaña</th>\n",
       "      <th></th>\n",
       "    </tr>\n",
       "  </thead>\n",
       "  <tbody>\n",
       "    <tr>\n",
       "      <th>Control</th>\n",
       "      <td>109559.758621</td>\n",
       "    </tr>\n",
       "    <tr>\n",
       "      <th>Test</th>\n",
       "      <td>74584.800000</td>\n",
       "    </tr>\n",
       "  </tbody>\n",
       "</table>\n",
       "</div>"
      ],
      "text/plain": [
       "           Impresiones\n",
       "Campaña               \n",
       "Control  109559.758621\n",
       "Test      74584.800000"
      ]
     },
     "execution_count": 240,
     "metadata": {},
     "output_type": "execute_result"
    }
   ],
   "source": [
    "df.groupby('Campaña').agg({'Impresiones': 'mean'})"
   ]
  },
  {
   "cell_type": "code",
   "execution_count": 241,
   "id": "6a5cb160-5d03-4241-8b9f-6619c19fc071",
   "metadata": {
    "tags": []
   },
   "outputs": [
    {
     "name": "stdout",
     "output_type": "stream",
     "text": [
      "Estadístico de prueba: 0.9425901174545288\n",
      "Valor p: 0.11722593009471893\n"
     ]
    }
   ],
   "source": [
    "# Prueba de normalidad de los datos de Gasto en campaña: Control\n",
    "stat, p_value = shapiro(df.loc[df['Campaña'] == 'Control', 'Impresiones'])\n",
    "print(\"Estadístico de prueba:\", stat)\n",
    "print(\"Valor p:\", p_value)"
   ]
  },
  {
   "cell_type": "code",
   "execution_count": 242,
   "id": "b8513d45-0429-4053-bf09-830c7aec1e04",
   "metadata": {
    "tags": []
   },
   "outputs": [
    {
     "name": "stdout",
     "output_type": "stream",
     "text": [
      "No se puede rechazar la hipótesis nula de normalidad en los datos\n"
     ]
    }
   ],
   "source": [
    "# Interpretar los resultados\n",
    "alpha = 0.05\n",
    "if p_value < alpha:\n",
    "    print(\"Se rechaza la hipótesis nula de normalidad en los datos\")\n",
    "else:\n",
    "    print(\"No se puede rechazar la hipótesis nula de normalidad en los datos\")"
   ]
  },
  {
   "cell_type": "code",
   "execution_count": 243,
   "id": "aaefd025-cd96-4d2a-af21-0066ae909173",
   "metadata": {
    "tags": []
   },
   "outputs": [
    {
     "name": "stdout",
     "output_type": "stream",
     "text": [
      "Estadístico de prueba: 0.948454737663269\n",
      "Valor p: 0.15366937220096588\n"
     ]
    }
   ],
   "source": [
    "# Prueba de normalidad de los datos de Gasto en campaña: Test\n",
    "stat, p_value = shapiro(df.loc[df['Campaña'] == 'Test', 'Impresiones'])\n",
    "print(\"Estadístico de prueba:\", stat)\n",
    "print(\"Valor p:\", p_value)"
   ]
  },
  {
   "cell_type": "code",
   "execution_count": 244,
   "id": "9fc05b66-f125-426a-b828-41e4d76e57d1",
   "metadata": {
    "tags": []
   },
   "outputs": [
    {
     "name": "stdout",
     "output_type": "stream",
     "text": [
      "No se puede rechazar la hipótesis nula de normalidad en los datos\n"
     ]
    }
   ],
   "source": [
    "# Interpretar los resultados\n",
    "alpha = 0.05\n",
    "if p_value < alpha:\n",
    "    print(\"Se rechaza la hipótesis nula de normalidad en los datos\")\n",
    "else:\n",
    "    print(\"No se puede rechazar la hipótesis nula de normalidad en los datos\")"
   ]
  },
  {
   "cell_type": "code",
   "execution_count": 245,
   "id": "96e95bee-c2e2-4f5c-b685-80291f81bb33",
   "metadata": {
    "tags": []
   },
   "outputs": [
    {
     "name": "stdout",
     "output_type": "stream",
     "text": [
      "Estadístico de prueba: 6.8867144172541295\n",
      "Valor p: 0.011125294220972791\n"
     ]
    }
   ],
   "source": [
    "# Prueba de homogeneidad de varianza de Gasto entre Campañas\n",
    "stat, p_value = levene(df.loc[df['Campaña'] == 'Control', 'Impresiones'],\n",
    "                       df.loc[df['Campaña'] == 'Test', 'Impresiones'])\n",
    "print(\"Estadístico de prueba:\", stat)\n",
    "print(\"Valor p:\", p_value)"
   ]
  },
  {
   "cell_type": "code",
   "execution_count": 246,
   "id": "896003c2-4245-4549-bac7-98f9daefb46a",
   "metadata": {
    "tags": []
   },
   "outputs": [
    {
     "name": "stdout",
     "output_type": "stream",
     "text": [
      "Se rechaza la hipótesis nula: hay evidencia de diferencias significativas en las varianzas.\n"
     ]
    }
   ],
   "source": [
    "# Interpretar los resultados\n",
    "alpha = 0.05\n",
    "if p_value < alpha:\n",
    "    print(\"Se rechaza la hipótesis nula: hay evidencia de diferencias significativas en las varianzas.\")\n",
    "else:\n",
    "    print(\"No se puede rechazar la hipótesis nula: no se rechaza el supuesto de igualdad de varianzas.\")"
   ]
  },
  {
   "cell_type": "code",
   "execution_count": 247,
   "id": "0c3091c5-ecd8-4bbf-b051-205a96baafc6",
   "metadata": {
    "tags": []
   },
   "outputs": [
    {
     "name": "stdout",
     "output_type": "stream",
     "text": [
      "Estadístico t: 4.884544325740239\n",
      "Valor p: 8.774394114329264e-06\n"
     ]
    }
   ],
   "source": [
    "# Prueba t de Gasto entre Campañas\n",
    "t_statistic, p_value = ttest_ind(df.loc[df['Campaña'] == 'Control', 'Impresiones'], \n",
    "                                 df.loc[df['Campaña'] == 'Test', 'Impresiones'])\n",
    "\n",
    "# Imprimir los resultados\n",
    "print(\"Estadístico t:\", t_statistic)\n",
    "print(\"Valor p:\", p_value)"
   ]
  },
  {
   "cell_type": "code",
   "execution_count": 248,
   "id": "5d676fad-5654-462c-9d8f-bc8cb66e6e11",
   "metadata": {
    "tags": []
   },
   "outputs": [
    {
     "name": "stdout",
     "output_type": "stream",
     "text": [
      "Se rechaza la hipótesis nula: hay evidencia de diferencias significativas en las medias.\n"
     ]
    }
   ],
   "source": [
    "# Interpretar los resultados\n",
    "alpha = 0.05\n",
    "if p_value < alpha:\n",
    "    print(\"Se rechaza la hipótesis nula: hay evidencia de diferencias significativas en las medias.\")\n",
    "else:\n",
    "    print(\"No se puede rechazar la hipótesis nula: no hay suficiente evidencia para afirmar diferencias significativas en las medias.\")"
   ]
  },
  {
   "cell_type": "code",
   "execution_count": 249,
   "id": "be61b65f-a109-47c0-90c3-5aff935bd294",
   "metadata": {
    "tags": []
   },
   "outputs": [
    {
     "name": "stdout",
     "output_type": "stream",
     "text": [
      "Estadístico de prueba U: 697.0\n",
      "Valor p: 7.344126278759323e-05\n"
     ]
    }
   ],
   "source": [
    "# Realizar la prueba de Mann-Whitney U\n",
    "statistic, p_value = mannwhitneyu(df.loc[df['Campaña'] == 'Control', 'Impresiones'],\n",
    "                                  df.loc[df['Campaña'] == 'Test', 'Impresiones'])\n",
    "\n",
    "# Imprimir los resultados\n",
    "print(\"Estadístico de prueba U:\", statistic)\n",
    "print(\"Valor p:\", p_value)"
   ]
  },
  {
   "cell_type": "code",
   "execution_count": 250,
   "id": "44e735b6-6b64-4526-b496-88125584790d",
   "metadata": {
    "tags": []
   },
   "outputs": [
    {
     "name": "stdout",
     "output_type": "stream",
     "text": [
      "Se rechaza la hipótesis nula: hay evidencia de diferencias significativas en la distribución.\n"
     ]
    }
   ],
   "source": [
    "# Interpretar los resultados\n",
    "alpha = 0.05\n",
    "if p_value < alpha:\n",
    "    print(\"Se rechaza la hipótesis nula: hay evidencia de diferencias significativas en la distribución.\")\n",
    "else:\n",
    "    print(\"No se puede rechazar la hipótesis nula: no hay suficiente evidencia para afirmar diferencias significativas en la distribución\")"
   ]
  },
  {
   "cell_type": "markdown",
   "id": "f5a9d501-083c-4727-afc9-bcf164986bf2",
   "metadata": {
    "tags": []
   },
   "source": [
    "### Alcance\n",
    "\n",
    "- Hipótesis de normalidad (No rechazada)\n",
    "- Igualdad de varianzas (No rechazada)\n",
    "- Prueba de medias (Rechazada: Diferencia significativa entre las medias)\n",
    "\n",
    "Se detecta un alcance promedio mayor en la campaña de control"
   ]
  },
  {
   "cell_type": "code",
   "execution_count": 251,
   "id": "89653704-9dc0-483f-aa0b-94c9c1b205f9",
   "metadata": {
    "tags": []
   },
   "outputs": [
    {
     "data": {
      "text/html": [
       "<div>\n",
       "<style scoped>\n",
       "    .dataframe tbody tr th:only-of-type {\n",
       "        vertical-align: middle;\n",
       "    }\n",
       "\n",
       "    .dataframe tbody tr th {\n",
       "        vertical-align: top;\n",
       "    }\n",
       "\n",
       "    .dataframe thead th {\n",
       "        text-align: right;\n",
       "    }\n",
       "</style>\n",
       "<table border=\"1\" class=\"dataframe\">\n",
       "  <thead>\n",
       "    <tr style=\"text-align: right;\">\n",
       "      <th></th>\n",
       "      <th>Alcance</th>\n",
       "    </tr>\n",
       "    <tr>\n",
       "      <th>Campaña</th>\n",
       "      <th></th>\n",
       "    </tr>\n",
       "  </thead>\n",
       "  <tbody>\n",
       "    <tr>\n",
       "      <th>Control</th>\n",
       "      <td>88844.931034</td>\n",
       "    </tr>\n",
       "    <tr>\n",
       "      <th>Test</th>\n",
       "      <td>53491.566667</td>\n",
       "    </tr>\n",
       "  </tbody>\n",
       "</table>\n",
       "</div>"
      ],
      "text/plain": [
       "              Alcance\n",
       "Campaña              \n",
       "Control  88844.931034\n",
       "Test     53491.566667"
      ]
     },
     "execution_count": 251,
     "metadata": {},
     "output_type": "execute_result"
    }
   ],
   "source": [
    "df.groupby('Campaña').agg({'Alcance': 'mean'})"
   ]
  },
  {
   "cell_type": "code",
   "execution_count": 252,
   "id": "6e8e4768-20c7-4926-87a9-f287dabd5e18",
   "metadata": {
    "tags": []
   },
   "outputs": [
    {
     "name": "stdout",
     "output_type": "stream",
     "text": [
      "Estadístico de prueba: 0.973163366317749\n",
      "Valor p: 0.6480677723884583\n"
     ]
    }
   ],
   "source": [
    "# Prueba de normalidad de los datos de Gasto en campaña: Control\n",
    "stat, p_value = shapiro(df.loc[df['Campaña'] == 'Control', 'Alcance'])\n",
    "print(\"Estadístico de prueba:\", stat)\n",
    "print(\"Valor p:\", p_value)"
   ]
  },
  {
   "cell_type": "code",
   "execution_count": 253,
   "id": "6c4c07c7-74c9-4586-9c7a-1361cc671218",
   "metadata": {
    "tags": []
   },
   "outputs": [
    {
     "name": "stdout",
     "output_type": "stream",
     "text": [
      "No se puede rechazar la hipótesis nula de normalidad en los datos\n"
     ]
    }
   ],
   "source": [
    "# Interpretar los resultados\n",
    "alpha = 0.05\n",
    "if p_value < alpha:\n",
    "    print(\"Se rechaza la hipótesis nula de normalidad en los datos\")\n",
    "else:\n",
    "    print(\"No se puede rechazar la hipótesis nula de normalidad en los datos\")"
   ]
  },
  {
   "cell_type": "code",
   "execution_count": 254,
   "id": "39d8dcdb-3ff1-4efd-86d8-ceda993ca569",
   "metadata": {
    "tags": []
   },
   "outputs": [
    {
     "name": "stdout",
     "output_type": "stream",
     "text": [
      "Estadístico de prueba: 0.9324314594268799\n",
      "Valor p: 0.05699457973241806\n"
     ]
    }
   ],
   "source": [
    "# Prueba de normalidad de los datos de Gasto en campaña: Test\n",
    "stat, p_value = shapiro(df.loc[df['Campaña'] == 'Test', 'Alcance'])\n",
    "print(\"Estadístico de prueba:\", stat)\n",
    "print(\"Valor p:\", p_value)"
   ]
  },
  {
   "cell_type": "code",
   "execution_count": 255,
   "id": "217bbf25-e18e-4549-b8c7-2d5b83e97b0c",
   "metadata": {
    "tags": []
   },
   "outputs": [
    {
     "name": "stdout",
     "output_type": "stream",
     "text": [
      "No se puede rechazar la hipótesis nula de normalidad en los datos\n"
     ]
    }
   ],
   "source": [
    "# Interpretar los resultados\n",
    "alpha = 0.05\n",
    "if p_value < alpha:\n",
    "    print(\"Se rechaza la hipótesis nula de normalidad en los datos\")\n",
    "else:\n",
    "    print(\"No se puede rechazar la hipótesis nula de normalidad en los datos\")"
   ]
  },
  {
   "cell_type": "code",
   "execution_count": 256,
   "id": "a62b26cc-3ab0-4513-8d9e-409401636392",
   "metadata": {
    "tags": []
   },
   "outputs": [
    {
     "name": "stdout",
     "output_type": "stream",
     "text": [
      "Estadístico de prueba: 2.1186730933639852\n",
      "Valor p: 0.15099841828036473\n"
     ]
    }
   ],
   "source": [
    "# Prueba de homogeneidad de varianza de Gasto entre Campañas\n",
    "stat, p_value = levene(df.loc[df['Campaña'] == 'Control', 'Alcance'],\n",
    "                       df.loc[df['Campaña'] == 'Test', 'Alcance'])\n",
    "print(\"Estadístico de prueba:\", stat)\n",
    "print(\"Valor p:\", p_value)"
   ]
  },
  {
   "cell_type": "code",
   "execution_count": 257,
   "id": "e9867229-8a1c-44b0-b1ba-160cd0341925",
   "metadata": {
    "tags": []
   },
   "outputs": [
    {
     "name": "stdout",
     "output_type": "stream",
     "text": [
      "No se puede rechazar la hipótesis nula: no se rechaza el supuesto de igualdad de varianzas.\n"
     ]
    }
   ],
   "source": [
    "# Interpretar los resultados\n",
    "alpha = 0.05\n",
    "if p_value < alpha:\n",
    "    print(\"Se rechaza la hipótesis nula: hay evidencia de diferencias significativas en las varianzas.\")\n",
    "else:\n",
    "    print(\"No se puede rechazar la hipótesis nula: no se rechaza el supuesto de igualdad de varianzas.\")"
   ]
  },
  {
   "cell_type": "code",
   "execution_count": 258,
   "id": "4b1b3dbf-214a-4fcc-af39-5ae437cbf3db",
   "metadata": {
    "tags": []
   },
   "outputs": [
    {
     "name": "stdout",
     "output_type": "stream",
     "text": [
      "Estadístico t: 5.300379386681559\n",
      "Valor p: 1.9462081815900436e-06\n"
     ]
    }
   ],
   "source": [
    "# Prueba t de Gasto entre Campañas\n",
    "t_statistic, p_value = ttest_ind(df.loc[df['Campaña'] == 'Control', 'Alcance'], \n",
    "                                 df.loc[df['Campaña'] == 'Test', 'Alcance'])\n",
    "\n",
    "# Imprimir los resultados\n",
    "print(\"Estadístico t:\", t_statistic)\n",
    "print(\"Valor p:\", p_value)"
   ]
  },
  {
   "cell_type": "code",
   "execution_count": 259,
   "id": "359e14c5-9c5e-4b34-9cea-42f0c1bcdfc3",
   "metadata": {
    "tags": []
   },
   "outputs": [
    {
     "name": "stdout",
     "output_type": "stream",
     "text": [
      "Se rechaza la hipótesis nula: hay evidencia de diferencias significativas en las medias.\n"
     ]
    }
   ],
   "source": [
    "# Interpretar los resultados\n",
    "alpha = 0.05\n",
    "if p_value < alpha:\n",
    "    print(\"Se rechaza la hipótesis nula: hay evidencia de diferencias significativas en las medias.\")\n",
    "else:\n",
    "    print(\"No se puede rechazar la hipótesis nula: no hay suficiente evidencia para afirmar diferencias significativas en las medias.\")"
   ]
  },
  {
   "cell_type": "code",
   "execution_count": 260,
   "id": "fcb096a2-892f-4802-b749-ab128b403986",
   "metadata": {
    "tags": []
   },
   "outputs": [
    {
     "name": "stdout",
     "output_type": "stream",
     "text": [
      "Estadístico de prueba U: 719.0\n",
      "Valor p: 1.7202314302800555e-05\n"
     ]
    }
   ],
   "source": [
    "# Realizar la prueba de Mann-Whitney U\n",
    "statistic, p_value = mannwhitneyu(df.loc[df['Campaña'] == 'Control', 'Alcance'],\n",
    "                                  df.loc[df['Campaña'] == 'Test', 'Alcance'])\n",
    "\n",
    "# Imprimir los resultados\n",
    "print(\"Estadístico de prueba U:\", statistic)\n",
    "print(\"Valor p:\", p_value)"
   ]
  },
  {
   "cell_type": "code",
   "execution_count": 261,
   "id": "b4433310-bdd7-4c7b-9ef6-efa82388141f",
   "metadata": {
    "tags": []
   },
   "outputs": [
    {
     "name": "stdout",
     "output_type": "stream",
     "text": [
      "Se rechaza la hipótesis nula: hay evidencia de diferencias significativas en la distribución.\n"
     ]
    }
   ],
   "source": [
    "# Interpretar los resultados\n",
    "alpha = 0.05\n",
    "if p_value < alpha:\n",
    "    print(\"Se rechaza la hipótesis nula: hay evidencia de diferencias significativas en la distribución.\")\n",
    "else:\n",
    "    print(\"No se puede rechazar la hipótesis nula: no hay suficiente evidencia para afirmar diferencias significativas en la distribución\")"
   ]
  },
  {
   "cell_type": "markdown",
   "id": "04e93d86-d446-4053-9966-a1b5f1bcde85",
   "metadata": {
    "tags": []
   },
   "source": [
    "### Búsquedas\n",
    "\n",
    "- Hipótesis de normalidad (Rechazada: Se dará prioridad a prueba Mann-Whitney)\n",
    "- Igualdad de varianzas (Rechazada: Diferencia significativa entre las varianzas)\n",
    "- Prueba de medias (No rechazada)\n",
    "\n",
    "No hay diferencia significativa en las búsquedas promedio entre campañas."
   ]
  },
  {
   "cell_type": "code",
   "execution_count": 262,
   "id": "8210dba0-71e6-44df-b82b-4d105084fb8b",
   "metadata": {
    "tags": []
   },
   "outputs": [
    {
     "data": {
      "text/html": [
       "<div>\n",
       "<style scoped>\n",
       "    .dataframe tbody tr th:only-of-type {\n",
       "        vertical-align: middle;\n",
       "    }\n",
       "\n",
       "    .dataframe tbody tr th {\n",
       "        vertical-align: top;\n",
       "    }\n",
       "\n",
       "    .dataframe thead th {\n",
       "        text-align: right;\n",
       "    }\n",
       "</style>\n",
       "<table border=\"1\" class=\"dataframe\">\n",
       "  <thead>\n",
       "    <tr style=\"text-align: right;\">\n",
       "      <th></th>\n",
       "      <th>Busquedas</th>\n",
       "    </tr>\n",
       "    <tr>\n",
       "      <th>Campaña</th>\n",
       "      <th></th>\n",
       "    </tr>\n",
       "  </thead>\n",
       "  <tbody>\n",
       "    <tr>\n",
       "      <th>Control</th>\n",
       "      <td>2221.310345</td>\n",
       "    </tr>\n",
       "    <tr>\n",
       "      <th>Test</th>\n",
       "      <td>2418.966667</td>\n",
       "    </tr>\n",
       "  </tbody>\n",
       "</table>\n",
       "</div>"
      ],
      "text/plain": [
       "           Busquedas\n",
       "Campaña             \n",
       "Control  2221.310345\n",
       "Test     2418.966667"
      ]
     },
     "execution_count": 262,
     "metadata": {},
     "output_type": "execute_result"
    }
   ],
   "source": [
    "df.groupby('Campaña').agg({'Busquedas': 'mean'})"
   ]
  },
  {
   "cell_type": "code",
   "execution_count": 263,
   "id": "13347611-1bd4-413c-b838-0f6b48929597",
   "metadata": {
    "tags": []
   },
   "outputs": [
    {
     "name": "stdout",
     "output_type": "stream",
     "text": [
      "Estadístico de prueba: 0.9283456802368164\n",
      "Valor p: 0.04985233396291733\n"
     ]
    }
   ],
   "source": [
    "# Prueba de normalidad de los datos de Gasto en campaña: Control\n",
    "stat, p_value = shapiro(df.loc[df['Campaña'] == 'Control', 'Busquedas'])\n",
    "print(\"Estadístico de prueba:\", stat)\n",
    "print(\"Valor p:\", p_value)"
   ]
  },
  {
   "cell_type": "code",
   "execution_count": 264,
   "id": "a3ba7767-ef95-4d8b-ae4f-38ef99923c75",
   "metadata": {
    "tags": []
   },
   "outputs": [
    {
     "name": "stdout",
     "output_type": "stream",
     "text": [
      "Se rechaza la hipótesis nula de normalidad en los datos\n"
     ]
    }
   ],
   "source": [
    "# Interpretar los resultados\n",
    "alpha = 0.05\n",
    "if p_value < alpha:\n",
    "    print(\"Se rechaza la hipótesis nula de normalidad en los datos\")\n",
    "else:\n",
    "    print(\"No se puede rechazar la hipótesis nula de normalidad en los datos\")"
   ]
  },
  {
   "cell_type": "code",
   "execution_count": 265,
   "id": "c3883047-72e7-4c1f-85a6-8bb6f0862181",
   "metadata": {
    "tags": []
   },
   "outputs": [
    {
     "name": "stdout",
     "output_type": "stream",
     "text": [
      "Estadístico de prueba: 0.8963552117347717\n",
      "Valor p: 0.006848006974905729\n"
     ]
    }
   ],
   "source": [
    "# Prueba de normalidad de los datos de Gasto en campaña: Test\n",
    "stat, p_value = shapiro(df.loc[df['Campaña'] == 'Test', 'Busquedas'])\n",
    "print(\"Estadístico de prueba:\", stat)\n",
    "print(\"Valor p:\", p_value)"
   ]
  },
  {
   "cell_type": "code",
   "execution_count": 266,
   "id": "24ad6151-fa59-49c3-b575-5bb9e9c2be39",
   "metadata": {
    "tags": []
   },
   "outputs": [
    {
     "name": "stdout",
     "output_type": "stream",
     "text": [
      "Se rechaza la hipótesis nula de normalidad en los datos\n"
     ]
    }
   ],
   "source": [
    "# Interpretar los resultados\n",
    "alpha = 0.05\n",
    "if p_value < alpha:\n",
    "    print(\"Se rechaza la hipótesis nula de normalidad en los datos\")\n",
    "else:\n",
    "    print(\"No se puede rechazar la hipótesis nula de normalidad en los datos\")"
   ]
  },
  {
   "cell_type": "code",
   "execution_count": 267,
   "id": "aea56f83-b16d-4d40-8c5f-249a2c26eb91",
   "metadata": {
    "tags": []
   },
   "outputs": [
    {
     "name": "stdout",
     "output_type": "stream",
     "text": [
      "Estadístico de prueba: 9.062836553586905\n",
      "Valor p: 0.0038822267759805146\n"
     ]
    }
   ],
   "source": [
    "# Prueba de homogeneidad de varianza de Gasto entre Campañas\n",
    "stat, p_value = levene(df.loc[df['Campaña'] == 'Control', 'Busquedas'],\n",
    "                       df.loc[df['Campaña'] == 'Test', 'Busquedas'])\n",
    "print(\"Estadístico de prueba:\", stat)\n",
    "print(\"Valor p:\", p_value)"
   ]
  },
  {
   "cell_type": "code",
   "execution_count": 268,
   "id": "900fd28f-721f-400a-a2a0-8abb3941a153",
   "metadata": {
    "tags": []
   },
   "outputs": [
    {
     "name": "stdout",
     "output_type": "stream",
     "text": [
      "Se rechaza la hipótesis nula: hay evidencia de diferencias significativas en las varianzas.\n"
     ]
    }
   ],
   "source": [
    "# Interpretar los resultados\n",
    "alpha = 0.05\n",
    "if p_value < alpha:\n",
    "    print(\"Se rechaza la hipótesis nula: hay evidencia de diferencias significativas en las varianzas.\")\n",
    "else:\n",
    "    print(\"No se puede rechazar la hipótesis nula: no se rechaza el supuesto de igualdad de varianzas.\")"
   ]
  },
  {
   "cell_type": "code",
   "execution_count": 269,
   "id": "74d72196-472a-4228-b1b6-7f66bf6ecfab",
   "metadata": {
    "tags": []
   },
   "outputs": [
    {
     "name": "stdout",
     "output_type": "stream",
     "text": [
      "Estadístico t: -1.1373340684043094\n",
      "Valor p: 0.26015715752487034\n"
     ]
    }
   ],
   "source": [
    "# Prueba t de Gasto entre Campañas\n",
    "t_statistic, p_value = ttest_ind(df.loc[df['Campaña'] == 'Control', 'Busquedas'], \n",
    "                                 df.loc[df['Campaña'] == 'Test', 'Busquedas'])\n",
    "\n",
    "# Imprimir los resultados\n",
    "print(\"Estadístico t:\", t_statistic)\n",
    "print(\"Valor p:\", p_value)"
   ]
  },
  {
   "cell_type": "code",
   "execution_count": 270,
   "id": "9dc521b1-0076-4a1f-b662-f7c090eb2caa",
   "metadata": {
    "tags": []
   },
   "outputs": [
    {
     "name": "stdout",
     "output_type": "stream",
     "text": [
      "No se puede rechazar la hipótesis nula: no hay suficiente evidencia para afirmar diferencias significativas en las medias.\n"
     ]
    }
   ],
   "source": [
    "# Interpretar los resultados\n",
    "alpha = 0.05\n",
    "if p_value < alpha:\n",
    "    print(\"Se rechaza la hipótesis nula: hay evidencia de diferencias significativas en las medias.\")\n",
    "else:\n",
    "    print(\"No se puede rechazar la hipótesis nula: no hay suficiente evidencia para afirmar diferencias significativas en las medias.\")"
   ]
  },
  {
   "cell_type": "code",
   "execution_count": 271,
   "id": "04b5f478-df48-46d5-8e00-bd7ae2499f9d",
   "metadata": {
    "tags": []
   },
   "outputs": [
    {
     "name": "stdout",
     "output_type": "stream",
     "text": [
      "Estadístico de prueba U: 346.0\n",
      "Valor p: 0.17964361698819864\n"
     ]
    }
   ],
   "source": [
    "# Realizar la prueba de Mann-Whitney U\n",
    "statistic, p_value = mannwhitneyu(df.loc[df['Campaña'] == 'Control', 'Busquedas'],\n",
    "                                  df.loc[df['Campaña'] == 'Test', 'Busquedas'])\n",
    "\n",
    "# Imprimir los resultados\n",
    "print(\"Estadístico de prueba U:\", statistic)\n",
    "print(\"Valor p:\", p_value)"
   ]
  },
  {
   "cell_type": "code",
   "execution_count": 272,
   "id": "e2f04454-7f5e-434f-af3f-3fce03737f68",
   "metadata": {
    "tags": []
   },
   "outputs": [
    {
     "name": "stdout",
     "output_type": "stream",
     "text": [
      "No se puede rechazar la hipótesis nula: no hay suficiente evidencia para afirmar diferencias significativas en la distribución\n"
     ]
    }
   ],
   "source": [
    "# Interpretar los resultados\n",
    "alpha = 0.05\n",
    "if p_value < alpha:\n",
    "    print(\"Se rechaza la hipótesis nula: hay evidencia de diferencias significativas en la distribución.\")\n",
    "else:\n",
    "    print(\"No se puede rechazar la hipótesis nula: no hay suficiente evidencia para afirmar diferencias significativas en la distribución\")"
   ]
  },
  {
   "cell_type": "markdown",
   "id": "a31c8b78-97e0-4205-90d0-f5f1bec5ab19",
   "metadata": {
    "tags": []
   },
   "source": [
    "### Vistas\n",
    "\n",
    "- Hipótesis de normalidad (No rechazada)\n",
    "- Igualdad de varianzas (No rechazada)\n",
    "- Prueba de medias (No rechazada)\n",
    "\n",
    "No hay diferencia significativa en las vistas al sitio promedio entre campañas."
   ]
  },
  {
   "cell_type": "code",
   "execution_count": 273,
   "id": "78f2e09f-0fff-4c03-9e5b-514c44294392",
   "metadata": {
    "tags": []
   },
   "outputs": [
    {
     "data": {
      "text/html": [
       "<div>\n",
       "<style scoped>\n",
       "    .dataframe tbody tr th:only-of-type {\n",
       "        vertical-align: middle;\n",
       "    }\n",
       "\n",
       "    .dataframe tbody tr th {\n",
       "        vertical-align: top;\n",
       "    }\n",
       "\n",
       "    .dataframe thead th {\n",
       "        text-align: right;\n",
       "    }\n",
       "</style>\n",
       "<table border=\"1\" class=\"dataframe\">\n",
       "  <thead>\n",
       "    <tr style=\"text-align: right;\">\n",
       "      <th></th>\n",
       "      <th>Vistas</th>\n",
       "    </tr>\n",
       "    <tr>\n",
       "      <th>Campaña</th>\n",
       "      <th></th>\n",
       "    </tr>\n",
       "  </thead>\n",
       "  <tbody>\n",
       "    <tr>\n",
       "      <th>Control</th>\n",
       "      <td>1943.793103</td>\n",
       "    </tr>\n",
       "    <tr>\n",
       "      <th>Test</th>\n",
       "      <td>1858.000000</td>\n",
       "    </tr>\n",
       "  </tbody>\n",
       "</table>\n",
       "</div>"
      ],
      "text/plain": [
       "              Vistas\n",
       "Campaña             \n",
       "Control  1943.793103\n",
       "Test     1858.000000"
      ]
     },
     "execution_count": 273,
     "metadata": {},
     "output_type": "execute_result"
    }
   ],
   "source": [
    "df.groupby('Campaña').agg({'Vistas': 'mean'})"
   ]
  },
  {
   "cell_type": "code",
   "execution_count": 274,
   "id": "8e219b2c-942f-4f93-be20-8778e4ab2fa4",
   "metadata": {
    "tags": []
   },
   "outputs": [
    {
     "name": "stdout",
     "output_type": "stream",
     "text": [
      "Estadístico de prueba: 0.9337296485900879\n",
      "Valor p: 0.06875661015510559\n"
     ]
    }
   ],
   "source": [
    "# Prueba de normalidad de los datos de Gasto en campaña: Control\n",
    "stat, p_value = shapiro(df.loc[df['Campaña'] == 'Control', 'Vistas'])\n",
    "print(\"Estadístico de prueba:\", stat)\n",
    "print(\"Valor p:\", p_value)"
   ]
  },
  {
   "cell_type": "code",
   "execution_count": 275,
   "id": "5aa98b9f-de4a-4874-95da-4fab261549cb",
   "metadata": {
    "tags": []
   },
   "outputs": [
    {
     "name": "stdout",
     "output_type": "stream",
     "text": [
      "No se puede rechazar la hipótesis nula de normalidad en los datos\n"
     ]
    }
   ],
   "source": [
    "# Interpretar los resultados\n",
    "alpha = 0.05\n",
    "if p_value < alpha:\n",
    "    print(\"Se rechaza la hipótesis nula de normalidad en los datos\")\n",
    "else:\n",
    "    print(\"No se puede rechazar la hipótesis nula de normalidad en los datos\")"
   ]
  },
  {
   "cell_type": "code",
   "execution_count": 276,
   "id": "c591c26c-fecf-4dcc-9eab-c6e0df94bbf6",
   "metadata": {
    "tags": []
   },
   "outputs": [
    {
     "name": "stdout",
     "output_type": "stream",
     "text": [
      "Estadístico de prueba: 0.9403281211853027\n",
      "Valor p: 0.09282878786325455\n"
     ]
    }
   ],
   "source": [
    "# Prueba de normalidad de los datos de Gasto en campaña: Test\n",
    "stat, p_value = shapiro(df.loc[df['Campaña'] == 'Test', 'Vistas'])\n",
    "print(\"Estadístico de prueba:\", stat)\n",
    "print(\"Valor p:\", p_value)"
   ]
  },
  {
   "cell_type": "code",
   "execution_count": 277,
   "id": "a86db12b-9554-4d7f-8f02-7c34e6df2b82",
   "metadata": {
    "tags": []
   },
   "outputs": [
    {
     "name": "stdout",
     "output_type": "stream",
     "text": [
      "No se puede rechazar la hipótesis nula de normalidad en los datos\n"
     ]
    }
   ],
   "source": [
    "# Interpretar los resultados\n",
    "alpha = 0.05\n",
    "if p_value < alpha:\n",
    "    print(\"Se rechaza la hipótesis nula de normalidad en los datos\")\n",
    "else:\n",
    "    print(\"No se puede rechazar la hipótesis nula de normalidad en los datos\")"
   ]
  },
  {
   "cell_type": "code",
   "execution_count": 278,
   "id": "e026f8e7-1789-4415-9049-01aa92e46975",
   "metadata": {
    "tags": []
   },
   "outputs": [
    {
     "name": "stdout",
     "output_type": "stream",
     "text": [
      "Estadístico de prueba: 0.7690131906486748\n",
      "Valor p: 0.3842035854822884\n"
     ]
    }
   ],
   "source": [
    "# Prueba de homogeneidad de varianza de Gasto entre Campañas\n",
    "stat, p_value = levene(df.loc[df['Campaña'] == 'Control', 'Vistas'],\n",
    "                       df.loc[df['Campaña'] == 'Test', 'Vistas'])\n",
    "print(\"Estadístico de prueba:\", stat)\n",
    "print(\"Valor p:\", p_value)"
   ]
  },
  {
   "cell_type": "code",
   "execution_count": 279,
   "id": "efe18180-f58b-40c3-b812-5cdc169758a9",
   "metadata": {
    "tags": []
   },
   "outputs": [
    {
     "name": "stdout",
     "output_type": "stream",
     "text": [
      "No se puede rechazar la hipótesis nula: no se rechaza el supuesto de igualdad de varianzas.\n"
     ]
    }
   ],
   "source": [
    "# Interpretar los resultados\n",
    "alpha = 0.05\n",
    "if p_value < alpha:\n",
    "    print(\"Se rechaza la hipótesis nula: hay evidencia de diferencias significativas en las varianzas.\")\n",
    "else:\n",
    "    print(\"No se puede rechazar la hipótesis nula: no se rechaza el supuesto de igualdad de varianzas.\")"
   ]
  },
  {
   "cell_type": "code",
   "execution_count": 280,
   "id": "4d1d2cdf-d849-4f62-b4e7-8a507996a2bb",
   "metadata": {
    "tags": []
   },
   "outputs": [
    {
     "name": "stdout",
     "output_type": "stream",
     "text": [
      "Estadístico t: 0.47615455602474466\n",
      "Valor p: 0.6357843704297139\n"
     ]
    }
   ],
   "source": [
    "# Prueba t de Gasto entre Campañas\n",
    "t_statistic, p_value = ttest_ind(df.loc[df['Campaña'] == 'Control', 'Vistas'], \n",
    "                                 df.loc[df['Campaña'] == 'Test', 'Vistas'])\n",
    "\n",
    "# Imprimir los resultados\n",
    "print(\"Estadístico t:\", t_statistic)\n",
    "print(\"Valor p:\", p_value)"
   ]
  },
  {
   "cell_type": "code",
   "execution_count": 281,
   "id": "da30f86e-5cb2-4721-a431-99993137d6cd",
   "metadata": {
    "tags": []
   },
   "outputs": [
    {
     "name": "stdout",
     "output_type": "stream",
     "text": [
      "No se puede rechazar la hipótesis nula: no hay suficiente evidencia para afirmar diferencias significativas en las medias.\n"
     ]
    }
   ],
   "source": [
    "# Interpretar los resultados\n",
    "alpha = 0.05\n",
    "if p_value < alpha:\n",
    "    print(\"Se rechaza la hipótesis nula: hay evidencia de diferencias significativas en las medias.\")\n",
    "else:\n",
    "    print(\"No se puede rechazar la hipótesis nula: no hay suficiente evidencia para afirmar diferencias significativas en las medias.\")"
   ]
  },
  {
   "cell_type": "code",
   "execution_count": 282,
   "id": "d73e679c-a229-4940-a0e9-9a4ee27bdd2c",
   "metadata": {
    "tags": []
   },
   "outputs": [
    {
     "name": "stdout",
     "output_type": "stream",
     "text": [
      "Estadístico de prueba U: 442.0\n",
      "Valor p: 0.9214899604244585\n"
     ]
    }
   ],
   "source": [
    "# Realizar la prueba de Mann-Whitney U\n",
    "statistic, p_value = mannwhitneyu(df.loc[df['Campaña'] == 'Control', 'Vistas'],\n",
    "                                  df.loc[df['Campaña'] == 'Test', 'Vistas'])\n",
    "\n",
    "# Imprimir los resultados\n",
    "print(\"Estadístico de prueba U:\", statistic)\n",
    "print(\"Valor p:\", p_value)"
   ]
  },
  {
   "cell_type": "code",
   "execution_count": 283,
   "id": "093bd6bf-7519-477a-86ff-e773d7465e9b",
   "metadata": {
    "tags": []
   },
   "outputs": [
    {
     "name": "stdout",
     "output_type": "stream",
     "text": [
      "No se puede rechazar la hipótesis nula: no hay suficiente evidencia para afirmar diferencias significativas en la distribución\n"
     ]
    }
   ],
   "source": [
    "# Interpretar los resultados\n",
    "alpha = 0.05\n",
    "if p_value < alpha:\n",
    "    print(\"Se rechaza la hipótesis nula: hay evidencia de diferencias significativas en la distribución.\")\n",
    "else:\n",
    "    print(\"No se puede rechazar la hipótesis nula: no hay suficiente evidencia para afirmar diferencias significativas en la distribución\")"
   ]
  },
  {
   "cell_type": "markdown",
   "id": "065a7c21-1383-4d4f-a3a0-d5f6aca545d9",
   "metadata": {
    "tags": []
   },
   "source": [
    "### NumCarritos\n",
    "\n",
    "- Hipótesis de normalidad (Rechazada para la campaña de prueba)\n",
    "- Igualdad de varianzas (No rechazada)\n",
    "- Prueba de medias (Rechazada: Diferencia significativa entre las medias)\n",
    "\n",
    "Se detecta un número de carritos promedio mayor en la campaña de control."
   ]
  },
  {
   "cell_type": "code",
   "execution_count": 284,
   "id": "05130fdf-266e-4261-b11f-a1ff7521a6eb",
   "metadata": {
    "tags": []
   },
   "outputs": [
    {
     "data": {
      "text/html": [
       "<div>\n",
       "<style scoped>\n",
       "    .dataframe tbody tr th:only-of-type {\n",
       "        vertical-align: middle;\n",
       "    }\n",
       "\n",
       "    .dataframe tbody tr th {\n",
       "        vertical-align: top;\n",
       "    }\n",
       "\n",
       "    .dataframe thead th {\n",
       "        text-align: right;\n",
       "    }\n",
       "</style>\n",
       "<table border=\"1\" class=\"dataframe\">\n",
       "  <thead>\n",
       "    <tr style=\"text-align: right;\">\n",
       "      <th></th>\n",
       "      <th>NumCarritos</th>\n",
       "    </tr>\n",
       "    <tr>\n",
       "      <th>Campaña</th>\n",
       "      <th></th>\n",
       "    </tr>\n",
       "  </thead>\n",
       "  <tbody>\n",
       "    <tr>\n",
       "      <th>Control</th>\n",
       "      <td>1300.000000</td>\n",
       "    </tr>\n",
       "    <tr>\n",
       "      <th>Test</th>\n",
       "      <td>881.533333</td>\n",
       "    </tr>\n",
       "  </tbody>\n",
       "</table>\n",
       "</div>"
      ],
      "text/plain": [
       "         NumCarritos\n",
       "Campaña             \n",
       "Control  1300.000000\n",
       "Test      881.533333"
      ]
     },
     "execution_count": 284,
     "metadata": {},
     "output_type": "execute_result"
    }
   ],
   "source": [
    "df.groupby('Campaña').agg({'NumCarritos': 'mean'})"
   ]
  },
  {
   "cell_type": "code",
   "execution_count": 285,
   "id": "9a0659b4-33a2-4a3d-b36d-d8be335fc5dc",
   "metadata": {
    "tags": []
   },
   "outputs": [
    {
     "name": "stdout",
     "output_type": "stream",
     "text": [
      "Estadístico de prueba: 0.9554286599159241\n",
      "Valor p: 0.25248831510543823\n"
     ]
    }
   ],
   "source": [
    "# Prueba de normalidad de los datos de Gasto en campaña: Control\n",
    "stat, p_value = shapiro(df.loc[df['Campaña'] == 'Control', 'NumCarritos'])\n",
    "print(\"Estadístico de prueba:\", stat)\n",
    "print(\"Valor p:\", p_value)"
   ]
  },
  {
   "cell_type": "code",
   "execution_count": 286,
   "id": "2c61968d-19bb-4a07-ab27-e503bba61fac",
   "metadata": {
    "tags": []
   },
   "outputs": [
    {
     "name": "stdout",
     "output_type": "stream",
     "text": [
      "No se puede rechazar la hipótesis nula de normalidad en los datos\n"
     ]
    }
   ],
   "source": [
    "# Interpretar los resultados\n",
    "alpha = 0.05\n",
    "if p_value < alpha:\n",
    "    print(\"Se rechaza la hipótesis nula de normalidad en los datos\")\n",
    "else:\n",
    "    print(\"No se puede rechazar la hipótesis nula de normalidad en los datos\")"
   ]
  },
  {
   "cell_type": "code",
   "execution_count": 287,
   "id": "36c1d5b7-589b-4769-a6c7-223f41d55fb6",
   "metadata": {
    "tags": []
   },
   "outputs": [
    {
     "name": "stdout",
     "output_type": "stream",
     "text": [
      "Estadístico de prueba: 0.9235519766807556\n",
      "Valor p: 0.03319269046187401\n"
     ]
    }
   ],
   "source": [
    "# Prueba de normalidad de los datos de Gasto en campaña: Test\n",
    "stat, p_value = shapiro(df.loc[df['Campaña'] == 'Test', 'NumCarritos'])\n",
    "print(\"Estadístico de prueba:\", stat)\n",
    "print(\"Valor p:\", p_value)"
   ]
  },
  {
   "cell_type": "code",
   "execution_count": 288,
   "id": "ca31e9e6-1f68-4212-99b6-9745d8c10557",
   "metadata": {
    "tags": []
   },
   "outputs": [
    {
     "name": "stdout",
     "output_type": "stream",
     "text": [
      "Se rechaza la hipótesis nula de normalidad en los datos\n"
     ]
    }
   ],
   "source": [
    "# Interpretar los resultados\n",
    "alpha = 0.05\n",
    "if p_value < alpha:\n",
    "    print(\"Se rechaza la hipótesis nula de normalidad en los datos\")\n",
    "else:\n",
    "    print(\"No se puede rechazar la hipótesis nula de normalidad en los datos\")"
   ]
  },
  {
   "cell_type": "code",
   "execution_count": 289,
   "id": "11252084-f333-4911-8568-12ff8dfcc3d6",
   "metadata": {
    "tags": []
   },
   "outputs": [
    {
     "name": "stdout",
     "output_type": "stream",
     "text": [
      "Estadístico de prueba: 1.4290971599392581\n",
      "Valor p: 0.2368617582504474\n"
     ]
    }
   ],
   "source": [
    "# Prueba de homogeneidad de varianza de Gasto entre Campañas\n",
    "stat, p_value = levene(df.loc[df['Campaña'] == 'Control', 'NumCarritos'],\n",
    "                       df.loc[df['Campaña'] == 'Test', 'NumCarritos'])\n",
    "print(\"Estadístico de prueba:\", stat)\n",
    "print(\"Valor p:\", p_value)"
   ]
  },
  {
   "cell_type": "code",
   "execution_count": 290,
   "id": "018d59f7-df46-4b05-9a1a-e3be5501772e",
   "metadata": {
    "tags": []
   },
   "outputs": [
    {
     "name": "stdout",
     "output_type": "stream",
     "text": [
      "No se puede rechazar la hipótesis nula: no se rechaza el supuesto de igualdad de varianzas.\n"
     ]
    }
   ],
   "source": [
    "# Interpretar los resultados\n",
    "alpha = 0.05\n",
    "if p_value < alpha:\n",
    "    print(\"Se rechaza la hipótesis nula: hay evidencia de diferencias significativas en las varianzas.\")\n",
    "else:\n",
    "    print(\"No se puede rechazar la hipótesis nula: no se rechaza el supuesto de igualdad de varianzas.\")"
   ]
  },
  {
   "cell_type": "code",
   "execution_count": 291,
   "id": "8cc98180-122e-4b70-adcb-21710b1acd15",
   "metadata": {
    "tags": []
   },
   "outputs": [
    {
     "name": "stdout",
     "output_type": "stream",
     "text": [
      "Estadístico t: 4.24906420944249\n",
      "Valor p: 8.032960071149043e-05\n"
     ]
    }
   ],
   "source": [
    "# Prueba t de Gasto entre Campañas\n",
    "t_statistic, p_value = ttest_ind(df.loc[df['Campaña'] == 'Control', 'NumCarritos'], \n",
    "                                 df.loc[df['Campaña'] == 'Test', 'NumCarritos'])\n",
    "\n",
    "# Imprimir los resultados\n",
    "print(\"Estadístico t:\", t_statistic)\n",
    "print(\"Valor p:\", p_value)"
   ]
  },
  {
   "cell_type": "code",
   "execution_count": 292,
   "id": "df01a93b-2d2d-4535-b362-bed8b578af2f",
   "metadata": {
    "tags": []
   },
   "outputs": [
    {
     "name": "stdout",
     "output_type": "stream",
     "text": [
      "Se rechaza la hipótesis nula: hay evidencia de diferencias significativas en las medias.\n"
     ]
    }
   ],
   "source": [
    "# Interpretar los resultados\n",
    "alpha = 0.05\n",
    "if p_value < alpha:\n",
    "    print(\"Se rechaza la hipótesis nula: hay evidencia de diferencias significativas en las medias.\")\n",
    "else:\n",
    "    print(\"No se puede rechazar la hipótesis nula: no hay suficiente evidencia para afirmar diferencias significativas en las medias.\")"
   ]
  },
  {
   "cell_type": "code",
   "execution_count": 293,
   "id": "ddd1d430-b81f-4df4-a18a-c1521a272be4",
   "metadata": {
    "tags": []
   },
   "outputs": [
    {
     "name": "stdout",
     "output_type": "stream",
     "text": [
      "Estadístico de prueba U: 664.0\n",
      "Valor p: 0.0005312022228449564\n"
     ]
    }
   ],
   "source": [
    "# Realizar la prueba de Mann-Whitney U\n",
    "statistic, p_value = mannwhitneyu(df.loc[df['Campaña'] == 'Control', 'NumCarritos'],\n",
    "                                  df.loc[df['Campaña'] == 'Test', 'NumCarritos'])\n",
    "\n",
    "# Imprimir los resultados\n",
    "print(\"Estadístico de prueba U:\", statistic)\n",
    "print(\"Valor p:\", p_value)"
   ]
  },
  {
   "cell_type": "code",
   "execution_count": 294,
   "id": "ce5501a1-603e-4a7d-b058-c898b9b0c4f6",
   "metadata": {
    "tags": []
   },
   "outputs": [
    {
     "name": "stdout",
     "output_type": "stream",
     "text": [
      "Se rechaza la hipótesis nula: hay evidencia de diferencias significativas en la distribución.\n"
     ]
    }
   ],
   "source": [
    "# Interpretar los resultados\n",
    "alpha = 0.05\n",
    "if p_value < alpha:\n",
    "    print(\"Se rechaza la hipótesis nula: hay evidencia de diferencias significativas en la distribución.\")\n",
    "else:\n",
    "    print(\"No se puede rechazar la hipótesis nula: no hay suficiente evidencia para afirmar diferencias significativas en la distribución\")"
   ]
  },
  {
   "cell_type": "markdown",
   "id": "e64d6591-8578-4932-9b04-8515380eff55",
   "metadata": {
    "tags": []
   },
   "source": [
    "### Compras\n",
    "\n",
    "- Hipótesis de normalidad (Rechazada para la campaña de prueba)\n",
    "- Igualdad de varianzas (No rechazada)\n",
    "- Prueba de medias (No rechazada)\n",
    "\n",
    "No hay diferencia significativa en las compras promedio entre campañas."
   ]
  },
  {
   "cell_type": "code",
   "execution_count": 295,
   "id": "32e1d0e0-b7e0-4fd8-b8fc-424dc04d6adc",
   "metadata": {
    "tags": []
   },
   "outputs": [
    {
     "data": {
      "text/html": [
       "<div>\n",
       "<style scoped>\n",
       "    .dataframe tbody tr th:only-of-type {\n",
       "        vertical-align: middle;\n",
       "    }\n",
       "\n",
       "    .dataframe tbody tr th {\n",
       "        vertical-align: top;\n",
       "    }\n",
       "\n",
       "    .dataframe thead th {\n",
       "        text-align: right;\n",
       "    }\n",
       "</style>\n",
       "<table border=\"1\" class=\"dataframe\">\n",
       "  <thead>\n",
       "    <tr style=\"text-align: right;\">\n",
       "      <th></th>\n",
       "      <th>Compras</th>\n",
       "    </tr>\n",
       "    <tr>\n",
       "      <th>Campaña</th>\n",
       "      <th></th>\n",
       "    </tr>\n",
       "  </thead>\n",
       "  <tbody>\n",
       "    <tr>\n",
       "      <th>Control</th>\n",
       "      <td>522.793103</td>\n",
       "    </tr>\n",
       "    <tr>\n",
       "      <th>Test</th>\n",
       "      <td>521.233333</td>\n",
       "    </tr>\n",
       "  </tbody>\n",
       "</table>\n",
       "</div>"
      ],
      "text/plain": [
       "            Compras\n",
       "Campaña            \n",
       "Control  522.793103\n",
       "Test     521.233333"
      ]
     },
     "execution_count": 295,
     "metadata": {},
     "output_type": "execute_result"
    }
   ],
   "source": [
    "df.groupby('Campaña').agg({'Compras': 'mean'})"
   ]
  },
  {
   "cell_type": "code",
   "execution_count": 296,
   "id": "35774e2f-aee1-47a6-a7f4-d12d9b0a0055",
   "metadata": {
    "tags": []
   },
   "outputs": [
    {
     "name": "stdout",
     "output_type": "stream",
     "text": [
      "Estadístico de prueba: 0.9381415843963623\n",
      "Valor p: 0.08964213728904724\n"
     ]
    }
   ],
   "source": [
    "# Prueba de normalidad de los datos de Gasto en campaña: Control\n",
    "stat, p_value = shapiro(df.loc[df['Campaña'] == 'Control', 'Compras'])\n",
    "print(\"Estadístico de prueba:\", stat)\n",
    "print(\"Valor p:\", p_value)"
   ]
  },
  {
   "cell_type": "code",
   "execution_count": 297,
   "id": "8bf0f87e-ed2d-4aa3-8c8d-559b445fa688",
   "metadata": {
    "tags": []
   },
   "outputs": [
    {
     "name": "stdout",
     "output_type": "stream",
     "text": [
      "No se puede rechazar la hipótesis nula de normalidad en los datos\n"
     ]
    }
   ],
   "source": [
    "# Interpretar los resultados\n",
    "alpha = 0.05\n",
    "if p_value < alpha:\n",
    "    print(\"Se rechaza la hipótesis nula de normalidad en los datos\")\n",
    "else:\n",
    "    print(\"No se puede rechazar la hipótesis nula de normalidad en los datos\")"
   ]
  },
  {
   "cell_type": "code",
   "execution_count": 298,
   "id": "07fc6a09-82a7-4249-b3e0-1d90fe3157b9",
   "metadata": {
    "tags": []
   },
   "outputs": [
    {
     "name": "stdout",
     "output_type": "stream",
     "text": [
      "Estadístico de prueba: 0.9181894659996033\n",
      "Valor p: 0.024077769368886948\n"
     ]
    }
   ],
   "source": [
    "# Prueba de normalidad de los datos de Gasto en campaña: Test\n",
    "stat, p_value = shapiro(df.loc[df['Campaña'] == 'Test', 'Compras'])\n",
    "print(\"Estadístico de prueba:\", stat)\n",
    "print(\"Valor p:\", p_value)"
   ]
  },
  {
   "cell_type": "code",
   "execution_count": 299,
   "id": "e5088aff-d6a3-4ecf-8faa-b90ffd668faa",
   "metadata": {
    "tags": []
   },
   "outputs": [
    {
     "name": "stdout",
     "output_type": "stream",
     "text": [
      "Se rechaza la hipótesis nula de normalidad en los datos\n"
     ]
    }
   ],
   "source": [
    "# Interpretar los resultados\n",
    "alpha = 0.05\n",
    "if p_value < alpha:\n",
    "    print(\"Se rechaza la hipótesis nula de normalidad en los datos\")\n",
    "else:\n",
    "    print(\"No se puede rechazar la hipótesis nula de normalidad en los datos\")"
   ]
  },
  {
   "cell_type": "code",
   "execution_count": 300,
   "id": "60acafb2-53c7-4a90-aed5-5f1cf028765f",
   "metadata": {
    "tags": []
   },
   "outputs": [
    {
     "name": "stdout",
     "output_type": "stream",
     "text": [
      "Estadístico de prueba: 1.230260648051359\n",
      "Valor p: 0.2720142278811527\n"
     ]
    }
   ],
   "source": [
    "# Prueba de homogeneidad de varianza de Gasto entre Campañas\n",
    "stat, p_value = levene(df.loc[df['Campaña'] == 'Control', 'Compras'],\n",
    "                       df.loc[df['Campaña'] == 'Test', 'Compras'])\n",
    "print(\"Estadístico de prueba:\", stat)\n",
    "print(\"Valor p:\", p_value)"
   ]
  },
  {
   "cell_type": "code",
   "execution_count": 301,
   "id": "0ea2f3c0-c8c5-45e6-9045-ecd8a51592da",
   "metadata": {
    "tags": []
   },
   "outputs": [
    {
     "name": "stdout",
     "output_type": "stream",
     "text": [
      "No se puede rechazar la hipótesis nula: no se rechaza el supuesto de igualdad de varianzas.\n"
     ]
    }
   ],
   "source": [
    "# Interpretar los resultados\n",
    "alpha = 0.05\n",
    "if p_value < alpha:\n",
    "    print(\"Se rechaza la hipótesis nula: hay evidencia de diferencias significativas en las varianzas.\")\n",
    "else:\n",
    "    print(\"No se puede rechazar la hipótesis nula: no se rechaza el supuesto de igualdad de varianzas.\")"
   ]
  },
  {
   "cell_type": "code",
   "execution_count": 302,
   "id": "f281f04d-68d8-4fa6-9292-3dff4c7a6840",
   "metadata": {
    "tags": []
   },
   "outputs": [
    {
     "name": "stdout",
     "output_type": "stream",
     "text": [
      "Estadístico t: 0.03014479856562245\n",
      "Valor p: 0.9760568756579724\n"
     ]
    }
   ],
   "source": [
    "# Prueba t de Gasto entre Campañas\n",
    "t_statistic, p_value = ttest_ind(df.loc[df['Campaña'] == 'Control', 'Compras'], \n",
    "                                 df.loc[df['Campaña'] == 'Test', 'Compras'])\n",
    "\n",
    "# Imprimir los resultados\n",
    "print(\"Estadístico t:\", t_statistic)\n",
    "print(\"Valor p:\", p_value)"
   ]
  },
  {
   "cell_type": "code",
   "execution_count": 303,
   "id": "afc38f77-72e6-4545-89bc-cdfddfa572fa",
   "metadata": {
    "tags": []
   },
   "outputs": [
    {
     "name": "stdout",
     "output_type": "stream",
     "text": [
      "No se puede rechazar la hipótesis nula: no hay suficiente evidencia para afirmar diferencias significativas en las medias.\n"
     ]
    }
   ],
   "source": [
    "# Interpretar los resultados\n",
    "alpha = 0.05\n",
    "if p_value < alpha:\n",
    "    print(\"Se rechaza la hipótesis nula: hay evidencia de diferencias significativas en las medias.\")\n",
    "else:\n",
    "    print(\"No se puede rechazar la hipótesis nula: no hay suficiente evidencia para afirmar diferencias significativas en las medias.\")"
   ]
  },
  {
   "cell_type": "code",
   "execution_count": 304,
   "id": "ee9f85f8-aa9b-41d0-bd74-253efe04d5a3",
   "metadata": {
    "tags": []
   },
   "outputs": [
    {
     "name": "stdout",
     "output_type": "stream",
     "text": [
      "Estadístico de prueba U: 439.0\n",
      "Valor p: 0.957674926453464\n"
     ]
    }
   ],
   "source": [
    "# Realizar la prueba de Mann-Whitney U\n",
    "statistic, p_value = mannwhitneyu(df.loc[df['Campaña'] == 'Control', 'Compras'],\n",
    "                                  df.loc[df['Campaña'] == 'Test', 'Compras'])\n",
    "\n",
    "# Imprimir los resultados\n",
    "print(\"Estadístico de prueba U:\", statistic)\n",
    "print(\"Valor p:\", p_value)"
   ]
  },
  {
   "cell_type": "code",
   "execution_count": 305,
   "id": "a83b2b94-76cb-4850-814a-31f9bb560e23",
   "metadata": {
    "tags": []
   },
   "outputs": [
    {
     "name": "stdout",
     "output_type": "stream",
     "text": [
      "No se puede rechazar la hipótesis nula: no hay suficiente evidencia para afirmar diferencias significativas en la distribución\n"
     ]
    }
   ],
   "source": [
    "# Interpretar los resultados\n",
    "alpha = 0.05\n",
    "if p_value < alpha:\n",
    "    print(\"Se rechaza la hipótesis nula: hay evidencia de diferencias significativas en la distribución.\")\n",
    "else:\n",
    "    print(\"No se puede rechazar la hipótesis nula: no hay suficiente evidencia para afirmar diferencias significativas en la distribución\")"
   ]
  },
  {
   "cell_type": "markdown",
   "id": "0360df91-08cc-4852-839e-98738e7ec717",
   "metadata": {
    "jp-MarkdownHeadingCollapsed": true,
    "tags": []
   },
   "source": [
    "## Análisis de proporciones de conversión\n",
    "\n",
    "Se realizó también un análisis de proporciones para determinar:\n",
    "- La efectividad de las campañas para convertir usuarios alcanzados en visitas al sitio\n",
    "- La efectividad del sitio para convertir visitas en compras\n",
    "\n",
    "De esta forma, podemos identificar recomendaciones relacionadas a la campaña y al sitio web para aumentar la efectividad de ambos esfuerzos."
   ]
  },
  {
   "cell_type": "code",
   "execution_count": 306,
   "id": "9f767c41-0d27-4260-a1d2-415752565b45",
   "metadata": {
    "tags": []
   },
   "outputs": [
    {
     "data": {
      "text/html": [
       "<div>\n",
       "<style scoped>\n",
       "    .dataframe tbody tr th:only-of-type {\n",
       "        vertical-align: middle;\n",
       "    }\n",
       "\n",
       "    .dataframe tbody tr th {\n",
       "        vertical-align: top;\n",
       "    }\n",
       "\n",
       "    .dataframe thead th {\n",
       "        text-align: right;\n",
       "    }\n",
       "</style>\n",
       "<table border=\"1\" class=\"dataframe\">\n",
       "  <thead>\n",
       "    <tr style=\"text-align: right;\">\n",
       "      <th></th>\n",
       "      <th>Gasto</th>\n",
       "      <th>Alcance</th>\n",
       "      <th>Vistas</th>\n",
       "      <th>NumCarritos</th>\n",
       "      <th>Compras</th>\n",
       "    </tr>\n",
       "    <tr>\n",
       "      <th>Campaña</th>\n",
       "      <th></th>\n",
       "      <th></th>\n",
       "      <th></th>\n",
       "      <th></th>\n",
       "      <th></th>\n",
       "    </tr>\n",
       "  </thead>\n",
       "  <tbody>\n",
       "    <tr>\n",
       "      <th>Control</th>\n",
       "      <td>66818</td>\n",
       "      <td>2576503</td>\n",
       "      <td>56370</td>\n",
       "      <td>37700</td>\n",
       "      <td>15161</td>\n",
       "    </tr>\n",
       "    <tr>\n",
       "      <th>Test</th>\n",
       "      <td>76892</td>\n",
       "      <td>1604747</td>\n",
       "      <td>55740</td>\n",
       "      <td>26446</td>\n",
       "      <td>15637</td>\n",
       "    </tr>\n",
       "  </tbody>\n",
       "</table>\n",
       "</div>"
      ],
      "text/plain": [
       "         Gasto  Alcance  Vistas  NumCarritos  Compras\n",
       "Campaña                                              \n",
       "Control  66818  2576503   56370        37700    15161\n",
       "Test     76892  1604747   55740        26446    15637"
      ]
     },
     "execution_count": 306,
     "metadata": {},
     "output_type": "execute_result"
    }
   ],
   "source": [
    "# Tabla con proporciones de Visitas, NumCarritos y Compras por grupo\n",
    "conversion= df.groupby('Campaña').agg({'Gasto': 'sum', 'Alcance': 'sum', 'Vistas': 'sum', 'NumCarritos': 'sum', 'Compras': 'sum'})\n",
    "conversion"
   ]
  },
  {
   "cell_type": "markdown",
   "id": "d32530ef-0618-46b6-af28-45562532f6d7",
   "metadata": {
    "jp-MarkdownHeadingCollapsed": true,
    "tags": []
   },
   "source": [
    "### Conversión de vistas\n",
    "\n",
    "Se rechaza la hipótesis nula porque hay diferencia significativa entre las proporciones entre campañas. Se detecta un mayor porcentaje de conversión de vistas al sitio en la campaña de prueba a pesar de mostrar un menor alcance."
   ]
  },
  {
   "cell_type": "code",
   "execution_count": 308,
   "id": "7897dc02-a9d2-4fbe-858a-53927186193e",
   "metadata": {
    "tags": []
   },
   "outputs": [
    {
     "name": "stdout",
     "output_type": "stream",
     "text": [
      "Valor z: -79.141183919127\n",
      "Valor p: 0.0\n"
     ]
    }
   ],
   "source": [
    "# Prueba z de proporciones de conversión de vistas\n",
    "valor_z, p_value  = proportions_ztest(conversion.Vistas, \n",
    "                                      conversion.Alcance)\n",
    "\n",
    "# Imprimir el resultado\n",
    "print(\"Valor z:\", valor_z)\n",
    "print(\"Valor p:\", p_value)"
   ]
  },
  {
   "cell_type": "code",
   "execution_count": 309,
   "id": "9913da4c-dfe7-48ac-a0b4-e9a10353a914",
   "metadata": {
    "tags": []
   },
   "outputs": [
    {
     "name": "stdout",
     "output_type": "stream",
     "text": [
      "Se rechaza la hipótesis nula: hay evidencia de que hay diferencias significativas en las proporciones.\n"
     ]
    }
   ],
   "source": [
    "# Interpretar los resultados\n",
    "alpha = 0.05\n",
    "if p_value < alpha:\n",
    "    print(\"Se rechaza la hipótesis nula: hay evidencia de que hay diferencias significativas en las proporciones.\")\n",
    "else:\n",
    "    print(\"No se rechaza la hipótesis nula: no hay suficiente evidencia para afirmar que hay diferencias significativas en las proporciones.\")"
   ]
  },
  {
   "cell_type": "code",
   "execution_count": 311,
   "id": "608bc293-6fa9-4b1a-b547-f0562eacc528",
   "metadata": {
    "tags": []
   },
   "outputs": [
    {
     "data": {
      "text/plain": [
       "Campaña\n",
       "Control    2.187849\n",
       "Test       3.473445\n",
       "dtype: float64"
      ]
     },
     "execution_count": 311,
     "metadata": {},
     "output_type": "execute_result"
    }
   ],
   "source": [
    "# Porcentaje de conversión de vistas al sitio\n",
    "conversion.Vistas/conversion.Alcance * 100"
   ]
  },
  {
   "cell_type": "markdown",
   "id": "e6401c05-ca21-4f33-bb3b-ba611a4eda95",
   "metadata": {
    "jp-MarkdownHeadingCollapsed": true,
    "tags": []
   },
   "source": [
    "### Conversión terminal del sitio\n",
    "\n",
    "Se rechaza la hipótesis nula porque hay diferencia significativa entre las proporciones entre campañas. Se detecta un mayor porcentaje de conversión de compra de las vistas al sitio de la campaña de prueba a pesar de mostrar un menor alcance inicial."
   ]
  },
  {
   "cell_type": "code",
   "execution_count": 314,
   "id": "c41cbc56-daee-49ce-803b-dcdc75bddc69",
   "metadata": {
    "tags": []
   },
   "outputs": [
    {
     "name": "stdout",
     "output_type": "stream",
     "text": [
      "Valor z: -4.3429133988084\n",
      "Valor p: 1.406055699699901e-05\n"
     ]
    }
   ],
   "source": [
    "# Prueba z de proporciones de conversión terminal\n",
    "valor_z, p_value  = proportions_ztest(conversion.Compras, \n",
    "                                      conversion.Vistas)\n",
    "\n",
    "# Imprimir el resultado\n",
    "print(\"Valor z:\", valor_z)\n",
    "print(\"Valor p:\", p_value)"
   ]
  },
  {
   "cell_type": "code",
   "execution_count": 315,
   "id": "267d2c69-b8ee-492b-b597-d3cac8810c03",
   "metadata": {
    "tags": []
   },
   "outputs": [
    {
     "name": "stdout",
     "output_type": "stream",
     "text": [
      "Se rechaza la hipótesis nula: hay evidencia de que hay diferencias significativas en las proporciones.\n"
     ]
    }
   ],
   "source": [
    "# Interpretar los resultados\n",
    "alpha = 0.05\n",
    "if p_value < alpha:\n",
    "    print(\"Se rechaza la hipótesis nula: hay evidencia de que hay diferencias significativas en las proporciones.\")\n",
    "else:\n",
    "    print(\"No se rechaza la hipótesis nula: no hay suficiente evidencia para afirmar que hay diferencias significativas en las proporciones.\")"
   ]
  },
  {
   "cell_type": "code",
   "execution_count": 316,
   "id": "5d7e0a49-d699-4402-bbf5-efc4a5657156",
   "metadata": {
    "tags": []
   },
   "outputs": [
    {
     "data": {
      "text/plain": [
       "Campaña\n",
       "Control    26.895512\n",
       "Test       28.053463\n",
       "dtype: float64"
      ]
     },
     "execution_count": 316,
     "metadata": {},
     "output_type": "execute_result"
    }
   ],
   "source": [
    "# Porcentaje de conversión terminal del sitio\n",
    "conversion.Compras/conversion.Vistas * 100"
   ]
  }
 ],
 "metadata": {
  "kernelspec": {
   "display_name": "Python 3 (ipykernel)",
   "language": "python",
   "name": "python3"
  },
  "language_info": {
   "codemirror_mode": {
    "name": "ipython",
    "version": 3
   },
   "file_extension": ".py",
   "mimetype": "text/x-python",
   "name": "python",
   "nbconvert_exporter": "python",
   "pygments_lexer": "ipython3",
   "version": "3.11.7"
  }
 },
 "nbformat": 4,
 "nbformat_minor": 5
}
