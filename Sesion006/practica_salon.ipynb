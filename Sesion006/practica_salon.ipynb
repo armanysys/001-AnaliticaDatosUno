{
 "cells": [
  {
   "cell_type": "markdown",
   "id": "41e13122-b693-4e79-ac20-b8c204070f1e",
   "metadata": {},
   "source": [
    "El archivo \"b03_enigh2020.xlsx' contiene información de ingreso y gasto en hogares en la zona\n",
    "metropolitana de Monterrey.\n",
    "Trusted\n",
    "Python 3 (ipykernel)\n",
    "1.    Evaluar si la variabilidad en la edad del jefe de familia es igual o es diferente entre los municipios de ",
    "Monterrey y San Pedro. Prueba levene\n",
    "2.    Evaluar si la edad promedio del jefe de familia es igual o diferente entre los municipios de Juárez y ",
    "Cadereyta. prueba T\n",
    "3.    Evaluar si el ingreso promedio por hogar es igual o diferente entre San Nicolás y Apodaca. Prueba t\n",
    "4.    Evalúa si la edad del jefe de familia sigue una distribución normal. Prueba Shapiro\n"
   ]
  },
  {
   "cell_type": "code",
   "execution_count": 11,
   "id": "bf84962c-94c7-4943-af02-3e5d9242e29c",
   "metadata": {
    "tags": []
   },
   "outputs": [],
   "source": [
    "import pandas as pd"
   ]
  },
  {
   "cell_type": "code",
   "execution_count": 17,
   "id": "d96127e9-7994-4fe8-bfbf-83538e2f12e5",
   "metadata": {
    "tags": []
   },
   "outputs": [
    {
     "name": "stdout",
     "output_type": "stream",
     "text": [
      "<class 'pandas.core.frame.DataFrame'>\n",
      "RangeIndex: 2332 entries, 0 to 2331\n",
      "Data columns (total 24 columns):\n",
      " #   Column      Non-Null Count  Dtype  \n",
      "---  ------      --------------  -----  \n",
      " 0   folioviv    2332 non-null   int64  \n",
      " 1   ubica_geo   2332 non-null   object \n",
      " 2   clave_mun   2332 non-null   int64  \n",
      " 3   tam_loc     2332 non-null   int64  \n",
      " 4   est_socio   2332 non-null   object \n",
      " 5   clase_hog   2332 non-null   object \n",
      " 6   sexo_jefe   2332 non-null   object \n",
      " 7   edad_jefe   2332 non-null   int64  \n",
      " 8   educa_jefe  2332 non-null   int64  \n",
      " 9   tot_integ   2332 non-null   int64  \n",
      " 10  hombres     2332 non-null   int64  \n",
      " 11  mujeres     2332 non-null   int64  \n",
      " 12  p65mas      2332 non-null   int64  \n",
      " 13  ing_cor     2332 non-null   float64\n",
      " 14  gasto_mon   2332 non-null   float64\n",
      " 15  alimentos   2332 non-null   float64\n",
      " 16  cereales    2332 non-null   float64\n",
      " 17  carnes      2332 non-null   float64\n",
      " 18  leche       2332 non-null   float64\n",
      " 19  huevo       2332 non-null   float64\n",
      " 20  bebidas     2332 non-null   float64\n",
      " 21  agua        2332 non-null   float64\n",
      " 22  energia     2332 non-null   float64\n",
      " 23  cuida_pers  2332 non-null   float64\n",
      "dtypes: float64(11), int64(9), object(4)\n",
      "memory usage: 437.4+ KB\n"
     ]
    }
   ],
   "source": [
    "df = pd.read_excel('data/b03_enigh2020.xlsx')\n",
    "df.info();"
   ]
  },
  {
   "cell_type": "markdown",
   "id": "184ae38f-d257-4bb5-87cd-fc38a8f3da20",
   "metadata": {
    "tags": []
   },
   "source": [
    "## Prueba levene\n",
    "1.  Evaluar si la variabilidad en la edad del jefe de familia es igual o es diferente entre los municipios de ",
    "Monterrey y San Pedro."
   ]
  },
  {
   "cell_type": "code",
   "execution_count": 13,
   "id": "84e5c192-3d09-4eb7-bf9d-735b8ec6c99c",
   "metadata": {
    "tags": []
   },
   "outputs": [
    {
     "name": "stdout",
     "output_type": "stream",
     "text": [
      "Estadístico de prueba: 5.929895716434145\n",
      "Valor p: 0.0152485277814668\n",
      "Se rechaza la hipótesis nula: hay evidencia de diferencias significativas en las varianzas.\n"
     ]
    }
   ],
   "source": [
    "from scipy.stats import levene\n",
    "stat, p_value = levene(df.loc[df['ubica_geo'] == 'Monterrey', 'edad_jefe'],\n",
    "                       df.loc[df['ubica_geo'] == 'San_Pedro', 'edad_jefe'])\n",
    "print(\"Estadístico de prueba:\", stat)\n",
    "print(\"Valor p:\", p_value)\n",
    "\n",
    "# Interpretar los resultados\n",
    "alpha = 0.05\n",
    "if p_value < alpha:\n",
    "    print(\"Se rechaza la hipótesis nula: hay evidencia de diferencias significativas en las varianzas.\")\n",
    "else:\n",
    "    print(\"No se puede rechazar la hipótesis nula: no se rechaza el supuesto de igualdad de varianzas.\")"
   ]
  },
  {
   "cell_type": "markdown",
   "id": "6694e129-c8e1-41f1-85e7-f570115b9a13",
   "metadata": {},
   "source": [
    " ## Prueba T"
   ]
  },
  {
   "cell_type": "markdown",
   "id": "b697e452-237a-453c-9fd0-b2d4fb9c5637",
   "metadata": {},
   "source": [
    "2. Evaluar si la edad promedio del jefe de familia es igual o diferente entre los municipios de Juárez y ",
    "Cadereyta."
   ]
  },
  {
   "cell_type": "code",
   "execution_count": 14,
   "id": "d61c5b76-9ba4-4b85-8700-412d95609f1b",
   "metadata": {
    "tags": []
   },
   "outputs": [
    {
     "name": "stdout",
     "output_type": "stream",
     "text": [
      "Estadístico t: -6.553678785672281\n",
      "Valor p: 1.671867678978035e-10\n",
      "Se rechaza la hipótesis nula: hay evidencia de diferencias significativas en las medias.\n"
     ]
    }
   ],
   "source": [
    "from scipy.stats import ttest_ind\n",
    "\n",
    "# Realizar la prueba t de dos muestras independientes\n",
    "t_statistic, p_value = ttest_ind(df.loc[df['ubica_geo'] == 'Juarez', 'edad_jefe'],\n",
    "                       df.loc[df['ubica_geo'] == 'Cadereyta', 'edad_jefe'])\n",
    "\n",
    "# Imprimir los resultados\n",
    "print(\"Estadístico t:\", t_statistic)\n",
    "print(\"Valor p:\", p_value)\n",
    "\n",
    "# Interpretar los resultados\n",
    "alpha = 0.05\n",
    "if p_value < alpha:\n",
    "    print(\"Se rechaza la hipótesis nula: hay evidencia de diferencias significativas en las medias.\")\n",
    "else:\n",
    "    print(\"No se puede rechazar la hipótesis nula: no hay suficiente evidencia para afirmar diferencias significativas en las medias.\")"
   ]
  },
  {
   "cell_type": "markdown",
   "id": "1c870e33-4910-4ca1-a3ed-de8508ba01dc",
   "metadata": {},
   "source": [
    "3.    Evaluar si el ingreso promedio por hogar es igual o diferente entre San Nicolás y Apodaca.\n"
   ]
  },
  {
   "cell_type": "code",
   "execution_count": 19,
   "id": "e1b43987-0a59-4229-abb5-7b90e179bf72",
   "metadata": {
    "tags": []
   },
   "outputs": [
    {
     "name": "stdout",
     "output_type": "stream",
     "text": [
      "Estadístico t: 2.251932577801258\n",
      "Valor p: 0.0248111690746544\n",
      "Se rechaza la hipótesis nula: hay evidencia de diferencias significativas en las medias.\n"
     ]
    }
   ],
   "source": [
    "from scipy.stats import ttest_ind\n",
    "\n",
    "# Realizar la prueba t de dos muestras independientes\n",
    "t_statistic, p_value = ttest_ind(df.loc[df['ubica_geo'] == 'San_Nicolas', 'ing_cor'],\n",
    "                       df.loc[df['ubica_geo'] == 'Apodaca', 'ing_cor'])\n",
    "\n",
    "# Imprimir los resultados\n",
    "print(\"Estadístico t:\", t_statistic)\n",
    "print(\"Valor p:\", p_value)\n",
    "\n",
    "# Interpretar los resultados\n",
    "alpha = 0.05\n",
    "if p_value < alpha:\n",
    "    print(\"Se rechaza la hipótesis nula: hay evidencia de diferencias significativas en las medias.\")\n",
    "else:\n",
    "    print(\"No se puede rechazar la hipótesis nula: no hay suficiente evidencia para afirmar diferencias significativas en las medias.\")"
   ]
  },
  {
   "cell_type": "markdown",
   "id": "516c5624-66fc-4ea1-9755-1b04ed4b1429",
   "metadata": {},
   "source": [
    "## Prueba Shapiro\n",
    "4.    Evalúa si la edad del jefe de familia sigue una distribución normal. \n"
   ]
  },
  {
   "cell_type": "code",
   "execution_count": 23,
   "id": "a1a7c297-ed0b-4f9e-a967-269f54948fdf",
   "metadata": {
    "tags": []
   },
   "outputs": [
    {
     "name": "stdout",
     "output_type": "stream",
     "text": [
      "Estadístico de prueba: \t 0.9841951131820679\n",
      "Valor p: \t 0.2774623930454254\n",
      "No se puede rechazar la hipótesis nula de normalidad en los datos\n"
     ]
    }
   ],
   "source": [
    "from scipy.stats import shapiro\n",
    "\n",
    "df2 = df.head(100)\n",
    "\n",
    "stat, p_value = shapiro(df2['edad_jefe'])\n",
    "print(\"Estadístico de prueba: \\t\", stat)\n",
    "print(\"Valor p: \\t\", p_value)\n",
    "\n",
    "# Interpretar los resultados\n",
    "alpha = 0.05\n",
    "if p_value < alpha:\n",
    "    print(\"Se rechaza la hipótesis nula de normalidad en los datos\")\n",
    "else:\n",
    "    print(\"No se puede rechazar la hipótesis nula de normalidad en los datos\")"
   ]
  },
  {
   "cell_type": "markdown",
   "id": "0a257e5c-d545-44dc-88fa-52daacd9065c",
   "metadata": {
    "tags": []
   },
   "source": [
    "## Prueba ANOVA o Kruskal Wallis.\n",
    "5. Compara el tamaño promedio del hogar (tot_integ) entre tres municipios de area metropolitana.\n",
    "- Utilizan una prueba ANOVA o Kruskal Wallis.\n",
    "- Obten las estadistica descriptiva de la media para esos tres municipios"
   ]
  },
  {
   "cell_type": "code",
   "execution_count": 10,
   "id": "5327d94f-ffb8-40e0-9c73-f5b824dab74a",
   "metadata": {
    "tags": []
   },
   "outputs": [
    {
     "name": "stdout",
     "output_type": "stream",
     "text": [
      "Estadístico de prueba de ANOVA: 3.518942611229665\n",
      "Valor p: 0.03013233461036878\n",
      "Se rechaza la hipótesis nula: hay al menos una diferencia significativa entre los grupos.\n"
     ]
    }
   ],
   "source": [
    "from scipy.stats import f_oneway\n",
    "\n",
    "# Aplicar la prueba ANOVA\n",
    "statistic, p_value = f_oneway(df.loc[df['ubica_geo'] == \"Monterrey\", \"tot_integ\" ],\n",
    "                              df.loc[df['ubica_geo'] == \"San_Pedro\", \"tot_integ\"],\n",
    "                              df.loc[df['ubica_geo'] == \"Apodaca\", \"tot_integ\"])\n",
    "\n",
    "# Imprimir los resultados\n",
    "print(\"Estadístico de prueba de ANOVA:\", statistic)\n",
    "print(\"Valor p:\", p_value)\n",
    "\n",
    "# Interpretar los resultados\n",
    "alpha = 0.05\n",
    "if p_value < alpha:\n",
    "    print(\"Se rechaza la hipótesis nula: hay al menos una diferencia significativa entre los grupos.\")\n",
    "else:\n",
    "    print(\"No se puede rechazar la hipótesis nula: no hay suficiente evidencia para afirmar que hay diferencias significativas entre los grupos.\")"
   ]
  },
  {
   "cell_type": "code",
   "execution_count": null,
   "id": "42bf0056-4b4b-4a3f-98fe-1099025368da",
   "metadata": {},
   "outputs": [],
   "source": []
  }
 ],
 "metadata": {
  "kernelspec": {
   "display_name": "Python 3 (ipykernel)",
   "language": "python",
   "name": "python3"
  },
  "language_info": {
   "codemirror_mode": {
    "name": "ipython",
    "version": 3
   },
   "file_extension": ".py",
   "mimetype": "text/x-python",
   "name": "python",
   "nbconvert_exporter": "python",
   "pygments_lexer": "ipython3",
   "version": "3.11.7"
  }
 },
 "nbformat": 4,
 "nbformat_minor": 5
}
