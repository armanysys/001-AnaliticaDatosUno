{
 "cells": [
  {
   "cell_type": "markdown",
   "id": "2bc86e26-491a-4f6a-b916-ca953a5b4cc0",
   "metadata": {},
   "source": [
    "# Sesión 09: Análisis de regresión: variables dicotómicas"
   ]
  },
  {
   "cell_type": "code",
   "execution_count": 1,
   "id": "99667d79-7dfd-4e36-bfe3-b2b83e8a4cd4",
   "metadata": {
    "tags": []
   },
   "outputs": [],
   "source": [
    "import pandas as pd\n",
    "import numpy as np\n",
    "import matplotlib.pyplot as plt\n",
    "import seaborn as sns\n",
    "import statsmodels.api as sm"
   ]
  },
  {
   "cell_type": "markdown",
   "id": "d604ce8f-2a2d-47a7-a4e3-59f4daca8037",
   "metadata": {},
   "source": [
    "## 9.1. Variables dicotómicas"
   ]
  },
  {
   "cell_type": "markdown",
   "id": "e1ea4bc7-11ca-4a28-b8ce-d96c2ca9a627",
   "metadata": {},
   "source": [
    "El archivo *b08_ubermty* contiene información de viajes en taxi o uber en la ciudad de Monterrey de junio de 2016 a agosto de 2017. Crearemos un modelo para estimar la duración de cada viaje en función de la distancia y el día de la semana."
   ]
  },
  {
   "cell_type": "code",
   "execution_count": 2,
   "id": "47e6f427-7721-4daf-bba4-7ee6f04c6194",
   "metadata": {
    "tags": []
   },
   "outputs": [],
   "source": [
    "# Cargar los datos\n",
    "df = pd.read_excel('data/b08_ubermty.xlsx', usecols=['id', 'dropoff_longitude', 'dropoff_latitude', \n",
    "                                                     'Dia', 'DuracionMinutos', 'DistanciaKm'])"
   ]
  },
  {
   "cell_type": "code",
   "execution_count": 3,
   "id": "fda55140-3ed2-465d-94c2-0bcdb62a8c79",
   "metadata": {
    "tags": []
   },
   "outputs": [
    {
     "name": "stdout",
     "output_type": "stream",
     "text": [
      "<class 'pandas.core.frame.DataFrame'>\n",
      "RangeIndex: 9482 entries, 0 to 9481\n",
      "Data columns (total 6 columns):\n",
      " #   Column             Non-Null Count  Dtype  \n",
      "---  ------             --------------  -----  \n",
      " 0   id                 9482 non-null   int64  \n",
      " 1   dropoff_longitude  9482 non-null   float64\n",
      " 2   dropoff_latitude   9482 non-null   float64\n",
      " 3   Dia                9482 non-null   int64  \n",
      " 4   DuracionMinutos    9482 non-null   float64\n",
      " 5   DistanciaKm        9482 non-null   float64\n",
      "dtypes: float64(4), int64(2)\n",
      "memory usage: 444.6 KB\n"
     ]
    }
   ],
   "source": [
    "# Revisar las variables\n",
    "df.info()"
   ]
  },
  {
   "cell_type": "code",
   "execution_count": 4,
   "id": "ff74e62a-3cd6-4c54-9866-492e61132f20",
   "metadata": {
    "tags": []
   },
   "outputs": [
    {
     "data": {
      "text/html": [
       "<div>\n",
       "<style scoped>\n",
       "    .dataframe tbody tr th:only-of-type {\n",
       "        vertical-align: middle;\n",
       "    }\n",
       "\n",
       "    .dataframe tbody tr th {\n",
       "        vertical-align: top;\n",
       "    }\n",
       "\n",
       "    .dataframe thead th {\n",
       "        text-align: right;\n",
       "    }\n",
       "</style>\n",
       "<table border=\"1\" class=\"dataframe\">\n",
       "  <thead>\n",
       "    <tr style=\"text-align: right;\">\n",
       "      <th></th>\n",
       "      <th>id</th>\n",
       "      <th>dropoff_longitude</th>\n",
       "      <th>dropoff_latitude</th>\n",
       "      <th>Dia</th>\n",
       "      <th>DuracionMinutos</th>\n",
       "      <th>DistanciaKm</th>\n",
       "    </tr>\n",
       "  </thead>\n",
       "  <tbody>\n",
       "    <tr>\n",
       "      <th>0</th>\n",
       "      <td>54644</td>\n",
       "      <td>-100.314728</td>\n",
       "      <td>25.673226</td>\n",
       "      <td>6</td>\n",
       "      <td>111.483333</td>\n",
       "      <td>12.166</td>\n",
       "    </tr>\n",
       "    <tr>\n",
       "      <th>1</th>\n",
       "      <td>51418</td>\n",
       "      <td>-100.092651</td>\n",
       "      <td>25.646699</td>\n",
       "      <td>3</td>\n",
       "      <td>95.100000</td>\n",
       "      <td>10.045</td>\n",
       "    </tr>\n",
       "    <tr>\n",
       "      <th>2</th>\n",
       "      <td>74072</td>\n",
       "      <td>-100.334113</td>\n",
       "      <td>25.648527</td>\n",
       "      <td>6</td>\n",
       "      <td>158.116667</td>\n",
       "      <td>34.912</td>\n",
       "    </tr>\n",
       "    <tr>\n",
       "      <th>3</th>\n",
       "      <td>5856</td>\n",
       "      <td>-100.146905</td>\n",
       "      <td>25.760560</td>\n",
       "      <td>1</td>\n",
       "      <td>125.316667</td>\n",
       "      <td>23.693</td>\n",
       "    </tr>\n",
       "    <tr>\n",
       "      <th>4</th>\n",
       "      <td>64874</td>\n",
       "      <td>-100.178756</td>\n",
       "      <td>25.727530</td>\n",
       "      <td>6</td>\n",
       "      <td>85.366667</td>\n",
       "      <td>3.192</td>\n",
       "    </tr>\n",
       "  </tbody>\n",
       "</table>\n",
       "</div>"
      ],
      "text/plain": [
       "      id  dropoff_longitude  dropoff_latitude  Dia  DuracionMinutos  \\\n",
       "0  54644        -100.314728         25.673226    6       111.483333   \n",
       "1  51418        -100.092651         25.646699    3        95.100000   \n",
       "2  74072        -100.334113         25.648527    6       158.116667   \n",
       "3   5856        -100.146905         25.760560    1       125.316667   \n",
       "4  64874        -100.178756         25.727530    6        85.366667   \n",
       "\n",
       "   DistanciaKm  \n",
       "0       12.166  \n",
       "1       10.045  \n",
       "2       34.912  \n",
       "3       23.693  \n",
       "4        3.192  "
      ]
     },
     "execution_count": 4,
     "metadata": {},
     "output_type": "execute_result"
    }
   ],
   "source": [
    "# Revisar las primeras filas\n",
    "df.head()"
   ]
  },
  {
   "cell_type": "code",
   "execution_count": 5,
   "id": "e5e76e8e-7320-4e7b-bb99-f9156e837a69",
   "metadata": {
    "tags": []
   },
   "outputs": [
    {
     "data": {
      "text/html": [
       "<div>\n",
       "<style scoped>\n",
       "    .dataframe tbody tr th:only-of-type {\n",
       "        vertical-align: middle;\n",
       "    }\n",
       "\n",
       "    .dataframe tbody tr th {\n",
       "        vertical-align: top;\n",
       "    }\n",
       "\n",
       "    .dataframe thead th {\n",
       "        text-align: right;\n",
       "    }\n",
       "</style>\n",
       "<table border=\"1\" class=\"dataframe\">\n",
       "  <thead>\n",
       "    <tr style=\"text-align: right;\">\n",
       "      <th></th>\n",
       "      <th>count</th>\n",
       "      <th>mean</th>\n",
       "      <th>std</th>\n",
       "      <th>min</th>\n",
       "      <th>25%</th>\n",
       "      <th>50%</th>\n",
       "      <th>75%</th>\n",
       "      <th>max</th>\n",
       "    </tr>\n",
       "  </thead>\n",
       "  <tbody>\n",
       "    <tr>\n",
       "      <th>id</th>\n",
       "      <td>9482.0</td>\n",
       "      <td>43402.521198</td>\n",
       "      <td>25380.480870</td>\n",
       "      <td>3.000000</td>\n",
       "      <td>21634.250000</td>\n",
       "      <td>44131.000000</td>\n",
       "      <td>62190.500000</td>\n",
       "      <td>90275.000000</td>\n",
       "    </tr>\n",
       "    <tr>\n",
       "      <th>dropoff_longitude</th>\n",
       "      <td>9482.0</td>\n",
       "      <td>-100.302251</td>\n",
       "      <td>0.129046</td>\n",
       "      <td>-100.638818</td>\n",
       "      <td>-100.403559</td>\n",
       "      <td>-100.305847</td>\n",
       "      <td>-100.187182</td>\n",
       "      <td>-99.948161</td>\n",
       "    </tr>\n",
       "    <tr>\n",
       "      <th>dropoff_latitude</th>\n",
       "      <td>9482.0</td>\n",
       "      <td>25.700429</td>\n",
       "      <td>0.053719</td>\n",
       "      <td>25.462341</td>\n",
       "      <td>25.661272</td>\n",
       "      <td>25.686222</td>\n",
       "      <td>25.742285</td>\n",
       "      <td>25.984867</td>\n",
       "    </tr>\n",
       "    <tr>\n",
       "      <th>Dia</th>\n",
       "      <td>9482.0</td>\n",
       "      <td>4.126239</td>\n",
       "      <td>2.099465</td>\n",
       "      <td>1.000000</td>\n",
       "      <td>2.000000</td>\n",
       "      <td>4.000000</td>\n",
       "      <td>6.000000</td>\n",
       "      <td>7.000000</td>\n",
       "    </tr>\n",
       "    <tr>\n",
       "      <th>DuracionMinutos</th>\n",
       "      <td>9482.0</td>\n",
       "      <td>20.922733</td>\n",
       "      <td>24.412291</td>\n",
       "      <td>0.516667</td>\n",
       "      <td>8.316667</td>\n",
       "      <td>14.033333</td>\n",
       "      <td>23.912500</td>\n",
       "      <td>284.733333</td>\n",
       "    </tr>\n",
       "    <tr>\n",
       "      <th>DistanciaKm</th>\n",
       "      <td>9482.0</td>\n",
       "      <td>8.055608</td>\n",
       "      <td>7.181968</td>\n",
       "      <td>0.201000</td>\n",
       "      <td>3.264250</td>\n",
       "      <td>5.832500</td>\n",
       "      <td>10.315750</td>\n",
       "      <td>49.993000</td>\n",
       "    </tr>\n",
       "  </tbody>\n",
       "</table>\n",
       "</div>"
      ],
      "text/plain": [
       "                    count          mean           std         min  \\\n",
       "id                 9482.0  43402.521198  25380.480870    3.000000   \n",
       "dropoff_longitude  9482.0   -100.302251      0.129046 -100.638818   \n",
       "dropoff_latitude   9482.0     25.700429      0.053719   25.462341   \n",
       "Dia                9482.0      4.126239      2.099465    1.000000   \n",
       "DuracionMinutos    9482.0     20.922733     24.412291    0.516667   \n",
       "DistanciaKm        9482.0      8.055608      7.181968    0.201000   \n",
       "\n",
       "                            25%           50%           75%           max  \n",
       "id                 21634.250000  44131.000000  62190.500000  90275.000000  \n",
       "dropoff_longitude   -100.403559   -100.305847   -100.187182    -99.948161  \n",
       "dropoff_latitude      25.661272     25.686222     25.742285     25.984867  \n",
       "Dia                    2.000000      4.000000      6.000000      7.000000  \n",
       "DuracionMinutos        8.316667     14.033333     23.912500    284.733333  \n",
       "DistanciaKm            3.264250      5.832500     10.315750     49.993000  "
      ]
     },
     "execution_count": 5,
     "metadata": {},
     "output_type": "execute_result"
    }
   ],
   "source": [
    "# Obtener la estadística descriptiva\n",
    "df.describe().T"
   ]
  },
  {
   "cell_type": "code",
   "execution_count": 6,
   "id": "fac55ecb-d6ee-47d1-b2c6-2392c9393b52",
   "metadata": {
    "tags": []
   },
   "outputs": [],
   "source": [
    "# Filtrado de valores atípicos\n",
    "Q1 = df['DuracionMinutos'].quantile(0.25)\n",
    "Q3 = df['DuracionMinutos'].quantile(0.75)\n",
    "IQR = Q3-Q1\n",
    "lim_inf = Q1-1.5*IQR\n",
    "lim_sup = Q3+1.5*IQR\n",
    "df = df[(df['DuracionMinutos']>lim_inf)&(df['DuracionMinutos']<lim_sup)]"
   ]
  },
  {
   "cell_type": "code",
   "execution_count": 7,
   "id": "99a86607-e951-4d6b-bce8-bb7f86208d5c",
   "metadata": {
    "tags": []
   },
   "outputs": [
    {
     "data": {
      "text/plain": [
       "<Axes: xlabel='dropoff_longitude', ylabel='dropoff_latitude'>"
      ]
     },
     "execution_count": 7,
     "metadata": {},
     "output_type": "execute_result"
    },
    {
     "data": {
      "image/png": "[encoded data removed]",
      "text/plain": [
       "<Figure size 640x480 with 1 Axes>"
      ]
     },
     "metadata": {},
     "output_type": "display_data"
    }
   ],
   "source": [
    "# Generar un gráfico\n",
    "sns.scatterplot(x=\"dropoff_longitude\",\n",
    "                y=\"dropoff_latitude\",\n",
    "                data=df)"
   ]
  },
  {
   "cell_type": "code",
   "execution_count": 8,
   "id": "71fffb1a-9a76-40e4-8355-fc2e08e53695",
   "metadata": {
    "tags": []
   },
   "outputs": [
    {
     "data": {
      "image/png": "[encoded data removed]",
      "text/plain": [
       "<Figure size 640x480 with 1 Axes>"
      ]
     },
     "metadata": {},
     "output_type": "display_data"
    }
   ],
   "source": [
    "sns.boxplot(x='Dia', y='DuracionMinutos', data=df);"
   ]
  },
  {
   "cell_type": "code",
   "execution_count": 9,
   "id": "d0a81089-2385-4743-8d90-375b3536a33b",
   "metadata": {
    "tags": []
   },
   "outputs": [
    {
     "data": {
      "text/html": [
       "<div>\n",
       "<style scoped>\n",
       "    .dataframe tbody tr th:only-of-type {\n",
       "        vertical-align: middle;\n",
       "    }\n",
       "\n",
       "    .dataframe tbody tr th {\n",
       "        vertical-align: top;\n",
       "    }\n",
       "\n",
       "    .dataframe thead th {\n",
       "        text-align: right;\n",
       "    }\n",
       "</style>\n",
       "<table border=\"1\" class=\"dataframe\">\n",
       "  <thead>\n",
       "    <tr style=\"text-align: right;\">\n",
       "      <th></th>\n",
       "      <th>id</th>\n",
       "      <th>dropoff_longitude</th>\n",
       "      <th>dropoff_latitude</th>\n",
       "      <th>Dia</th>\n",
       "      <th>DuracionMinutos</th>\n",
       "      <th>DistanciaKm</th>\n",
       "    </tr>\n",
       "  </thead>\n",
       "  <tbody>\n",
       "    <tr>\n",
       "      <th>104</th>\n",
       "      <td>48028</td>\n",
       "      <td>-100.363633</td>\n",
       "      <td>25.700368</td>\n",
       "      <td>6</td>\n",
       "      <td>43.533333</td>\n",
       "      <td>6.681</td>\n",
       "    </tr>\n",
       "    <tr>\n",
       "      <th>107</th>\n",
       "      <td>89523</td>\n",
       "      <td>-100.184078</td>\n",
       "      <td>25.778774</td>\n",
       "      <td>2</td>\n",
       "      <td>39.750000</td>\n",
       "      <td>3.033</td>\n",
       "    </tr>\n",
       "    <tr>\n",
       "      <th>111</th>\n",
       "      <td>44154</td>\n",
       "      <td>-100.296799</td>\n",
       "      <td>25.639075</td>\n",
       "      <td>2</td>\n",
       "      <td>41.400000</td>\n",
       "      <td>5.199</td>\n",
       "    </tr>\n",
       "    <tr>\n",
       "      <th>115</th>\n",
       "      <td>89531</td>\n",
       "      <td>-100.173469</td>\n",
       "      <td>25.796127</td>\n",
       "      <td>2</td>\n",
       "      <td>35.300000</td>\n",
       "      <td>1.442</td>\n",
       "    </tr>\n",
       "    <tr>\n",
       "      <th>118</th>\n",
       "      <td>72769</td>\n",
       "      <td>-100.272574</td>\n",
       "      <td>25.678928</td>\n",
       "      <td>3</td>\n",
       "      <td>38.750000</td>\n",
       "      <td>5.663</td>\n",
       "    </tr>\n",
       "  </tbody>\n",
       "</table>\n",
       "</div>"
      ],
      "text/plain": [
       "        id  dropoff_longitude  dropoff_latitude  Dia  DuracionMinutos  \\\n",
       "104  48028        -100.363633         25.700368    6        43.533333   \n",
       "107  89523        -100.184078         25.778774    2        39.750000   \n",
       "111  44154        -100.296799         25.639075    2        41.400000   \n",
       "115  89531        -100.173469         25.796127    2        35.300000   \n",
       "118  72769        -100.272574         25.678928    3        38.750000   \n",
       "\n",
       "     DistanciaKm  \n",
       "104        6.681  \n",
       "107        3.033  \n",
       "111        5.199  \n",
       "115        1.442  \n",
       "118        5.663  "
      ]
     },
     "execution_count": 9,
     "metadata": {},
     "output_type": "execute_result"
    }
   ],
   "source": [
    "df.head()"
   ]
  },
  {
   "cell_type": "code",
   "execution_count": 10,
   "id": "b0b83c53-2345-4c34-abfa-554c94b876f9",
   "metadata": {
    "tags": []
   },
   "outputs": [
    {
     "data": {
      "text/html": [
       "<div>\n",
       "<style scoped>\n",
       "    .dataframe tbody tr th:only-of-type {\n",
       "        vertical-align: middle;\n",
       "    }\n",
       "\n",
       "    .dataframe tbody tr th {\n",
       "        vertical-align: top;\n",
       "    }\n",
       "\n",
       "    .dataframe thead th {\n",
       "        text-align: right;\n",
       "    }\n",
       "</style>\n",
       "<table border=\"1\" class=\"dataframe\">\n",
       "  <thead>\n",
       "    <tr style=\"text-align: right;\">\n",
       "      <th></th>\n",
       "      <th>count</th>\n",
       "      <th>mean</th>\n",
       "      <th>std</th>\n",
       "      <th>min</th>\n",
       "      <th>25%</th>\n",
       "      <th>50%</th>\n",
       "      <th>75%</th>\n",
       "      <th>max</th>\n",
       "    </tr>\n",
       "  </thead>\n",
       "  <tbody>\n",
       "    <tr>\n",
       "      <th>id</th>\n",
       "      <td>8740.0</td>\n",
       "      <td>43466.666590</td>\n",
       "      <td>25443.452973</td>\n",
       "      <td>3.000000</td>\n",
       "      <td>21415.750000</td>\n",
       "      <td>44189.500000</td>\n",
       "      <td>62193.500000</td>\n",
       "      <td>90275.000000</td>\n",
       "    </tr>\n",
       "    <tr>\n",
       "      <th>dropoff_longitude</th>\n",
       "      <td>8740.0</td>\n",
       "      <td>-100.301141</td>\n",
       "      <td>0.129878</td>\n",
       "      <td>-100.638117</td>\n",
       "      <td>-100.403471</td>\n",
       "      <td>-100.304333</td>\n",
       "      <td>-100.186162</td>\n",
       "      <td>-99.948161</td>\n",
       "    </tr>\n",
       "    <tr>\n",
       "      <th>dropoff_latitude</th>\n",
       "      <td>8740.0</td>\n",
       "      <td>25.700220</td>\n",
       "      <td>0.053294</td>\n",
       "      <td>25.509155</td>\n",
       "      <td>25.661135</td>\n",
       "      <td>25.686231</td>\n",
       "      <td>25.742308</td>\n",
       "      <td>25.984867</td>\n",
       "    </tr>\n",
       "    <tr>\n",
       "      <th>Dia</th>\n",
       "      <td>8740.0</td>\n",
       "      <td>4.117277</td>\n",
       "      <td>2.106904</td>\n",
       "      <td>1.000000</td>\n",
       "      <td>2.000000</td>\n",
       "      <td>4.000000</td>\n",
       "      <td>6.000000</td>\n",
       "      <td>7.000000</td>\n",
       "    </tr>\n",
       "    <tr>\n",
       "      <th>DuracionMinutos</th>\n",
       "      <td>8740.0</td>\n",
       "      <td>15.513423</td>\n",
       "      <td>10.032536</td>\n",
       "      <td>0.516667</td>\n",
       "      <td>7.916667</td>\n",
       "      <td>12.916667</td>\n",
       "      <td>20.950000</td>\n",
       "      <td>47.300000</td>\n",
       "    </tr>\n",
       "    <tr>\n",
       "      <th>DistanciaKm</th>\n",
       "      <td>8740.0</td>\n",
       "      <td>7.125978</td>\n",
       "      <td>5.775913</td>\n",
       "      <td>0.201000</td>\n",
       "      <td>3.093000</td>\n",
       "      <td>5.493500</td>\n",
       "      <td>9.356750</td>\n",
       "      <td>48.485000</td>\n",
       "    </tr>\n",
       "  </tbody>\n",
       "</table>\n",
       "</div>"
      ],
      "text/plain": [
       "                    count          mean           std         min  \\\n",
       "id                 8740.0  43466.666590  25443.452973    3.000000   \n",
       "dropoff_longitude  8740.0   -100.301141      0.129878 -100.638117   \n",
       "dropoff_latitude   8740.0     25.700220      0.053294   25.509155   \n",
       "Dia                8740.0      4.117277      2.106904    1.000000   \n",
       "DuracionMinutos    8740.0     15.513423     10.032536    0.516667   \n",
       "DistanciaKm        8740.0      7.125978      5.775913    0.201000   \n",
       "\n",
       "                            25%           50%           75%           max  \n",
       "id                 21415.750000  44189.500000  62193.500000  90275.000000  \n",
       "dropoff_longitude   -100.403471   -100.304333   -100.186162    -99.948161  \n",
       "dropoff_latitude      25.661135     25.686231     25.742308     25.984867  \n",
       "Dia                    2.000000      4.000000      6.000000      7.000000  \n",
       "DuracionMinutos        7.916667     12.916667     20.950000     47.300000  \n",
       "DistanciaKm            3.093000      5.493500      9.356750     48.485000  "
      ]
     },
     "execution_count": 10,
     "metadata": {},
     "output_type": "execute_result"
    }
   ],
   "source": [
    "df.describe().T"
   ]
  },
  {
   "cell_type": "markdown",
   "id": "e91cdba9-69fb-4927-8bc5-7b77a3ed7225",
   "metadata": {},
   "source": [
    "**Creación de variables dicotómicas**: La función `get_dummies` convierte una variable categórica (con k categorías) en k variables dicotómicas. Entre otros parámetros se puede establecer:\n",
    "- prefix: agrega un prefijo a los nombres de las columnas.\n",
    "- dtype: de manera predeterminada está en *booleano*, se puede cambiar a *int*\n",
    "- drop_first: quita la columna con la primera categoría"
   ]
  },
  {
   "cell_type": "code",
   "execution_count": 11,
   "id": "d34662e7-fdd8-48f3-b24c-06e05c315bc0",
   "metadata": {
    "tags": []
   },
   "outputs": [
    {
     "data": {
      "text/html": [
       "<div>\n",
       "<style scoped>\n",
       "    .dataframe tbody tr th:only-of-type {\n",
       "        vertical-align: middle;\n",
       "    }\n",
       "\n",
       "    .dataframe tbody tr th {\n",
       "        vertical-align: top;\n",
       "    }\n",
       "\n",
       "    .dataframe thead th {\n",
       "        text-align: right;\n",
       "    }\n",
       "</style>\n",
       "<table border=\"1\" class=\"dataframe\">\n",
       "  <thead>\n",
       "    <tr style=\"text-align: right;\">\n",
       "      <th></th>\n",
       "      <th>Dia_2</th>\n",
       "      <th>Dia_3</th>\n",
       "      <th>Dia_4</th>\n",
       "      <th>Dia_5</th>\n",
       "      <th>Dia_6</th>\n",
       "      <th>Dia_7</th>\n",
       "    </tr>\n",
       "  </thead>\n",
       "  <tbody>\n",
       "    <tr>\n",
       "      <th>104</th>\n",
       "      <td>0</td>\n",
       "      <td>0</td>\n",
       "      <td>0</td>\n",
       "      <td>0</td>\n",
       "      <td>1</td>\n",
       "      <td>0</td>\n",
       "    </tr>\n",
       "    <tr>\n",
       "      <th>107</th>\n",
       "      <td>1</td>\n",
       "      <td>0</td>\n",
       "      <td>0</td>\n",
       "      <td>0</td>\n",
       "      <td>0</td>\n",
       "      <td>0</td>\n",
       "    </tr>\n",
       "    <tr>\n",
       "      <th>111</th>\n",
       "      <td>1</td>\n",
       "      <td>0</td>\n",
       "      <td>0</td>\n",
       "      <td>0</td>\n",
       "      <td>0</td>\n",
       "      <td>0</td>\n",
       "    </tr>\n",
       "  </tbody>\n",
       "</table>\n",
       "</div>"
      ],
      "text/plain": [
       "     Dia_2  Dia_3  Dia_4  Dia_5  Dia_6  Dia_7\n",
       "104      0      0      0      0      1      0\n",
       "107      1      0      0      0      0      0\n",
       "111      1      0      0      0      0      0"
      ]
     },
     "execution_count": 11,
     "metadata": {},
     "output_type": "execute_result"
    }
   ],
   "source": [
    "# Crear variables dicotómicas\n",
    "dummy_vars = pd.get_dummies(df['Dia'], prefix='Dia', dtype=int, drop_first=True)\n",
    "dummy_vars.head(3)"
   ]
  },
  {
   "cell_type": "code",
   "execution_count": 12,
   "id": "9dc21c2d-d56e-4d7e-9544-4c906c37629c",
   "metadata": {
    "tags": []
   },
   "outputs": [],
   "source": [
    "# Agregar las variables dummy al DataFrame original\n",
    "df = pd.concat([df, dummy_vars], axis=1)\n",
    "# Quitar variable categórica original\n",
    "df = df.drop(columns=['Dia'])"
   ]
  },
  {
   "cell_type": "code",
   "execution_count": 13,
   "id": "7e1145b9-71e5-4fff-b3c3-d438d9eef055",
   "metadata": {
    "tags": []
   },
   "outputs": [
    {
     "data": {
      "text/plain": [
       "Index(['id', 'dropoff_longitude', 'dropoff_latitude', 'DuracionMinutos',\n",
       "       'DistanciaKm', 'Dia_2', 'Dia_3', 'Dia_4', 'Dia_5', 'Dia_6', 'Dia_7'],\n",
       "      dtype='object')"
      ]
     },
     "execution_count": 13,
     "metadata": {},
     "output_type": "execute_result"
    }
   ],
   "source": [
    "df.columns"
   ]
  },
  {
   "cell_type": "code",
   "execution_count": 14,
   "id": "58528709-ca02-4011-81a7-4769be376409",
   "metadata": {
    "tags": []
   },
   "outputs": [],
   "source": [
    "X = df[['DistanciaKm', 'Dia_2', 'Dia_3', 'Dia_4', 'Dia_5',\n",
    "       'Dia_6', 'Dia_7']]  \n",
    "# Añadir una columna de unos para el intercepto\n",
    "X = sm.add_constant(X)\n",
    "y = df['DuracionMinutos']"
   ]
  },
  {
   "cell_type": "code",
   "execution_count": 15,
   "id": "de7a21a9-a3e2-4c64-888a-0f32bea40f0d",
   "metadata": {
    "tags": []
   },
   "outputs": [
    {
     "name": "stdout",
     "output_type": "stream",
     "text": [
      "                            OLS Regression Results                            \n",
      "==============================================================================\n",
      "Dep. Variable:        DuracionMinutos   R-squared:                       0.552\n",
      "Model:                            OLS   Adj. R-squared:                  0.552\n",
      "Method:                 Least Squares   F-statistic:                     1537.\n",
      "Date:                Fri, 08 Mar 2024   Prob (F-statistic):               0.00\n",
      "Time:                        00:36:39   Log-Likelihood:                -29046.\n",
      "No. Observations:                8740   AIC:                         5.811e+04\n",
      "Df Residuals:                    8732   BIC:                         5.816e+04\n",
      "Df Model:                           7                                         \n",
      "Covariance Type:            nonrobust                                         \n",
      "===============================================================================\n",
      "                  coef    std err          t      P>|t|      [0.025      0.975]\n",
      "-------------------------------------------------------------------------------\n",
      "const           5.2070      0.205     25.385      0.000       4.805       5.609\n",
      "DistanciaKm     1.2886      0.012    103.517      0.000       1.264       1.313\n",
      "Dia_2           1.1716      0.268      4.366      0.000       0.646       1.698\n",
      "Dia_3           1.5185      0.273      5.565      0.000       0.984       2.053\n",
      "Dia_4           1.4692      0.269      5.464      0.000       0.942       1.996\n",
      "Dia_5           1.3201      0.276      4.790      0.000       0.780       1.860\n",
      "Dia_6           2.0228      0.266      7.596      0.000       1.501       2.545\n",
      "Dia_7           0.7206      0.246      2.931      0.003       0.239       1.203\n",
      "==============================================================================\n",
      "Omnibus:                     2852.045   Durbin-Watson:                   0.972\n",
      "Prob(Omnibus):                  0.000   Jarque-Bera (JB):            10148.929\n",
      "Skew:                           1.628   Prob(JB):                         0.00\n",
      "Kurtosis:                       7.156   Cond. No.                         66.5\n",
      "==============================================================================\n",
      "\n",
      "Notes:\n",
      "[1] Standard Errors assume that the covariance matrix of the errors is correctly specified.\n"
     ]
    }
   ],
   "source": [
    "# Ajustar el modelo de regresión\n",
    "model = sm.OLS(y, X).fit()\n",
    "\n",
    "# Imprimir los resultados\n",
    "print(model.summary())"
   ]
  },
  {
   "cell_type": "markdown",
   "id": "e7e2f515-b4f7-4b4a-b68f-754b4f5106da",
   "metadata": {},
   "source": [
    "los resultados del modelo indican una R cuandrada de 0.552, es decir, que el modelo explica el 55.2% de la variacoin de la valraible dependiente. el modelo es significante es significativo (F=1537), p<0.01) Todas las variables en el modelo resultaron significativas (p>0.01)."
   ]
  },
  {
   "cell_type": "code",
   "execution_count": null,
   "id": "0ded9266-3b98-4696-9704-1321eb038b9d",
   "metadata": {},
   "outputs": [],
   "source": []
  }
 ],
 "metadata": {
  "kernelspec": {
   "display_name": "Python 3 (ipykernel)",
   "language": "python",
   "name": "python3"
  },
  "language_info": {
   "codemirror_mode": {
    "name": "ipython",
    "version": 3
   },
   "file_extension": ".py",
   "mimetype": "text/x-python",
   "name": "python",
   "nbconvert_exporter": "python",
   "pygments_lexer": "ipython3",
   "version": "3.11.7"
  }
 },
 "nbformat": 4,
 "nbformat_minor": 5
}
