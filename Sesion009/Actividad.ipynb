{
 "cells": [
  {
   "cell_type": "markdown",
   "id": "2205c9c5-be59-4cbf-ab38-ed37219e0848",
   "metadata": {
    "tags": []
   },
   "source": [
    "# Práctica"
   ]
  },
  {
   "cell_type": "markdown",
   "id": "8825a83c-ff75-4a01-9bae-d11c4040a841",
   "metadata": {},
   "source": [
    "El archivo *b10_acsi2015* contiene una muestra de la encuesta recopilada para el índice de satisfacción del cliente estadounidense (ACSI: American Customer Satisfaction Index). La encuesta original recopila los datos de más de 400,000 consumidores de más de 400 empresas dentro de aproximadamente 50 industrias en Estados Unidos. La muestra en el archivo incluye cuatro industrias (alimentos procesados, aerolíneas comerciales, proveedores de servicios de internet y bancos comerciales). El tamaño de la muestra es de 8239 consumidores. Las industrias en esta muestra son:\n",
    "\n",
    "+ 1001=\"Processed Food (Nondurables)\n",
    "+ 3003=\"Commercial Airlines (Transportation)\"\n",
    "+ 3013=\"Internet Service Providers (Telecommunications)\"\n",
    "+ 5001=\"Commercial Banks (Finance)\"\n",
    "\n",
    "La descripción de las variables es la siguiente:"
   ]
  },
  {
   "cell_type": "markdown",
   "id": "2a97c885-6ce3-4e2e-bff3-7139afa65437",
   "metadata": {
    "jp-MarkdownHeadingCollapsed": true
   },
   "source": [
    "\n",
    "|VARIABLE\t|LABEL\t|VALUE|\n",
    "|-------------|--------|----------|\n",
    "|INDUSTRY\t|Industry Code\t| Industry Code|\n",
    "|YEAR\t|Year in which data collected\t|Year|\n",
    "|SATIS\t|Overall Customer Satisfaction\t|1=\"Very dissatisfied\"; 10=\"Very satisfied\"|\n",
    "|CONFIRM\t|Confirmation to Expectations\t|1=\"Falls short of expectations\"; 10=\"Exceeds expectations\"|\n",
    "|IDEAL\t|Close to ideal product/service\t|1=\"Not very close to ideal\"; 10=\"Very close to ideal\"|\n",
    "|OVERALLX\t|Expectation about overall quality\t|1=\"Not very high\"; 10=\"Very high\"|\n",
    "|CUSTOMX\t|Expectations about customization\t|1=\"Not very high\"; 10=\"Very high\"|\n",
    "|WRONGX\t|Expectation about reliability\t|1=\"Not very high\"; 10=\"Very high\"|\n",
    "|OVERALLQ\t|Overall Quality\t|1=\"Not very good\"; 10=\"Very good\"|\n",
    "|CUSTOMQ\t|Meeting personal requirement (Customization)\t|1=\"Not very good\"; 10=\"Very good\"|\n",
    "|WRONGQ\t|Things went wrong (Reliability)\t|1=\"Not very good\"; 10=\"Very good\"|\n",
    "|PQ\t|Price given Quality\t|1=\"Not very good price given quality\"; 10=\"Very good price given quality\"|\n",
    "|QP\t|Quality given Price\t|1=\"Not very good quality given price\"; 10=\"Very good quality given price\"|\n",
    "|COMP\t|Customer complaints\t|1=\"Yes\"; 0=\"No\"|\n",
    "|REPUR\t|Repurchase Intention\t|1=\"Not very likely\"; 10=\"Very likely\"|\n",
    "|AGE\t|Age\t|Age|\n",
    "|EDUCAT\t|Education\t|1=Less than high school; 2=High school; 3=Some college or associate degree; 4=College graduate; 5=Post-graduate|\n",
    "|HISPANIC\t|Hispanic\t|1=\"Yes\"; 0=\"No\"|\n",
    "|RACE_1\t|Race_1\t|1=\"White\"; 2=\"Black/African-American\"; 3=\"American Indian/Alaskan Native\"; 4=\"Asian\"; 5=\"Native Hawaiian or Pacific Islander\"; 6=\"Other Race\"|\n",
    "|INCOME\t|Income\t|1=\"Under 20K\"; 2=\"20K to 30K\"; 3=\"30K to 40K\"; 4=\"40K to 60K\"; 5=\"60K to 80K\"; 6=\"80K to 100K\"; 7=\"100K or More\"|\n",
    "|GENDER\t|Gender\t|1=\"Male\"; 2=\"Female\"|\n",
    "|ZIPCODE\t|Zip code\t|Respondent zip code|\n"
   ]
  },
  {
   "cell_type": "markdown",
   "id": "5c78ae50-48a3-4df9-b31a-fcc10ece95cb",
   "metadata": {},
   "source": [
    "Realiza un análisis de regresión para explicar la satisfacción de los clientes ('SATIS') en función de las variables \"INDUSTRY', 'OVERALLX', 'QP' y 'COMP'. Selecciona una variable independiente adicional al modelo que pueda estar relacionada con la satisfacción. Se evaluará que se cumpla con al menos los siguientes lineamientos:\n",
    "\n",
    "1. *Preparación de los datos*: Elimina las filas con valores perdidos.\n",
    "2. *Tamaño muestral*: Verifica que el tamaño de la muestra sea la mínima apropiada. \n",
    "3. *Estadística descriptiva*: Obtén la estadística descriptiva de las variables cuantitativas\n",
    "4. *Transfomación de variables categóticas*:Transforma las variables categóricas en variables dicotómicas (dummy)\n",
    "5. *Selección de modelo*: Realiza una regresión por pasos con eliminación hacia atrás.\n",
    "6. *Evaluación del ajuste del modelo*: Identificación e interpretación de la R cuadrada\n",
    "7. *Evaluación de la significancia del modelo*: Interpretación del p-valor del estadístico F.\n",
    "8. *Evaluación de la significancia de los coeficientes de regresión*: Interpretación de los p-valores del estadístico t correspondiente a cada variable.\n",
    "9. *Interpretación de resultados*: Interpretación de los coeficientes de regresión de cada variable.\n",
    "10. *Evaluación de supuestos*: Evaluación del supuesto de normalidad en los errores."
   ]
  },
  {
   "cell_type": "markdown",
   "id": "8640da57-9f3e-43d5-ae93-4e1b2fda7d4a",
   "metadata": {
    "tags": []
   },
   "source": [
    "### Importar librerias y Datos"
   ]
  },
  {
   "cell_type": "code",
   "execution_count": 30,
   "id": "5b9c7d62-722d-4fa6-9d38-c036fc67f636",
   "metadata": {
    "tags": []
   },
   "outputs": [],
   "source": [
    "import pandas as pd\n",
    "import numpy as np\n",
    "import matplotlib.pyplot as plt\n",
    "import seaborn as sns\n",
    "import statsmodels.api as sm\n",
    "from stepwise_regression import step_reg"
   ]
  },
  {
   "cell_type": "code",
   "execution_count": 31,
   "id": "483cdfe0-7c6a-4442-aded-b8ba144d9643",
   "metadata": {
    "tags": []
   },
   "outputs": [],
   "source": [
    "# Cargar los datos\n",
    "df = pd.read_excel('data/b10_acsi2015.xlsx', usecols=['SATIS', 'INDUSTRY','OVERALLX','QP','COMP'])"
   ]
  },
  {
   "cell_type": "markdown",
   "id": "fc03f849-e92e-427d-83c8-22dba6acea72",
   "metadata": {
    "tags": []
   },
   "source": [
    " ## 1. *Preparación de los datos* & 2. *Verificar Tamaño muestral*"
   ]
  },
  {
   "cell_type": "code",
   "execution_count": 32,
   "id": "19be31d8-aa8d-4c83-85e7-b4187944aea2",
   "metadata": {
    "tags": []
   },
   "outputs": [
    {
     "name": "stdout",
     "output_type": "stream",
     "text": [
      "<class 'pandas.core.frame.DataFrame'>\n",
      "RangeIndex: 8239 entries, 0 to 8238\n",
      "Data columns (total 5 columns):\n",
      " #   Column    Non-Null Count  Dtype  \n",
      "---  ------    --------------  -----  \n",
      " 0   INDUSTRY  8239 non-null   int64  \n",
      " 1   SATIS     8232 non-null   float64\n",
      " 2   OVERALLX  7904 non-null   float64\n",
      " 3   QP        7977 non-null   float64\n",
      " 4   COMP      7962 non-null   float64\n",
      "dtypes: float64(4), int64(1)\n",
      "memory usage: 322.0 KB\n"
     ]
    }
   ],
   "source": [
    "# Revisar las variables\n",
    "df.info()"
   ]
  },
  {
   "cell_type": "code",
   "execution_count": 33,
   "id": "faf16cad-67e9-43db-9938-3b3b12153d14",
   "metadata": {
    "tags": []
   },
   "outputs": [
    {
     "name": "stdout",
     "output_type": "stream",
     "text": [
      "<class 'pandas.core.frame.DataFrame'>\n",
      "Index: 7736 entries, 0 to 8238\n",
      "Data columns (total 5 columns):\n",
      " #   Column    Non-Null Count  Dtype  \n",
      "---  ------    --------------  -----  \n",
      " 0   INDUSTRY  7736 non-null   int64  \n",
      " 1   SATIS     7736 non-null   float64\n",
      " 2   OVERALLX  7736 non-null   float64\n",
      " 3   QP        7736 non-null   float64\n",
      " 4   COMP      7736 non-null   float64\n",
      "dtypes: float64(4), int64(1)\n",
      "memory usage: 362.6 KB\n"
     ]
    }
   ],
   "source": [
    "#quitar valores perdidos\n",
    "df.dropna(inplace=True)\n",
    "df.info()"
   ]
  },
  {
   "cell_type": "markdown",
   "id": "ffe05cb2-b338-4577-bc1a-948782161ccd",
   "metadata": {
    "tags": []
   },
   "source": [
    "## 3. *Estadística descriptiva*"
   ]
  },
  {
   "cell_type": "code",
   "execution_count": 35,
   "id": "6739f8a5-2ae3-4371-88ed-67800e8f0b6d",
   "metadata": {
    "tags": []
   },
   "outputs": [
    {
     "data": {
      "text/html": [
       "<div>\n",
       "<style scoped>\n",
       "    .dataframe tbody tr th:only-of-type {\n",
       "        vertical-align: middle;\n",
       "    }\n",
       "\n",
       "    .dataframe tbody tr th {\n",
       "        vertical-align: top;\n",
       "    }\n",
       "\n",
       "    .dataframe thead th {\n",
       "        text-align: right;\n",
       "    }\n",
       "</style>\n",
       "<table border=\"1\" class=\"dataframe\">\n",
       "  <thead>\n",
       "    <tr style=\"text-align: right;\">\n",
       "      <th></th>\n",
       "      <th>count</th>\n",
       "      <th>mean</th>\n",
       "      <th>std</th>\n",
       "      <th>min</th>\n",
       "      <th>25%</th>\n",
       "      <th>50%</th>\n",
       "      <th>75%</th>\n",
       "      <th>max</th>\n",
       "    </tr>\n",
       "  </thead>\n",
       "  <tbody>\n",
       "    <tr>\n",
       "      <th>INDUSTRY</th>\n",
       "      <td>7736.0</td>\n",
       "      <td>3155.172699</td>\n",
       "      <td>1454.344468</td>\n",
       "      <td>1001.0</td>\n",
       "      <td>3003.0</td>\n",
       "      <td>3013.0</td>\n",
       "      <td>5001.0</td>\n",
       "      <td>5001.0</td>\n",
       "    </tr>\n",
       "    <tr>\n",
       "      <th>SATIS</th>\n",
       "      <td>7736.0</td>\n",
       "      <td>7.836091</td>\n",
       "      <td>2.101317</td>\n",
       "      <td>1.0</td>\n",
       "      <td>7.0</td>\n",
       "      <td>8.0</td>\n",
       "      <td>10.0</td>\n",
       "      <td>10.0</td>\n",
       "    </tr>\n",
       "    <tr>\n",
       "      <th>OVERALLX</th>\n",
       "      <td>7736.0</td>\n",
       "      <td>8.275595</td>\n",
       "      <td>1.659294</td>\n",
       "      <td>1.0</td>\n",
       "      <td>7.0</td>\n",
       "      <td>8.5</td>\n",
       "      <td>10.0</td>\n",
       "      <td>10.0</td>\n",
       "    </tr>\n",
       "    <tr>\n",
       "      <th>QP</th>\n",
       "      <td>7736.0</td>\n",
       "      <td>7.638314</td>\n",
       "      <td>2.148164</td>\n",
       "      <td>1.0</td>\n",
       "      <td>7.0</td>\n",
       "      <td>8.0</td>\n",
       "      <td>9.0</td>\n",
       "      <td>10.0</td>\n",
       "    </tr>\n",
       "    <tr>\n",
       "      <th>COMP</th>\n",
       "      <td>7736.0</td>\n",
       "      <td>0.176836</td>\n",
       "      <td>0.381554</td>\n",
       "      <td>0.0</td>\n",
       "      <td>0.0</td>\n",
       "      <td>0.0</td>\n",
       "      <td>0.0</td>\n",
       "      <td>1.0</td>\n",
       "    </tr>\n",
       "  </tbody>\n",
       "</table>\n",
       "</div>"
      ],
      "text/plain": [
       "           count         mean          std     min     25%     50%     75%  \\\n",
       "INDUSTRY  7736.0  3155.172699  1454.344468  1001.0  3003.0  3013.0  5001.0   \n",
       "SATIS     7736.0     7.836091     2.101317     1.0     7.0     8.0    10.0   \n",
       "OVERALLX  7736.0     8.275595     1.659294     1.0     7.0     8.5    10.0   \n",
       "QP        7736.0     7.638314     2.148164     1.0     7.0     8.0     9.0   \n",
       "COMP      7736.0     0.176836     0.381554     0.0     0.0     0.0     0.0   \n",
       "\n",
       "             max  \n",
       "INDUSTRY  5001.0  \n",
       "SATIS       10.0  \n",
       "OVERALLX    10.0  \n",
       "QP          10.0  \n",
       "COMP         1.0  "
      ]
     },
     "execution_count": 35,
     "metadata": {},
     "output_type": "execute_result"
    }
   ],
   "source": [
    "# Obtener la estadística descriptiva\n",
    "df.describe().T"
   ]
  },
  {
   "cell_type": "markdown",
   "id": "9751b42d-46e0-4935-9556-476a474ffbb3",
   "metadata": {
    "tags": []
   },
   "source": [
    "### 4. *Transfomación de variables categóticas*:Transforma las variables categóricas en variables dicotómicas (dummy)"
   ]
  },
  {
   "cell_type": "code",
   "execution_count": 36,
   "id": "400e2bd3-3256-460e-8d32-a19dba05694f",
   "metadata": {},
   "outputs": [
    {
     "data": {
      "text/html": [
       "<div>\n",
       "<style scoped>\n",
       "    .dataframe tbody tr th:only-of-type {\n",
       "        vertical-align: middle;\n",
       "    }\n",
       "\n",
       "    .dataframe tbody tr th {\n",
       "        vertical-align: top;\n",
       "    }\n",
       "\n",
       "    .dataframe thead th {\n",
       "        text-align: right;\n",
       "    }\n",
       "</style>\n",
       "<table border=\"1\" class=\"dataframe\">\n",
       "  <thead>\n",
       "    <tr style=\"text-align: right;\">\n",
       "      <th></th>\n",
       "      <th>INDUSTRY_3003</th>\n",
       "      <th>INDUSTRY_3013</th>\n",
       "      <th>INDUSTRY_5001</th>\n",
       "    </tr>\n",
       "  </thead>\n",
       "  <tbody>\n",
       "    <tr>\n",
       "      <th>0</th>\n",
       "      <td>1</td>\n",
       "      <td>0</td>\n",
       "      <td>0</td>\n",
       "    </tr>\n",
       "    <tr>\n",
       "      <th>1</th>\n",
       "      <td>1</td>\n",
       "      <td>0</td>\n",
       "      <td>0</td>\n",
       "    </tr>\n",
       "    <tr>\n",
       "      <th>2</th>\n",
       "      <td>1</td>\n",
       "      <td>0</td>\n",
       "      <td>0</td>\n",
       "    </tr>\n",
       "  </tbody>\n",
       "</table>\n",
       "</div>"
      ],
      "text/plain": [
       "   INDUSTRY_3003  INDUSTRY_3013  INDUSTRY_5001\n",
       "0              1              0              0\n",
       "1              1              0              0\n",
       "2              1              0              0"
      ]
     },
     "execution_count": 36,
     "metadata": {},
     "output_type": "execute_result"
    }
   ],
   "source": [
    "# Crear variables dicotómicas\n",
    "dummy_vars = pd.get_dummies(df['INDUSTRY'], prefix='INDUSTRY', dtype=int, drop_first=True)\n",
    "dummy_vars.head(3)"
   ]
  },
  {
   "cell_type": "code",
   "execution_count": 37,
   "id": "e134b569-e38d-4725-8798-15eb724d12c0",
   "metadata": {},
   "outputs": [],
   "source": [
    "# Agregar las variables dummy al DataFrame original\n",
    "df = pd.concat([df, dummy_vars], axis=1)\n",
    "# Quitar variable categórica original\n",
    "df = df.drop(columns=['INDUSTRY'])"
   ]
  },
  {
   "cell_type": "code",
   "execution_count": 38,
   "id": "54080e07-9ca7-479a-88fd-482f87ad8b7b",
   "metadata": {},
   "outputs": [],
   "source": [
    "X = df[['INDUSTRY_3003', 'INDUSTRY_3013', 'INDUSTRY_5001', 'OVERALLX', 'QP', 'COMP']]  "
   ]
  },
  {
   "cell_type": "code",
   "execution_count": 39,
   "id": "16b988d4-df12-4d80-9785-fceeb2eee723",
   "metadata": {},
   "outputs": [],
   "source": [
    "# Añadir una columna de unos para el intercepto\n",
    "X = sm.add_constant(X)\n",
    "y = df['SATIS']"
   ]
  },
  {
   "cell_type": "code",
   "execution_count": 40,
   "id": "4fd041fc-f94c-4232-a955-88de8cf10d58",
   "metadata": {},
   "outputs": [],
   "source": [
    "from stepwise_regression import step_reg"
   ]
  },
  {
   "cell_type": "code",
   "execution_count": 41,
   "id": "76cbfba3-fd39-4b2d-9a8e-8e46263f9830",
   "metadata": {},
   "outputs": [],
   "source": [
    "# Modelo completo con todos los predictores\n",
    "var_ind = ['INDUSTRY_3003', 'INDUSTRY_3013', 'INDUSTRY_5001', 'OVERALLX', 'QP', 'COMP']\n",
    "X = df[var_ind]\n",
    "X = sm.add_constant(X)\n",
    "y = df['SATIS']"
   ]
  },
  {
   "cell_type": "code",
   "execution_count": 42,
   "id": "7399aca7-02c4-4c6f-be17-802cfc4cb997",
   "metadata": {},
   "outputs": [
    {
     "data": {
      "text/plain": [
       "['const', 'INDUSTRY_3013', 'INDUSTRY_5001', 'OVERALLX', 'QP', 'COMP']"
      ]
     },
     "execution_count": 42,
     "metadata": {},
     "output_type": "execute_result"
    }
   ],
   "source": [
    "backselect = step_reg.backward_regression(X, y, 0.05,verbose=False)\n",
    "backselect"
   ]
  },
  {
   "cell_type": "code",
   "execution_count": 43,
   "id": "d26b6a22-e52e-4359-997c-50fb3280cfe2",
   "metadata": {},
   "outputs": [
    {
     "data": {
      "text/html": [
       "<table class=\"simpletable\">\n",
       "<caption>OLS Regression Results</caption>\n",
       "<tr>\n",
       "  <th>Dep. Variable:</th>          <td>SATIS</td>      <th>  R-squared:         </th> <td>   0.761</td> \n",
       "</tr>\n",
       "<tr>\n",
       "  <th>Model:</th>                   <td>OLS</td>       <th>  Adj. R-squared:    </th> <td>   0.761</td> \n",
       "</tr>\n",
       "<tr>\n",
       "  <th>Method:</th>             <td>Least Squares</td>  <th>  F-statistic:       </th> <td>   4936.</td> \n",
       "</tr>\n",
       "<tr>\n",
       "  <th>Date:</th>             <td>Sun, 17 Mar 2024</td> <th>  Prob (F-statistic):</th>  <td>  0.00</td>  \n",
       "</tr>\n",
       "<tr>\n",
       "  <th>Time:</th>                 <td>22:11:26</td>     <th>  Log-Likelihood:    </th> <td> -11177.</td> \n",
       "</tr>\n",
       "<tr>\n",
       "  <th>No. Observations:</th>      <td>  7736</td>      <th>  AIC:               </th> <td>2.237e+04</td>\n",
       "</tr>\n",
       "<tr>\n",
       "  <th>Df Residuals:</th>          <td>  7730</td>      <th>  BIC:               </th> <td>2.241e+04</td>\n",
       "</tr>\n",
       "<tr>\n",
       "  <th>Df Model:</th>              <td>     5</td>      <th>                     </th>     <td> </td>    \n",
       "</tr>\n",
       "<tr>\n",
       "  <th>Covariance Type:</th>      <td>nonrobust</td>    <th>                     </th>     <td> </td>    \n",
       "</tr>\n",
       "</table>\n",
       "<table class=\"simpletable\">\n",
       "<tr>\n",
       "        <td></td>           <th>coef</th>     <th>std err</th>      <th>t</th>      <th>P>|t|</th>  <th>[0.025</th>    <th>0.975]</th>  \n",
       "</tr>\n",
       "<tr>\n",
       "  <th>const</th>         <td>    0.9918</td> <td>    0.066</td> <td>   15.097</td> <td> 0.000</td> <td>    0.863</td> <td>    1.121</td>\n",
       "</tr>\n",
       "<tr>\n",
       "  <th>INDUSTRY_3013</th> <td>   -0.1882</td> <td>    0.030</td> <td>   -6.246</td> <td> 0.000</td> <td>   -0.247</td> <td>   -0.129</td>\n",
       "</tr>\n",
       "<tr>\n",
       "  <th>INDUSTRY_5001</th> <td>   -0.1015</td> <td>    0.028</td> <td>   -3.618</td> <td> 0.000</td> <td>   -0.156</td> <td>   -0.047</td>\n",
       "</tr>\n",
       "<tr>\n",
       "  <th>OVERALLX</th>      <td>    0.1690</td> <td>    0.008</td> <td>   21.010</td> <td> 0.000</td> <td>    0.153</td> <td>    0.185</td>\n",
       "</tr>\n",
       "<tr>\n",
       "  <th>QP</th>            <td>    0.7369</td> <td>    0.007</td> <td>  109.550</td> <td> 0.000</td> <td>    0.724</td> <td>    0.750</td>\n",
       "</tr>\n",
       "<tr>\n",
       "  <th>COMP</th>          <td>   -0.5678</td> <td>    0.033</td> <td>  -17.151</td> <td> 0.000</td> <td>   -0.633</td> <td>   -0.503</td>\n",
       "</tr>\n",
       "</table>\n",
       "<table class=\"simpletable\">\n",
       "<tr>\n",
       "  <th>Omnibus:</th>       <td>702.695</td> <th>  Durbin-Watson:     </th> <td>   1.889</td>\n",
       "</tr>\n",
       "<tr>\n",
       "  <th>Prob(Omnibus):</th> <td> 0.000</td>  <th>  Jarque-Bera (JB):  </th> <td>3946.069</td>\n",
       "</tr>\n",
       "<tr>\n",
       "  <th>Skew:</th>          <td>-0.243</td>  <th>  Prob(JB):          </th> <td>    0.00</td>\n",
       "</tr>\n",
       "<tr>\n",
       "  <th>Kurtosis:</th>      <td> 6.465</td>  <th>  Cond. No.          </th> <td>    66.2</td>\n",
       "</tr>\n",
       "</table><br/><br/>Notes:<br/>[1] Standard Errors assume that the covariance matrix of the errors is correctly specified."
      ],
      "text/latex": [
       "\\begin{center}\n",
       "\\begin{tabular}{lclc}\n",
       "\\toprule\n",
       "\\textbf{Dep. Variable:}    &      SATIS       & \\textbf{  R-squared:         } &     0.761   \\\\\n",
       "\\textbf{Model:}            &       OLS        & \\textbf{  Adj. R-squared:    } &     0.761   \\\\\n",
       "\\textbf{Method:}           &  Least Squares   & \\textbf{  F-statistic:       } &     4936.   \\\\\n",
       "\\textbf{Date:}             & Sun, 17 Mar 2024 & \\textbf{  Prob (F-statistic):} &     0.00    \\\\\n",
       "\\textbf{Time:}             &     22:11:26     & \\textbf{  Log-Likelihood:    } &   -11177.   \\\\\n",
       "\\textbf{No. Observations:} &        7736      & \\textbf{  AIC:               } & 2.237e+04   \\\\\n",
       "\\textbf{Df Residuals:}     &        7730      & \\textbf{  BIC:               } & 2.241e+04   \\\\\n",
       "\\textbf{Df Model:}         &           5      & \\textbf{                     } &             \\\\\n",
       "\\textbf{Covariance Type:}  &    nonrobust     & \\textbf{                     } &             \\\\\n",
       "\\bottomrule\n",
       "\\end{tabular}\n",
       "\\begin{tabular}{lcccccc}\n",
       "                        & \\textbf{coef} & \\textbf{std err} & \\textbf{t} & \\textbf{P$> |$t$|$} & \\textbf{[0.025} & \\textbf{0.975]}  \\\\\n",
       "\\midrule\n",
       "\\textbf{const}          &       0.9918  &        0.066     &    15.097  &         0.000        &        0.863    &        1.121     \\\\\n",
       "\\textbf{INDUSTRY\\_3013} &      -0.1882  &        0.030     &    -6.246  &         0.000        &       -0.247    &       -0.129     \\\\\n",
       "\\textbf{INDUSTRY\\_5001} &      -0.1015  &        0.028     &    -3.618  &         0.000        &       -0.156    &       -0.047     \\\\\n",
       "\\textbf{OVERALLX}       &       0.1690  &        0.008     &    21.010  &         0.000        &        0.153    &        0.185     \\\\\n",
       "\\textbf{QP}             &       0.7369  &        0.007     &   109.550  &         0.000        &        0.724    &        0.750     \\\\\n",
       "\\textbf{COMP}           &      -0.5678  &        0.033     &   -17.151  &         0.000        &       -0.633    &       -0.503     \\\\\n",
       "\\bottomrule\n",
       "\\end{tabular}\n",
       "\\begin{tabular}{lclc}\n",
       "\\textbf{Omnibus:}       & 702.695 & \\textbf{  Durbin-Watson:     } &    1.889  \\\\\n",
       "\\textbf{Prob(Omnibus):} &   0.000 & \\textbf{  Jarque-Bera (JB):  } & 3946.069  \\\\\n",
       "\\textbf{Skew:}          &  -0.243 & \\textbf{  Prob(JB):          } &     0.00  \\\\\n",
       "\\textbf{Kurtosis:}      &   6.465 & \\textbf{  Cond. No.          } &     66.2  \\\\\n",
       "\\bottomrule\n",
       "\\end{tabular}\n",
       "%\\caption{OLS Regression Results}\n",
       "\\end{center}\n",
       "\n",
       "Notes: \\newline\n",
       " [1] Standard Errors assume that the covariance matrix of the errors is correctly specified."
      ],
      "text/plain": [
       "<class 'statsmodels.iolib.summary.Summary'>\n",
       "\"\"\"\n",
       "                            OLS Regression Results                            \n",
       "==============================================================================\n",
       "Dep. Variable:                  SATIS   R-squared:                       0.761\n",
       "Model:                            OLS   Adj. R-squared:                  0.761\n",
       "Method:                 Least Squares   F-statistic:                     4936.\n",
       "Date:                Sun, 17 Mar 2024   Prob (F-statistic):               0.00\n",
       "Time:                        22:11:26   Log-Likelihood:                -11177.\n",
       "No. Observations:                7736   AIC:                         2.237e+04\n",
       "Df Residuals:                    7730   BIC:                         2.241e+04\n",
       "Df Model:                           5                                         \n",
       "Covariance Type:            nonrobust                                         \n",
       "=================================================================================\n",
       "                    coef    std err          t      P>|t|      [0.025      0.975]\n",
       "---------------------------------------------------------------------------------\n",
       "const             0.9918      0.066     15.097      0.000       0.863       1.121\n",
       "INDUSTRY_3013    -0.1882      0.030     -6.246      0.000      -0.247      -0.129\n",
       "INDUSTRY_5001    -0.1015      0.028     -3.618      0.000      -0.156      -0.047\n",
       "OVERALLX          0.1690      0.008     21.010      0.000       0.153       0.185\n",
       "QP                0.7369      0.007    109.550      0.000       0.724       0.750\n",
       "COMP             -0.5678      0.033    -17.151      0.000      -0.633      -0.503\n",
       "==============================================================================\n",
       "Omnibus:                      702.695   Durbin-Watson:                   1.889\n",
       "Prob(Omnibus):                  0.000   Jarque-Bera (JB):             3946.069\n",
       "Skew:                          -0.243   Prob(JB):                         0.00\n",
       "Kurtosis:                       6.465   Cond. No.                         66.2\n",
       "==============================================================================\n",
       "\n",
       "Notes:\n",
       "[1] Standard Errors assume that the covariance matrix of the errors is correctly specified.\n",
       "\"\"\""
      ]
     },
     "execution_count": 43,
     "metadata": {},
     "output_type": "execute_result"
    }
   ],
   "source": [
    "backselect.remove('const')\n",
    "X_backselect = df[backselect]\n",
    "# add a constant \n",
    "X_backselect = sm.add_constant(X_backselect)\n",
    "# define the model and fit it\n",
    "backres = sm.OLS(y, X_backselect).fit()\n",
    "backres.summary()"
   ]
  },
  {
   "cell_type": "code",
   "execution_count": null,
   "id": "a8c6d004-2554-4ec1-a6cb-5705c1884601",
   "metadata": {},
   "outputs": [],
   "source": []
  }
 ],
 "metadata": {
  "kernelspec": {
   "display_name": "Python 3 (ipykernel)",
   "language": "python",
   "name": "python3"
  },
  "language_info": {
   "codemirror_mode": {
    "name": "ipython",
    "version": 3
   },
   "file_extension": ".py",
   "mimetype": "text/x-python",
   "name": "python",
   "nbconvert_exporter": "python",
   "pygments_lexer": "ipython3",
   "version": "3.11.7"
  }
 },
 "nbformat": 4,
 "nbformat_minor": 5
}
