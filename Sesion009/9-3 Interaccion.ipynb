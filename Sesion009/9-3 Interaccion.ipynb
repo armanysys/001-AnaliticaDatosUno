{
 "cells": [
  {
   "cell_type": "markdown",
   "id": "4c585a81-f05d-4593-a9e5-246d75f42127",
   "metadata": {},
   "source": [
    "# Sesión 09: Análisis de regresión: interacción"
   ]
  },
  {
   "cell_type": "code",
   "execution_count": 1,
   "id": "7f22c4a7-fded-415d-90f4-a1cb981a793f",
   "metadata": {
    "tags": []
   },
   "outputs": [],
   "source": [
    "import pandas as pd\n",
    "import numpy as np\n",
    "import matplotlib.pyplot as plt\n",
    "import seaborn as sns\n",
    "import statsmodels.api as sm"
   ]
  },
  {
   "cell_type": "code",
   "execution_count": 2,
   "id": "6f6fb099-c65f-4f96-badb-a3032410407e",
   "metadata": {
    "tags": []
   },
   "outputs": [],
   "source": [
    "df = pd.read_excel('data/b01_casas.xlsx', usecols=['preciomillones', 'construccion', 'tipo'])"
   ]
  },
  {
   "cell_type": "code",
   "execution_count": 3,
   "id": "ad8146cf-ad83-42c6-9c2e-2db95e26f3b1",
   "metadata": {
    "tags": []
   },
   "outputs": [
    {
     "name": "stdout",
     "output_type": "stream",
     "text": [
      "<class 'pandas.core.frame.DataFrame'>\n",
      "RangeIndex: 154 entries, 0 to 153\n",
      "Data columns (total 3 columns):\n",
      " #   Column          Non-Null Count  Dtype  \n",
      "---  ------          --------------  -----  \n",
      " 0   tipo            154 non-null    int64  \n",
      " 1   preciomillones  154 non-null    float64\n",
      " 2   construccion    154 non-null    int64  \n",
      "dtypes: float64(1), int64(2)\n",
      "memory usage: 3.7 KB\n"
     ]
    }
   ],
   "source": [
    "df.info()"
   ]
  },
  {
   "cell_type": "code",
   "execution_count": 6,
   "id": "cd95a20d-6a7d-404b-ba3a-48cfdd0bab19",
   "metadata": {
    "tags": []
   },
   "outputs": [
    {
     "data": {
      "text/html": [
       "<div>\n",
       "<style scoped>\n",
       "    .dataframe tbody tr th:only-of-type {\n",
       "        vertical-align: middle;\n",
       "    }\n",
       "\n",
       "    .dataframe tbody tr th {\n",
       "        vertical-align: top;\n",
       "    }\n",
       "\n",
       "    .dataframe thead th {\n",
       "        text-align: right;\n",
       "    }\n",
       "</style>\n",
       "<table border=\"1\" class=\"dataframe\">\n",
       "  <thead>\n",
       "    <tr style=\"text-align: right;\">\n",
       "      <th></th>\n",
       "      <th>tipo</th>\n",
       "      <th>preciomillones</th>\n",
       "      <th>construccion</th>\n",
       "    </tr>\n",
       "  </thead>\n",
       "  <tbody>\n",
       "    <tr>\n",
       "      <th>0</th>\n",
       "      <td>1</td>\n",
       "      <td>4.2</td>\n",
       "      <td>130</td>\n",
       "    </tr>\n",
       "    <tr>\n",
       "      <th>1</th>\n",
       "      <td>0</td>\n",
       "      <td>5.1</td>\n",
       "      <td>280</td>\n",
       "    </tr>\n",
       "    <tr>\n",
       "      <th>2</th>\n",
       "      <td>1</td>\n",
       "      <td>5.5</td>\n",
       "      <td>112</td>\n",
       "    </tr>\n",
       "    <tr>\n",
       "      <th>3</th>\n",
       "      <td>1</td>\n",
       "      <td>5.7</td>\n",
       "      <td>112</td>\n",
       "    </tr>\n",
       "    <tr>\n",
       "      <th>4</th>\n",
       "      <td>1</td>\n",
       "      <td>5.8</td>\n",
       "      <td>112</td>\n",
       "    </tr>\n",
       "  </tbody>\n",
       "</table>\n",
       "</div>"
      ],
      "text/plain": [
       "   tipo  preciomillones  construccion\n",
       "0     1             4.2           130\n",
       "1     0             5.1           280\n",
       "2     1             5.5           112\n",
       "3     1             5.7           112\n",
       "4     1             5.8           112"
      ]
     },
     "execution_count": 6,
     "metadata": {},
     "output_type": "execute_result"
    }
   ],
   "source": [
    "# 1 Departamento\n",
    "# 0 Casa\n",
    "df.head()"
   ]
  },
  {
   "cell_type": "code",
   "execution_count": 7,
   "id": "9be9ff10-3c7c-459c-8a8b-ab64c7552de5",
   "metadata": {
    "tags": []
   },
   "outputs": [
    {
     "data": {
      "text/html": [
       "<table class=\"simpletable\">\n",
       "<caption>OLS Regression Results</caption>\n",
       "<tr>\n",
       "  <th>Dep. Variable:</th>     <td>preciomillones</td>  <th>  R-squared:         </th> <td>   0.879</td>\n",
       "</tr>\n",
       "<tr>\n",
       "  <th>Model:</th>                   <td>OLS</td>       <th>  Adj. R-squared:    </th> <td>   0.878</td>\n",
       "</tr>\n",
       "<tr>\n",
       "  <th>Method:</th>             <td>Least Squares</td>  <th>  F-statistic:       </th> <td>   549.4</td>\n",
       "</tr>\n",
       "<tr>\n",
       "  <th>Date:</th>             <td>Thu, 14 Mar 2024</td> <th>  Prob (F-statistic):</th> <td>5.03e-70</td>\n",
       "</tr>\n",
       "<tr>\n",
       "  <th>Time:</th>                 <td>17:09:42</td>     <th>  Log-Likelihood:    </th> <td> -417.54</td>\n",
       "</tr>\n",
       "<tr>\n",
       "  <th>No. Observations:</th>      <td>   154</td>      <th>  AIC:               </th> <td>   841.1</td>\n",
       "</tr>\n",
       "<tr>\n",
       "  <th>Df Residuals:</th>          <td>   151</td>      <th>  BIC:               </th> <td>   850.2</td>\n",
       "</tr>\n",
       "<tr>\n",
       "  <th>Df Model:</th>              <td>     2</td>      <th>                     </th>     <td> </td>   \n",
       "</tr>\n",
       "<tr>\n",
       "  <th>Covariance Type:</th>      <td>nonrobust</td>    <th>                     </th>     <td> </td>   \n",
       "</tr>\n",
       "</table>\n",
       "<table class=\"simpletable\">\n",
       "<tr>\n",
       "        <td></td>          <th>coef</th>     <th>std err</th>      <th>t</th>      <th>P>|t|</th>  <th>[0.025</th>    <th>0.975]</th>  \n",
       "</tr>\n",
       "<tr>\n",
       "  <th>const</th>        <td>   -2.4889</td> <td>    1.152</td> <td>   -2.160</td> <td> 0.032</td> <td>   -4.766</td> <td>   -0.212</td>\n",
       "</tr>\n",
       "<tr>\n",
       "  <th>construccion</th> <td>    0.0491</td> <td>    0.002</td> <td>   25.220</td> <td> 0.000</td> <td>    0.045</td> <td>    0.053</td>\n",
       "</tr>\n",
       "<tr>\n",
       "  <th>tipo</th>         <td>   -0.9565</td> <td>    0.762</td> <td>   -1.256</td> <td> 0.211</td> <td>   -2.461</td> <td>    0.548</td>\n",
       "</tr>\n",
       "</table>\n",
       "<table class=\"simpletable\">\n",
       "<tr>\n",
       "  <th>Omnibus:</th>       <td> 9.248</td> <th>  Durbin-Watson:     </th> <td>   1.336</td>\n",
       "</tr>\n",
       "<tr>\n",
       "  <th>Prob(Omnibus):</th> <td> 0.010</td> <th>  Jarque-Bera (JB):  </th> <td>  20.043</td>\n",
       "</tr>\n",
       "<tr>\n",
       "  <th>Skew:</th>          <td> 0.015</td> <th>  Prob(JB):          </th> <td>4.44e-05</td>\n",
       "</tr>\n",
       "<tr>\n",
       "  <th>Kurtosis:</th>      <td> 4.767</td> <th>  Cond. No.          </th> <td>2.17e+03</td>\n",
       "</tr>\n",
       "</table><br/><br/>Notes:<br/>[1] Standard Errors assume that the covariance matrix of the errors is correctly specified.<br/>[2] The condition number is large, 2.17e+03. This might indicate that there are<br/>strong multicollinearity or other numerical problems."
      ],
      "text/latex": [
       "\\begin{center}\n",
       "\\begin{tabular}{lclc}\n",
       "\\toprule\n",
       "\\textbf{Dep. Variable:}    &  preciomillones  & \\textbf{  R-squared:         } &     0.879   \\\\\n",
       "\\textbf{Model:}            &       OLS        & \\textbf{  Adj. R-squared:    } &     0.878   \\\\\n",
       "\\textbf{Method:}           &  Least Squares   & \\textbf{  F-statistic:       } &     549.4   \\\\\n",
       "\\textbf{Date:}             & Thu, 14 Mar 2024 & \\textbf{  Prob (F-statistic):} &  5.03e-70   \\\\\n",
       "\\textbf{Time:}             &     17:09:42     & \\textbf{  Log-Likelihood:    } &   -417.54   \\\\\n",
       "\\textbf{No. Observations:} &         154      & \\textbf{  AIC:               } &     841.1   \\\\\n",
       "\\textbf{Df Residuals:}     &         151      & \\textbf{  BIC:               } &     850.2   \\\\\n",
       "\\textbf{Df Model:}         &           2      & \\textbf{                     } &             \\\\\n",
       "\\textbf{Covariance Type:}  &    nonrobust     & \\textbf{                     } &             \\\\\n",
       "\\bottomrule\n",
       "\\end{tabular}\n",
       "\\begin{tabular}{lcccccc}\n",
       "                      & \\textbf{coef} & \\textbf{std err} & \\textbf{t} & \\textbf{P$> |$t$|$} & \\textbf{[0.025} & \\textbf{0.975]}  \\\\\n",
       "\\midrule\n",
       "\\textbf{const}        &      -2.4889  &        1.152     &    -2.160  &         0.032        &       -4.766    &       -0.212     \\\\\n",
       "\\textbf{construccion} &       0.0491  &        0.002     &    25.220  &         0.000        &        0.045    &        0.053     \\\\\n",
       "\\textbf{tipo}         &      -0.9565  &        0.762     &    -1.256  &         0.211        &       -2.461    &        0.548     \\\\\n",
       "\\bottomrule\n",
       "\\end{tabular}\n",
       "\\begin{tabular}{lclc}\n",
       "\\textbf{Omnibus:}       &  9.248 & \\textbf{  Durbin-Watson:     } &    1.336  \\\\\n",
       "\\textbf{Prob(Omnibus):} &  0.010 & \\textbf{  Jarque-Bera (JB):  } &   20.043  \\\\\n",
       "\\textbf{Skew:}          &  0.015 & \\textbf{  Prob(JB):          } & 4.44e-05  \\\\\n",
       "\\textbf{Kurtosis:}      &  4.767 & \\textbf{  Cond. No.          } & 2.17e+03  \\\\\n",
       "\\bottomrule\n",
       "\\end{tabular}\n",
       "%\\caption{OLS Regression Results}\n",
       "\\end{center}\n",
       "\n",
       "Notes: \\newline\n",
       " [1] Standard Errors assume that the covariance matrix of the errors is correctly specified. \\newline\n",
       " [2] The condition number is large, 2.17e+03. This might indicate that there are \\newline\n",
       " strong multicollinearity or other numerical problems."
      ],
      "text/plain": [
       "<class 'statsmodels.iolib.summary.Summary'>\n",
       "\"\"\"\n",
       "                            OLS Regression Results                            \n",
       "==============================================================================\n",
       "Dep. Variable:         preciomillones   R-squared:                       0.879\n",
       "Model:                            OLS   Adj. R-squared:                  0.878\n",
       "Method:                 Least Squares   F-statistic:                     549.4\n",
       "Date:                Thu, 14 Mar 2024   Prob (F-statistic):           5.03e-70\n",
       "Time:                        17:09:42   Log-Likelihood:                -417.54\n",
       "No. Observations:                 154   AIC:                             841.1\n",
       "Df Residuals:                     151   BIC:                             850.2\n",
       "Df Model:                           2                                         \n",
       "Covariance Type:            nonrobust                                         \n",
       "================================================================================\n",
       "                   coef    std err          t      P>|t|      [0.025      0.975]\n",
       "--------------------------------------------------------------------------------\n",
       "const           -2.4889      1.152     -2.160      0.032      -4.766      -0.212\n",
       "construccion     0.0491      0.002     25.220      0.000       0.045       0.053\n",
       "tipo            -0.9565      0.762     -1.256      0.211      -2.461       0.548\n",
       "==============================================================================\n",
       "Omnibus:                        9.248   Durbin-Watson:                   1.336\n",
       "Prob(Omnibus):                  0.010   Jarque-Bera (JB):               20.043\n",
       "Skew:                           0.015   Prob(JB):                     4.44e-05\n",
       "Kurtosis:                       4.767   Cond. No.                     2.17e+03\n",
       "==============================================================================\n",
       "\n",
       "Notes:\n",
       "[1] Standard Errors assume that the covariance matrix of the errors is correctly specified.\n",
       "[2] The condition number is large, 2.17e+03. This might indicate that there are\n",
       "strong multicollinearity or other numerical problems.\n",
       "\"\"\""
      ]
     },
     "execution_count": 7,
     "metadata": {},
     "output_type": "execute_result"
    }
   ],
   "source": [
    "# Definir las variables dependiente e independientes\n",
    "y = df['preciomillones']\n",
    "X = df[['construccion', 'tipo']]\n",
    "# Añadir una constante al conjunto de datos\n",
    "X = sm.add_constant(X)\n",
    "# Crear el modelo de regresión lineal con término de interacción\n",
    "modelo = sm.OLS(y, X)\n",
    "# Ajustar el modelo a los datos\n",
    "resultado = modelo.fit()\n",
    "# Mostrar los resultados del modelo\n",
    "resultado.summary()"
   ]
  },
  {
   "cell_type": "code",
   "execution_count": 8,
   "id": "f3345290-9a5b-44cd-8995-48b7ea6dc084",
   "metadata": {
    "tags": []
   },
   "outputs": [
    {
     "data": {
      "text/plain": [
       "<Axes: xlabel='construccion', ylabel='preciomillones'>"
      ]
     },
     "execution_count": 8,
     "metadata": {},
     "output_type": "execute_result"
    },
    {
     "data": {
      "image/png": "[encoded data removed]",
      "text/plain": [
       "<Figure size 640x480 with 1 Axes>"
      ]
     },
     "metadata": {},
     "output_type": "display_data"
    }
   ],
   "source": [
    "sns.scatterplot(data=df, x='construccion', y='preciomillones', hue='tipo')"
   ]
  },
  {
   "cell_type": "code",
   "execution_count": 9,
   "id": "d89f622d-0dbb-4272-9f52-2887c42933e0",
   "metadata": {
    "tags": []
   },
   "outputs": [
    {
     "data": {
      "text/html": [
       "<div>\n",
       "<style scoped>\n",
       "    .dataframe tbody tr th:only-of-type {\n",
       "        vertical-align: middle;\n",
       "    }\n",
       "\n",
       "    .dataframe tbody tr th {\n",
       "        vertical-align: top;\n",
       "    }\n",
       "\n",
       "    .dataframe thead th {\n",
       "        text-align: right;\n",
       "    }\n",
       "</style>\n",
       "<table border=\"1\" class=\"dataframe\">\n",
       "  <thead>\n",
       "    <tr style=\"text-align: right;\">\n",
       "      <th></th>\n",
       "      <th>tipo</th>\n",
       "      <th>preciomillones</th>\n",
       "      <th>construccion</th>\n",
       "      <th>construccion_tipo</th>\n",
       "    </tr>\n",
       "  </thead>\n",
       "  <tbody>\n",
       "    <tr>\n",
       "      <th>0</th>\n",
       "      <td>1</td>\n",
       "      <td>4.2</td>\n",
       "      <td>130</td>\n",
       "      <td>130</td>\n",
       "    </tr>\n",
       "    <tr>\n",
       "      <th>1</th>\n",
       "      <td>0</td>\n",
       "      <td>5.1</td>\n",
       "      <td>280</td>\n",
       "      <td>0</td>\n",
       "    </tr>\n",
       "    <tr>\n",
       "      <th>2</th>\n",
       "      <td>1</td>\n",
       "      <td>5.5</td>\n",
       "      <td>112</td>\n",
       "      <td>112</td>\n",
       "    </tr>\n",
       "  </tbody>\n",
       "</table>\n",
       "</div>"
      ],
      "text/plain": [
       "   tipo  preciomillones  construccion  construccion_tipo\n",
       "0     1             4.2           130                130\n",
       "1     0             5.1           280                  0\n",
       "2     1             5.5           112                112"
      ]
     },
     "execution_count": 9,
     "metadata": {},
     "output_type": "execute_result"
    }
   ],
   "source": [
    "# Calcular el término de interacción\n",
    "df['construccion_tipo'] = df['construccion'] * df['tipo']\n",
    "df.head(3)"
   ]
  },
  {
   "cell_type": "code",
   "execution_count": 10,
   "id": "b6129feb-b57d-4b5c-b68f-d5bf8ba0b4db",
   "metadata": {
    "tags": []
   },
   "outputs": [
    {
     "data": {
      "text/html": [
       "<table class=\"simpletable\">\n",
       "<caption>OLS Regression Results</caption>\n",
       "<tr>\n",
       "  <th>Dep. Variable:</th>     <td>preciomillones</td>  <th>  R-squared:         </th> <td>   0.898</td>\n",
       "</tr>\n",
       "<tr>\n",
       "  <th>Model:</th>                   <td>OLS</td>       <th>  Adj. R-squared:    </th> <td>   0.896</td>\n",
       "</tr>\n",
       "<tr>\n",
       "  <th>Method:</th>             <td>Least Squares</td>  <th>  F-statistic:       </th> <td>   439.4</td>\n",
       "</tr>\n",
       "<tr>\n",
       "  <th>Date:</th>             <td>Fri, 08 Mar 2024</td> <th>  Prob (F-statistic):</th> <td>4.66e-74</td>\n",
       "</tr>\n",
       "<tr>\n",
       "  <th>Time:</th>                 <td>01:55:13</td>     <th>  Log-Likelihood:    </th> <td> -404.63</td>\n",
       "</tr>\n",
       "<tr>\n",
       "  <th>No. Observations:</th>      <td>   154</td>      <th>  AIC:               </th> <td>   817.3</td>\n",
       "</tr>\n",
       "<tr>\n",
       "  <th>Df Residuals:</th>          <td>   150</td>      <th>  BIC:               </th> <td>   829.4</td>\n",
       "</tr>\n",
       "<tr>\n",
       "  <th>Df Model:</th>              <td>     3</td>      <th>                     </th>     <td> </td>   \n",
       "</tr>\n",
       "<tr>\n",
       "  <th>Covariance Type:</th>      <td>nonrobust</td>    <th>                     </th>     <td> </td>   \n",
       "</tr>\n",
       "</table>\n",
       "<table class=\"simpletable\">\n",
       "<tr>\n",
       "          <td></td>             <th>coef</th>     <th>std err</th>      <th>t</th>      <th>P>|t|</th>  <th>[0.025</th>    <th>0.975]</th>  \n",
       "</tr>\n",
       "<tr>\n",
       "  <th>const</th>             <td>   -5.9878</td> <td>    1.256</td> <td>   -4.767</td> <td> 0.000</td> <td>   -8.470</td> <td>   -3.506</td>\n",
       "</tr>\n",
       "<tr>\n",
       "  <th>construccion</th>      <td>    0.0554</td> <td>    0.002</td> <td>   25.626</td> <td> 0.000</td> <td>    0.051</td> <td>    0.060</td>\n",
       "</tr>\n",
       "<tr>\n",
       "  <th>tipo</th>              <td>    6.9494</td> <td>    1.666</td> <td>    4.171</td> <td> 0.000</td> <td>    3.657</td> <td>   10.242</td>\n",
       "</tr>\n",
       "<tr>\n",
       "  <th>construccion_tipo</th> <td>   -0.0204</td> <td>    0.004</td> <td>   -5.233</td> <td> 0.000</td> <td>   -0.028</td> <td>   -0.013</td>\n",
       "</tr>\n",
       "</table>\n",
       "<table class=\"simpletable\">\n",
       "<tr>\n",
       "  <th>Omnibus:</th>       <td>38.848</td> <th>  Durbin-Watson:     </th> <td>   1.460</td>\n",
       "</tr>\n",
       "<tr>\n",
       "  <th>Prob(Omnibus):</th> <td> 0.000</td> <th>  Jarque-Bera (JB):  </th> <td> 194.848</td>\n",
       "</tr>\n",
       "<tr>\n",
       "  <th>Skew:</th>          <td> 0.752</td> <th>  Prob(JB):          </th> <td>4.89e-43</td>\n",
       "</tr>\n",
       "<tr>\n",
       "  <th>Kurtosis:</th>      <td> 8.301</td> <th>  Cond. No.          </th> <td>3.61e+03</td>\n",
       "</tr>\n",
       "</table><br/><br/>Notes:<br/>[1] Standard Errors assume that the covariance matrix of the errors is correctly specified.<br/>[2] The condition number is large, 3.61e+03. This might indicate that there are<br/>strong multicollinearity or other numerical problems."
      ],
      "text/latex": [
       "\\begin{center}\n",
       "\\begin{tabular}{lclc}\n",
       "\\toprule\n",
       "\\textbf{Dep. Variable:}     &  preciomillones  & \\textbf{  R-squared:         } &     0.898   \\\\\n",
       "\\textbf{Model:}             &       OLS        & \\textbf{  Adj. R-squared:    } &     0.896   \\\\\n",
       "\\textbf{Method:}            &  Least Squares   & \\textbf{  F-statistic:       } &     439.4   \\\\\n",
       "\\textbf{Date:}              & Fri, 08 Mar 2024 & \\textbf{  Prob (F-statistic):} &  4.66e-74   \\\\\n",
       "\\textbf{Time:}              &     01:55:13     & \\textbf{  Log-Likelihood:    } &   -404.63   \\\\\n",
       "\\textbf{No. Observations:}  &         154      & \\textbf{  AIC:               } &     817.3   \\\\\n",
       "\\textbf{Df Residuals:}      &         150      & \\textbf{  BIC:               } &     829.4   \\\\\n",
       "\\textbf{Df Model:}          &           3      & \\textbf{                     } &             \\\\\n",
       "\\textbf{Covariance Type:}   &    nonrobust     & \\textbf{                     } &             \\\\\n",
       "\\bottomrule\n",
       "\\end{tabular}\n",
       "\\begin{tabular}{lcccccc}\n",
       "                            & \\textbf{coef} & \\textbf{std err} & \\textbf{t} & \\textbf{P$> |$t$|$} & \\textbf{[0.025} & \\textbf{0.975]}  \\\\\n",
       "\\midrule\n",
       "\\textbf{const}              &      -5.9878  &        1.256     &    -4.767  &         0.000        &       -8.470    &       -3.506     \\\\\n",
       "\\textbf{construccion}       &       0.0554  &        0.002     &    25.626  &         0.000        &        0.051    &        0.060     \\\\\n",
       "\\textbf{tipo}               &       6.9494  &        1.666     &     4.171  &         0.000        &        3.657    &       10.242     \\\\\n",
       "\\textbf{construccion\\_tipo} &      -0.0204  &        0.004     &    -5.233  &         0.000        &       -0.028    &       -0.013     \\\\\n",
       "\\bottomrule\n",
       "\\end{tabular}\n",
       "\\begin{tabular}{lclc}\n",
       "\\textbf{Omnibus:}       & 38.848 & \\textbf{  Durbin-Watson:     } &    1.460  \\\\\n",
       "\\textbf{Prob(Omnibus):} &  0.000 & \\textbf{  Jarque-Bera (JB):  } &  194.848  \\\\\n",
       "\\textbf{Skew:}          &  0.752 & \\textbf{  Prob(JB):          } & 4.89e-43  \\\\\n",
       "\\textbf{Kurtosis:}      &  8.301 & \\textbf{  Cond. No.          } & 3.61e+03  \\\\\n",
       "\\bottomrule\n",
       "\\end{tabular}\n",
       "%\\caption{OLS Regression Results}\n",
       "\\end{center}\n",
       "\n",
       "Notes: \\newline\n",
       " [1] Standard Errors assume that the covariance matrix of the errors is correctly specified. \\newline\n",
       " [2] The condition number is large, 3.61e+03. This might indicate that there are \\newline\n",
       " strong multicollinearity or other numerical problems."
      ],
      "text/plain": [
       "<class 'statsmodels.iolib.summary.Summary'>\n",
       "\"\"\"\n",
       "                            OLS Regression Results                            \n",
       "==============================================================================\n",
       "Dep. Variable:         preciomillones   R-squared:                       0.898\n",
       "Model:                            OLS   Adj. R-squared:                  0.896\n",
       "Method:                 Least Squares   F-statistic:                     439.4\n",
       "Date:                Fri, 08 Mar 2024   Prob (F-statistic):           4.66e-74\n",
       "Time:                        01:55:13   Log-Likelihood:                -404.63\n",
       "No. Observations:                 154   AIC:                             817.3\n",
       "Df Residuals:                     150   BIC:                             829.4\n",
       "Df Model:                           3                                         \n",
       "Covariance Type:            nonrobust                                         \n",
       "=====================================================================================\n",
       "                        coef    std err          t      P>|t|      [0.025      0.975]\n",
       "-------------------------------------------------------------------------------------\n",
       "const                -5.9878      1.256     -4.767      0.000      -8.470      -3.506\n",
       "construccion          0.0554      0.002     25.626      0.000       0.051       0.060\n",
       "tipo                  6.9494      1.666      4.171      0.000       3.657      10.242\n",
       "construccion_tipo    -0.0204      0.004     -5.233      0.000      -0.028      -0.013\n",
       "==============================================================================\n",
       "Omnibus:                       38.848   Durbin-Watson:                   1.460\n",
       "Prob(Omnibus):                  0.000   Jarque-Bera (JB):              194.848\n",
       "Skew:                           0.752   Prob(JB):                     4.89e-43\n",
       "Kurtosis:                       8.301   Cond. No.                     3.61e+03\n",
       "==============================================================================\n",
       "\n",
       "Notes:\n",
       "[1] Standard Errors assume that the covariance matrix of the errors is correctly specified.\n",
       "[2] The condition number is large, 3.61e+03. This might indicate that there are\n",
       "strong multicollinearity or other numerical problems.\n",
       "\"\"\""
      ]
     },
     "execution_count": 10,
     "metadata": {},
     "output_type": "execute_result"
    }
   ],
   "source": [
    "# Definir las variables dependiente e independientes\n",
    "y = df['preciomillones']\n",
    "X = df[['construccion', 'tipo', 'construccion_tipo']]\n",
    "# Añadir una constante al conjunto de datos\n",
    "X = sm.add_constant(X)\n",
    "# Crear el modelo de regresión lineal con término de interacción\n",
    "modelo = sm.OLS(y, X)\n",
    "# Ajustar el modelo a los datos\n",
    "resultado = modelo.fit()\n",
    "# Mostrar los resultados del modelo\n",
    "resultado.summary()"
   ]
  },
  {
   "cell_type": "markdown",
   "id": "acfc024e-912d-4d42-b762-c94589d5df67",
   "metadata": {},
   "source": [
    "**Interpretación**: El término de interacción indica cómo varía la relación entre la variable independiente y la dependiente de acuerdo a una tercera variable. En este caso, como el coeficiente del término de interacción es negativo significa que el efecto de los metros cuadrados en el precio de venta es menor para los departamentos (tipo=1) que para las casas (tipo=0). es decir, cada metro cuadrado adicional de construcción aumenta menos los precios de los departamentos que de las casas."
   ]
  },
  {
   "cell_type": "code",
   "execution_count": 11,
   "id": "72de6895-fbf4-4bbd-9806-1d1b90acec9f",
   "metadata": {
    "tags": []
   },
   "outputs": [
    {
     "name": "stderr",
     "output_type": "stream",
     "text": [
      "C:\\ProgramData\\anaconda3\\Lib\\site-packages\\seaborn\\axisgrid.py:118: UserWarning: The figure layout has changed to tight\n",
      "  self._figure.tight_layout(*args, **kwargs)\n"
     ]
    },
    {
     "data": {
      "image/png": "[encoded data removed]",
      "text/plain": [
       "<Figure size 558.875x500 with 1 Axes>"
      ]
     },
     "metadata": {},
     "output_type": "display_data"
    }
   ],
   "source": [
    "sns.lmplot(x='construccion', y='preciomillones', data=df, hue='tipo', markers=['o', 's']);"
   ]
  },
  {
   "cell_type": "code",
   "execution_count": null,
   "id": "69f95300-9fde-4c85-a8d6-e24df89c582f",
   "metadata": {},
   "outputs": [],
   "source": []
  }
 ],
 "metadata": {
  "kernelspec": {
   "display_name": "Python 3 (ipykernel)",
   "language": "python",
   "name": "python3"
  },
  "language_info": {
   "codemirror_mode": {
    "name": "ipython",
    "version": 3
   },
   "file_extension": ".py",
   "mimetype": "text/x-python",
   "name": "python",
   "nbconvert_exporter": "python",
   "pygments_lexer": "ipython3",
   "version": "3.11.7"
  }
 },
 "nbformat": 4,
 "nbformat_minor": 5
}
