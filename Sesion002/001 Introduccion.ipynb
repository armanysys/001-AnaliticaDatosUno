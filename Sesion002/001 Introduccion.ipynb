{
 "cells": [
  {
   "cell_type": "markdown",
   "id": "b1c253ef-bef8-43f0-9525-1135ca2b9913",
   "metadata": {
    "tags": []
   },
   "source": [
    "# Introducción\n",
    "En Jupyter Notebook podemos tener celdas de texto con formato (*Markdown*) o celdas con código. En la parte superior puedes seleccionar entre estas opciones.\n",
    "\n",
    "En las celdas con código, para ejecutar un comando en Python utilizaremos SHIFT+ENTER. Por ejemplo, utilicemos el comando print para mostrar un texto."
   ]
  },
  {
   "cell_type": "code",
   "execution_count": 1,
   "id": "5aa54587-a806-47ea-b1d7-be4a641b7c8a",
   "metadata": {
    "tags": []
   },
   "outputs": [
    {
     "name": "stdout",
     "output_type": "stream",
     "text": [
      "Hola mundo\n"
     ]
    }
   ],
   "source": [
    "print('Hola mundo')"
   ]
  },
  {
   "cell_type": "markdown",
   "id": "5edbaa1c-4115-4740-9c1a-0f59f3f817b3",
   "metadata": {
    "tags": []
   },
   "source": [
    "Podemos agregar comentarios al código añadiendo el símbolo de #. Si el comentario abarca más de una línea podemos utilizar triple comilla doble al principio y al final."
   ]
  },
  {
   "cell_type": "code",
   "execution_count": 2,
   "id": "55e15939-11b2-4227-984c-93b2f3be1bb2",
   "metadata": {
    "tags": []
   },
   "outputs": [],
   "source": [
    "# Este es un comentario"
   ]
  },
  {
   "cell_type": "markdown",
   "id": "c29a9452-6231-400a-814f-a93607238c90",
   "metadata": {},
   "source": [
    "## Variables en Python\n",
    "**Números**: pueden ser enteros (*int*) o reales (*float*). El separador decimal es el punto. Generalmente Python intentará decidir qué tipo de número es."
   ]
  },
  {
   "cell_type": "code",
   "execution_count": 3,
   "id": "974c7fa1-c1f2-4bed-ad84-b1211b3ab934",
   "metadata": {
    "tags": []
   },
   "outputs": [],
   "source": [
    "numero = 2"
   ]
  },
  {
   "cell_type": "code",
   "execution_count": 4,
   "id": "a14c181b-7554-4243-a3f1-908aed5f0109",
   "metadata": {},
   "outputs": [
    {
     "name": "stdout",
     "output_type": "stream",
     "text": [
      "2\n"
     ]
    }
   ],
   "source": [
    "print(numero)"
   ]
  },
  {
   "cell_type": "markdown",
   "id": "dc03fc60-cda3-47a9-8401-3e278a51ace4",
   "metadata": {},
   "source": [
    "**Texto**: Las variables que contienen texto se denominan *strings* (str). El texto se coloca entre comillas sencillas (') o dobles (\"). "
   ]
  },
  {
   "cell_type": "code",
   "execution_count": 5,
   "id": "0836f2a8-e621-4f80-8f22-788f37c343e1",
   "metadata": {
    "tags": []
   },
   "outputs": [],
   "source": [
    "texto = 'En un lugar de la Mancha'"
   ]
  },
  {
   "cell_type": "code",
   "execution_count": 6,
   "id": "dd89a34c-d416-41fb-8c15-22c4ff636fbb",
   "metadata": {},
   "outputs": [
    {
     "name": "stdout",
     "output_type": "stream",
     "text": [
      "En un lugar de la Mancha\n"
     ]
    }
   ],
   "source": [
    "print(texto)"
   ]
  },
  {
   "cell_type": "markdown",
   "id": "2aee4924-e4a1-40d1-ace9-06474995bc2e",
   "metadata": {
    "tags": []
   },
   "source": [
    "## Operaciones aritméticas"
   ]
  },
  {
   "cell_type": "code",
   "execution_count": 8,
   "id": "3c6bc2b1-48c4-4fd8-8c1d-b2aa548ca6c1",
   "metadata": {
    "tags": []
   },
   "outputs": [
    {
     "data": {
      "text/plain": [
       "3"
      ]
     },
     "execution_count": 8,
     "metadata": {},
     "output_type": "execute_result"
    }
   ],
   "source": [
    "# Suma\n",
    "1 +2"
   ]
  },
  {
   "cell_type": "code",
   "execution_count": 9,
   "id": "f15e1bfd-0baf-411f-9a75-c7f153b749bb",
   "metadata": {
    "tags": []
   },
   "outputs": [
    {
     "data": {
      "text/plain": [
       "13.5"
      ]
     },
     "execution_count": 9,
     "metadata": {},
     "output_type": "execute_result"
    }
   ],
   "source": [
    "# Multiplicación\n",
    "4.5 * 3"
   ]
  },
  {
   "cell_type": "code",
   "execution_count": 10,
   "id": "45c033dc-3c82-4247-8a5f-672617647fac",
   "metadata": {
    "tags": []
   },
   "outputs": [
    {
     "data": {
      "text/plain": [
       "2.0"
      ]
     },
     "execution_count": 10,
     "metadata": {},
     "output_type": "execute_result"
    }
   ],
   "source": [
    "# División. El resultado siempre será decimal\n",
    "10 / 5"
   ]
  },
  {
   "cell_type": "code",
   "execution_count": 11,
   "id": "af431f85-e3c9-40ee-8e12-a1e338fe0657",
   "metadata": {
    "tags": []
   },
   "outputs": [
    {
     "data": {
      "text/plain": [
       "7"
      ]
     },
     "execution_count": 11,
     "metadata": {},
     "output_type": "execute_result"
    }
   ],
   "source": [
    "# Aplican las reglas usuales de prioridad de operaciones\n",
    "1 + 2 * 3"
   ]
  },
  {
   "cell_type": "code",
   "execution_count": 12,
   "id": "f66996fb-98bd-45b6-b09d-0c4d89021118",
   "metadata": {
    "tags": []
   },
   "outputs": [
    {
     "data": {
      "text/plain": [
       "0.5"
      ]
     },
     "execution_count": 12,
     "metadata": {},
     "output_type": "execute_result"
    }
   ],
   "source": [
    "# Es recomendable usar paréntesis para indicar orden en operaciones\n",
    "(1 + 2) / (4 + 2)"
   ]
  },
  {
   "cell_type": "code",
   "execution_count": 13,
   "id": "59926d7b-47f2-4d27-9e68-b3d3b074779b",
   "metadata": {
    "tags": []
   },
   "outputs": [
    {
     "data": {
      "text/plain": [
       "2.4000000000000004"
      ]
     },
     "execution_count": 13,
     "metadata": {},
     "output_type": "execute_result"
    }
   ],
   "source": [
    "# Pueden existir errores de redondeo al pasar de binario a decimal\n",
    "(4 / 5)*3"
   ]
  },
  {
   "cell_type": "code",
   "execution_count": 14,
   "id": "bf255a77-4cc9-4ccf-823d-0b0e77becfdb",
   "metadata": {
    "tags": []
   },
   "outputs": [
    {
     "data": {
      "text/plain": [
       "3"
      ]
     },
     "execution_count": 14,
     "metadata": {},
     "output_type": "execute_result"
    }
   ],
   "source": [
    "# Cociente de una división\n",
    "10 // 3"
   ]
  },
  {
   "cell_type": "code",
   "execution_count": 15,
   "id": "557d1ca4-449e-454b-814e-5f28996bce45",
   "metadata": {
    "tags": []
   },
   "outputs": [
    {
     "data": {
      "text/plain": [
       "1"
      ]
     },
     "execution_count": 15,
     "metadata": {},
     "output_type": "execute_result"
    }
   ],
   "source": [
    "# Resto de una división\n",
    "10 % 3"
   ]
  },
  {
   "cell_type": "code",
   "execution_count": 16,
   "id": "a3e9fa22-ee8f-4b6d-ab8b-01c09eba2305",
   "metadata": {
    "tags": []
   },
   "outputs": [
    {
     "data": {
      "text/plain": [
       "8"
      ]
     },
     "execution_count": 16,
     "metadata": {},
     "output_type": "execute_result"
    }
   ],
   "source": [
    "# Potencias\n",
    "2**3"
   ]
  },
  {
   "cell_type": "code",
   "execution_count": 17,
   "id": "61d61262-dd51-4651-959b-01c6fedcfd7c",
   "metadata": {
    "tags": []
   },
   "outputs": [
    {
     "data": {
      "text/plain": [
       "3"
      ]
     },
     "execution_count": 17,
     "metadata": {},
     "output_type": "execute_result"
    }
   ],
   "source": [
    "# Redondeo\n",
    "round(3.1416)"
   ]
  },
  {
   "cell_type": "markdown",
   "id": "80e02176-d7ad-431a-9914-23d8e3363c6a",
   "metadata": {
    "tags": []
   },
   "source": [
    "## Listas y diccionarios"
   ]
  },
  {
   "cell_type": "markdown",
   "id": "ca0d2138-a24a-4627-a259-4bb968b68b0c",
   "metadata": {},
   "source": [
    "Las listas son conjuntos de datos en los cuales hay un orden. Un aspecto importante es que primer elemento corresponde a la posición 0. Es posible modificar los elementos de una lista e incluso puede haber duplicados. Las listas se ponen entre corchetes [ ]. Por ejemplo:"
   ]
  },
  {
   "cell_type": "code",
   "execution_count": 18,
   "id": "3f200230-a894-43a8-949c-0402a1351639",
   "metadata": {},
   "outputs": [],
   "source": [
    "lista = ['Coahuila', 'Nuevo León', 'Tamaulipas']"
   ]
  },
  {
   "cell_type": "code",
   "execution_count": 19,
   "id": "5be2fe79-37ac-4e8d-8fdc-8e29f9f291fc",
   "metadata": {},
   "outputs": [
    {
     "data": {
      "text/plain": [
       "['Coahuila', 'Nuevo León', 'Tamaulipas']"
      ]
     },
     "execution_count": 19,
     "metadata": {},
     "output_type": "execute_result"
    }
   ],
   "source": [
    "lista"
   ]
  },
  {
   "cell_type": "code",
   "execution_count": 20,
   "id": "1e14ea8c-1090-40eb-8968-7fd1f1bb7a77",
   "metadata": {},
   "outputs": [
    {
     "data": {
      "text/plain": [
       "'Coahuila'"
      ]
     },
     "execution_count": 20,
     "metadata": {},
     "output_type": "execute_result"
    }
   ],
   "source": [
    "lista[0]"
   ]
  },
  {
   "cell_type": "markdown",
   "id": "b32970f8-6d00-4fb0-8f34-a675480f69bb",
   "metadata": {},
   "source": [
    "En un diccionario cada elemento está asociado a algo más. Los diccionarios se crea colocando sus elementos entre llaves {}. Se denominan *keys* a las \"palabras\" y *values* a las definiciones. No existen dos *keys* iguales pero sí puede haber dos *values* iguales."
   ]
  },
  {
   "cell_type": "code",
   "execution_count": 21,
   "id": "bd247379-e62d-43e1-9a99-5265648933fc",
   "metadata": {},
   "outputs": [],
   "source": [
    "diccionario = {'Coahuila':'Saltillo', 'Nuevo León':'Monterrey'}"
   ]
  },
  {
   "cell_type": "code",
   "execution_count": 22,
   "id": "e9429f62-f884-4704-864d-e74c5a030152",
   "metadata": {
    "tags": []
   },
   "outputs": [
    {
     "data": {
      "text/plain": [
       "{'Coahuila': 'Saltillo', 'Nuevo León': 'Monterrey'}"
      ]
     },
     "execution_count": 22,
     "metadata": {},
     "output_type": "execute_result"
    }
   ],
   "source": [
    "diccionario"
   ]
  },
  {
   "cell_type": "markdown",
   "id": "221cbca0-b5d4-4842-81ab-47e4eda59118",
   "metadata": {
    "tags": []
   },
   "source": [
    "## Indentación\n",
    "En Python, se utilizan bloques de 4 espacios para agrupar el código. Las líneas que estén indentadas al misno nivel pertenecen al mismo bloque de código."
   ]
  },
  {
   "cell_type": "code",
   "execution_count": 23,
   "id": "4846de9c-8d20-41b9-936f-7ae4a215da8f",
   "metadata": {
    "tags": []
   },
   "outputs": [
    {
     "name": "stdout",
     "output_type": "stream",
     "text": [
      "El valor numérico es dos\n"
     ]
    }
   ],
   "source": [
    "numero = 2\n",
    "if (numero==2):\n",
    "    print(\"El valor numérico es dos\")\n",
    "elif (numero!=2):\n",
    "    print(\"El valor numérico no es dos\")"
   ]
  },
  {
   "cell_type": "markdown",
   "id": "3143f70f-44a1-471a-b7d2-539215523d7d",
   "metadata": {},
   "source": [
    "En el ejemplo anterior la sentencia if/elif se utiliza para condiciones o decisiones. Sin embargo, esto se revisará en otra sesión."
   ]
  },
  {
   "cell_type": "code",
   "execution_count": null,
   "id": "0b642982-92c5-420a-8d92-237662773e7b",
   "metadata": {},
   "outputs": [],
   "source": []
  }
 ],
 "metadata": {
  "kernelspec": {
   "display_name": "Python 3 (ipykernel)",
   "language": "python",
   "name": "python3"
  },
  "language_info": {
   "codemirror_mode": {
    "name": "ipython",
    "version": 3
   },
   "file_extension": ".py",
   "mimetype": "text/x-python",
   "name": "python",
   "nbconvert_exporter": "python",
   "pygments_lexer": "ipython3",
   "version": "3.11.7"
  }
 },
 "nbformat": 4,
 "nbformat_minor": 5
}
